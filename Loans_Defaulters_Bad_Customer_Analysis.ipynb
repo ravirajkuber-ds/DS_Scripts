{
 "cells": [
  {
   "cell_type": "markdown",
   "metadata": {},
   "source": [
    "# <font color = red> <center> Credit EDA Case Study </center> </font>"
   ]
  },
  {
   "cell_type": "markdown",
   "metadata": {},
   "source": [
    "### This case study aims to identify patterns which indicate if a client has difficulty paying their installments which may be used for taking actions such as denying the loan, reducing the amount of loan, lending (to risky applicants) at a higher interest rate, etc. This will ensure that the consumers capable of repaying the loan are not rejected. Identification of such applicants using EDA is the aim of this case study"
   ]
  },
  {
   "cell_type": "markdown",
   "metadata": {},
   "source": [
    "#### <font color = blue> Importing required libraries to perform analysis on Loan application data </font>"
   ]
  },
  {
   "cell_type": "code",
   "execution_count": 1,
   "metadata": {},
   "outputs": [],
   "source": [
    "import numpy as np\n",
    "import pandas as pd\n",
    "import seaborn as sns\n",
    "import matplotlib.pyplot as plt\n"
   ]
  },
  {
   "cell_type": "markdown",
   "metadata": {},
   "source": [
    "#### <font color = blue> Reading data from CSV files into python."
   ]
  },
  {
   "cell_type": "code",
   "execution_count": 25,
   "metadata": {},
   "outputs": [
    {
     "data": {
      "text/html": [
       "<div>\n",
       "<style scoped>\n",
       "    .dataframe tbody tr th:only-of-type {\n",
       "        vertical-align: middle;\n",
       "    }\n",
       "\n",
       "    .dataframe tbody tr th {\n",
       "        vertical-align: top;\n",
       "    }\n",
       "\n",
       "    .dataframe thead th {\n",
       "        text-align: right;\n",
       "    }\n",
       "</style>\n",
       "<table border=\"1\" class=\"dataframe\">\n",
       "  <thead>\n",
       "    <tr style=\"text-align: right;\">\n",
       "      <th></th>\n",
       "      <th>SK_ID_CURR</th>\n",
       "      <th>TARGET</th>\n",
       "      <th>NAME_CONTRACT_TYPE</th>\n",
       "      <th>CODE_GENDER</th>\n",
       "      <th>FLAG_OWN_CAR</th>\n",
       "      <th>FLAG_OWN_REALTY</th>\n",
       "      <th>CNT_CHILDREN</th>\n",
       "      <th>AMT_INCOME_TOTAL</th>\n",
       "      <th>AMT_CREDIT</th>\n",
       "      <th>AMT_ANNUITY</th>\n",
       "      <th>...</th>\n",
       "      <th>FLAG_DOCUMENT_18</th>\n",
       "      <th>FLAG_DOCUMENT_19</th>\n",
       "      <th>FLAG_DOCUMENT_20</th>\n",
       "      <th>FLAG_DOCUMENT_21</th>\n",
       "      <th>AMT_REQ_CREDIT_BUREAU_HOUR</th>\n",
       "      <th>AMT_REQ_CREDIT_BUREAU_DAY</th>\n",
       "      <th>AMT_REQ_CREDIT_BUREAU_WEEK</th>\n",
       "      <th>AMT_REQ_CREDIT_BUREAU_MON</th>\n",
       "      <th>AMT_REQ_CREDIT_BUREAU_QRT</th>\n",
       "      <th>AMT_REQ_CREDIT_BUREAU_YEAR</th>\n",
       "    </tr>\n",
       "  </thead>\n",
       "  <tbody>\n",
       "    <tr>\n",
       "      <th>0</th>\n",
       "      <td>100002</td>\n",
       "      <td>1</td>\n",
       "      <td>Cash loans</td>\n",
       "      <td>M</td>\n",
       "      <td>N</td>\n",
       "      <td>Y</td>\n",
       "      <td>0</td>\n",
       "      <td>202500.0</td>\n",
       "      <td>406597.5</td>\n",
       "      <td>24700.5</td>\n",
       "      <td>...</td>\n",
       "      <td>0</td>\n",
       "      <td>0</td>\n",
       "      <td>0</td>\n",
       "      <td>0</td>\n",
       "      <td>0.0</td>\n",
       "      <td>0.0</td>\n",
       "      <td>0.0</td>\n",
       "      <td>0.0</td>\n",
       "      <td>0.0</td>\n",
       "      <td>1.0</td>\n",
       "    </tr>\n",
       "    <tr>\n",
       "      <th>1</th>\n",
       "      <td>100003</td>\n",
       "      <td>0</td>\n",
       "      <td>Cash loans</td>\n",
       "      <td>F</td>\n",
       "      <td>N</td>\n",
       "      <td>N</td>\n",
       "      <td>0</td>\n",
       "      <td>270000.0</td>\n",
       "      <td>1293502.5</td>\n",
       "      <td>35698.5</td>\n",
       "      <td>...</td>\n",
       "      <td>0</td>\n",
       "      <td>0</td>\n",
       "      <td>0</td>\n",
       "      <td>0</td>\n",
       "      <td>0.0</td>\n",
       "      <td>0.0</td>\n",
       "      <td>0.0</td>\n",
       "      <td>0.0</td>\n",
       "      <td>0.0</td>\n",
       "      <td>0.0</td>\n",
       "    </tr>\n",
       "    <tr>\n",
       "      <th>2</th>\n",
       "      <td>100004</td>\n",
       "      <td>0</td>\n",
       "      <td>Revolving loans</td>\n",
       "      <td>M</td>\n",
       "      <td>Y</td>\n",
       "      <td>Y</td>\n",
       "      <td>0</td>\n",
       "      <td>67500.0</td>\n",
       "      <td>135000.0</td>\n",
       "      <td>6750.0</td>\n",
       "      <td>...</td>\n",
       "      <td>0</td>\n",
       "      <td>0</td>\n",
       "      <td>0</td>\n",
       "      <td>0</td>\n",
       "      <td>0.0</td>\n",
       "      <td>0.0</td>\n",
       "      <td>0.0</td>\n",
       "      <td>0.0</td>\n",
       "      <td>0.0</td>\n",
       "      <td>0.0</td>\n",
       "    </tr>\n",
       "    <tr>\n",
       "      <th>3</th>\n",
       "      <td>100006</td>\n",
       "      <td>0</td>\n",
       "      <td>Cash loans</td>\n",
       "      <td>F</td>\n",
       "      <td>N</td>\n",
       "      <td>Y</td>\n",
       "      <td>0</td>\n",
       "      <td>135000.0</td>\n",
       "      <td>312682.5</td>\n",
       "      <td>29686.5</td>\n",
       "      <td>...</td>\n",
       "      <td>0</td>\n",
       "      <td>0</td>\n",
       "      <td>0</td>\n",
       "      <td>0</td>\n",
       "      <td>NaN</td>\n",
       "      <td>NaN</td>\n",
       "      <td>NaN</td>\n",
       "      <td>NaN</td>\n",
       "      <td>NaN</td>\n",
       "      <td>NaN</td>\n",
       "    </tr>\n",
       "    <tr>\n",
       "      <th>4</th>\n",
       "      <td>100007</td>\n",
       "      <td>0</td>\n",
       "      <td>Cash loans</td>\n",
       "      <td>M</td>\n",
       "      <td>N</td>\n",
       "      <td>Y</td>\n",
       "      <td>0</td>\n",
       "      <td>121500.0</td>\n",
       "      <td>513000.0</td>\n",
       "      <td>21865.5</td>\n",
       "      <td>...</td>\n",
       "      <td>0</td>\n",
       "      <td>0</td>\n",
       "      <td>0</td>\n",
       "      <td>0</td>\n",
       "      <td>0.0</td>\n",
       "      <td>0.0</td>\n",
       "      <td>0.0</td>\n",
       "      <td>0.0</td>\n",
       "      <td>0.0</td>\n",
       "      <td>0.0</td>\n",
       "    </tr>\n",
       "    <tr>\n",
       "      <th>5</th>\n",
       "      <td>100008</td>\n",
       "      <td>0</td>\n",
       "      <td>Cash loans</td>\n",
       "      <td>M</td>\n",
       "      <td>N</td>\n",
       "      <td>Y</td>\n",
       "      <td>0</td>\n",
       "      <td>99000.0</td>\n",
       "      <td>490495.5</td>\n",
       "      <td>27517.5</td>\n",
       "      <td>...</td>\n",
       "      <td>0</td>\n",
       "      <td>0</td>\n",
       "      <td>0</td>\n",
       "      <td>0</td>\n",
       "      <td>0.0</td>\n",
       "      <td>0.0</td>\n",
       "      <td>0.0</td>\n",
       "      <td>0.0</td>\n",
       "      <td>1.0</td>\n",
       "      <td>1.0</td>\n",
       "    </tr>\n",
       "    <tr>\n",
       "      <th>6</th>\n",
       "      <td>100009</td>\n",
       "      <td>0</td>\n",
       "      <td>Cash loans</td>\n",
       "      <td>F</td>\n",
       "      <td>Y</td>\n",
       "      <td>Y</td>\n",
       "      <td>1</td>\n",
       "      <td>171000.0</td>\n",
       "      <td>1560726.0</td>\n",
       "      <td>41301.0</td>\n",
       "      <td>...</td>\n",
       "      <td>0</td>\n",
       "      <td>0</td>\n",
       "      <td>0</td>\n",
       "      <td>0</td>\n",
       "      <td>0.0</td>\n",
       "      <td>0.0</td>\n",
       "      <td>0.0</td>\n",
       "      <td>1.0</td>\n",
       "      <td>1.0</td>\n",
       "      <td>2.0</td>\n",
       "    </tr>\n",
       "    <tr>\n",
       "      <th>7</th>\n",
       "      <td>100010</td>\n",
       "      <td>0</td>\n",
       "      <td>Cash loans</td>\n",
       "      <td>M</td>\n",
       "      <td>Y</td>\n",
       "      <td>Y</td>\n",
       "      <td>0</td>\n",
       "      <td>360000.0</td>\n",
       "      <td>1530000.0</td>\n",
       "      <td>42075.0</td>\n",
       "      <td>...</td>\n",
       "      <td>0</td>\n",
       "      <td>0</td>\n",
       "      <td>0</td>\n",
       "      <td>0</td>\n",
       "      <td>0.0</td>\n",
       "      <td>0.0</td>\n",
       "      <td>0.0</td>\n",
       "      <td>0.0</td>\n",
       "      <td>0.0</td>\n",
       "      <td>0.0</td>\n",
       "    </tr>\n",
       "    <tr>\n",
       "      <th>8</th>\n",
       "      <td>100011</td>\n",
       "      <td>0</td>\n",
       "      <td>Cash loans</td>\n",
       "      <td>F</td>\n",
       "      <td>N</td>\n",
       "      <td>Y</td>\n",
       "      <td>0</td>\n",
       "      <td>112500.0</td>\n",
       "      <td>1019610.0</td>\n",
       "      <td>33826.5</td>\n",
       "      <td>...</td>\n",
       "      <td>0</td>\n",
       "      <td>0</td>\n",
       "      <td>0</td>\n",
       "      <td>0</td>\n",
       "      <td>0.0</td>\n",
       "      <td>0.0</td>\n",
       "      <td>0.0</td>\n",
       "      <td>0.0</td>\n",
       "      <td>0.0</td>\n",
       "      <td>1.0</td>\n",
       "    </tr>\n",
       "    <tr>\n",
       "      <th>9</th>\n",
       "      <td>100012</td>\n",
       "      <td>0</td>\n",
       "      <td>Revolving loans</td>\n",
       "      <td>M</td>\n",
       "      <td>N</td>\n",
       "      <td>Y</td>\n",
       "      <td>0</td>\n",
       "      <td>135000.0</td>\n",
       "      <td>405000.0</td>\n",
       "      <td>20250.0</td>\n",
       "      <td>...</td>\n",
       "      <td>0</td>\n",
       "      <td>0</td>\n",
       "      <td>0</td>\n",
       "      <td>0</td>\n",
       "      <td>NaN</td>\n",
       "      <td>NaN</td>\n",
       "      <td>NaN</td>\n",
       "      <td>NaN</td>\n",
       "      <td>NaN</td>\n",
       "      <td>NaN</td>\n",
       "    </tr>\n",
       "  </tbody>\n",
       "</table>\n",
       "<p>10 rows × 122 columns</p>\n",
       "</div>"
      ],
      "text/plain": [
       "   SK_ID_CURR  TARGET NAME_CONTRACT_TYPE CODE_GENDER FLAG_OWN_CAR  \\\n",
       "0      100002       1         Cash loans           M            N   \n",
       "1      100003       0         Cash loans           F            N   \n",
       "2      100004       0    Revolving loans           M            Y   \n",
       "3      100006       0         Cash loans           F            N   \n",
       "4      100007       0         Cash loans           M            N   \n",
       "5      100008       0         Cash loans           M            N   \n",
       "6      100009       0         Cash loans           F            Y   \n",
       "7      100010       0         Cash loans           M            Y   \n",
       "8      100011       0         Cash loans           F            N   \n",
       "9      100012       0    Revolving loans           M            N   \n",
       "\n",
       "  FLAG_OWN_REALTY  CNT_CHILDREN  AMT_INCOME_TOTAL  AMT_CREDIT  AMT_ANNUITY  \\\n",
       "0               Y             0          202500.0    406597.5      24700.5   \n",
       "1               N             0          270000.0   1293502.5      35698.5   \n",
       "2               Y             0           67500.0    135000.0       6750.0   \n",
       "3               Y             0          135000.0    312682.5      29686.5   \n",
       "4               Y             0          121500.0    513000.0      21865.5   \n",
       "5               Y             0           99000.0    490495.5      27517.5   \n",
       "6               Y             1          171000.0   1560726.0      41301.0   \n",
       "7               Y             0          360000.0   1530000.0      42075.0   \n",
       "8               Y             0          112500.0   1019610.0      33826.5   \n",
       "9               Y             0          135000.0    405000.0      20250.0   \n",
       "\n",
       "   ...  FLAG_DOCUMENT_18 FLAG_DOCUMENT_19 FLAG_DOCUMENT_20 FLAG_DOCUMENT_21  \\\n",
       "0  ...                 0                0                0                0   \n",
       "1  ...                 0                0                0                0   \n",
       "2  ...                 0                0                0                0   \n",
       "3  ...                 0                0                0                0   \n",
       "4  ...                 0                0                0                0   \n",
       "5  ...                 0                0                0                0   \n",
       "6  ...                 0                0                0                0   \n",
       "7  ...                 0                0                0                0   \n",
       "8  ...                 0                0                0                0   \n",
       "9  ...                 0                0                0                0   \n",
       "\n",
       "  AMT_REQ_CREDIT_BUREAU_HOUR AMT_REQ_CREDIT_BUREAU_DAY  \\\n",
       "0                        0.0                       0.0   \n",
       "1                        0.0                       0.0   \n",
       "2                        0.0                       0.0   \n",
       "3                        NaN                       NaN   \n",
       "4                        0.0                       0.0   \n",
       "5                        0.0                       0.0   \n",
       "6                        0.0                       0.0   \n",
       "7                        0.0                       0.0   \n",
       "8                        0.0                       0.0   \n",
       "9                        NaN                       NaN   \n",
       "\n",
       "   AMT_REQ_CREDIT_BUREAU_WEEK  AMT_REQ_CREDIT_BUREAU_MON  \\\n",
       "0                         0.0                        0.0   \n",
       "1                         0.0                        0.0   \n",
       "2                         0.0                        0.0   \n",
       "3                         NaN                        NaN   \n",
       "4                         0.0                        0.0   \n",
       "5                         0.0                        0.0   \n",
       "6                         0.0                        1.0   \n",
       "7                         0.0                        0.0   \n",
       "8                         0.0                        0.0   \n",
       "9                         NaN                        NaN   \n",
       "\n",
       "   AMT_REQ_CREDIT_BUREAU_QRT  AMT_REQ_CREDIT_BUREAU_YEAR  \n",
       "0                        0.0                         1.0  \n",
       "1                        0.0                         0.0  \n",
       "2                        0.0                         0.0  \n",
       "3                        NaN                         NaN  \n",
       "4                        0.0                         0.0  \n",
       "5                        1.0                         1.0  \n",
       "6                        1.0                         2.0  \n",
       "7                        0.0                         0.0  \n",
       "8                        0.0                         1.0  \n",
       "9                        NaN                         NaN  \n",
       "\n",
       "[10 rows x 122 columns]"
      ]
     },
     "execution_count": 25,
     "metadata": {},
     "output_type": "execute_result"
    }
   ],
   "source": [
    "App_Data_DF = pd.read_csv(\"Input_File\")\n",
    "# Removing Columns,if they have all values as NA\n",
    "for col in App_Data_DF:\n",
    "    if(App_Data_DF[col].count()==0):\n",
    "        App_Data_DF=App_Data_DF.drop(col,axis=1)\n",
    "App_Data_DF.head(10)        "
   ]
  },
  {
   "cell_type": "markdown",
   "metadata": {},
   "source": [
    "#### <font color = blue> Analysing entire data set to see the number of columns , rows data types etc.."
   ]
  },
  {
   "cell_type": "code",
   "execution_count": 3,
   "metadata": {},
   "outputs": [
    {
     "name": "stdout",
     "output_type": "stream",
     "text": [
      "<class 'pandas.core.frame.DataFrame'>\n",
      "RangeIndex: 307511 entries, 0 to 307510\n",
      "Columns: 122 entries, SK_ID_CURR to AMT_REQ_CREDIT_BUREAU_YEAR\n",
      "dtypes: float64(65), int64(41), object(16)\n",
      "memory usage: 286.2+ MB\n"
     ]
    }
   ],
   "source": [
    "App_Data_DF.info()"
   ]
  },
  {
   "cell_type": "code",
   "execution_count": 128,
   "metadata": {},
   "outputs": [
    {
     "data": {
      "text/html": [
       "<div>\n",
       "<style scoped>\n",
       "    .dataframe tbody tr th:only-of-type {\n",
       "        vertical-align: middle;\n",
       "    }\n",
       "\n",
       "    .dataframe tbody tr th {\n",
       "        vertical-align: top;\n",
       "    }\n",
       "\n",
       "    .dataframe thead th {\n",
       "        text-align: right;\n",
       "    }\n",
       "</style>\n",
       "<table border=\"1\" class=\"dataframe\">\n",
       "  <thead>\n",
       "    <tr style=\"text-align: right;\">\n",
       "      <th></th>\n",
       "      <th>SK_ID_CURR</th>\n",
       "      <th>TARGET</th>\n",
       "      <th>CNT_CHILDREN</th>\n",
       "      <th>AMT_INCOME_TOTAL</th>\n",
       "      <th>AMT_CREDIT</th>\n",
       "      <th>AMT_ANNUITY</th>\n",
       "      <th>AMT_GOODS_PRICE</th>\n",
       "      <th>REGION_POPULATION_RELATIVE</th>\n",
       "      <th>DAYS_BIRTH</th>\n",
       "      <th>DAYS_EMPLOYED</th>\n",
       "      <th>...</th>\n",
       "      <th>FLAG_DOCUMENT_18</th>\n",
       "      <th>FLAG_DOCUMENT_19</th>\n",
       "      <th>FLAG_DOCUMENT_20</th>\n",
       "      <th>FLAG_DOCUMENT_21</th>\n",
       "      <th>AMT_REQ_CREDIT_BUREAU_HOUR</th>\n",
       "      <th>AMT_REQ_CREDIT_BUREAU_DAY</th>\n",
       "      <th>AMT_REQ_CREDIT_BUREAU_WEEK</th>\n",
       "      <th>AMT_REQ_CREDIT_BUREAU_MON</th>\n",
       "      <th>AMT_REQ_CREDIT_BUREAU_QRT</th>\n",
       "      <th>AMT_REQ_CREDIT_BUREAU_YEAR</th>\n",
       "    </tr>\n",
       "  </thead>\n",
       "  <tbody>\n",
       "    <tr>\n",
       "      <th>count</th>\n",
       "      <td>307511.000000</td>\n",
       "      <td>307511.000000</td>\n",
       "      <td>307511.000000</td>\n",
       "      <td>3.075110e+05</td>\n",
       "      <td>3.075110e+05</td>\n",
       "      <td>307499.000000</td>\n",
       "      <td>3.072330e+05</td>\n",
       "      <td>307511.000000</td>\n",
       "      <td>307511.000000</td>\n",
       "      <td>307511.000000</td>\n",
       "      <td>...</td>\n",
       "      <td>307511.000000</td>\n",
       "      <td>307511.000000</td>\n",
       "      <td>307511.000000</td>\n",
       "      <td>307511.000000</td>\n",
       "      <td>265992.000000</td>\n",
       "      <td>265992.000000</td>\n",
       "      <td>265992.000000</td>\n",
       "      <td>265992.000000</td>\n",
       "      <td>265992.000000</td>\n",
       "      <td>265992.000000</td>\n",
       "    </tr>\n",
       "    <tr>\n",
       "      <th>mean</th>\n",
       "      <td>278180.518577</td>\n",
       "      <td>0.080729</td>\n",
       "      <td>0.417052</td>\n",
       "      <td>1.687979e+05</td>\n",
       "      <td>5.990260e+05</td>\n",
       "      <td>27108.573909</td>\n",
       "      <td>5.383962e+05</td>\n",
       "      <td>0.020868</td>\n",
       "      <td>-16036.995067</td>\n",
       "      <td>63815.045904</td>\n",
       "      <td>...</td>\n",
       "      <td>0.008130</td>\n",
       "      <td>0.000595</td>\n",
       "      <td>0.000507</td>\n",
       "      <td>0.000335</td>\n",
       "      <td>0.006402</td>\n",
       "      <td>0.007000</td>\n",
       "      <td>0.034362</td>\n",
       "      <td>0.267395</td>\n",
       "      <td>0.265474</td>\n",
       "      <td>1.899974</td>\n",
       "    </tr>\n",
       "    <tr>\n",
       "      <th>std</th>\n",
       "      <td>102790.175348</td>\n",
       "      <td>0.272419</td>\n",
       "      <td>0.722121</td>\n",
       "      <td>2.371231e+05</td>\n",
       "      <td>4.024908e+05</td>\n",
       "      <td>14493.737315</td>\n",
       "      <td>3.694465e+05</td>\n",
       "      <td>0.013831</td>\n",
       "      <td>4363.988632</td>\n",
       "      <td>141275.766519</td>\n",
       "      <td>...</td>\n",
       "      <td>0.089798</td>\n",
       "      <td>0.024387</td>\n",
       "      <td>0.022518</td>\n",
       "      <td>0.018299</td>\n",
       "      <td>0.083849</td>\n",
       "      <td>0.110757</td>\n",
       "      <td>0.204685</td>\n",
       "      <td>0.916002</td>\n",
       "      <td>0.794056</td>\n",
       "      <td>1.869295</td>\n",
       "    </tr>\n",
       "    <tr>\n",
       "      <th>min</th>\n",
       "      <td>100002.000000</td>\n",
       "      <td>0.000000</td>\n",
       "      <td>0.000000</td>\n",
       "      <td>2.565000e+04</td>\n",
       "      <td>4.500000e+04</td>\n",
       "      <td>1615.500000</td>\n",
       "      <td>4.050000e+04</td>\n",
       "      <td>0.000290</td>\n",
       "      <td>-25229.000000</td>\n",
       "      <td>-17912.000000</td>\n",
       "      <td>...</td>\n",
       "      <td>0.000000</td>\n",
       "      <td>0.000000</td>\n",
       "      <td>0.000000</td>\n",
       "      <td>0.000000</td>\n",
       "      <td>0.000000</td>\n",
       "      <td>0.000000</td>\n",
       "      <td>0.000000</td>\n",
       "      <td>0.000000</td>\n",
       "      <td>0.000000</td>\n",
       "      <td>0.000000</td>\n",
       "    </tr>\n",
       "    <tr>\n",
       "      <th>25%</th>\n",
       "      <td>189145.500000</td>\n",
       "      <td>0.000000</td>\n",
       "      <td>0.000000</td>\n",
       "      <td>1.125000e+05</td>\n",
       "      <td>2.700000e+05</td>\n",
       "      <td>16524.000000</td>\n",
       "      <td>2.385000e+05</td>\n",
       "      <td>0.010006</td>\n",
       "      <td>-19682.000000</td>\n",
       "      <td>-2760.000000</td>\n",
       "      <td>...</td>\n",
       "      <td>0.000000</td>\n",
       "      <td>0.000000</td>\n",
       "      <td>0.000000</td>\n",
       "      <td>0.000000</td>\n",
       "      <td>0.000000</td>\n",
       "      <td>0.000000</td>\n",
       "      <td>0.000000</td>\n",
       "      <td>0.000000</td>\n",
       "      <td>0.000000</td>\n",
       "      <td>0.000000</td>\n",
       "    </tr>\n",
       "    <tr>\n",
       "      <th>50%</th>\n",
       "      <td>278202.000000</td>\n",
       "      <td>0.000000</td>\n",
       "      <td>0.000000</td>\n",
       "      <td>1.471500e+05</td>\n",
       "      <td>5.135310e+05</td>\n",
       "      <td>24903.000000</td>\n",
       "      <td>4.500000e+05</td>\n",
       "      <td>0.018850</td>\n",
       "      <td>-15750.000000</td>\n",
       "      <td>-1213.000000</td>\n",
       "      <td>...</td>\n",
       "      <td>0.000000</td>\n",
       "      <td>0.000000</td>\n",
       "      <td>0.000000</td>\n",
       "      <td>0.000000</td>\n",
       "      <td>0.000000</td>\n",
       "      <td>0.000000</td>\n",
       "      <td>0.000000</td>\n",
       "      <td>0.000000</td>\n",
       "      <td>0.000000</td>\n",
       "      <td>1.000000</td>\n",
       "    </tr>\n",
       "    <tr>\n",
       "      <th>75%</th>\n",
       "      <td>367142.500000</td>\n",
       "      <td>0.000000</td>\n",
       "      <td>1.000000</td>\n",
       "      <td>2.025000e+05</td>\n",
       "      <td>8.086500e+05</td>\n",
       "      <td>34596.000000</td>\n",
       "      <td>6.795000e+05</td>\n",
       "      <td>0.028663</td>\n",
       "      <td>-12413.000000</td>\n",
       "      <td>-289.000000</td>\n",
       "      <td>...</td>\n",
       "      <td>0.000000</td>\n",
       "      <td>0.000000</td>\n",
       "      <td>0.000000</td>\n",
       "      <td>0.000000</td>\n",
       "      <td>0.000000</td>\n",
       "      <td>0.000000</td>\n",
       "      <td>0.000000</td>\n",
       "      <td>0.000000</td>\n",
       "      <td>0.000000</td>\n",
       "      <td>3.000000</td>\n",
       "    </tr>\n",
       "    <tr>\n",
       "      <th>max</th>\n",
       "      <td>456255.000000</td>\n",
       "      <td>1.000000</td>\n",
       "      <td>19.000000</td>\n",
       "      <td>1.170000e+08</td>\n",
       "      <td>4.050000e+06</td>\n",
       "      <td>258025.500000</td>\n",
       "      <td>4.050000e+06</td>\n",
       "      <td>0.072508</td>\n",
       "      <td>-7489.000000</td>\n",
       "      <td>365243.000000</td>\n",
       "      <td>...</td>\n",
       "      <td>1.000000</td>\n",
       "      <td>1.000000</td>\n",
       "      <td>1.000000</td>\n",
       "      <td>1.000000</td>\n",
       "      <td>4.000000</td>\n",
       "      <td>9.000000</td>\n",
       "      <td>8.000000</td>\n",
       "      <td>27.000000</td>\n",
       "      <td>261.000000</td>\n",
       "      <td>25.000000</td>\n",
       "    </tr>\n",
       "  </tbody>\n",
       "</table>\n",
       "<p>8 rows × 106 columns</p>\n",
       "</div>"
      ],
      "text/plain": [
       "          SK_ID_CURR         TARGET   CNT_CHILDREN  AMT_INCOME_TOTAL  \\\n",
       "count  307511.000000  307511.000000  307511.000000      3.075110e+05   \n",
       "mean   278180.518577       0.080729       0.417052      1.687979e+05   \n",
       "std    102790.175348       0.272419       0.722121      2.371231e+05   \n",
       "min    100002.000000       0.000000       0.000000      2.565000e+04   \n",
       "25%    189145.500000       0.000000       0.000000      1.125000e+05   \n",
       "50%    278202.000000       0.000000       0.000000      1.471500e+05   \n",
       "75%    367142.500000       0.000000       1.000000      2.025000e+05   \n",
       "max    456255.000000       1.000000      19.000000      1.170000e+08   \n",
       "\n",
       "         AMT_CREDIT    AMT_ANNUITY  AMT_GOODS_PRICE  \\\n",
       "count  3.075110e+05  307499.000000     3.072330e+05   \n",
       "mean   5.990260e+05   27108.573909     5.383962e+05   \n",
       "std    4.024908e+05   14493.737315     3.694465e+05   \n",
       "min    4.500000e+04    1615.500000     4.050000e+04   \n",
       "25%    2.700000e+05   16524.000000     2.385000e+05   \n",
       "50%    5.135310e+05   24903.000000     4.500000e+05   \n",
       "75%    8.086500e+05   34596.000000     6.795000e+05   \n",
       "max    4.050000e+06  258025.500000     4.050000e+06   \n",
       "\n",
       "       REGION_POPULATION_RELATIVE     DAYS_BIRTH  DAYS_EMPLOYED  \\\n",
       "count               307511.000000  307511.000000  307511.000000   \n",
       "mean                     0.020868  -16036.995067   63815.045904   \n",
       "std                      0.013831    4363.988632  141275.766519   \n",
       "min                      0.000290  -25229.000000  -17912.000000   \n",
       "25%                      0.010006  -19682.000000   -2760.000000   \n",
       "50%                      0.018850  -15750.000000   -1213.000000   \n",
       "75%                      0.028663  -12413.000000    -289.000000   \n",
       "max                      0.072508   -7489.000000  365243.000000   \n",
       "\n",
       "                  ...              FLAG_DOCUMENT_18  FLAG_DOCUMENT_19  \\\n",
       "count             ...                 307511.000000     307511.000000   \n",
       "mean              ...                      0.008130          0.000595   \n",
       "std               ...                      0.089798          0.024387   \n",
       "min               ...                      0.000000          0.000000   \n",
       "25%               ...                      0.000000          0.000000   \n",
       "50%               ...                      0.000000          0.000000   \n",
       "75%               ...                      0.000000          0.000000   \n",
       "max               ...                      1.000000          1.000000   \n",
       "\n",
       "       FLAG_DOCUMENT_20  FLAG_DOCUMENT_21  AMT_REQ_CREDIT_BUREAU_HOUR  \\\n",
       "count     307511.000000     307511.000000               265992.000000   \n",
       "mean           0.000507          0.000335                    0.006402   \n",
       "std            0.022518          0.018299                    0.083849   \n",
       "min            0.000000          0.000000                    0.000000   \n",
       "25%            0.000000          0.000000                    0.000000   \n",
       "50%            0.000000          0.000000                    0.000000   \n",
       "75%            0.000000          0.000000                    0.000000   \n",
       "max            1.000000          1.000000                    4.000000   \n",
       "\n",
       "       AMT_REQ_CREDIT_BUREAU_DAY  AMT_REQ_CREDIT_BUREAU_WEEK  \\\n",
       "count              265992.000000               265992.000000   \n",
       "mean                    0.007000                    0.034362   \n",
       "std                     0.110757                    0.204685   \n",
       "min                     0.000000                    0.000000   \n",
       "25%                     0.000000                    0.000000   \n",
       "50%                     0.000000                    0.000000   \n",
       "75%                     0.000000                    0.000000   \n",
       "max                     9.000000                    8.000000   \n",
       "\n",
       "       AMT_REQ_CREDIT_BUREAU_MON  AMT_REQ_CREDIT_BUREAU_QRT  \\\n",
       "count              265992.000000              265992.000000   \n",
       "mean                    0.267395                   0.265474   \n",
       "std                     0.916002                   0.794056   \n",
       "min                     0.000000                   0.000000   \n",
       "25%                     0.000000                   0.000000   \n",
       "50%                     0.000000                   0.000000   \n",
       "75%                     0.000000                   0.000000   \n",
       "max                    27.000000                 261.000000   \n",
       "\n",
       "       AMT_REQ_CREDIT_BUREAU_YEAR  \n",
       "count               265992.000000  \n",
       "mean                     1.899974  \n",
       "std                      1.869295  \n",
       "min                      0.000000  \n",
       "25%                      0.000000  \n",
       "50%                      1.000000  \n",
       "75%                      3.000000  \n",
       "max                     25.000000  \n",
       "\n",
       "[8 rows x 106 columns]"
      ]
     },
     "execution_count": 128,
     "metadata": {},
     "output_type": "execute_result"
    }
   ],
   "source": [
    "App_Data_DF.describe()"
   ]
  },
  {
   "cell_type": "markdown",
   "metadata": {},
   "source": [
    "#### <font color = blue> Finding out the number of null values present in each column of our data set. "
   ]
  },
  {
   "cell_type": "code",
   "execution_count": 6,
   "metadata": {},
   "outputs": [],
   "source": [
    "df_c = pd.DataFrame()\n",
    "df_r = pd.DataFrame()"
   ]
  },
  {
   "cell_type": "code",
   "execution_count": 7,
   "metadata": {},
   "outputs": [],
   "source": [
    "df_c['Null percent'] = ((App_Data_DF.isnull().sum()/len(App_Data_DF))*100).sort_values(ascending = False)"
   ]
  },
  {
   "cell_type": "code",
   "execution_count": 8,
   "metadata": {},
   "outputs": [],
   "source": [
    "df_c = df_c.loc[df_c['Null percent']< 13]"
   ]
  },
  {
   "cell_type": "code",
   "execution_count": 9,
   "metadata": {},
   "outputs": [],
   "source": [
    "column_list = list(df_c.index)"
   ]
  },
  {
   "cell_type": "markdown",
   "metadata": {},
   "source": [
    "#### <font color = blue> Dropping columns that have more than 13% of null values from the application data frame"
   ]
  },
  {
   "cell_type": "code",
   "execution_count": 10,
   "metadata": {},
   "outputs": [],
   "source": [
    "App_Data_DF = App_Data_DF.loc[:,column_list]"
   ]
  },
  {
   "cell_type": "code",
   "execution_count": null,
   "metadata": {},
   "outputs": [],
   "source": []
  },
  {
   "cell_type": "markdown",
   "metadata": {},
   "source": [
    "#### <font color = blue> Checking for null values percentage in rows of the application data data frame."
   ]
  },
  {
   "cell_type": "code",
   "execution_count": 135,
   "metadata": {},
   "outputs": [],
   "source": [
    "df_r['Null percent'] = ((App_Data_DF.isnull().sum(axis = 1)/65)*100).sort_values(ascending = False)"
   ]
  },
  {
   "cell_type": "code",
   "execution_count": 136,
   "metadata": {},
   "outputs": [
    {
     "data": {
      "text/html": [
       "<div>\n",
       "<style scoped>\n",
       "    .dataframe tbody tr th:only-of-type {\n",
       "        vertical-align: middle;\n",
       "    }\n",
       "\n",
       "    .dataframe tbody tr th {\n",
       "        vertical-align: top;\n",
       "    }\n",
       "\n",
       "    .dataframe thead th {\n",
       "        text-align: right;\n",
       "    }\n",
       "</style>\n",
       "<table border=\"1\" class=\"dataframe\">\n",
       "  <thead>\n",
       "    <tr style=\"text-align: right;\">\n",
       "      <th></th>\n",
       "      <th>Null percent</th>\n",
       "    </tr>\n",
       "  </thead>\n",
       "  <tbody>\n",
       "    <tr>\n",
       "      <th>7220</th>\n",
       "      <td>7.692308</td>\n",
       "    </tr>\n",
       "    <tr>\n",
       "      <th>187180</th>\n",
       "      <td>7.692308</td>\n",
       "    </tr>\n",
       "    <tr>\n",
       "      <th>230854</th>\n",
       "      <td>7.692308</td>\n",
       "    </tr>\n",
       "    <tr>\n",
       "      <th>113944</th>\n",
       "      <td>7.692308</td>\n",
       "    </tr>\n",
       "    <tr>\n",
       "      <th>301702</th>\n",
       "      <td>6.153846</td>\n",
       "    </tr>\n",
       "    <tr>\n",
       "      <th>26686</th>\n",
       "      <td>6.153846</td>\n",
       "    </tr>\n",
       "    <tr>\n",
       "      <th>186326</th>\n",
       "      <td>6.153846</td>\n",
       "    </tr>\n",
       "    <tr>\n",
       "      <th>166502</th>\n",
       "      <td>6.153846</td>\n",
       "    </tr>\n",
       "    <tr>\n",
       "      <th>255456</th>\n",
       "      <td>6.153846</td>\n",
       "    </tr>\n",
       "    <tr>\n",
       "      <th>139622</th>\n",
       "      <td>6.153846</td>\n",
       "    </tr>\n",
       "    <tr>\n",
       "      <th>166510</th>\n",
       "      <td>6.153846</td>\n",
       "    </tr>\n",
       "    <tr>\n",
       "      <th>262199</th>\n",
       "      <td>6.153846</td>\n",
       "    </tr>\n",
       "    <tr>\n",
       "      <th>179402</th>\n",
       "      <td>6.153846</td>\n",
       "    </tr>\n",
       "    <tr>\n",
       "      <th>269786</th>\n",
       "      <td>6.153846</td>\n",
       "    </tr>\n",
       "    <tr>\n",
       "      <th>235482</th>\n",
       "      <td>6.153846</td>\n",
       "    </tr>\n",
       "  </tbody>\n",
       "</table>\n",
       "</div>"
      ],
      "text/plain": [
       "        Null percent\n",
       "7220        7.692308\n",
       "187180      7.692308\n",
       "230854      7.692308\n",
       "113944      7.692308\n",
       "301702      6.153846\n",
       "26686       6.153846\n",
       "186326      6.153846\n",
       "166502      6.153846\n",
       "255456      6.153846\n",
       "139622      6.153846\n",
       "166510      6.153846\n",
       "262199      6.153846\n",
       "179402      6.153846\n",
       "269786      6.153846\n",
       "235482      6.153846"
      ]
     },
     "execution_count": 136,
     "metadata": {},
     "output_type": "execute_result"
    }
   ],
   "source": [
    "df_r.head(15)"
   ]
  },
  {
   "cell_type": "markdown",
   "metadata": {},
   "source": [
    "<font color = red> There was no need to drop any rows as the missing data is not huge in this case."
   ]
  },
  {
   "cell_type": "markdown",
   "metadata": {},
   "source": [
    "#### <font color = blue> Checking the data type of our application data frame."
   ]
  },
  {
   "cell_type": "code",
   "execution_count": 362,
   "metadata": {
    "scrolled": false
   },
   "outputs": [
    {
     "data": {
      "text/plain": [
       "NAME_TYPE_SUITE                 object\n",
       "OBS_30_CNT_SOCIAL_CIRCLE       float64\n",
       "OBS_60_CNT_SOCIAL_CIRCLE       float64\n",
       "DEF_60_CNT_SOCIAL_CIRCLE       float64\n",
       "DEF_30_CNT_SOCIAL_CIRCLE       float64\n",
       "EXT_SOURCE_2                   float64\n",
       "AMT_GOODS_PRICE                float64\n",
       "AMT_ANNUITY                    float64\n",
       "CNT_FAM_MEMBERS                float64\n",
       "DAYS_LAST_PHONE_CHANGE         float64\n",
       "CODE_GENDER                     object\n",
       "NAME_FAMILY_STATUS              object\n",
       "REGION_RATING_CLIENT             int64\n",
       "REGION_POPULATION_RELATIVE     float64\n",
       "DAYS_BIRTH                       int64\n",
       "DAYS_EMPLOYED                    int64\n",
       "DAYS_REGISTRATION              float64\n",
       "DAYS_ID_PUBLISH                  int64\n",
       "AMT_INCOME_TOTAL               float64\n",
       "FLAG_OWN_REALTY                 object\n",
       "FLAG_CONT_MOBILE                 int64\n",
       "NAME_CONTRACT_TYPE              object\n",
       "FLAG_MOBIL                       int64\n",
       "FLAG_EMP_PHONE                   int64\n",
       "FLAG_WORK_PHONE                  int64\n",
       "NAME_INCOME_TYPE                object\n",
       "FLAG_PHONE                       int64\n",
       "TARGET                           int64\n",
       "FLAG_EMAIL                       int64\n",
       "FLAG_OWN_CAR                    object\n",
       "                                ...   \n",
       "REG_REGION_NOT_WORK_REGION       int64\n",
       "LIVE_REGION_NOT_WORK_REGION      int64\n",
       "REG_CITY_NOT_LIVE_CITY           int64\n",
       "REG_CITY_NOT_WORK_CITY           int64\n",
       "LIVE_CITY_NOT_WORK_CITY          int64\n",
       "ORGANIZATION_TYPE               object\n",
       "FLAG_DOCUMENT_21                 int64\n",
       "FLAG_DOCUMENT_20                 int64\n",
       "FLAG_DOCUMENT_19                 int64\n",
       "FLAG_DOCUMENT_18                 int64\n",
       "FLAG_DOCUMENT_17                 int64\n",
       "FLAG_DOCUMENT_16                 int64\n",
       "FLAG_DOCUMENT_15                 int64\n",
       "FLAG_DOCUMENT_14                 int64\n",
       "FLAG_DOCUMENT_13                 int64\n",
       "FLAG_DOCUMENT_12                 int64\n",
       "FLAG_DOCUMENT_11                 int64\n",
       "FLAG_DOCUMENT_10                 int64\n",
       "FLAG_DOCUMENT_9                  int64\n",
       "FLAG_DOCUMENT_8                  int64\n",
       "FLAG_DOCUMENT_7                  int64\n",
       "FLAG_DOCUMENT_6                  int64\n",
       "FLAG_DOCUMENT_5                  int64\n",
       "FLAG_DOCUMENT_4                  int64\n",
       "FLAG_DOCUMENT_3                  int64\n",
       "FLAG_DOCUMENT_2                  int64\n",
       "WEEKDAY_APPR_PROCESS_START      object\n",
       "REGION_RATING_CLIENT_W_CITY      int64\n",
       "REG_REGION_NOT_LIVE_REGION       int64\n",
       "CNT_CHILDREN                     int64\n",
       "Length: 65, dtype: object"
      ]
     },
     "execution_count": 362,
     "metadata": {},
     "output_type": "execute_result"
    }
   ],
   "source": [
    "App_Data_DF.dtypes"
   ]
  },
  {
   "cell_type": "markdown",
   "metadata": {},
   "source": [
    "### <font color = blue> Checking for outliers in the data frame"
   ]
  },
  {
   "cell_type": "markdown",
   "metadata": {},
   "source": [
    "> ##### Annuity Amount"
   ]
  },
  {
   "cell_type": "code",
   "execution_count": 137,
   "metadata": {},
   "outputs": [
    {
     "data": {
      "image/png": "[encoded data removed]",
      "text/plain": [
       "<Figure size 1440x720 with 1 Axes>"
      ]
     },
     "metadata": {
      "needs_background": "light"
     },
     "output_type": "display_data"
    }
   ],
   "source": [
    "plt.figure(figsize=(20,10))\n",
    "plt.scatter(App_Data_DF.AMT_ANNUITY, App_Data_DF.AMT_ANNUITY, alpha=0.5)\n",
    "plt.title('Scatter plot of Annuity Amount')\n",
    "plt.xlabel('x')\n",
    "plt.ylabel('y')\n",
    "plt.show()\n",
    "\n"
   ]
  },
  {
   "cell_type": "markdown",
   "metadata": {},
   "source": [
    "We can see that the data till 150000 is continuous and from there till 250000 we have less records and we have clear outlier which is above 250000. We can either choose to split the data into sub groups and analyse or drop the outlier value and analyse."
   ]
  },
  {
   "cell_type": "code",
   "execution_count": 138,
   "metadata": {},
   "outputs": [],
   "source": [
    "App_Data_DF = App_Data_DF.loc[App_Data_DF['AMT_ANNUITY'] != max(App_Data_DF.AMT_ANNUITY)]"
   ]
  },
  {
   "cell_type": "markdown",
   "metadata": {},
   "source": [
    "> ##### Annunity Amount after dropping outlier"
   ]
  },
  {
   "cell_type": "code",
   "execution_count": 139,
   "metadata": {},
   "outputs": [
    {
     "data": {
      "image/png": "[encoded data removed]",
      "text/plain": [
       "<Figure size 1440x720 with 1 Axes>"
      ]
     },
     "metadata": {
      "needs_background": "light"
     },
     "output_type": "display_data"
    }
   ],
   "source": [
    "plt.figure(figsize=(20,10))\n",
    "plt.scatter(App_Data_DF.AMT_ANNUITY, App_Data_DF.AMT_ANNUITY, alpha=0.5)\n",
    "plt.title('Scatter plot of Annuity Amount after dropping outlier')\n",
    "plt.xlabel('x')\n",
    "plt.ylabel('y')\n",
    "plt.show()"
   ]
  },
  {
   "cell_type": "markdown",
   "metadata": {},
   "source": [
    "The data is still not so evenly spread but we dont have any huge variations and outliers."
   ]
  },
  {
   "cell_type": "markdown",
   "metadata": {},
   "source": [
    "> #### Credit Amount"
   ]
  },
  {
   "cell_type": "code",
   "execution_count": 94,
   "metadata": {},
   "outputs": [
    {
     "data": {
      "image/png": "[encoded data removed]",
      "text/plain": [
       "<Figure size 1440x720 with 1 Axes>"
      ]
     },
     "metadata": {
      "needs_background": "light"
     },
     "output_type": "display_data"
    }
   ],
   "source": [
    "plt.figure(figsize=(20,10))\n",
    "plt.scatter(App_Data_DF.AMT_CREDIT, App_Data_DF.AMT_CREDIT, alpha=0.5)\n",
    "plt.title('Scatter plot of credit amount')\n",
    "plt.xlabel('x')\n",
    "plt.ylabel('y')\n",
    "plt.show()"
   ]
  },
  {
   "cell_type": "markdown",
   "metadata": {},
   "source": [
    "In credit amount we can clearly see some outliers but we cannot just drop one or two records but we need to put a cap on credit amount like at 2500000 lakhs. Or else we can split the amount into two sub groups and then analyse so that we have more unbiased results.unbiased "
   ]
  },
  {
   "cell_type": "markdown",
   "metadata": {},
   "source": [
    "> #### AMT_INCOME_TOTAL"
   ]
  },
  {
   "cell_type": "code",
   "execution_count": 95,
   "metadata": {},
   "outputs": [
    {
     "data": {
      "image/png": "[encoded data removed]",
      "text/plain": [
       "<Figure size 1440x720 with 1 Axes>"
      ]
     },
     "metadata": {
      "needs_background": "light"
     },
     "output_type": "display_data"
    }
   ],
   "source": [
    "plt.figure(figsize=(20,10))\n",
    "plt.scatter(App_Data_DF.AMT_INCOME_TOTAL, App_Data_DF.AMT_INCOME_TOTAL, alpha=0.5)\n",
    "plt.title('Scatter plot of AMT_INCOME_TOTAL')\n",
    "plt.xlabel('x')\n",
    "plt.ylabel('y')\n",
    "plt.show()"
   ]
  },
  {
   "cell_type": "markdown",
   "metadata": {},
   "source": [
    "We can see a very clear outlier in this case. The income of one customer is very very high \n",
    "compared to others in the data frame."
   ]
  },
  {
   "cell_type": "code",
   "execution_count": 96,
   "metadata": {},
   "outputs": [],
   "source": [
    "App_Data_DF = App_Data_DF.loc[App_Data_DF['AMT_INCOME_TOTAL'] != max(App_Data_DF.AMT_INCOME_TOTAL)]"
   ]
  },
  {
   "cell_type": "code",
   "execution_count": 97,
   "metadata": {},
   "outputs": [
    {
     "data": {
      "image/png": "[encoded data removed]",
      "text/plain": [
       "<Figure size 1440x720 with 1 Axes>"
      ]
     },
     "metadata": {
      "needs_background": "light"
     },
     "output_type": "display_data"
    }
   ],
   "source": [
    "plt.figure(figsize=(20,10))\n",
    "plt.scatter(App_Data_DF.AMT_INCOME_TOTAL, App_Data_DF.AMT_INCOME_TOTAL, alpha=0.5)\n",
    "plt.title('Scatter plot of AMT_INCOME_TOTAL')\n",
    "plt.xlabel('x')\n",
    "plt.ylabel('y')\n",
    "plt.show()"
   ]
  },
  {
   "cell_type": "markdown",
   "metadata": {},
   "source": [
    "We can still some outliers but it is not as drastic as previous outlier. But we can still remove 2-3 records to acheive better balance of data."
   ]
  },
  {
   "cell_type": "markdown",
   "metadata": {},
   "source": [
    "We need to delete 3-4 outlier to balance data"
   ]
  },
  {
   "cell_type": "markdown",
   "metadata": {},
   "source": [
    "> #### REGION_POPULATION_RELATIVE"
   ]
  },
  {
   "cell_type": "code",
   "execution_count": 375,
   "metadata": {},
   "outputs": [
    {
     "data": {
      "image/png": "[encoded data removed]",
      "text/plain": [
       "<Figure size 1440x720 with 1 Axes>"
      ]
     },
     "metadata": {
      "needs_background": "light"
     },
     "output_type": "display_data"
    }
   ],
   "source": [
    "plt.figure(figsize=(20,10))\n",
    "plt.scatter(App_Data_DF.REGION_POPULATION_RELATIVE, App_Data_DF.REGION_POPULATION_RELATIVE, alpha=0.5)\n",
    "plt.title('Scatter plot of REGION_POPULATION_RELATIVE')\n",
    "plt.xlabel('x')\n",
    "plt.ylabel('y')\n",
    "plt.show()"
   ]
  },
  {
   "cell_type": "code",
   "execution_count": 101,
   "metadata": {},
   "outputs": [],
   "source": [
    "App_Data_DF = App_Data_DF.loc[App_Data_DF['REGION_POPULATION_RELATIVE'] != max(App_Data_DF.REGION_POPULATION_RELATIVE)]"
   ]
  },
  {
   "cell_type": "code",
   "execution_count": 102,
   "metadata": {},
   "outputs": [
    {
     "data": {
      "image/png": "[encoded data removed]",
      "text/plain": [
       "<Figure size 1440x720 with 1 Axes>"
      ]
     },
     "metadata": {
      "needs_background": "light"
     },
     "output_type": "display_data"
    }
   ],
   "source": [
    "plt.figure(figsize=(20,10))\n",
    "plt.scatter(App_Data_DF.REGION_POPULATION_RELATIVE, App_Data_DF.REGION_POPULATION_RELATIVE, alpha=0.5)\n",
    "plt.title('Scatter plot of REGION_POPULATION_RELATIVE')\n",
    "plt.xlabel('x')\n",
    "plt.ylabel('y')\n",
    "plt.show()"
   ]
  },
  {
   "cell_type": "markdown",
   "metadata": {},
   "source": [
    "After the outlier is removed we have much better balance of data"
   ]
  },
  {
   "cell_type": "code",
   "execution_count": 380,
   "metadata": {},
   "outputs": [
    {
     "data": {
      "image/png": "[encoded data removed]",
      "text/plain": [
       "<Figure size 1440x720 with 1 Axes>"
      ]
     },
     "metadata": {
      "needs_background": "light"
     },
     "output_type": "display_data"
    }
   ],
   "source": [
    "plt.figure(figsize=(20,10))\n",
    "plt.scatter(App_Data_DF.AMT_GOODS_PRICE, App_Data_DF.AMT_GOODS_PRICE, alpha=0.5)\n",
    "plt.title('Scatter plot of AMT_REQ_CREDIT_BUREAU_YEAR')\n",
    "plt.xlabel('x')\n",
    "plt.ylabel('y')\n",
    "plt.show()"
   ]
  },
  {
   "cell_type": "markdown",
   "metadata": {},
   "source": [
    "**Data seems consistent and there is no need to remove outlier in this case**"
   ]
  },
  {
   "cell_type": "code",
   "execution_count": 21,
   "metadata": {},
   "outputs": [
    {
     "name": "stdout",
     "output_type": "stream",
     "text": [
      "0     (100000, 1000000]\n",
      "1     (100000, 1000000]\n",
      "2           (0, 100000]\n",
      "3     (100000, 1000000]\n",
      "4     (100000, 1000000]\n",
      "5           (0, 100000]\n",
      "6     (100000, 1000000]\n",
      "7     (100000, 1000000]\n",
      "8     (100000, 1000000]\n",
      "9     (100000, 1000000]\n",
      "10    (100000, 1000000]\n",
      "11          (0, 100000]\n",
      "12          (0, 100000]\n",
      "13    (100000, 1000000]\n",
      "14    (100000, 1000000]\n",
      "15    (100000, 1000000]\n",
      "16    (100000, 1000000]\n",
      "17          (0, 100000]\n",
      "18    (100000, 1000000]\n",
      "19          (0, 100000]\n",
      "Name: income, dtype: category\n",
      "Categories (6, interval[int64]): [(0, 100000] < (100000, 1000000] < (1000000, 2000000] < (2000000, 3000000] < (3000000, 4000000] < (4000000, 5000000]]\n"
     ]
    }
   ],
   "source": [
    "#Binning of Amount_Income_Total\n",
    "bins_income=[0,100000,1000000,2000000,3000000,4000000,5000000]\n",
    "labels=[0,1,2,3,4,5]\n",
    "\n",
    "App_Data_DF['income']=pd.cut(App_Data_DF['AMT_INCOME_TOTAL'], bins=bins_income)\n",
    "print(App_Data_DF['income'].head(20))"
   ]
  },
  {
   "cell_type": "code",
   "execution_count": 22,
   "metadata": {},
   "outputs": [
    {
     "name": "stdout",
     "output_type": "stream",
     "text": [
      "307491    (1000000, 2000000]\n",
      "307492    (1000000, 2000000]\n",
      "307493     (100000, 1000000]\n",
      "307494     (100000, 1000000]\n",
      "307495     (100000, 1000000]\n",
      "307496     (100000, 1000000]\n",
      "307497     (100000, 1000000]\n",
      "307498    (1000000, 2000000]\n",
      "307499     (100000, 1000000]\n",
      "307500    (1000000, 2000000]\n",
      "307501     (100000, 1000000]\n",
      "307502     (100000, 1000000]\n",
      "307503     (100000, 1000000]\n",
      "307504     (100000, 1000000]\n",
      "307505     (100000, 1000000]\n",
      "307506     (100000, 1000000]\n",
      "307507     (100000, 1000000]\n",
      "307508     (100000, 1000000]\n",
      "307509     (100000, 1000000]\n",
      "307510     (100000, 1000000]\n",
      "Name: credit, dtype: category\n",
      "Categories (6, interval[int64]): [(0, 100000] < (100000, 1000000] < (1000000, 2000000] < (2000000, 3000000] < (3000000, 4000000] < (4000000, 5000000]]\n"
     ]
    }
   ],
   "source": [
    "#Binning of Amount_Credit\n",
    "bins_income=[0,100000,1000000,2000000,3000000,4000000,5000000]\n",
    "labels=[0,1,2,3,4,5]\n",
    "\n",
    "App_Data_DF['credit']=pd.cut(App_Data_DF['AMT_CREDIT'], bins=bins_income)\n",
    "print(App_Data_DF['credit'].tail(20))"
   ]
  },
  {
   "cell_type": "code",
   "execution_count": 23,
   "metadata": {},
   "outputs": [
    {
     "name": "stdout",
     "output_type": "stream",
     "text": [
      "307491    (0, 100000]\n",
      "307492    (0, 100000]\n",
      "307493    (0, 100000]\n",
      "307494    (0, 100000]\n",
      "307495    (0, 100000]\n",
      "307496    (0, 100000]\n",
      "307497    (0, 100000]\n",
      "307498    (0, 100000]\n",
      "307499    (0, 100000]\n",
      "307500    (0, 100000]\n",
      "307501    (0, 100000]\n",
      "307502    (0, 100000]\n",
      "307503    (0, 100000]\n",
      "307504    (0, 100000]\n",
      "307505    (0, 100000]\n",
      "307506    (0, 100000]\n",
      "307507    (0, 100000]\n",
      "307508    (0, 100000]\n",
      "307509    (0, 100000]\n",
      "307510    (0, 100000]\n",
      "Name: annuity, dtype: category\n",
      "Categories (6, interval[int64]): [(0, 100000] < (100000, 1000000] < (1000000, 2000000] < (2000000, 3000000] < (3000000, 4000000] < (4000000, 5000000]]\n"
     ]
    }
   ],
   "source": [
    "#Binning of Amount_Annuity\n",
    "bins_income=[0,100000,1000000,2000000,3000000,4000000,5000000]\n",
    "labels=[0,1,2,3,4,5]\n",
    "\n",
    "App_Data_DF['annuity']=pd.cut(App_Data_DF['AMT_ANNUITY'], bins=bins_income)\n",
    "print(App_Data_DF['annuity'].tail(20))"
   ]
  },
  {
   "cell_type": "markdown",
   "metadata": {},
   "source": [
    "\n",
    "#### <font color = blue> Finding out taget field type and its values to do further split of data frame on Target field."
   ]
  },
  {
   "cell_type": "code",
   "execution_count": 26,
   "metadata": {
    "scrolled": true
   },
   "outputs": [
    {
     "data": {
      "text/plain": [
       "0    1\n",
       "1    0\n",
       "2    0\n",
       "3    0\n",
       "4    0\n",
       "Name: TARGET, dtype: int64"
      ]
     },
     "execution_count": 26,
     "metadata": {},
     "output_type": "execute_result"
    }
   ],
   "source": [
    "App_Data_DF['TARGET'].head()"
   ]
  },
  {
   "cell_type": "markdown",
   "metadata": {},
   "source": [
    "#### <font color = blue> Splitting Application data DF into two sub data frames based on Target field. 1 = Defaulters, 0 = All others"
   ]
  },
  {
   "cell_type": "code",
   "execution_count": 11,
   "metadata": {},
   "outputs": [],
   "source": [
    "App_Data_Def_DF = App_Data_DF.loc[App_Data_DF['TARGET']  ==1]"
   ]
  },
  {
   "cell_type": "code",
   "execution_count": 12,
   "metadata": {},
   "outputs": [],
   "source": [
    "App_Data_others_DF = App_Data_DF.loc[App_Data_DF['TARGET']  == 0]"
   ]
  },
  {
   "cell_type": "code",
   "execution_count": 343,
   "metadata": {},
   "outputs": [
    {
     "data": {
      "text/html": [
       "<div>\n",
       "<style scoped>\n",
       "    .dataframe tbody tr th:only-of-type {\n",
       "        vertical-align: middle;\n",
       "    }\n",
       "\n",
       "    .dataframe tbody tr th {\n",
       "        vertical-align: top;\n",
       "    }\n",
       "\n",
       "    .dataframe thead th {\n",
       "        text-align: right;\n",
       "    }\n",
       "</style>\n",
       "<table border=\"1\" class=\"dataframe\">\n",
       "  <thead>\n",
       "    <tr style=\"text-align: right;\">\n",
       "      <th></th>\n",
       "      <th>NAME_TYPE_SUITE</th>\n",
       "      <th>OBS_30_CNT_SOCIAL_CIRCLE</th>\n",
       "      <th>OBS_60_CNT_SOCIAL_CIRCLE</th>\n",
       "      <th>DEF_60_CNT_SOCIAL_CIRCLE</th>\n",
       "      <th>DEF_30_CNT_SOCIAL_CIRCLE</th>\n",
       "      <th>EXT_SOURCE_2</th>\n",
       "      <th>AMT_GOODS_PRICE</th>\n",
       "      <th>AMT_ANNUITY</th>\n",
       "      <th>CNT_FAM_MEMBERS</th>\n",
       "      <th>DAYS_LAST_PHONE_CHANGE</th>\n",
       "      <th>...</th>\n",
       "      <th>FLAG_DOCUMENT_7</th>\n",
       "      <th>FLAG_DOCUMENT_6</th>\n",
       "      <th>FLAG_DOCUMENT_5</th>\n",
       "      <th>FLAG_DOCUMENT_4</th>\n",
       "      <th>FLAG_DOCUMENT_3</th>\n",
       "      <th>FLAG_DOCUMENT_2</th>\n",
       "      <th>WEEKDAY_APPR_PROCESS_START</th>\n",
       "      <th>REGION_RATING_CLIENT_W_CITY</th>\n",
       "      <th>REG_REGION_NOT_LIVE_REGION</th>\n",
       "      <th>CNT_CHILDREN</th>\n",
       "    </tr>\n",
       "  </thead>\n",
       "  <tbody>\n",
       "    <tr>\n",
       "      <th>0</th>\n",
       "      <td>Unaccompanied</td>\n",
       "      <td>2.0</td>\n",
       "      <td>2.0</td>\n",
       "      <td>2.0</td>\n",
       "      <td>2.0</td>\n",
       "      <td>0.262949</td>\n",
       "      <td>351000.0</td>\n",
       "      <td>24700.5</td>\n",
       "      <td>1.0</td>\n",
       "      <td>-1134.0</td>\n",
       "      <td>...</td>\n",
       "      <td>0</td>\n",
       "      <td>0</td>\n",
       "      <td>0</td>\n",
       "      <td>0</td>\n",
       "      <td>1</td>\n",
       "      <td>0</td>\n",
       "      <td>WEDNESDAY</td>\n",
       "      <td>2</td>\n",
       "      <td>0</td>\n",
       "      <td>0</td>\n",
       "    </tr>\n",
       "    <tr>\n",
       "      <th>26</th>\n",
       "      <td>Unaccompanied</td>\n",
       "      <td>10.0</td>\n",
       "      <td>10.0</td>\n",
       "      <td>0.0</td>\n",
       "      <td>1.0</td>\n",
       "      <td>0.548477</td>\n",
       "      <td>702000.0</td>\n",
       "      <td>27076.5</td>\n",
       "      <td>1.0</td>\n",
       "      <td>-161.0</td>\n",
       "      <td>...</td>\n",
       "      <td>0</td>\n",
       "      <td>0</td>\n",
       "      <td>0</td>\n",
       "      <td>0</td>\n",
       "      <td>1</td>\n",
       "      <td>0</td>\n",
       "      <td>MONDAY</td>\n",
       "      <td>2</td>\n",
       "      <td>0</td>\n",
       "      <td>0</td>\n",
       "    </tr>\n",
       "    <tr>\n",
       "      <th>40</th>\n",
       "      <td>Unaccompanied</td>\n",
       "      <td>0.0</td>\n",
       "      <td>0.0</td>\n",
       "      <td>0.0</td>\n",
       "      <td>0.0</td>\n",
       "      <td>0.306841</td>\n",
       "      <td>855000.0</td>\n",
       "      <td>35028.0</td>\n",
       "      <td>2.0</td>\n",
       "      <td>-1075.0</td>\n",
       "      <td>...</td>\n",
       "      <td>0</td>\n",
       "      <td>0</td>\n",
       "      <td>0</td>\n",
       "      <td>0</td>\n",
       "      <td>1</td>\n",
       "      <td>0</td>\n",
       "      <td>TUESDAY</td>\n",
       "      <td>2</td>\n",
       "      <td>0</td>\n",
       "      <td>0</td>\n",
       "    </tr>\n",
       "    <tr>\n",
       "      <th>42</th>\n",
       "      <td>Unaccompanied</td>\n",
       "      <td>1.0</td>\n",
       "      <td>1.0</td>\n",
       "      <td>0.0</td>\n",
       "      <td>0.0</td>\n",
       "      <td>0.674203</td>\n",
       "      <td>238500.0</td>\n",
       "      <td>16258.5</td>\n",
       "      <td>2.0</td>\n",
       "      <td>-1480.0</td>\n",
       "      <td>...</td>\n",
       "      <td>0</td>\n",
       "      <td>0</td>\n",
       "      <td>0</td>\n",
       "      <td>0</td>\n",
       "      <td>1</td>\n",
       "      <td>0</td>\n",
       "      <td>THURSDAY</td>\n",
       "      <td>3</td>\n",
       "      <td>0</td>\n",
       "      <td>0</td>\n",
       "    </tr>\n",
       "    <tr>\n",
       "      <th>81</th>\n",
       "      <td>Unaccompanied</td>\n",
       "      <td>1.0</td>\n",
       "      <td>1.0</td>\n",
       "      <td>1.0</td>\n",
       "      <td>1.0</td>\n",
       "      <td>0.023952</td>\n",
       "      <td>252000.0</td>\n",
       "      <td>14593.5</td>\n",
       "      <td>2.0</td>\n",
       "      <td>0.0</td>\n",
       "      <td>...</td>\n",
       "      <td>0</td>\n",
       "      <td>1</td>\n",
       "      <td>0</td>\n",
       "      <td>0</td>\n",
       "      <td>0</td>\n",
       "      <td>0</td>\n",
       "      <td>THURSDAY</td>\n",
       "      <td>2</td>\n",
       "      <td>0</td>\n",
       "      <td>0</td>\n",
       "    </tr>\n",
       "  </tbody>\n",
       "</table>\n",
       "<p>5 rows × 65 columns</p>\n",
       "</div>"
      ],
      "text/plain": [
       "   NAME_TYPE_SUITE  OBS_30_CNT_SOCIAL_CIRCLE  OBS_60_CNT_SOCIAL_CIRCLE  \\\n",
       "0    Unaccompanied                       2.0                       2.0   \n",
       "26   Unaccompanied                      10.0                      10.0   \n",
       "40   Unaccompanied                       0.0                       0.0   \n",
       "42   Unaccompanied                       1.0                       1.0   \n",
       "81   Unaccompanied                       1.0                       1.0   \n",
       "\n",
       "    DEF_60_CNT_SOCIAL_CIRCLE  DEF_30_CNT_SOCIAL_CIRCLE  EXT_SOURCE_2  \\\n",
       "0                        2.0                       2.0      0.262949   \n",
       "26                       0.0                       1.0      0.548477   \n",
       "40                       0.0                       0.0      0.306841   \n",
       "42                       0.0                       0.0      0.674203   \n",
       "81                       1.0                       1.0      0.023952   \n",
       "\n",
       "    AMT_GOODS_PRICE  AMT_ANNUITY  CNT_FAM_MEMBERS  DAYS_LAST_PHONE_CHANGE  \\\n",
       "0          351000.0      24700.5              1.0                 -1134.0   \n",
       "26         702000.0      27076.5              1.0                  -161.0   \n",
       "40         855000.0      35028.0              2.0                 -1075.0   \n",
       "42         238500.0      16258.5              2.0                 -1480.0   \n",
       "81         252000.0      14593.5              2.0                     0.0   \n",
       "\n",
       "       ...      FLAG_DOCUMENT_7 FLAG_DOCUMENT_6  FLAG_DOCUMENT_5  \\\n",
       "0      ...                    0               0                0   \n",
       "26     ...                    0               0                0   \n",
       "40     ...                    0               0                0   \n",
       "42     ...                    0               0                0   \n",
       "81     ...                    0               1                0   \n",
       "\n",
       "    FLAG_DOCUMENT_4  FLAG_DOCUMENT_3  FLAG_DOCUMENT_2  \\\n",
       "0                 0                1                0   \n",
       "26                0                1                0   \n",
       "40                0                1                0   \n",
       "42                0                1                0   \n",
       "81                0                0                0   \n",
       "\n",
       "    WEEKDAY_APPR_PROCESS_START  REGION_RATING_CLIENT_W_CITY  \\\n",
       "0                    WEDNESDAY                            2   \n",
       "26                      MONDAY                            2   \n",
       "40                     TUESDAY                            2   \n",
       "42                    THURSDAY                            3   \n",
       "81                    THURSDAY                            2   \n",
       "\n",
       "    REG_REGION_NOT_LIVE_REGION CNT_CHILDREN  \n",
       "0                            0            0  \n",
       "26                           0            0  \n",
       "40                           0            0  \n",
       "42                           0            0  \n",
       "81                           0            0  \n",
       "\n",
       "[5 rows x 65 columns]"
      ]
     },
     "execution_count": 343,
     "metadata": {},
     "output_type": "execute_result"
    }
   ],
   "source": [
    "App_Data_Def_DF.head()"
   ]
  },
  {
   "cell_type": "markdown",
   "metadata": {},
   "source": [
    "#### <font color = blue> Finding out Data Imbalance"
   ]
  },
  {
   "cell_type": "code",
   "execution_count": 17,
   "metadata": {},
   "outputs": [
    {
     "data": {
      "text/plain": [
       "8.072881945686495"
      ]
     },
     "execution_count": 17,
     "metadata": {},
     "output_type": "execute_result"
    }
   ],
   "source": [
    "(len(App_Data_Def_DF)/len(App_Data_DF))*100"
   ]
  },
  {
   "cell_type": "code",
   "execution_count": 18,
   "metadata": {},
   "outputs": [
    {
     "data": {
      "text/plain": [
       "91.92711805431351"
      ]
     },
     "execution_count": 18,
     "metadata": {},
     "output_type": "execute_result"
    }
   ],
   "source": [
    "(len(App_Data_others_DF)/len(App_Data_DF))*100"
   ]
  },
  {
   "cell_type": "markdown",
   "metadata": {},
   "source": [
    "<font color = red> The defaulters data constitues of 8% of the total data we have in the application data."
   ]
  },
  {
   "cell_type": "markdown",
   "metadata": {},
   "source": [
    "### <font color = green>  Univariate analysis of Defaulter data frame "
   ]
  },
  {
   "cell_type": "code",
   "execution_count": 350,
   "metadata": {},
   "outputs": [
    {
     "data": {
      "text/html": [
       "<div>\n",
       "<style scoped>\n",
       "    .dataframe tbody tr th:only-of-type {\n",
       "        vertical-align: middle;\n",
       "    }\n",
       "\n",
       "    .dataframe tbody tr th {\n",
       "        vertical-align: top;\n",
       "    }\n",
       "\n",
       "    .dataframe thead th {\n",
       "        text-align: right;\n",
       "    }\n",
       "</style>\n",
       "<table border=\"1\" class=\"dataframe\">\n",
       "  <thead>\n",
       "    <tr style=\"text-align: right;\">\n",
       "      <th></th>\n",
       "      <th>NAME_TYPE_SUITE</th>\n",
       "      <th>OBS_30_CNT_SOCIAL_CIRCLE</th>\n",
       "      <th>OBS_60_CNT_SOCIAL_CIRCLE</th>\n",
       "      <th>DEF_60_CNT_SOCIAL_CIRCLE</th>\n",
       "      <th>DEF_30_CNT_SOCIAL_CIRCLE</th>\n",
       "      <th>EXT_SOURCE_2</th>\n",
       "      <th>AMT_GOODS_PRICE</th>\n",
       "      <th>AMT_ANNUITY</th>\n",
       "      <th>CNT_FAM_MEMBERS</th>\n",
       "      <th>DAYS_LAST_PHONE_CHANGE</th>\n",
       "      <th>...</th>\n",
       "      <th>FLAG_DOCUMENT_7</th>\n",
       "      <th>FLAG_DOCUMENT_6</th>\n",
       "      <th>FLAG_DOCUMENT_5</th>\n",
       "      <th>FLAG_DOCUMENT_4</th>\n",
       "      <th>FLAG_DOCUMENT_3</th>\n",
       "      <th>FLAG_DOCUMENT_2</th>\n",
       "      <th>WEEKDAY_APPR_PROCESS_START</th>\n",
       "      <th>REGION_RATING_CLIENT_W_CITY</th>\n",
       "      <th>REG_REGION_NOT_LIVE_REGION</th>\n",
       "      <th>CNT_CHILDREN</th>\n",
       "    </tr>\n",
       "  </thead>\n",
       "  <tbody>\n",
       "    <tr>\n",
       "      <th>1</th>\n",
       "      <td>Family</td>\n",
       "      <td>1.0</td>\n",
       "      <td>1.0</td>\n",
       "      <td>0.0</td>\n",
       "      <td>0.0</td>\n",
       "      <td>0.622246</td>\n",
       "      <td>1129500.0</td>\n",
       "      <td>35698.5</td>\n",
       "      <td>2.0</td>\n",
       "      <td>-828.0</td>\n",
       "      <td>...</td>\n",
       "      <td>0</td>\n",
       "      <td>0</td>\n",
       "      <td>0</td>\n",
       "      <td>0</td>\n",
       "      <td>1</td>\n",
       "      <td>0</td>\n",
       "      <td>MONDAY</td>\n",
       "      <td>1</td>\n",
       "      <td>0</td>\n",
       "      <td>0</td>\n",
       "    </tr>\n",
       "    <tr>\n",
       "      <th>2</th>\n",
       "      <td>Unaccompanied</td>\n",
       "      <td>0.0</td>\n",
       "      <td>0.0</td>\n",
       "      <td>0.0</td>\n",
       "      <td>0.0</td>\n",
       "      <td>0.555912</td>\n",
       "      <td>135000.0</td>\n",
       "      <td>6750.0</td>\n",
       "      <td>1.0</td>\n",
       "      <td>-815.0</td>\n",
       "      <td>...</td>\n",
       "      <td>0</td>\n",
       "      <td>0</td>\n",
       "      <td>0</td>\n",
       "      <td>0</td>\n",
       "      <td>0</td>\n",
       "      <td>0</td>\n",
       "      <td>MONDAY</td>\n",
       "      <td>2</td>\n",
       "      <td>0</td>\n",
       "      <td>0</td>\n",
       "    </tr>\n",
       "    <tr>\n",
       "      <th>3</th>\n",
       "      <td>Unaccompanied</td>\n",
       "      <td>2.0</td>\n",
       "      <td>2.0</td>\n",
       "      <td>0.0</td>\n",
       "      <td>0.0</td>\n",
       "      <td>0.650442</td>\n",
       "      <td>297000.0</td>\n",
       "      <td>29686.5</td>\n",
       "      <td>2.0</td>\n",
       "      <td>-617.0</td>\n",
       "      <td>...</td>\n",
       "      <td>0</td>\n",
       "      <td>0</td>\n",
       "      <td>0</td>\n",
       "      <td>0</td>\n",
       "      <td>1</td>\n",
       "      <td>0</td>\n",
       "      <td>WEDNESDAY</td>\n",
       "      <td>2</td>\n",
       "      <td>0</td>\n",
       "      <td>0</td>\n",
       "    </tr>\n",
       "    <tr>\n",
       "      <th>4</th>\n",
       "      <td>Unaccompanied</td>\n",
       "      <td>0.0</td>\n",
       "      <td>0.0</td>\n",
       "      <td>0.0</td>\n",
       "      <td>0.0</td>\n",
       "      <td>0.322738</td>\n",
       "      <td>513000.0</td>\n",
       "      <td>21865.5</td>\n",
       "      <td>1.0</td>\n",
       "      <td>-1106.0</td>\n",
       "      <td>...</td>\n",
       "      <td>0</td>\n",
       "      <td>0</td>\n",
       "      <td>0</td>\n",
       "      <td>0</td>\n",
       "      <td>0</td>\n",
       "      <td>0</td>\n",
       "      <td>THURSDAY</td>\n",
       "      <td>2</td>\n",
       "      <td>0</td>\n",
       "      <td>0</td>\n",
       "    </tr>\n",
       "    <tr>\n",
       "      <th>5</th>\n",
       "      <td>Spouse, partner</td>\n",
       "      <td>0.0</td>\n",
       "      <td>0.0</td>\n",
       "      <td>0.0</td>\n",
       "      <td>0.0</td>\n",
       "      <td>0.354225</td>\n",
       "      <td>454500.0</td>\n",
       "      <td>27517.5</td>\n",
       "      <td>2.0</td>\n",
       "      <td>-2536.0</td>\n",
       "      <td>...</td>\n",
       "      <td>0</td>\n",
       "      <td>0</td>\n",
       "      <td>0</td>\n",
       "      <td>0</td>\n",
       "      <td>1</td>\n",
       "      <td>0</td>\n",
       "      <td>WEDNESDAY</td>\n",
       "      <td>2</td>\n",
       "      <td>0</td>\n",
       "      <td>0</td>\n",
       "    </tr>\n",
       "  </tbody>\n",
       "</table>\n",
       "<p>5 rows × 65 columns</p>\n",
       "</div>"
      ],
      "text/plain": [
       "   NAME_TYPE_SUITE  OBS_30_CNT_SOCIAL_CIRCLE  OBS_60_CNT_SOCIAL_CIRCLE  \\\n",
       "1           Family                       1.0                       1.0   \n",
       "2    Unaccompanied                       0.0                       0.0   \n",
       "3    Unaccompanied                       2.0                       2.0   \n",
       "4    Unaccompanied                       0.0                       0.0   \n",
       "5  Spouse, partner                       0.0                       0.0   \n",
       "\n",
       "   DEF_60_CNT_SOCIAL_CIRCLE  DEF_30_CNT_SOCIAL_CIRCLE  EXT_SOURCE_2  \\\n",
       "1                       0.0                       0.0      0.622246   \n",
       "2                       0.0                       0.0      0.555912   \n",
       "3                       0.0                       0.0      0.650442   \n",
       "4                       0.0                       0.0      0.322738   \n",
       "5                       0.0                       0.0      0.354225   \n",
       "\n",
       "   AMT_GOODS_PRICE  AMT_ANNUITY  CNT_FAM_MEMBERS  DAYS_LAST_PHONE_CHANGE  \\\n",
       "1        1129500.0      35698.5              2.0                  -828.0   \n",
       "2         135000.0       6750.0              1.0                  -815.0   \n",
       "3         297000.0      29686.5              2.0                  -617.0   \n",
       "4         513000.0      21865.5              1.0                 -1106.0   \n",
       "5         454500.0      27517.5              2.0                 -2536.0   \n",
       "\n",
       "      ...      FLAG_DOCUMENT_7 FLAG_DOCUMENT_6  FLAG_DOCUMENT_5  \\\n",
       "1     ...                    0               0                0   \n",
       "2     ...                    0               0                0   \n",
       "3     ...                    0               0                0   \n",
       "4     ...                    0               0                0   \n",
       "5     ...                    0               0                0   \n",
       "\n",
       "   FLAG_DOCUMENT_4  FLAG_DOCUMENT_3  FLAG_DOCUMENT_2  \\\n",
       "1                0                1                0   \n",
       "2                0                0                0   \n",
       "3                0                1                0   \n",
       "4                0                0                0   \n",
       "5                0                1                0   \n",
       "\n",
       "   WEEKDAY_APPR_PROCESS_START  REGION_RATING_CLIENT_W_CITY  \\\n",
       "1                      MONDAY                            1   \n",
       "2                      MONDAY                            2   \n",
       "3                   WEDNESDAY                            2   \n",
       "4                    THURSDAY                            2   \n",
       "5                   WEDNESDAY                            2   \n",
       "\n",
       "   REG_REGION_NOT_LIVE_REGION CNT_CHILDREN  \n",
       "1                           0            0  \n",
       "2                           0            0  \n",
       "3                           0            0  \n",
       "4                           0            0  \n",
       "5                           0            0  \n",
       "\n",
       "[5 rows x 65 columns]"
      ]
     },
     "execution_count": 350,
     "metadata": {},
     "output_type": "execute_result"
    }
   ],
   "source": [
    "App_Data_others_DF.head()"
   ]
  },
  {
   "cell_type": "code",
   "execution_count": 345,
   "metadata": {},
   "outputs": [
    {
     "data": {
      "text/plain": [
       "NAME_TYPE_SUITE                70\n",
       "OBS_30_CNT_SOCIAL_CIRCLE       36\n",
       "OBS_60_CNT_SOCIAL_CIRCLE       36\n",
       "DEF_60_CNT_SOCIAL_CIRCLE       36\n",
       "DEF_30_CNT_SOCIAL_CIRCLE       36\n",
       "EXT_SOURCE_2                   52\n",
       "AMT_GOODS_PRICE                21\n",
       "AMT_ANNUITY                     0\n",
       "CNT_FAM_MEMBERS                 0\n",
       "DAYS_LAST_PHONE_CHANGE          0\n",
       "CODE_GENDER                     0\n",
       "NAME_FAMILY_STATUS              0\n",
       "REGION_RATING_CLIENT            0\n",
       "REGION_POPULATION_RELATIVE      0\n",
       "DAYS_BIRTH                      0\n",
       "DAYS_EMPLOYED                   0\n",
       "DAYS_REGISTRATION               0\n",
       "DAYS_ID_PUBLISH                 0\n",
       "AMT_INCOME_TOTAL                0\n",
       "FLAG_OWN_REALTY                 0\n",
       "FLAG_CONT_MOBILE                0\n",
       "NAME_CONTRACT_TYPE              0\n",
       "FLAG_MOBIL                      0\n",
       "FLAG_EMP_PHONE                  0\n",
       "FLAG_WORK_PHONE                 0\n",
       "NAME_INCOME_TYPE                0\n",
       "FLAG_PHONE                      0\n",
       "TARGET                          0\n",
       "FLAG_EMAIL                      0\n",
       "FLAG_OWN_CAR                    0\n",
       "                               ..\n",
       "REG_REGION_NOT_WORK_REGION      0\n",
       "LIVE_REGION_NOT_WORK_REGION     0\n",
       "REG_CITY_NOT_LIVE_CITY          0\n",
       "REG_CITY_NOT_WORK_CITY          0\n",
       "LIVE_CITY_NOT_WORK_CITY         0\n",
       "ORGANIZATION_TYPE               0\n",
       "FLAG_DOCUMENT_21                0\n",
       "FLAG_DOCUMENT_20                0\n",
       "FLAG_DOCUMENT_19                0\n",
       "FLAG_DOCUMENT_18                0\n",
       "FLAG_DOCUMENT_17                0\n",
       "FLAG_DOCUMENT_16                0\n",
       "FLAG_DOCUMENT_15                0\n",
       "FLAG_DOCUMENT_14                0\n",
       "FLAG_DOCUMENT_13                0\n",
       "FLAG_DOCUMENT_12                0\n",
       "FLAG_DOCUMENT_11                0\n",
       "FLAG_DOCUMENT_10                0\n",
       "FLAG_DOCUMENT_9                 0\n",
       "FLAG_DOCUMENT_8                 0\n",
       "FLAG_DOCUMENT_7                 0\n",
       "FLAG_DOCUMENT_6                 0\n",
       "FLAG_DOCUMENT_5                 0\n",
       "FLAG_DOCUMENT_4                 0\n",
       "FLAG_DOCUMENT_3                 0\n",
       "FLAG_DOCUMENT_2                 0\n",
       "WEEKDAY_APPR_PROCESS_START      0\n",
       "REGION_RATING_CLIENT_W_CITY     0\n",
       "REG_REGION_NOT_LIVE_REGION      0\n",
       "CNT_CHILDREN                    0\n",
       "Length: 65, dtype: int64"
      ]
     },
     "execution_count": 345,
     "metadata": {},
     "output_type": "execute_result"
    }
   ],
   "source": [
    "App_Data_Def_DF.isnull().sum()"
   ]
  },
  {
   "cell_type": "markdown",
   "metadata": {},
   "source": [
    "#### <font color = blue> NAME_CONTRACT_TYPE univariate analysis"
   ]
  },
  {
   "cell_type": "markdown",
   "metadata": {},
   "source": [
    "> ##### <font color = black>  NAME_CONTRACT_TYPE univariate analysis for Target = 1 subset of records."
   ]
  },
  {
   "cell_type": "code",
   "execution_count": 142,
   "metadata": {},
   "outputs": [],
   "source": [
    "Def_Contract_Type_DF = App_Data_Def_DF.loc[:,['SK_ID_CURR','NAME_CONTRACT_TYPE']]\n"
   ]
  },
  {
   "cell_type": "code",
   "execution_count": 143,
   "metadata": {},
   "outputs": [
    {
     "data": {
      "text/plain": [
       "array(['Cash loans', 'Revolving loans'], dtype=object)"
      ]
     },
     "execution_count": 143,
     "metadata": {},
     "output_type": "execute_result"
    }
   ],
   "source": [
    "Def_Contract_Type_DF.NAME_CONTRACT_TYPE.unique()"
   ]
  },
  {
   "cell_type": "code",
   "execution_count": 144,
   "metadata": {},
   "outputs": [
    {
     "data": {
      "text/html": [
       "<div>\n",
       "<style scoped>\n",
       "    .dataframe tbody tr th:only-of-type {\n",
       "        vertical-align: middle;\n",
       "    }\n",
       "\n",
       "    .dataframe tbody tr th {\n",
       "        vertical-align: top;\n",
       "    }\n",
       "\n",
       "    .dataframe thead th {\n",
       "        text-align: right;\n",
       "    }\n",
       "</style>\n",
       "<table border=\"1\" class=\"dataframe\">\n",
       "  <thead>\n",
       "    <tr style=\"text-align: right;\">\n",
       "      <th></th>\n",
       "      <th>SK_ID_CURR</th>\n",
       "    </tr>\n",
       "    <tr>\n",
       "      <th>NAME_CONTRACT_TYPE</th>\n",
       "      <th></th>\n",
       "    </tr>\n",
       "  </thead>\n",
       "  <tbody>\n",
       "    <tr>\n",
       "      <th>Cash loans</th>\n",
       "      <td>93.54</td>\n",
       "    </tr>\n",
       "    <tr>\n",
       "      <th>Revolving loans</th>\n",
       "      <td>6.46</td>\n",
       "    </tr>\n",
       "  </tbody>\n",
       "</table>\n",
       "</div>"
      ],
      "text/plain": [
       "                    SK_ID_CURR\n",
       "NAME_CONTRACT_TYPE            \n",
       "Cash loans               93.54\n",
       "Revolving loans           6.46"
      ]
     },
     "execution_count": 144,
     "metadata": {},
     "output_type": "execute_result"
    }
   ],
   "source": [
    "round((Def_Contract_Type_DF.groupby('NAME_CONTRACT_TYPE').count()/len(Def_Contract_Type_DF))*100,2)"
   ]
  },
  {
   "cell_type": "markdown",
   "metadata": {},
   "source": [
    "<font color = Red> We can see that 93% of the loans with repayment difficulties are Cash loans. But this could also be because the cash loans are taken more often than revolving loans. We need to analyze more before we concolude whether contract type has any impact on repayment difficulties."
   ]
  },
  {
   "cell_type": "markdown",
   "metadata": {},
   "source": [
    "> ##### <font color = black>  NAME_CONTRACT_TYPE univariate analysis for Target = 0 subset of records."
   ]
  },
  {
   "cell_type": "code",
   "execution_count": 93,
   "metadata": {},
   "outputs": [],
   "source": [
    "Other_Contract_Type_DF = App_Data_others_DF.loc[:,['SK_ID_CURR','NAME_CONTRACT_TYPE']]"
   ]
  },
  {
   "cell_type": "code",
   "execution_count": 94,
   "metadata": {},
   "outputs": [
    {
     "data": {
      "text/html": [
       "<div>\n",
       "<style scoped>\n",
       "    .dataframe tbody tr th:only-of-type {\n",
       "        vertical-align: middle;\n",
       "    }\n",
       "\n",
       "    .dataframe tbody tr th {\n",
       "        vertical-align: top;\n",
       "    }\n",
       "\n",
       "    .dataframe thead th {\n",
       "        text-align: right;\n",
       "    }\n",
       "</style>\n",
       "<table border=\"1\" class=\"dataframe\">\n",
       "  <thead>\n",
       "    <tr style=\"text-align: right;\">\n",
       "      <th></th>\n",
       "      <th>SK_ID_CURR</th>\n",
       "    </tr>\n",
       "    <tr>\n",
       "      <th>NAME_CONTRACT_TYPE</th>\n",
       "      <th></th>\n",
       "    </tr>\n",
       "  </thead>\n",
       "  <tbody>\n",
       "    <tr>\n",
       "      <th>Cash loans</th>\n",
       "      <td>90.21</td>\n",
       "    </tr>\n",
       "    <tr>\n",
       "      <th>Revolving loans</th>\n",
       "      <td>9.79</td>\n",
       "    </tr>\n",
       "  </tbody>\n",
       "</table>\n",
       "</div>"
      ],
      "text/plain": [
       "                    SK_ID_CURR\n",
       "NAME_CONTRACT_TYPE            \n",
       "Cash loans               90.21\n",
       "Revolving loans           9.79"
      ]
     },
     "execution_count": 94,
     "metadata": {},
     "output_type": "execute_result"
    }
   ],
   "source": [
    "round((Other_Contract_Type_DF.groupby('NAME_CONTRACT_TYPE').count()/len(Other_Contract_Type_DF))*100,2)"
   ]
  },
  {
   "cell_type": "markdown",
   "metadata": {},
   "source": [
    "> ##### NAME_CONTRACT_TYPE univariate analysis to find defaulter percentage compared to total applicants in that category"
   ]
  },
  {
   "cell_type": "code",
   "execution_count": 29,
   "metadata": {},
   "outputs": [],
   "source": [
    "Def_Contract_Type_DF = App_Data_DF.loc[:,['SK_ID_CURR','TARGET','NAME_CONTRACT_TYPE']]\n",
    "T_Contract_Type_DF = App_Data_DF.loc[:,['SK_ID_CURR','NAME_CONTRACT_TYPE']]"
   ]
  },
  {
   "cell_type": "code",
   "execution_count": 33,
   "metadata": {
    "scrolled": true
   },
   "outputs": [
    {
     "data": {
      "text/html": [
       "<div>\n",
       "<style scoped>\n",
       "    .dataframe tbody tr th:only-of-type {\n",
       "        vertical-align: middle;\n",
       "    }\n",
       "\n",
       "    .dataframe tbody tr th {\n",
       "        vertical-align: top;\n",
       "    }\n",
       "\n",
       "    .dataframe thead th {\n",
       "        text-align: right;\n",
       "    }\n",
       "</style>\n",
       "<table border=\"1\" class=\"dataframe\">\n",
       "  <thead>\n",
       "    <tr style=\"text-align: right;\">\n",
       "      <th></th>\n",
       "      <th></th>\n",
       "      <th>SK_ID_CURR</th>\n",
       "    </tr>\n",
       "    <tr>\n",
       "      <th>TARGET</th>\n",
       "      <th>NAME_CONTRACT_TYPE</th>\n",
       "      <th></th>\n",
       "    </tr>\n",
       "  </thead>\n",
       "  <tbody>\n",
       "    <tr>\n",
       "      <th rowspan=\"2\" valign=\"top\">0</th>\n",
       "      <th>Cash loans</th>\n",
       "      <td>91.654087</td>\n",
       "    </tr>\n",
       "    <tr>\n",
       "      <th>Revolving loans</th>\n",
       "      <td>94.521671</td>\n",
       "    </tr>\n",
       "    <tr>\n",
       "      <th rowspan=\"2\" valign=\"top\">1</th>\n",
       "      <th>Cash loans</th>\n",
       "      <td>8.345913</td>\n",
       "    </tr>\n",
       "    <tr>\n",
       "      <th>Revolving loans</th>\n",
       "      <td>5.478329</td>\n",
       "    </tr>\n",
       "  </tbody>\n",
       "</table>\n",
       "</div>"
      ],
      "text/plain": [
       "                           SK_ID_CURR\n",
       "TARGET NAME_CONTRACT_TYPE            \n",
       "0      Cash loans           91.654087\n",
       "       Revolving loans      94.521671\n",
       "1      Cash loans            8.345913\n",
       "       Revolving loans       5.478329"
      ]
     },
     "execution_count": 33,
     "metadata": {},
     "output_type": "execute_result"
    }
   ],
   "source": [
    "(Def_Contract_Type_DF.groupby(['TARGET','NAME_CONTRACT_TYPE']).count()/T_Contract_Type_DF.groupby('NAME_CONTRACT_TYPE').count())*100"
   ]
  },
  {
   "cell_type": "markdown",
   "metadata": {},
   "source": [
    "<font color = red> As we can see out of the total cash loans taken 8.3% ended up with payment difficulties where as 5.4% of the revolving loans end up with payment difficulties. So cash loans has a sligtly higher risk comapred to revolving loans."
   ]
  },
  {
   "cell_type": "markdown",
   "metadata": {},
   "source": [
    "#### <font color = blue> Gender univariate analysis"
   ]
  },
  {
   "cell_type": "markdown",
   "metadata": {},
   "source": [
    "> ##### Gender univariate analysis for Target type = 1"
   ]
  },
  {
   "cell_type": "code",
   "execution_count": 147,
   "metadata": {},
   "outputs": [],
   "source": [
    "Def_GENDER_DF = App_Data_Def_DF.loc[:,['SK_ID_CURR','CODE_GENDER']]"
   ]
  },
  {
   "cell_type": "code",
   "execution_count": 148,
   "metadata": {},
   "outputs": [
    {
     "data": {
      "text/html": [
       "<div>\n",
       "<style scoped>\n",
       "    .dataframe tbody tr th:only-of-type {\n",
       "        vertical-align: middle;\n",
       "    }\n",
       "\n",
       "    .dataframe tbody tr th {\n",
       "        vertical-align: top;\n",
       "    }\n",
       "\n",
       "    .dataframe thead th {\n",
       "        text-align: right;\n",
       "    }\n",
       "</style>\n",
       "<table border=\"1\" class=\"dataframe\">\n",
       "  <thead>\n",
       "    <tr style=\"text-align: right;\">\n",
       "      <th></th>\n",
       "      <th>SK_ID_CURR</th>\n",
       "    </tr>\n",
       "    <tr>\n",
       "      <th>CODE_GENDER</th>\n",
       "      <th></th>\n",
       "    </tr>\n",
       "  </thead>\n",
       "  <tbody>\n",
       "    <tr>\n",
       "      <th>F</th>\n",
       "      <td>57.079557</td>\n",
       "    </tr>\n",
       "    <tr>\n",
       "      <th>M</th>\n",
       "      <td>42.920443</td>\n",
       "    </tr>\n",
       "  </tbody>\n",
       "</table>\n",
       "</div>"
      ],
      "text/plain": [
       "             SK_ID_CURR\n",
       "CODE_GENDER            \n",
       "F             57.079557\n",
       "M             42.920443"
      ]
     },
     "execution_count": 148,
     "metadata": {},
     "output_type": "execute_result"
    }
   ],
   "source": [
    "(Def_GENDER_DF.groupby('CODE_GENDER').count()/len(Def_GENDER_DF))*100"
   ]
  },
  {
   "cell_type": "markdown",
   "metadata": {},
   "source": [
    "<font color = red> We can see that 57% of the customers with repayment difficulties are female. Its is more risky to approve loans to female customers than male. But again this could be because the number of loans taken by men could be more than female. "
   ]
  },
  {
   "cell_type": "markdown",
   "metadata": {},
   "source": [
    "> ##### Gender univariate analysis showing the number of defaults against the percentage of loans taken by that gender."
   ]
  },
  {
   "cell_type": "code",
   "execution_count": 149,
   "metadata": {},
   "outputs": [],
   "source": [
    "Def_Gender_Type_DF = App_Data_DF.loc[:,['SK_ID_CURR','TARGET','CODE_GENDER']]\n",
    "T_Gender_Type_DF = App_Data_DF.loc[:,['SK_ID_CURR','CODE_GENDER']]"
   ]
  },
  {
   "cell_type": "code",
   "execution_count": 150,
   "metadata": {},
   "outputs": [
    {
     "data": {
      "text/html": [
       "<div>\n",
       "<style scoped>\n",
       "    .dataframe tbody tr th:only-of-type {\n",
       "        vertical-align: middle;\n",
       "    }\n",
       "\n",
       "    .dataframe tbody tr th {\n",
       "        vertical-align: top;\n",
       "    }\n",
       "\n",
       "    .dataframe thead th {\n",
       "        text-align: right;\n",
       "    }\n",
       "</style>\n",
       "<table border=\"1\" class=\"dataframe\">\n",
       "  <thead>\n",
       "    <tr style=\"text-align: right;\">\n",
       "      <th></th>\n",
       "      <th></th>\n",
       "      <th>SK_ID_CURR</th>\n",
       "    </tr>\n",
       "    <tr>\n",
       "      <th>TARGET</th>\n",
       "      <th>CODE_GENDER</th>\n",
       "      <th></th>\n",
       "    </tr>\n",
       "  </thead>\n",
       "  <tbody>\n",
       "    <tr>\n",
       "      <th rowspan=\"3\" valign=\"top\">0</th>\n",
       "      <th>F</th>\n",
       "      <td>93.000672</td>\n",
       "    </tr>\n",
       "    <tr>\n",
       "      <th>M</th>\n",
       "      <td>89.857983</td>\n",
       "    </tr>\n",
       "    <tr>\n",
       "      <th>XNA</th>\n",
       "      <td>100.000000</td>\n",
       "    </tr>\n",
       "    <tr>\n",
       "      <th rowspan=\"2\" valign=\"top\">1</th>\n",
       "      <th>F</th>\n",
       "      <td>6.999328</td>\n",
       "    </tr>\n",
       "    <tr>\n",
       "      <th>M</th>\n",
       "      <td>10.142017</td>\n",
       "    </tr>\n",
       "  </tbody>\n",
       "</table>\n",
       "</div>"
      ],
      "text/plain": [
       "                    SK_ID_CURR\n",
       "TARGET CODE_GENDER            \n",
       "0      F             93.000672\n",
       "       M             89.857983\n",
       "       XNA          100.000000\n",
       "1      F              6.999328\n",
       "       M             10.142017"
      ]
     },
     "execution_count": 150,
     "metadata": {},
     "output_type": "execute_result"
    }
   ],
   "source": [
    "(Def_Gender_Type_DF.groupby(['TARGET','CODE_GENDER']).count()/T_Gender_Type_DF.groupby(['CODE_GENDER']).count())*100"
   ]
  },
  {
   "cell_type": "markdown",
   "metadata": {},
   "source": [
    "<font color = red> We can conclude that providing loans to men has slightly higher risk compared to women."
   ]
  },
  {
   "cell_type": "markdown",
   "metadata": {},
   "source": [
    "#### <font color = blue>Own car Univariate analysis"
   ]
  },
  {
   "cell_type": "code",
   "execution_count": 151,
   "metadata": {},
   "outputs": [],
   "source": [
    "Def_Car_DF = App_Data_Def_DF.loc[:,['SK_ID_CURR','FLAG_OWN_CAR']]"
   ]
  },
  {
   "cell_type": "code",
   "execution_count": 152,
   "metadata": {},
   "outputs": [
    {
     "data": {
      "text/html": [
       "<div>\n",
       "<style scoped>\n",
       "    .dataframe tbody tr th:only-of-type {\n",
       "        vertical-align: middle;\n",
       "    }\n",
       "\n",
       "    .dataframe tbody tr th {\n",
       "        vertical-align: top;\n",
       "    }\n",
       "\n",
       "    .dataframe thead th {\n",
       "        text-align: right;\n",
       "    }\n",
       "</style>\n",
       "<table border=\"1\" class=\"dataframe\">\n",
       "  <thead>\n",
       "    <tr style=\"text-align: right;\">\n",
       "      <th></th>\n",
       "      <th>SK_ID_CURR</th>\n",
       "    </tr>\n",
       "    <tr>\n",
       "      <th>FLAG_OWN_CAR</th>\n",
       "      <th></th>\n",
       "    </tr>\n",
       "  </thead>\n",
       "  <tbody>\n",
       "    <tr>\n",
       "      <th>N</th>\n",
       "      <td>69.482377</td>\n",
       "    </tr>\n",
       "    <tr>\n",
       "      <th>Y</th>\n",
       "      <td>30.517623</td>\n",
       "    </tr>\n",
       "  </tbody>\n",
       "</table>\n",
       "</div>"
      ],
      "text/plain": [
       "              SK_ID_CURR\n",
       "FLAG_OWN_CAR            \n",
       "N              69.482377\n",
       "Y              30.517623"
      ]
     },
     "execution_count": 152,
     "metadata": {},
     "output_type": "execute_result"
    }
   ],
   "source": [
    "(Def_Car_DF.groupby('FLAG_OWN_CAR').count()/len(Def_Car_DF))*100"
   ]
  },
  {
   "cell_type": "markdown",
   "metadata": {},
   "source": [
    "<font color = red> We can conclude that people without a own vehicle are more likely to default on loans."
   ]
  },
  {
   "cell_type": "markdown",
   "metadata": {},
   "source": [
    "> #### Own car Univariate analysis for entire data"
   ]
  },
  {
   "cell_type": "code",
   "execution_count": 153,
   "metadata": {},
   "outputs": [],
   "source": [
    "Def_Car_Type_DF = App_Data_DF.loc[:,['SK_ID_CURR','TARGET','FLAG_OWN_CAR']]\n",
    "T_Car_Type_DF = App_Data_DF.loc[:,['SK_ID_CURR','FLAG_OWN_CAR']]"
   ]
  },
  {
   "cell_type": "code",
   "execution_count": 154,
   "metadata": {},
   "outputs": [
    {
     "data": {
      "text/html": [
       "<div>\n",
       "<style scoped>\n",
       "    .dataframe tbody tr th:only-of-type {\n",
       "        vertical-align: middle;\n",
       "    }\n",
       "\n",
       "    .dataframe tbody tr th {\n",
       "        vertical-align: top;\n",
       "    }\n",
       "\n",
       "    .dataframe thead th {\n",
       "        text-align: right;\n",
       "    }\n",
       "</style>\n",
       "<table border=\"1\" class=\"dataframe\">\n",
       "  <thead>\n",
       "    <tr style=\"text-align: right;\">\n",
       "      <th></th>\n",
       "      <th></th>\n",
       "      <th>SK_ID_CURR</th>\n",
       "    </tr>\n",
       "    <tr>\n",
       "      <th>TARGET</th>\n",
       "      <th>FLAG_OWN_CAR</th>\n",
       "      <th></th>\n",
       "    </tr>\n",
       "  </thead>\n",
       "  <tbody>\n",
       "    <tr>\n",
       "      <th rowspan=\"2\" valign=\"top\">0</th>\n",
       "      <th>N</th>\n",
       "      <td>91.499773</td>\n",
       "    </tr>\n",
       "    <tr>\n",
       "      <th>Y</th>\n",
       "      <td>92.756201</td>\n",
       "    </tr>\n",
       "    <tr>\n",
       "      <th rowspan=\"2\" valign=\"top\">1</th>\n",
       "      <th>N</th>\n",
       "      <td>8.500227</td>\n",
       "    </tr>\n",
       "    <tr>\n",
       "      <th>Y</th>\n",
       "      <td>7.243799</td>\n",
       "    </tr>\n",
       "  </tbody>\n",
       "</table>\n",
       "</div>"
      ],
      "text/plain": [
       "                     SK_ID_CURR\n",
       "TARGET FLAG_OWN_CAR            \n",
       "0      N              91.499773\n",
       "       Y              92.756201\n",
       "1      N               8.500227\n",
       "       Y               7.243799"
      ]
     },
     "execution_count": 154,
     "metadata": {},
     "output_type": "execute_result"
    }
   ],
   "source": [
    "(Def_Car_Type_DF.groupby(['TARGET','FLAG_OWN_CAR']).count()/T_Car_Type_DF.groupby('FLAG_OWN_CAR').count())*100"
   ]
  },
  {
   "cell_type": "markdown",
   "metadata": {},
   "source": [
    "<font color = red> The conclusion that people without a own vehicle are more likely to default on loans holds true even when we compare it against the number of people without cars that applied for loan and defaults without cars."
   ]
  },
  {
   "cell_type": "markdown",
   "metadata": {},
   "source": [
    "#### Own House Univariate Analysis"
   ]
  },
  {
   "cell_type": "code",
   "execution_count": 124,
   "metadata": {},
   "outputs": [],
   "source": [
    "Def_House_DF = App_Data_Def_DF.loc[:,['SK_ID_CURR','FLAG_OWN_REALTY']]"
   ]
  },
  {
   "cell_type": "code",
   "execution_count": 155,
   "metadata": {},
   "outputs": [
    {
     "data": {
      "text/html": [
       "<div>\n",
       "<style scoped>\n",
       "    .dataframe tbody tr th:only-of-type {\n",
       "        vertical-align: middle;\n",
       "    }\n",
       "\n",
       "    .dataframe tbody tr th {\n",
       "        vertical-align: top;\n",
       "    }\n",
       "\n",
       "    .dataframe thead th {\n",
       "        text-align: right;\n",
       "    }\n",
       "</style>\n",
       "<table border=\"1\" class=\"dataframe\">\n",
       "  <thead>\n",
       "    <tr style=\"text-align: right;\">\n",
       "      <th></th>\n",
       "      <th>SK_ID_CURR</th>\n",
       "    </tr>\n",
       "    <tr>\n",
       "      <th>FLAG_OWN_REALTY</th>\n",
       "      <th></th>\n",
       "    </tr>\n",
       "  </thead>\n",
       "  <tbody>\n",
       "    <tr>\n",
       "      <th>N</th>\n",
       "      <td>31.589124</td>\n",
       "    </tr>\n",
       "    <tr>\n",
       "      <th>Y</th>\n",
       "      <td>68.410876</td>\n",
       "    </tr>\n",
       "  </tbody>\n",
       "</table>\n",
       "</div>"
      ],
      "text/plain": [
       "                 SK_ID_CURR\n",
       "FLAG_OWN_REALTY            \n",
       "N                 31.589124\n",
       "Y                 68.410876"
      ]
     },
     "execution_count": 155,
     "metadata": {},
     "output_type": "execute_result"
    }
   ],
   "source": [
    "(Def_House_DF.groupby('FLAG_OWN_REALTY').count()/len(Def_House_DF))*100"
   ]
  },
  {
   "cell_type": "markdown",
   "metadata": {},
   "source": [
    "<font color = red> We can see that people with a own house are more likely to default on loans but this also could be people without reality are more likely to apply for loans when compared to people with reality, it is not conclusive without doing further analysis"
   ]
  },
  {
   "cell_type": "markdown",
   "metadata": {},
   "source": [
    "> #### Own reality Univariate analysis for entire data"
   ]
  },
  {
   "cell_type": "code",
   "execution_count": 54,
   "metadata": {},
   "outputs": [],
   "source": [
    "Def_Reality_Type_DF = App_Data_DF.loc[:,['SK_ID_CURR','TARGET','FLAG_OWN_REALTY']]\n",
    "T_Reality_Type_DF = App_Data_DF.loc[:,['SK_ID_CURR','FLAG_OWN_REALTY']]"
   ]
  },
  {
   "cell_type": "code",
   "execution_count": 55,
   "metadata": {},
   "outputs": [
    {
     "data": {
      "text/html": [
       "<div>\n",
       "<style scoped>\n",
       "    .dataframe tbody tr th:only-of-type {\n",
       "        vertical-align: middle;\n",
       "    }\n",
       "\n",
       "    .dataframe tbody tr th {\n",
       "        vertical-align: top;\n",
       "    }\n",
       "\n",
       "    .dataframe thead th {\n",
       "        text-align: right;\n",
       "    }\n",
       "</style>\n",
       "<table border=\"1\" class=\"dataframe\">\n",
       "  <thead>\n",
       "    <tr style=\"text-align: right;\">\n",
       "      <th></th>\n",
       "      <th></th>\n",
       "      <th>SK_ID_CURR</th>\n",
       "    </tr>\n",
       "    <tr>\n",
       "      <th>TARGET</th>\n",
       "      <th>FLAG_OWN_REALTY</th>\n",
       "      <th></th>\n",
       "    </tr>\n",
       "  </thead>\n",
       "  <tbody>\n",
       "    <tr>\n",
       "      <th rowspan=\"2\" valign=\"top\">0</th>\n",
       "      <th>N</th>\n",
       "      <td>91.675071</td>\n",
       "    </tr>\n",
       "    <tr>\n",
       "      <th>Y</th>\n",
       "      <td>92.038423</td>\n",
       "    </tr>\n",
       "    <tr>\n",
       "      <th rowspan=\"2\" valign=\"top\">1</th>\n",
       "      <th>Y</th>\n",
       "      <td>7.961577</td>\n",
       "    </tr>\n",
       "    <tr>\n",
       "      <th>N</th>\n",
       "      <td>8.324929</td>\n",
       "    </tr>\n",
       "  </tbody>\n",
       "</table>\n",
       "</div>"
      ],
      "text/plain": [
       "                        SK_ID_CURR\n",
       "TARGET FLAG_OWN_REALTY            \n",
       "0      N                 91.675071\n",
       "       Y                 92.038423\n",
       "1      Y                  7.961577\n",
       "       N                  8.324929"
      ]
     },
     "execution_count": 55,
     "metadata": {},
     "output_type": "execute_result"
    }
   ],
   "source": [
    "((Def_Reality_Type_DF.groupby(['TARGET','FLAG_OWN_REALTY']).count()/T_Reality_Type_DF.groupby('FLAG_OWN_REALTY').count())*100).sort_values(by=['TARGET','SK_ID_CURR'])"
   ]
  },
  {
   "cell_type": "markdown",
   "metadata": {},
   "source": [
    "<font color = red> We can see that the number of people who apply for loan are people without own reality , so the previous analysis showed us that the people more likely to default on loan their loans are people with own reality but when we compared the same with the number of people who applied for loan vs defaluters in that category it is claer that people with no reality are more likely to default."
   ]
  },
  {
   "cell_type": "markdown",
   "metadata": {},
   "source": [
    "#### <font color = blue> No of children"
   ]
  },
  {
   "cell_type": "code",
   "execution_count": 167,
   "metadata": {},
   "outputs": [],
   "source": [
    "Def_Children_DF = App_Data_DF.loc[:,['SK_ID_CURR','TARGET','CNT_CHILDREN']]\n",
    "T_Children_DF = App_Data_DF.loc[:,['SK_ID_CURR','CNT_CHILDREN']]"
   ]
  },
  {
   "cell_type": "code",
   "execution_count": 169,
   "metadata": {},
   "outputs": [
    {
     "data": {
      "text/html": [
       "<div>\n",
       "<style scoped>\n",
       "    .dataframe tbody tr th:only-of-type {\n",
       "        vertical-align: middle;\n",
       "    }\n",
       "\n",
       "    .dataframe tbody tr th {\n",
       "        vertical-align: top;\n",
       "    }\n",
       "\n",
       "    .dataframe thead th {\n",
       "        text-align: right;\n",
       "    }\n",
       "</style>\n",
       "<table border=\"1\" class=\"dataframe\">\n",
       "  <thead>\n",
       "    <tr style=\"text-align: right;\">\n",
       "      <th></th>\n",
       "      <th></th>\n",
       "      <th>SK_ID_CURR</th>\n",
       "    </tr>\n",
       "    <tr>\n",
       "      <th>TARGET</th>\n",
       "      <th>CNT_CHILDREN</th>\n",
       "      <th></th>\n",
       "    </tr>\n",
       "  </thead>\n",
       "  <tbody>\n",
       "    <tr>\n",
       "      <th rowspan=\"13\" valign=\"top\">0</th>\n",
       "      <th>0</th>\n",
       "      <td>92.288191</td>\n",
       "    </tr>\n",
       "    <tr>\n",
       "      <th>1</th>\n",
       "      <td>91.076425</td>\n",
       "    </tr>\n",
       "    <tr>\n",
       "      <th>2</th>\n",
       "      <td>91.277853</td>\n",
       "    </tr>\n",
       "    <tr>\n",
       "      <th>3</th>\n",
       "      <td>90.368577</td>\n",
       "    </tr>\n",
       "    <tr>\n",
       "      <th>4</th>\n",
       "      <td>87.179487</td>\n",
       "    </tr>\n",
       "    <tr>\n",
       "      <th>5</th>\n",
       "      <td>91.666667</td>\n",
       "    </tr>\n",
       "    <tr>\n",
       "      <th>6</th>\n",
       "      <td>71.428571</td>\n",
       "    </tr>\n",
       "    <tr>\n",
       "      <th>7</th>\n",
       "      <td>100.000000</td>\n",
       "    </tr>\n",
       "    <tr>\n",
       "      <th>8</th>\n",
       "      <td>100.000000</td>\n",
       "    </tr>\n",
       "    <tr>\n",
       "      <th>10</th>\n",
       "      <td>100.000000</td>\n",
       "    </tr>\n",
       "    <tr>\n",
       "      <th>12</th>\n",
       "      <td>100.000000</td>\n",
       "    </tr>\n",
       "    <tr>\n",
       "      <th>14</th>\n",
       "      <td>100.000000</td>\n",
       "    </tr>\n",
       "    <tr>\n",
       "      <th>19</th>\n",
       "      <td>100.000000</td>\n",
       "    </tr>\n",
       "    <tr>\n",
       "      <th rowspan=\"9\" valign=\"top\">1</th>\n",
       "      <th>0</th>\n",
       "      <td>7.711809</td>\n",
       "    </tr>\n",
       "    <tr>\n",
       "      <th>1</th>\n",
       "      <td>8.923575</td>\n",
       "    </tr>\n",
       "    <tr>\n",
       "      <th>2</th>\n",
       "      <td>8.722147</td>\n",
       "    </tr>\n",
       "    <tr>\n",
       "      <th>3</th>\n",
       "      <td>9.631423</td>\n",
       "    </tr>\n",
       "    <tr>\n",
       "      <th>4</th>\n",
       "      <td>12.820513</td>\n",
       "    </tr>\n",
       "    <tr>\n",
       "      <th>5</th>\n",
       "      <td>8.333333</td>\n",
       "    </tr>\n",
       "    <tr>\n",
       "      <th>6</th>\n",
       "      <td>28.571429</td>\n",
       "    </tr>\n",
       "    <tr>\n",
       "      <th>9</th>\n",
       "      <td>100.000000</td>\n",
       "    </tr>\n",
       "    <tr>\n",
       "      <th>11</th>\n",
       "      <td>100.000000</td>\n",
       "    </tr>\n",
       "  </tbody>\n",
       "</table>\n",
       "</div>"
      ],
      "text/plain": [
       "                     SK_ID_CURR\n",
       "TARGET CNT_CHILDREN            \n",
       "0      0              92.288191\n",
       "       1              91.076425\n",
       "       2              91.277853\n",
       "       3              90.368577\n",
       "       4              87.179487\n",
       "       5              91.666667\n",
       "       6              71.428571\n",
       "       7             100.000000\n",
       "       8             100.000000\n",
       "       10            100.000000\n",
       "       12            100.000000\n",
       "       14            100.000000\n",
       "       19            100.000000\n",
       "1      0               7.711809\n",
       "       1               8.923575\n",
       "       2               8.722147\n",
       "       3               9.631423\n",
       "       4              12.820513\n",
       "       5               8.333333\n",
       "       6              28.571429\n",
       "       9             100.000000\n",
       "       11            100.000000"
      ]
     },
     "execution_count": 169,
     "metadata": {},
     "output_type": "execute_result"
    }
   ],
   "source": [
    "(Def_Children_DF.groupby(['TARGET','CNT_CHILDREN']).count()/T_Children_DF.groupby('CNT_CHILDREN').count())*100"
   ]
  },
  {
   "cell_type": "markdown",
   "metadata": {},
   "source": [
    "#### <font color = blue> Univariate analysis of Income type"
   ]
  },
  {
   "cell_type": "code",
   "execution_count": 35,
   "metadata": {},
   "outputs": [],
   "source": [
    "Def_NAME_INCOME_TYPE_DF = App_Data_Def_DF.loc[:,['SK_ID_CURR','NAME_INCOME_TYPE']]"
   ]
  },
  {
   "cell_type": "code",
   "execution_count": 40,
   "metadata": {},
   "outputs": [
    {
     "data": {
      "text/html": [
       "<div>\n",
       "<style scoped>\n",
       "    .dataframe tbody tr th:only-of-type {\n",
       "        vertical-align: middle;\n",
       "    }\n",
       "\n",
       "    .dataframe tbody tr th {\n",
       "        vertical-align: top;\n",
       "    }\n",
       "\n",
       "    .dataframe thead th {\n",
       "        text-align: right;\n",
       "    }\n",
       "</style>\n",
       "<table border=\"1\" class=\"dataframe\">\n",
       "  <thead>\n",
       "    <tr style=\"text-align: right;\">\n",
       "      <th></th>\n",
       "      <th>SK_ID_CURR</th>\n",
       "    </tr>\n",
       "    <tr>\n",
       "      <th>NAME_INCOME_TYPE</th>\n",
       "      <th></th>\n",
       "    </tr>\n",
       "  </thead>\n",
       "  <tbody>\n",
       "    <tr>\n",
       "      <th>Maternity leave</th>\n",
       "      <td>0.008056</td>\n",
       "    </tr>\n",
       "    <tr>\n",
       "      <th>Unemployed</th>\n",
       "      <td>0.032226</td>\n",
       "    </tr>\n",
       "    <tr>\n",
       "      <th>State servant</th>\n",
       "      <td>5.031219</td>\n",
       "    </tr>\n",
       "    <tr>\n",
       "      <th>Pensioner</th>\n",
       "      <td>12.012085</td>\n",
       "    </tr>\n",
       "    <tr>\n",
       "      <th>Commercial associate</th>\n",
       "      <td>21.591138</td>\n",
       "    </tr>\n",
       "    <tr>\n",
       "      <th>Working</th>\n",
       "      <td>61.325277</td>\n",
       "    </tr>\n",
       "  </tbody>\n",
       "</table>\n",
       "</div>"
      ],
      "text/plain": [
       "                      SK_ID_CURR\n",
       "NAME_INCOME_TYPE                \n",
       "Maternity leave         0.008056\n",
       "Unemployed              0.032226\n",
       "State servant           5.031219\n",
       "Pensioner              12.012085\n",
       "Commercial associate   21.591138\n",
       "Working                61.325277"
      ]
     },
     "execution_count": 40,
     "metadata": {},
     "output_type": "execute_result"
    }
   ],
   "source": [
    "((Def_NAME_INCOME_TYPE_DF.groupby('NAME_INCOME_TYPE').count()/len(Def_NAME_INCOME_TYPE_DF))*100).sort_values(by=['SK_ID_CURR'])"
   ]
  },
  {
   "cell_type": "code",
   "execution_count": 44,
   "metadata": {},
   "outputs": [],
   "source": [
    "Def_NAME_INCOME_TYPE_DF = App_Data_DF.loc[:,['SK_ID_CURR','TARGET','NAME_INCOME_TYPE']]\n",
    "T_NAME_INCOME_TYPE_DF = App_Data_DF.loc[:,['SK_ID_CURR','NAME_INCOME_TYPE']]"
   ]
  },
  {
   "cell_type": "code",
   "execution_count": 46,
   "metadata": {},
   "outputs": [
    {
     "data": {
      "text/html": [
       "<div>\n",
       "<style scoped>\n",
       "    .dataframe tbody tr th:only-of-type {\n",
       "        vertical-align: middle;\n",
       "    }\n",
       "\n",
       "    .dataframe tbody tr th {\n",
       "        vertical-align: top;\n",
       "    }\n",
       "\n",
       "    .dataframe thead th {\n",
       "        text-align: right;\n",
       "    }\n",
       "</style>\n",
       "<table border=\"1\" class=\"dataframe\">\n",
       "  <thead>\n",
       "    <tr style=\"text-align: right;\">\n",
       "      <th></th>\n",
       "      <th></th>\n",
       "      <th>SK_ID_CURR</th>\n",
       "    </tr>\n",
       "    <tr>\n",
       "      <th>TARGET</th>\n",
       "      <th>NAME_INCOME_TYPE</th>\n",
       "      <th></th>\n",
       "    </tr>\n",
       "  </thead>\n",
       "  <tbody>\n",
       "    <tr>\n",
       "      <th rowspan=\"8\" valign=\"top\">0</th>\n",
       "      <th>Maternity leave</th>\n",
       "      <td>60.000000</td>\n",
       "    </tr>\n",
       "    <tr>\n",
       "      <th>Unemployed</th>\n",
       "      <td>63.636364</td>\n",
       "    </tr>\n",
       "    <tr>\n",
       "      <th>Working</th>\n",
       "      <td>90.411528</td>\n",
       "    </tr>\n",
       "    <tr>\n",
       "      <th>Commercial associate</th>\n",
       "      <td>92.515743</td>\n",
       "    </tr>\n",
       "    <tr>\n",
       "      <th>State servant</th>\n",
       "      <td>94.245035</td>\n",
       "    </tr>\n",
       "    <tr>\n",
       "      <th>Pensioner</th>\n",
       "      <td>94.613634</td>\n",
       "    </tr>\n",
       "    <tr>\n",
       "      <th>Businessman</th>\n",
       "      <td>100.000000</td>\n",
       "    </tr>\n",
       "    <tr>\n",
       "      <th>Student</th>\n",
       "      <td>100.000000</td>\n",
       "    </tr>\n",
       "    <tr>\n",
       "      <th rowspan=\"6\" valign=\"top\">1</th>\n",
       "      <th>Pensioner</th>\n",
       "      <td>5.386366</td>\n",
       "    </tr>\n",
       "    <tr>\n",
       "      <th>State servant</th>\n",
       "      <td>5.754965</td>\n",
       "    </tr>\n",
       "    <tr>\n",
       "      <th>Commercial associate</th>\n",
       "      <td>7.484257</td>\n",
       "    </tr>\n",
       "    <tr>\n",
       "      <th>Working</th>\n",
       "      <td>9.588472</td>\n",
       "    </tr>\n",
       "    <tr>\n",
       "      <th>Unemployed</th>\n",
       "      <td>36.363636</td>\n",
       "    </tr>\n",
       "    <tr>\n",
       "      <th>Maternity leave</th>\n",
       "      <td>40.000000</td>\n",
       "    </tr>\n",
       "  </tbody>\n",
       "</table>\n",
       "</div>"
      ],
      "text/plain": [
       "                             SK_ID_CURR\n",
       "TARGET NAME_INCOME_TYPE                \n",
       "0      Maternity leave        60.000000\n",
       "       Unemployed             63.636364\n",
       "       Working                90.411528\n",
       "       Commercial associate   92.515743\n",
       "       State servant          94.245035\n",
       "       Pensioner              94.613634\n",
       "       Businessman           100.000000\n",
       "       Student               100.000000\n",
       "1      Pensioner               5.386366\n",
       "       State servant           5.754965\n",
       "       Commercial associate    7.484257\n",
       "       Working                 9.588472\n",
       "       Unemployed             36.363636\n",
       "       Maternity leave        40.000000"
      ]
     },
     "execution_count": 46,
     "metadata": {},
     "output_type": "execute_result"
    }
   ],
   "source": [
    "((Def_NAME_INCOME_TYPE_DF.groupby(['TARGET','NAME_INCOME_TYPE']).count()/T_NAME_INCOME_TYPE_DF.groupby(['NAME_INCOME_TYPE']).count())*100).sort_values(by=['TARGET','SK_ID_CURR'])"
   ]
  },
  {
   "cell_type": "markdown",
   "metadata": {},
   "source": [
    "<font color = red> People who are on Maternity leave or unemployed are very high risk customer as they defaulters in this category are very high."
   ]
  },
  {
   "cell_type": "markdown",
   "metadata": {},
   "source": [
    "#### <font color = blue> Univariate analysis of Education type"
   ]
  },
  {
   "cell_type": "code",
   "execution_count": 179,
   "metadata": {},
   "outputs": [],
   "source": [
    "Def_NAME_EDUCATION_TYPE_DF = App_Data_Def_DF.loc[:,['SK_ID_CURR','NAME_EDUCATION_TYPE']]"
   ]
  },
  {
   "cell_type": "code",
   "execution_count": 56,
   "metadata": {},
   "outputs": [
    {
     "data": {
      "text/html": [
       "<div>\n",
       "<style scoped>\n",
       "    .dataframe tbody tr th:only-of-type {\n",
       "        vertical-align: middle;\n",
       "    }\n",
       "\n",
       "    .dataframe tbody tr th {\n",
       "        vertical-align: top;\n",
       "    }\n",
       "\n",
       "    .dataframe thead th {\n",
       "        text-align: right;\n",
       "    }\n",
       "</style>\n",
       "<table border=\"1\" class=\"dataframe\">\n",
       "  <thead>\n",
       "    <tr style=\"text-align: right;\">\n",
       "      <th></th>\n",
       "      <th>SK_ID_CURR</th>\n",
       "      <th>TARGET</th>\n",
       "    </tr>\n",
       "    <tr>\n",
       "      <th>NAME_EDUCATION_TYPE</th>\n",
       "      <th></th>\n",
       "      <th></th>\n",
       "    </tr>\n",
       "  </thead>\n",
       "  <tbody>\n",
       "    <tr>\n",
       "      <th>Academic degree</th>\n",
       "      <td>0.053331</td>\n",
       "      <td>0.053331</td>\n",
       "    </tr>\n",
       "    <tr>\n",
       "      <th>Lower secondary</th>\n",
       "      <td>1.240931</td>\n",
       "      <td>1.240931</td>\n",
       "    </tr>\n",
       "    <tr>\n",
       "      <th>Incomplete higher</th>\n",
       "      <td>3.341994</td>\n",
       "      <td>3.341994</td>\n",
       "    </tr>\n",
       "    <tr>\n",
       "      <th>Higher education</th>\n",
       "      <td>24.344820</td>\n",
       "      <td>24.344820</td>\n",
       "    </tr>\n",
       "    <tr>\n",
       "      <th>Secondary / secondary special</th>\n",
       "      <td>71.018923</td>\n",
       "      <td>71.018923</td>\n",
       "    </tr>\n",
       "  </tbody>\n",
       "</table>\n",
       "</div>"
      ],
      "text/plain": [
       "                               SK_ID_CURR     TARGET\n",
       "NAME_EDUCATION_TYPE                                 \n",
       "Academic degree                  0.053331   0.053331\n",
       "Lower secondary                  1.240931   1.240931\n",
       "Incomplete higher                3.341994   3.341994\n",
       "Higher education                24.344820  24.344820\n",
       "Secondary / secondary special   71.018923  71.018923"
      ]
     },
     "execution_count": 56,
     "metadata": {},
     "output_type": "execute_result"
    }
   ],
   "source": [
    "((Def_NAME_EDUCATION_TYPE_DF.groupby('NAME_EDUCATION_TYPE').count()/len(Def_NAME_EDUCATION_TYPE_DF))*100).sort_values(by=['SK_ID_CURR'])"
   ]
  },
  {
   "cell_type": "code",
   "execution_count": 48,
   "metadata": {},
   "outputs": [],
   "source": [
    "Def_NAME_EDUCATION_TYPE_DF = App_Data_DF.loc[:,['SK_ID_CURR','TARGET','NAME_EDUCATION_TYPE']]\n",
    "T_NAME_EDUCATION_TYPE_DF = App_Data_DF.loc[:,['SK_ID_CURR','NAME_EDUCATION_TYPE']]"
   ]
  },
  {
   "cell_type": "code",
   "execution_count": 49,
   "metadata": {},
   "outputs": [
    {
     "data": {
      "text/html": [
       "<div>\n",
       "<style scoped>\n",
       "    .dataframe tbody tr th:only-of-type {\n",
       "        vertical-align: middle;\n",
       "    }\n",
       "\n",
       "    .dataframe tbody tr th {\n",
       "        vertical-align: top;\n",
       "    }\n",
       "\n",
       "    .dataframe thead th {\n",
       "        text-align: right;\n",
       "    }\n",
       "</style>\n",
       "<table border=\"1\" class=\"dataframe\">\n",
       "  <thead>\n",
       "    <tr style=\"text-align: right;\">\n",
       "      <th></th>\n",
       "      <th></th>\n",
       "      <th>SK_ID_CURR</th>\n",
       "    </tr>\n",
       "    <tr>\n",
       "      <th>TARGET</th>\n",
       "      <th>NAME_EDUCATION_TYPE</th>\n",
       "      <th></th>\n",
       "    </tr>\n",
       "  </thead>\n",
       "  <tbody>\n",
       "    <tr>\n",
       "      <th rowspan=\"5\" valign=\"top\">0</th>\n",
       "      <th>Lower secondary</th>\n",
       "      <td>89.072327</td>\n",
       "    </tr>\n",
       "    <tr>\n",
       "      <th>Secondary / secondary special</th>\n",
       "      <td>91.060071</td>\n",
       "    </tr>\n",
       "    <tr>\n",
       "      <th>Incomplete higher</th>\n",
       "      <td>91.515034</td>\n",
       "    </tr>\n",
       "    <tr>\n",
       "      <th>Higher education</th>\n",
       "      <td>94.644885</td>\n",
       "    </tr>\n",
       "    <tr>\n",
       "      <th>Academic degree</th>\n",
       "      <td>98.170732</td>\n",
       "    </tr>\n",
       "    <tr>\n",
       "      <th rowspan=\"5\" valign=\"top\">1</th>\n",
       "      <th>Academic degree</th>\n",
       "      <td>1.829268</td>\n",
       "    </tr>\n",
       "    <tr>\n",
       "      <th>Higher education</th>\n",
       "      <td>5.355115</td>\n",
       "    </tr>\n",
       "    <tr>\n",
       "      <th>Incomplete higher</th>\n",
       "      <td>8.484966</td>\n",
       "    </tr>\n",
       "    <tr>\n",
       "      <th>Secondary / secondary special</th>\n",
       "      <td>8.939929</td>\n",
       "    </tr>\n",
       "    <tr>\n",
       "      <th>Lower secondary</th>\n",
       "      <td>10.927673</td>\n",
       "    </tr>\n",
       "  </tbody>\n",
       "</table>\n",
       "</div>"
      ],
      "text/plain": [
       "                                      SK_ID_CURR\n",
       "TARGET NAME_EDUCATION_TYPE                      \n",
       "0      Lower secondary                 89.072327\n",
       "       Secondary / secondary special   91.060071\n",
       "       Incomplete higher               91.515034\n",
       "       Higher education                94.644885\n",
       "       Academic degree                 98.170732\n",
       "1      Academic degree                  1.829268\n",
       "       Higher education                 5.355115\n",
       "       Incomplete higher                8.484966\n",
       "       Secondary / secondary special    8.939929\n",
       "       Lower secondary                 10.927673"
      ]
     },
     "execution_count": 49,
     "metadata": {},
     "output_type": "execute_result"
    }
   ],
   "source": [
    "((Def_NAME_EDUCATION_TYPE_DF.groupby(['TARGET','NAME_EDUCATION_TYPE']).count()/T_NAME_EDUCATION_TYPE_DF.groupby(['NAME_EDUCATION_TYPE']).count())*100).sort_values(by=['TARGET','SK_ID_CURR'])"
   ]
  },
  {
   "cell_type": "markdown",
   "metadata": {},
   "source": [
    "<font color = red> People who are not having higher education and academic degree are risky customer when compared to others."
   ]
  },
  {
   "cell_type": "code",
   "execution_count": null,
   "metadata": {},
   "outputs": [],
   "source": [
    "NAME_HOUSING_TYPE"
   ]
  },
  {
   "cell_type": "code",
   "execution_count": 191,
   "metadata": {},
   "outputs": [],
   "source": [
    "Def_NAME_HOUSING_TYPE_DF = App_Data_Def_DF.loc[:,['SK_ID_CURR','NAME_HOUSING_TYPE']]"
   ]
  },
  {
   "cell_type": "code",
   "execution_count": 192,
   "metadata": {},
   "outputs": [
    {
     "data": {
      "text/html": [
       "<div>\n",
       "<style scoped>\n",
       "    .dataframe tbody tr th:only-of-type {\n",
       "        vertical-align: middle;\n",
       "    }\n",
       "\n",
       "    .dataframe tbody tr th {\n",
       "        vertical-align: top;\n",
       "    }\n",
       "\n",
       "    .dataframe thead th {\n",
       "        text-align: right;\n",
       "    }\n",
       "</style>\n",
       "<table border=\"1\" class=\"dataframe\">\n",
       "  <thead>\n",
       "    <tr style=\"text-align: right;\">\n",
       "      <th></th>\n",
       "      <th>SK_ID_CURR</th>\n",
       "    </tr>\n",
       "    <tr>\n",
       "      <th>NAME_HOUSING_TYPE</th>\n",
       "      <th></th>\n",
       "    </tr>\n",
       "  </thead>\n",
       "  <tbody>\n",
       "    <tr>\n",
       "      <th>Co-op apartment</th>\n",
       "      <td>0.358510</td>\n",
       "    </tr>\n",
       "    <tr>\n",
       "      <th>House / apartment</th>\n",
       "      <td>85.687815</td>\n",
       "    </tr>\n",
       "    <tr>\n",
       "      <th>Municipal apartment</th>\n",
       "      <td>3.846928</td>\n",
       "    </tr>\n",
       "    <tr>\n",
       "      <th>Office apartment</th>\n",
       "      <td>0.692850</td>\n",
       "    </tr>\n",
       "    <tr>\n",
       "      <th>Rented apartment</th>\n",
       "      <td>2.420947</td>\n",
       "    </tr>\n",
       "    <tr>\n",
       "      <th>With parents</th>\n",
       "      <td>6.992951</td>\n",
       "    </tr>\n",
       "  </tbody>\n",
       "</table>\n",
       "</div>"
      ],
      "text/plain": [
       "                     SK_ID_CURR\n",
       "NAME_HOUSING_TYPE              \n",
       "Co-op apartment        0.358510\n",
       "House / apartment     85.687815\n",
       "Municipal apartment    3.846928\n",
       "Office apartment       0.692850\n",
       "Rented apartment       2.420947\n",
       "With parents           6.992951"
      ]
     },
     "execution_count": 192,
     "metadata": {},
     "output_type": "execute_result"
    }
   ],
   "source": [
    "(Def_NAME_HOUSING_TYPE_DF.groupby('NAME_HOUSING_TYPE').count()/len(Def_NAME_HOUSING_TYPE_DF))*100"
   ]
  },
  {
   "cell_type": "code",
   "execution_count": 51,
   "metadata": {},
   "outputs": [],
   "source": [
    "Def_NAME_HOUSING_TYPE_DF = App_Data_DF.loc[:,['SK_ID_CURR','TARGET','NAME_HOUSING_TYPE']]\n",
    "T_NAME_HOUSING_TYPE_DF = App_Data_DF.loc[:,['SK_ID_CURR','NAME_HOUSING_TYPE']]"
   ]
  },
  {
   "cell_type": "code",
   "execution_count": 52,
   "metadata": {},
   "outputs": [
    {
     "data": {
      "text/html": [
       "<div>\n",
       "<style scoped>\n",
       "    .dataframe tbody tr th:only-of-type {\n",
       "        vertical-align: middle;\n",
       "    }\n",
       "\n",
       "    .dataframe tbody tr th {\n",
       "        vertical-align: top;\n",
       "    }\n",
       "\n",
       "    .dataframe thead th {\n",
       "        text-align: right;\n",
       "    }\n",
       "</style>\n",
       "<table border=\"1\" class=\"dataframe\">\n",
       "  <thead>\n",
       "    <tr style=\"text-align: right;\">\n",
       "      <th></th>\n",
       "      <th></th>\n",
       "      <th>SK_ID_CURR</th>\n",
       "    </tr>\n",
       "    <tr>\n",
       "      <th>TARGET</th>\n",
       "      <th>NAME_HOUSING_TYPE</th>\n",
       "      <th></th>\n",
       "    </tr>\n",
       "  </thead>\n",
       "  <tbody>\n",
       "    <tr>\n",
       "      <th rowspan=\"6\" valign=\"top\">0</th>\n",
       "      <th>Rented apartment</th>\n",
       "      <td>87.686949</td>\n",
       "    </tr>\n",
       "    <tr>\n",
       "      <th>With parents</th>\n",
       "      <td>88.301887</td>\n",
       "    </tr>\n",
       "    <tr>\n",
       "      <th>Municipal apartment</th>\n",
       "      <td>91.460252</td>\n",
       "    </tr>\n",
       "    <tr>\n",
       "      <th>Co-op apartment</th>\n",
       "      <td>92.067736</td>\n",
       "    </tr>\n",
       "    <tr>\n",
       "      <th>House / apartment</th>\n",
       "      <td>92.204289</td>\n",
       "    </tr>\n",
       "    <tr>\n",
       "      <th>Office apartment</th>\n",
       "      <td>93.427589</td>\n",
       "    </tr>\n",
       "    <tr>\n",
       "      <th rowspan=\"6\" valign=\"top\">1</th>\n",
       "      <th>Office apartment</th>\n",
       "      <td>6.572411</td>\n",
       "    </tr>\n",
       "    <tr>\n",
       "      <th>House / apartment</th>\n",
       "      <td>7.795711</td>\n",
       "    </tr>\n",
       "    <tr>\n",
       "      <th>Co-op apartment</th>\n",
       "      <td>7.932264</td>\n",
       "    </tr>\n",
       "    <tr>\n",
       "      <th>Municipal apartment</th>\n",
       "      <td>8.539748</td>\n",
       "    </tr>\n",
       "    <tr>\n",
       "      <th>With parents</th>\n",
       "      <td>11.698113</td>\n",
       "    </tr>\n",
       "    <tr>\n",
       "      <th>Rented apartment</th>\n",
       "      <td>12.313051</td>\n",
       "    </tr>\n",
       "  </tbody>\n",
       "</table>\n",
       "</div>"
      ],
      "text/plain": [
       "                            SK_ID_CURR\n",
       "TARGET NAME_HOUSING_TYPE              \n",
       "0      Rented apartment      87.686949\n",
       "       With parents          88.301887\n",
       "       Municipal apartment   91.460252\n",
       "       Co-op apartment       92.067736\n",
       "       House / apartment     92.204289\n",
       "       Office apartment      93.427589\n",
       "1      Office apartment       6.572411\n",
       "       House / apartment      7.795711\n",
       "       Co-op apartment        7.932264\n",
       "       Municipal apartment    8.539748\n",
       "       With parents          11.698113\n",
       "       Rented apartment      12.313051"
      ]
     },
     "execution_count": 52,
     "metadata": {},
     "output_type": "execute_result"
    }
   ],
   "source": [
    "((Def_NAME_HOUSING_TYPE_DF.groupby(['TARGET','NAME_HOUSING_TYPE']).count()/T_NAME_HOUSING_TYPE_DF.groupby(['NAME_HOUSING_TYPE']).count())*100).sort_values(by=['TARGET','SK_ID_CURR'])"
   ]
  },
  {
   "cell_type": "markdown",
   "metadata": {},
   "source": [
    "<font color = red> I see that people living in rented apartment or with parents are high risk customers compared to others"
   ]
  },
  {
   "cell_type": "markdown",
   "metadata": {},
   "source": [
    "> #### Univariate analysis on AMT_INCOME_TOTAL metrics"
   ]
  },
  {
   "cell_type": "code",
   "execution_count": null,
   "metadata": {},
   "outputs": [],
   "source": [
    "bins = np.linspace(min(App_Data_DF.AMT_INCOME_TOTAL),max(App_Data_DF.AMT_INCOME_TOTAL), 50000)\n",
    "plt.hist(App_Data_DF.AMT_INCOME_TOTAL, bins=bins, edgecolor=\"k\")\n",
    "plt.xticks(bins)\n",
    "\n",
    "plt.show()"
   ]
  },
  {
   "cell_type": "code",
   "execution_count": null,
   "metadata": {},
   "outputs": [],
   "source": []
  },
  {
   "cell_type": "code",
   "execution_count": null,
   "metadata": {},
   "outputs": [],
   "source": [
    "AMT_CREDIT"
   ]
  },
  {
   "cell_type": "code",
   "execution_count": null,
   "metadata": {},
   "outputs": [],
   "source": [
    "bins = np.linspace(min(App_Data_DF.AMT_CREDIT),max(App_Data_DF.AMT_CREDIT), 50000)\n",
    "plt.hist(App_Data_DF.AMT_CREDIT, bins=bins, edgecolor=\"k\")\n",
    "plt.xticks(bins)\n",
    "\n",
    "plt.show()"
   ]
  },
  {
   "cell_type": "markdown",
   "metadata": {},
   "source": [
    "### Bivariate analysis with  AMT_INCOME_TOTAL as a numerical variable 0 and 1 with  AMT_CREDIT\n"
   ]
  },
  {
   "cell_type": "code",
   "execution_count": 13,
   "metadata": {},
   "outputs": [
    {
     "data": {
      "text/plain": [
       "count    2.482500e+04\n",
       "mean     1.656118e+05\n",
       "std      7.466770e+05\n",
       "min      2.565000e+04\n",
       "25%      1.125000e+05\n",
       "50%      1.350000e+05\n",
       "75%      2.025000e+05\n",
       "max      1.170000e+08\n",
       "Name: AMT_INCOME_TOTAL, dtype: float64"
      ]
     },
     "execution_count": 13,
     "metadata": {},
     "output_type": "execute_result"
    }
   ],
   "source": [
    "App_Data_Def_DF['AMT_INCOME_TOTAL'].describe()"
   ]
  },
  {
   "cell_type": "code",
   "execution_count": 69,
   "metadata": {},
   "outputs": [
    {
     "data": {
      "text/plain": [
       "count    2.482500e+04\n",
       "mean     5.577785e+05\n",
       "std      3.464332e+05\n",
       "min      4.500000e+04\n",
       "25%      2.844000e+05\n",
       "50%      4.975200e+05\n",
       "75%      7.333155e+05\n",
       "max      4.027680e+06\n",
       "Name: AMT_CREDIT, dtype: float64"
      ]
     },
     "execution_count": 69,
     "metadata": {},
     "output_type": "execute_result"
    }
   ],
   "source": [
    "App_Data_Def_DF['AMT_CREDIT'].describe()"
   ]
  },
  {
   "cell_type": "code",
   "execution_count": 64,
   "metadata": {},
   "outputs": [],
   "source": [
    "App_Data_Def_DF_INCOME=App_Data_Def_DF.loc[:,['AMT_INCOME_TOTAL','AMT_CREDIT']]\n",
    "App_Data_Others_DF_INCOME=App_Data_others_DF.loc[:,['AMT_INCOME_TOTAL','AMT_CREDIT']]"
   ]
  },
  {
   "cell_type": "code",
   "execution_count": 66,
   "metadata": {
    "scrolled": false
   },
   "outputs": [
    {
     "data": {
      "image/png": "[encoded data removed]",
      "text/plain": [
       "<Figure size 1440x576 with 2 Axes>"
      ]
     },
     "metadata": {
      "needs_background": "light"
     },
     "output_type": "display_data"
    }
   ],
   "source": [
    "plt.figure(figsize=(20, 8))\n",
    "\n",
    "# subplot 1: Sales\n",
    "plt.subplot(1, 2, 1)\n",
    "sns.barplot(x= App_Data_Def_DF_INCOME['AMT_INCOME_TOTAL'] ,y = App_Data_Def_DF_INCOME['AMT_CREDIT'])\n",
    "plt.title(\"1\", fontsize = 15)\n",
    "\n",
    "\n",
    "# subplot 2: Profit\n",
    "plt.subplot(1, 2, 2)\n",
    "sns.barplot(x= App_Data_Others_DF_INCOME['AMT_INCOME_TOTAL'] ,y = App_Data_Others_DF_INCOME['AMT_CREDIT'])\n",
    "plt.title(\"0\", fontsize = 15)\n",
    "\n",
    "plt.tight_layout()\n",
    "plt.show()"
   ]
  },
  {
   "cell_type": "markdown",
   "metadata": {},
   "source": [
    "<font color = red> In Case of of defaulters we can see that the Amount of Credit is much higher than the Amount of income. This can lead to repayment difficulties."
   ]
  },
  {
   "cell_type": "code",
   "execution_count": 70,
   "metadata": {},
   "outputs": [],
   "source": [
    "App_Data_DF_INCOME1=App_Data_DF_INCOME.groupby(['TARGET'])"
   ]
  },
  {
   "cell_type": "code",
   "execution_count": 71,
   "metadata": {},
   "outputs": [
    {
     "data": {
      "text/html": [
       "<div>\n",
       "<style scoped>\n",
       "    .dataframe tbody tr th:only-of-type {\n",
       "        vertical-align: middle;\n",
       "    }\n",
       "\n",
       "    .dataframe tbody tr th {\n",
       "        vertical-align: top;\n",
       "    }\n",
       "\n",
       "    .dataframe thead th {\n",
       "        text-align: right;\n",
       "    }\n",
       "</style>\n",
       "<table border=\"1\" class=\"dataframe\">\n",
       "  <thead>\n",
       "    <tr style=\"text-align: right;\">\n",
       "      <th></th>\n",
       "      <th>AMT_INCOME_TOTAL</th>\n",
       "      <th>AMT_CREDIT</th>\n",
       "    </tr>\n",
       "    <tr>\n",
       "      <th>TARGET</th>\n",
       "      <th></th>\n",
       "      <th></th>\n",
       "    </tr>\n",
       "  </thead>\n",
       "  <tbody>\n",
       "    <tr>\n",
       "      <th>0</th>\n",
       "      <td>169077.722266</td>\n",
       "      <td>602648.282002</td>\n",
       "    </tr>\n",
       "    <tr>\n",
       "      <th>1</th>\n",
       "      <td>165611.760906</td>\n",
       "      <td>557778.527674</td>\n",
       "    </tr>\n",
       "  </tbody>\n",
       "</table>\n",
       "</div>"
      ],
      "text/plain": [
       "        AMT_INCOME_TOTAL     AMT_CREDIT\n",
       "TARGET                                 \n",
       "0          169077.722266  602648.282002\n",
       "1          165611.760906  557778.527674"
      ]
     },
     "execution_count": 71,
     "metadata": {},
     "output_type": "execute_result"
    }
   ],
   "source": [
    "App_Data_DF_INCOME2=App_Data_DF_INCOME1['AMT_INCOME_TOTAL','AMT_CREDIT'].mean()\n",
    "App_Data_DF_INCOME2"
   ]
  },
  {
   "cell_type": "code",
   "execution_count": 72,
   "metadata": {},
   "outputs": [
    {
     "data": {
      "image/png": "[encoded data removed]",
      "text/plain": [
       "<Figure size 720x360 with 1 Axes>"
      ]
     },
     "metadata": {
      "needs_background": "light"
     },
     "output_type": "display_data"
    }
   ],
   "source": [
    "App_Data_DF_INCOME2.plot(figsize=(10,5), grid=True)\n",
    "\n",
    "plt.show()"
   ]
  },
  {
   "cell_type": "markdown",
   "metadata": {},
   "source": [
    "> #### Bivariate analysis with  AMT_INCOME_TOTAL as a numerical variable 0 and 1 with  AMT_ANNUITY"
   ]
  },
  {
   "cell_type": "code",
   "execution_count": 73,
   "metadata": {},
   "outputs": [
    {
     "data": {
      "text/plain": [
       "count     24825.000000\n",
       "mean      26481.744290\n",
       "std       12450.676999\n",
       "min        2722.500000\n",
       "25%       17361.000000\n",
       "50%       25263.000000\n",
       "75%       32976.000000\n",
       "max      149211.000000\n",
       "Name: AMT_ANNUITY, dtype: float64"
      ]
     },
     "execution_count": 73,
     "metadata": {},
     "output_type": "execute_result"
    }
   ],
   "source": [
    "App_Data_Def_DF['AMT_ANNUITY'].describe()"
   ]
  },
  {
   "cell_type": "code",
   "execution_count": 74,
   "metadata": {},
   "outputs": [],
   "source": [
    "App_Data_Def_DF_Annuity=App_Data_Def_DF.loc[:,['AMT_INCOME_TOTAL','AMT_ANNUITY']]\n",
    "App_Data_Others_DF_Annuity=App_Data_others_DF.loc[:,['AMT_INCOME_TOTAL','AMT_ANNUITY']]"
   ]
  },
  {
   "cell_type": "code",
   "execution_count": 75,
   "metadata": {},
   "outputs": [
    {
     "data": {
      "image/png": "[encoded data removed]",
      "text/plain": [
       "<Figure size 1440x576 with 2 Axes>"
      ]
     },
     "metadata": {
      "needs_background": "light"
     },
     "output_type": "display_data"
    }
   ],
   "source": [
    "plt.figure(figsize=(20, 8))\n",
    "\n",
    "# subplot 1: Sales\n",
    "plt.subplot(1, 2, 1)\n",
    "sns.barplot(x= App_Data_Def_DF_Annuity['AMT_INCOME_TOTAL'] ,y = App_Data_Def_DF_Annuity['AMT_ANNUITY'])\n",
    "plt.title(\"1\", fontsize = 15)\n",
    "\n",
    "\n",
    "# subplot 2: Profit\n",
    "plt.subplot(1, 2, 2)\n",
    "sns.barplot(x= App_Data_Others_DF_Annuity['AMT_INCOME_TOTAL'] ,y = App_Data_Others_DF_Annuity['AMT_ANNUITY'])\n",
    "plt.title(\"0\", fontsize = 15)\n",
    "\n",
    "plt.tight_layout()\n",
    "plt.show()"
   ]
  },
  {
   "cell_type": "markdown",
   "metadata": {},
   "source": [
    "<Font color = Red> The amount of Income of the client Vs Loan Annuity shows the clients with good income to annuity ratio has better replayment capacity than others."
   ]
  },
  {
   "cell_type": "code",
   "execution_count": 7,
   "metadata": {},
   "outputs": [],
   "source": [
    "App_Data_ANNUITY1=App_Data_ANNUITY.groupby(['TARGET'])"
   ]
  },
  {
   "cell_type": "code",
   "execution_count": 8,
   "metadata": {},
   "outputs": [
    {
     "data": {
      "text/html": [
       "<div>\n",
       "<style scoped>\n",
       "    .dataframe tbody tr th:only-of-type {\n",
       "        vertical-align: middle;\n",
       "    }\n",
       "\n",
       "    .dataframe tbody tr th {\n",
       "        vertical-align: top;\n",
       "    }\n",
       "\n",
       "    .dataframe thead th {\n",
       "        text-align: right;\n",
       "    }\n",
       "</style>\n",
       "<table border=\"1\" class=\"dataframe\">\n",
       "  <thead>\n",
       "    <tr style=\"text-align: right;\">\n",
       "      <th></th>\n",
       "      <th></th>\n",
       "      <th>AMT_INCOME_TOTAL</th>\n",
       "      <th>AMT_ANNUITY</th>\n",
       "    </tr>\n",
       "    <tr>\n",
       "      <th>TARGET</th>\n",
       "      <th></th>\n",
       "      <th></th>\n",
       "      <th></th>\n",
       "    </tr>\n",
       "  </thead>\n",
       "  <tbody>\n",
       "    <tr>\n",
       "      <th rowspan=\"2\" valign=\"top\">0</th>\n",
       "      <th>AMT_INCOME_TOTAL</th>\n",
       "      <td>1.000000</td>\n",
       "      <td>0.418953</td>\n",
       "    </tr>\n",
       "    <tr>\n",
       "      <th>AMT_ANNUITY</th>\n",
       "      <td>0.418953</td>\n",
       "      <td>1.000000</td>\n",
       "    </tr>\n",
       "    <tr>\n",
       "      <th rowspan=\"2\" valign=\"top\">1</th>\n",
       "      <th>AMT_INCOME_TOTAL</th>\n",
       "      <td>1.000000</td>\n",
       "      <td>0.046421</td>\n",
       "    </tr>\n",
       "    <tr>\n",
       "      <th>AMT_ANNUITY</th>\n",
       "      <td>0.046421</td>\n",
       "      <td>1.000000</td>\n",
       "    </tr>\n",
       "  </tbody>\n",
       "</table>\n",
       "</div>"
      ],
      "text/plain": [
       "                         AMT_INCOME_TOTAL  AMT_ANNUITY\n",
       "TARGET                                                \n",
       "0      AMT_INCOME_TOTAL          1.000000     0.418953\n",
       "       AMT_ANNUITY               0.418953     1.000000\n",
       "1      AMT_INCOME_TOTAL          1.000000     0.046421\n",
       "       AMT_ANNUITY               0.046421     1.000000"
      ]
     },
     "execution_count": 8,
     "metadata": {},
     "output_type": "execute_result"
    }
   ],
   "source": [
    "App_Data_ANNUITY2=App_Data_ANNUITY1['AMT_INCOME_TOTAL','AMT_ANNUITY']\n",
    "App_Data_ANNUITY2.corr(method='pearson')"
   ]
  },
  {
   "cell_type": "markdown",
   "metadata": {},
   "source": [
    "<font color = red> There is good correlation factor matrix between Loan Annuity and client's income which is 0.41 which is positive correlation matrix for people who pays loan time to time"
   ]
  },
  {
   "cell_type": "code",
   "execution_count": 9,
   "metadata": {},
   "outputs": [
    {
     "data": {
      "text/html": [
       "<div>\n",
       "<style scoped>\n",
       "    .dataframe tbody tr th:only-of-type {\n",
       "        vertical-align: middle;\n",
       "    }\n",
       "\n",
       "    .dataframe tbody tr th {\n",
       "        vertical-align: top;\n",
       "    }\n",
       "\n",
       "    .dataframe thead th {\n",
       "        text-align: right;\n",
       "    }\n",
       "</style>\n",
       "<table border=\"1\" class=\"dataframe\">\n",
       "  <thead>\n",
       "    <tr style=\"text-align: right;\">\n",
       "      <th></th>\n",
       "      <th>AMT_INCOME_TOTAL</th>\n",
       "      <th>AMT_ANNUITY</th>\n",
       "    </tr>\n",
       "    <tr>\n",
       "      <th>TARGET</th>\n",
       "      <th></th>\n",
       "      <th></th>\n",
       "    </tr>\n",
       "  </thead>\n",
       "  <tbody>\n",
       "    <tr>\n",
       "      <th>0</th>\n",
       "      <td>169077.722266</td>\n",
       "      <td>27163.623349</td>\n",
       "    </tr>\n",
       "    <tr>\n",
       "      <th>1</th>\n",
       "      <td>165611.760906</td>\n",
       "      <td>26481.744290</td>\n",
       "    </tr>\n",
       "  </tbody>\n",
       "</table>\n",
       "</div>"
      ],
      "text/plain": [
       "        AMT_INCOME_TOTAL   AMT_ANNUITY\n",
       "TARGET                                \n",
       "0          169077.722266  27163.623349\n",
       "1          165611.760906  26481.744290"
      ]
     },
     "execution_count": 9,
     "metadata": {},
     "output_type": "execute_result"
    }
   ],
   "source": [
    "App_Data_ANNUITY3=App_Data_ANNUITY1['AMT_INCOME_TOTAL','AMT_ANNUITY'].mean()\n",
    "App_Data_ANNUITY3.head()"
   ]
  },
  {
   "cell_type": "code",
   "execution_count": 18,
   "metadata": {},
   "outputs": [
    {
     "data": {
      "image/png": "[encoded data removed]",
      "text/plain": [
       "<Figure size 432x288 with 1 Axes>"
      ]
     },
     "metadata": {
      "needs_background": "light"
     },
     "output_type": "display_data"
    }
   ],
   "source": [
    "ax = plt.gca()\n",
    "App_Data_ANNUITY3.plot(kind='line',x='AMT_INCOME_TOTAL',y='AMT_ANNUITY',ax=ax)\n",
    "plt.show()"
   ]
  },
  {
   "cell_type": "markdown",
   "metadata": {},
   "source": [
    "<font color = red> The conclusion that these are almost similar for both cases ,and we can derive from correlation matrix that is client's income increases and therefor loan annuity increases means failure that is shift towards 0 .\n",
    "    "
   ]
  },
  {
   "cell_type": "markdown",
   "metadata": {},
   "source": [
    "> ##### Bivariate analysis with  AMT_INCOME_TOTAL as a numerical variable 0 and 1 with  AMT_GOODS_PRICE"
   ]
  },
  {
   "cell_type": "code",
   "execution_count": 19,
   "metadata": {},
   "outputs": [],
   "source": [
    "App_Data_GOODS=App_Data_DF.loc[:,['TARGET','AMT_INCOME_TOTAL','AMT_GOODS_PRICE']]"
   ]
  },
  {
   "cell_type": "code",
   "execution_count": 20,
   "metadata": {},
   "outputs": [
    {
     "data": {
      "text/plain": [
       "count    3.075110e+05\n",
       "mean     1.687979e+05\n",
       "std      2.371231e+05\n",
       "min      2.565000e+04\n",
       "25%      1.125000e+05\n",
       "50%      1.471500e+05\n",
       "75%      2.025000e+05\n",
       "max      1.170000e+08\n",
       "Name: AMT_INCOME_TOTAL, dtype: float64"
      ]
     },
     "execution_count": 20,
     "metadata": {},
     "output_type": "execute_result"
    }
   ],
   "source": [
    "App_Data_GOODS['AMT_INCOME_TOTAL'].describe()"
   ]
  },
  {
   "cell_type": "code",
   "execution_count": 21,
   "metadata": {},
   "outputs": [],
   "source": [
    "App_Data_GOODS1=App_Data_GOODS.groupby(['TARGET'])"
   ]
  },
  {
   "cell_type": "code",
   "execution_count": 22,
   "metadata": {},
   "outputs": [
    {
     "data": {
      "text/html": [
       "<div>\n",
       "<style scoped>\n",
       "    .dataframe tbody tr th:only-of-type {\n",
       "        vertical-align: middle;\n",
       "    }\n",
       "\n",
       "    .dataframe tbody tr th {\n",
       "        vertical-align: top;\n",
       "    }\n",
       "\n",
       "    .dataframe thead th {\n",
       "        text-align: right;\n",
       "    }\n",
       "</style>\n",
       "<table border=\"1\" class=\"dataframe\">\n",
       "  <thead>\n",
       "    <tr style=\"text-align: right;\">\n",
       "      <th></th>\n",
       "      <th>AMT_INCOME_TOTAL</th>\n",
       "      <th>AMT_GOODS_PRICE</th>\n",
       "    </tr>\n",
       "    <tr>\n",
       "      <th>TARGET</th>\n",
       "      <th></th>\n",
       "      <th></th>\n",
       "    </tr>\n",
       "  </thead>\n",
       "  <tbody>\n",
       "    <tr>\n",
       "      <th>0</th>\n",
       "      <td>169077.722266</td>\n",
       "      <td>542736.795003</td>\n",
       "    </tr>\n",
       "    <tr>\n",
       "      <th>1</th>\n",
       "      <td>165611.760906</td>\n",
       "      <td>488972.412554</td>\n",
       "    </tr>\n",
       "  </tbody>\n",
       "</table>\n",
       "</div>"
      ],
      "text/plain": [
       "        AMT_INCOME_TOTAL  AMT_GOODS_PRICE\n",
       "TARGET                                   \n",
       "0          169077.722266    542736.795003\n",
       "1          165611.760906    488972.412554"
      ]
     },
     "execution_count": 22,
     "metadata": {},
     "output_type": "execute_result"
    }
   ],
   "source": [
    "App_Data_GOODS2=App_Data_GOODS1['AMT_INCOME_TOTAL','AMT_GOODS_PRICE'].mean()\n",
    "App_Data_GOODS2"
   ]
  },
  {
   "cell_type": "code",
   "execution_count": 23,
   "metadata": {},
   "outputs": [
    {
     "data": {
      "image/png": "[encoded data removed]",
      "text/plain": [
       "<Figure size 432x288 with 1 Axes>"
      ]
     },
     "metadata": {
      "needs_background": "light"
     },
     "output_type": "display_data"
    }
   ],
   "source": [
    "App_Data_GOODS2.plot(kind=\"bar\")\n",
    "\n",
    "plt.show()"
   ]
  },
  {
   "cell_type": "markdown",
   "metadata": {},
   "source": [
    "<font color = red> The conclusion that average of client which are having high salary tend to have good repayment with consumer loans by goods prices"
   ]
  },
  {
   "cell_type": "markdown",
   "metadata": {},
   "source": [
    "> #### Bivariate analysis with  AMT_CREDIT as a numerical variable 0 and 1 other AMT_ANNUITY\n",
    "\n"
   ]
  },
  {
   "cell_type": "code",
   "execution_count": 24,
   "metadata": {},
   "outputs": [],
   "source": [
    "App_Data_DF_AMT=App_Data_DF.loc[:,['TARGET','AMT_CREDIT','AMT_ANNUITY']]"
   ]
  },
  {
   "cell_type": "code",
   "execution_count": 25,
   "metadata": {},
   "outputs": [],
   "source": [
    "App_Data_DF_AMT2=App_Data_DF_AMT.groupby(['TARGET'])"
   ]
  },
  {
   "cell_type": "code",
   "execution_count": 26,
   "metadata": {},
   "outputs": [
    {
     "data": {
      "text/html": [
       "<div>\n",
       "<style scoped>\n",
       "    .dataframe tbody tr th:only-of-type {\n",
       "        vertical-align: middle;\n",
       "    }\n",
       "\n",
       "    .dataframe tbody tr th {\n",
       "        vertical-align: top;\n",
       "    }\n",
       "\n",
       "    .dataframe thead th {\n",
       "        text-align: right;\n",
       "    }\n",
       "</style>\n",
       "<table border=\"1\" class=\"dataframe\">\n",
       "  <thead>\n",
       "    <tr style=\"text-align: right;\">\n",
       "      <th></th>\n",
       "      <th>AMT_CREDIT</th>\n",
       "      <th>AMT_ANNUITY</th>\n",
       "    </tr>\n",
       "    <tr>\n",
       "      <th>TARGET</th>\n",
       "      <th></th>\n",
       "      <th></th>\n",
       "    </tr>\n",
       "  </thead>\n",
       "  <tbody>\n",
       "    <tr>\n",
       "      <th>0</th>\n",
       "      <td>602648.282002</td>\n",
       "      <td>27163.623349</td>\n",
       "    </tr>\n",
       "    <tr>\n",
       "      <th>1</th>\n",
       "      <td>557778.527674</td>\n",
       "      <td>26481.744290</td>\n",
       "    </tr>\n",
       "  </tbody>\n",
       "</table>\n",
       "</div>"
      ],
      "text/plain": [
       "           AMT_CREDIT   AMT_ANNUITY\n",
       "TARGET                             \n",
       "0       602648.282002  27163.623349\n",
       "1       557778.527674  26481.744290"
      ]
     },
     "execution_count": 26,
     "metadata": {},
     "output_type": "execute_result"
    }
   ],
   "source": [
    "App_Data_DF_AMT3=App_Data_DF_AMT2['AMT_CREDIT','AMT_ANNUITY'].mean()\n",
    "App_Data_DF_AMT3"
   ]
  },
  {
   "cell_type": "code",
   "execution_count": 27,
   "metadata": {},
   "outputs": [
    {
     "data": {
      "image/png": "[encoded data removed]",
      "text/plain": [
       "<Figure size 432x288 with 1 Axes>"
      ]
     },
     "metadata": {
      "needs_background": "light"
     },
     "output_type": "display_data"
    }
   ],
   "source": [
    "App_Data_DF_AMT3.plot(kind=\"bar\")\n",
    "\n",
    "plt.show()"
   ]
  },
  {
   "cell_type": "markdown",
   "metadata": {},
   "source": []
  },
  {
   "cell_type": "markdown",
   "metadata": {},
   "source": [
    "### Cleaning data before finding co-relation"
   ]
  },
  {
   "cell_type": "code",
   "execution_count": 133,
   "metadata": {},
   "outputs": [],
   "source": [
    "Corr_others_DF = App_Data_others_DF.loc[:,['AMT_INCOME_TOTAL','AMT_CREDIT','AMT_ANNUITY','AMT_GOODS_PRICE']]"
   ]
  },
  {
   "cell_type": "code",
   "execution_count": 130,
   "metadata": {},
   "outputs": [],
   "source": [
    "Corr_Def_DF = App_Data_Def_DF.loc[:,['AMT_INCOME_TOTAL','AMT_CREDIT','AMT_ANNUITY','AMT_GOODS_PRICE']]"
   ]
  },
  {
   "cell_type": "code",
   "execution_count": 131,
   "metadata": {},
   "outputs": [
    {
     "data": {
      "image/png": "[encoded data removed]",
      "text/plain": [
       "<Figure size 288x288 with 1 Axes>"
      ]
     },
     "metadata": {
      "needs_background": "light"
     },
     "output_type": "display_data"
    }
   ],
   "source": [
    "plt.matshow(Corr_others_DF.corr())\n",
    "plt.show()"
   ]
  },
  {
   "cell_type": "code",
   "execution_count": 132,
   "metadata": {},
   "outputs": [
    {
     "data": {
      "image/png": "[encoded data removed]",
      "text/plain": [
       "<Figure size 288x288 with 1 Axes>"
      ]
     },
     "metadata": {
      "needs_background": "light"
     },
     "output_type": "display_data"
    }
   ],
   "source": [
    "plt.matshow(Corr_Def_DF.corr())\n",
    "plt.show()"
   ]
  },
  {
   "cell_type": "code",
   "execution_count": 140,
   "metadata": {},
   "outputs": [],
   "source": [
    "Corr_others_DF2 = App_Data_others_DF.loc[:,['DAYS_BIRTH','DAYS_EMPLOYED','DAYS_REGISTRATION','DAYS_ID_PUBLISH']]"
   ]
  },
  {
   "cell_type": "code",
   "execution_count": 143,
   "metadata": {},
   "outputs": [],
   "source": [
    "Corr_Def_DF2 = App_Data_Def_DF.loc[:,['DAYS_BIRTH','DAYS_EMPLOYED','DAYS_REGISTRATION','DAYS_ID_PUBLISH']]"
   ]
  },
  {
   "cell_type": "code",
   "execution_count": 142,
   "metadata": {},
   "outputs": [
    {
     "data": {
      "image/png": "[encoded data removed]",
      "text/plain": [
       "<Figure size 288x288 with 1 Axes>"
      ]
     },
     "metadata": {
      "needs_background": "light"
     },
     "output_type": "display_data"
    }
   ],
   "source": [
    "plt.matshow(Corr_others_DF2.corr())\n",
    "plt.show()"
   ]
  },
  {
   "cell_type": "code",
   "execution_count": 144,
   "metadata": {},
   "outputs": [
    {
     "data": {
      "image/png": "[encoded data removed]",
      "text/plain": [
       "<Figure size 288x288 with 1 Axes>"
      ]
     },
     "metadata": {
      "needs_background": "light"
     },
     "output_type": "display_data"
    }
   ],
   "source": [
    "plt.matshow(Corr_Def_DF2.corr())\n",
    "plt.show()"
   ]
  },
  {
   "cell_type": "markdown",
   "metadata": {},
   "source": [
    "The co - relation of different variables for defaulter data frame and other data frame look same"
   ]
  },
  {
   "cell_type": "code",
   "execution_count": 34,
   "metadata": {},
   "outputs": [],
   "source": [
    "#Loading PRevious Application Data\n",
    "Pre_App_DF = pd.read_csv(\"C:\\\\Users\\\\Raviraj Kuber\\\\Documents\\\\IIITB\\\\EDA Case Study\\\\previous_application.csv\")\n",
    "\n",
    "# Adding Suffix to Previous data columns to make it easy for identification post data merge\n",
    "Pre_App_DF.columns = [str(col) + '_prev' for col in Pre_App_DF.columns]\n",
    "\n"
   ]
  },
  {
   "cell_type": "code",
   "execution_count": 36,
   "metadata": {},
   "outputs": [
    {
     "name": "stdout",
     "output_type": "stream",
     "text": [
      "<class 'pandas.core.frame.DataFrame'>\n",
      "RangeIndex: 1670214 entries, 0 to 1670213\n",
      "Data columns (total 37 columns):\n",
      "SK_ID_PREV_prev                     1670214 non-null int64\n",
      "SK_ID_CURR_prev                     1670214 non-null int64\n",
      "NAME_CONTRACT_TYPE_prev             1670214 non-null object\n",
      "AMT_ANNUITY_prev                    1297979 non-null float64\n",
      "AMT_APPLICATION_prev                1670214 non-null float64\n",
      "AMT_CREDIT_prev                     1670213 non-null float64\n",
      "AMT_DOWN_PAYMENT_prev               774370 non-null float64\n",
      "AMT_GOODS_PRICE_prev                1284699 non-null float64\n",
      "WEEKDAY_APPR_PROCESS_START_prev     1670214 non-null object\n",
      "HOUR_APPR_PROCESS_START_prev        1670214 non-null int64\n",
      "FLAG_LAST_APPL_PER_CONTRACT_prev    1670214 non-null object\n",
      "NFLAG_LAST_APPL_IN_DAY_prev         1670214 non-null int64\n",
      "RATE_DOWN_PAYMENT_prev              774370 non-null float64\n",
      "RATE_INTEREST_PRIMARY_prev          5951 non-null float64\n",
      "RATE_INTEREST_PRIVILEGED_prev       5951 non-null float64\n",
      "NAME_CASH_LOAN_PURPOSE_prev         1670214 non-null object\n",
      "NAME_CONTRACT_STATUS_prev           1670214 non-null object\n",
      "DAYS_DECISION_prev                  1670214 non-null int64\n",
      "NAME_PAYMENT_TYPE_prev              1670214 non-null object\n",
      "CODE_REJECT_REASON_prev             1670214 non-null object\n",
      "NAME_TYPE_SUITE_prev                849809 non-null object\n",
      "NAME_CLIENT_TYPE_prev               1670214 non-null object\n",
      "NAME_GOODS_CATEGORY_prev            1670214 non-null object\n",
      "NAME_PORTFOLIO_prev                 1670214 non-null object\n",
      "NAME_PRODUCT_TYPE_prev              1670214 non-null object\n",
      "CHANNEL_TYPE_prev                   1670214 non-null object\n",
      "SELLERPLACE_AREA_prev               1670214 non-null int64\n",
      "NAME_SELLER_INDUSTRY_prev           1670214 non-null object\n",
      "CNT_PAYMENT_prev                    1297984 non-null float64\n",
      "NAME_YIELD_GROUP_prev               1670214 non-null object\n",
      "PRODUCT_COMBINATION_prev            1669868 non-null object\n",
      "DAYS_FIRST_DRAWING_prev             997149 non-null float64\n",
      "DAYS_FIRST_DUE_prev                 997149 non-null float64\n",
      "DAYS_LAST_DUE_1ST_VERSION_prev      997149 non-null float64\n",
      "DAYS_LAST_DUE_prev                  997149 non-null float64\n",
      "DAYS_TERMINATION_prev               997149 non-null float64\n",
      "NFLAG_INSURED_ON_APPROVAL_prev      997149 non-null float64\n",
      "dtypes: float64(15), int64(6), object(16)\n",
      "memory usage: 471.5+ MB\n"
     ]
    }
   ],
   "source": [
    "Pre_App_DF.info()"
   ]
  },
  {
   "cell_type": "code",
   "execution_count": 37,
   "metadata": {},
   "outputs": [
    {
     "data": {
      "text/html": [
       "<div>\n",
       "<style scoped>\n",
       "    .dataframe tbody tr th:only-of-type {\n",
       "        vertical-align: middle;\n",
       "    }\n",
       "\n",
       "    .dataframe tbody tr th {\n",
       "        vertical-align: top;\n",
       "    }\n",
       "\n",
       "    .dataframe thead th {\n",
       "        text-align: right;\n",
       "    }\n",
       "</style>\n",
       "<table border=\"1\" class=\"dataframe\">\n",
       "  <thead>\n",
       "    <tr style=\"text-align: right;\">\n",
       "      <th></th>\n",
       "      <th>SK_ID_PREV_prev</th>\n",
       "      <th>SK_ID_CURR_prev</th>\n",
       "      <th>AMT_ANNUITY_prev</th>\n",
       "      <th>AMT_APPLICATION_prev</th>\n",
       "      <th>AMT_CREDIT_prev</th>\n",
       "      <th>AMT_DOWN_PAYMENT_prev</th>\n",
       "      <th>AMT_GOODS_PRICE_prev</th>\n",
       "      <th>HOUR_APPR_PROCESS_START_prev</th>\n",
       "      <th>NFLAG_LAST_APPL_IN_DAY_prev</th>\n",
       "      <th>RATE_DOWN_PAYMENT_prev</th>\n",
       "      <th>...</th>\n",
       "      <th>RATE_INTEREST_PRIVILEGED_prev</th>\n",
       "      <th>DAYS_DECISION_prev</th>\n",
       "      <th>SELLERPLACE_AREA_prev</th>\n",
       "      <th>CNT_PAYMENT_prev</th>\n",
       "      <th>DAYS_FIRST_DRAWING_prev</th>\n",
       "      <th>DAYS_FIRST_DUE_prev</th>\n",
       "      <th>DAYS_LAST_DUE_1ST_VERSION_prev</th>\n",
       "      <th>DAYS_LAST_DUE_prev</th>\n",
       "      <th>DAYS_TERMINATION_prev</th>\n",
       "      <th>NFLAG_INSURED_ON_APPROVAL_prev</th>\n",
       "    </tr>\n",
       "  </thead>\n",
       "  <tbody>\n",
       "    <tr>\n",
       "      <th>count</th>\n",
       "      <td>1.670214e+06</td>\n",
       "      <td>1.670214e+06</td>\n",
       "      <td>1.297979e+06</td>\n",
       "      <td>1.670214e+06</td>\n",
       "      <td>1.670213e+06</td>\n",
       "      <td>7.743700e+05</td>\n",
       "      <td>1.284699e+06</td>\n",
       "      <td>1.670214e+06</td>\n",
       "      <td>1.670214e+06</td>\n",
       "      <td>774370.000000</td>\n",
       "      <td>...</td>\n",
       "      <td>5951.000000</td>\n",
       "      <td>1.670214e+06</td>\n",
       "      <td>1.670214e+06</td>\n",
       "      <td>1.297984e+06</td>\n",
       "      <td>997149.000000</td>\n",
       "      <td>997149.000000</td>\n",
       "      <td>997149.000000</td>\n",
       "      <td>997149.000000</td>\n",
       "      <td>997149.000000</td>\n",
       "      <td>997149.000000</td>\n",
       "    </tr>\n",
       "    <tr>\n",
       "      <th>mean</th>\n",
       "      <td>1.923089e+06</td>\n",
       "      <td>2.783572e+05</td>\n",
       "      <td>1.595512e+04</td>\n",
       "      <td>1.752339e+05</td>\n",
       "      <td>1.961140e+05</td>\n",
       "      <td>6.697402e+03</td>\n",
       "      <td>2.278473e+05</td>\n",
       "      <td>1.248418e+01</td>\n",
       "      <td>9.964675e-01</td>\n",
       "      <td>0.079637</td>\n",
       "      <td>...</td>\n",
       "      <td>0.773503</td>\n",
       "      <td>-8.806797e+02</td>\n",
       "      <td>3.139511e+02</td>\n",
       "      <td>1.605408e+01</td>\n",
       "      <td>342209.855039</td>\n",
       "      <td>13826.269337</td>\n",
       "      <td>33767.774054</td>\n",
       "      <td>76582.403064</td>\n",
       "      <td>81992.343838</td>\n",
       "      <td>0.332570</td>\n",
       "    </tr>\n",
       "    <tr>\n",
       "      <th>std</th>\n",
       "      <td>5.325980e+05</td>\n",
       "      <td>1.028148e+05</td>\n",
       "      <td>1.478214e+04</td>\n",
       "      <td>2.927798e+05</td>\n",
       "      <td>3.185746e+05</td>\n",
       "      <td>2.092150e+04</td>\n",
       "      <td>3.153966e+05</td>\n",
       "      <td>3.334028e+00</td>\n",
       "      <td>5.932963e-02</td>\n",
       "      <td>0.107823</td>\n",
       "      <td>...</td>\n",
       "      <td>0.100879</td>\n",
       "      <td>7.790997e+02</td>\n",
       "      <td>7.127443e+03</td>\n",
       "      <td>1.456729e+01</td>\n",
       "      <td>88916.115834</td>\n",
       "      <td>72444.869708</td>\n",
       "      <td>106857.034789</td>\n",
       "      <td>149647.415123</td>\n",
       "      <td>153303.516729</td>\n",
       "      <td>0.471134</td>\n",
       "    </tr>\n",
       "    <tr>\n",
       "      <th>min</th>\n",
       "      <td>1.000001e+06</td>\n",
       "      <td>1.000010e+05</td>\n",
       "      <td>0.000000e+00</td>\n",
       "      <td>0.000000e+00</td>\n",
       "      <td>0.000000e+00</td>\n",
       "      <td>-9.000000e-01</td>\n",
       "      <td>0.000000e+00</td>\n",
       "      <td>0.000000e+00</td>\n",
       "      <td>0.000000e+00</td>\n",
       "      <td>-0.000015</td>\n",
       "      <td>...</td>\n",
       "      <td>0.373150</td>\n",
       "      <td>-2.922000e+03</td>\n",
       "      <td>-1.000000e+00</td>\n",
       "      <td>0.000000e+00</td>\n",
       "      <td>-2922.000000</td>\n",
       "      <td>-2892.000000</td>\n",
       "      <td>-2801.000000</td>\n",
       "      <td>-2889.000000</td>\n",
       "      <td>-2874.000000</td>\n",
       "      <td>0.000000</td>\n",
       "    </tr>\n",
       "    <tr>\n",
       "      <th>25%</th>\n",
       "      <td>1.461857e+06</td>\n",
       "      <td>1.893290e+05</td>\n",
       "      <td>6.321780e+03</td>\n",
       "      <td>1.872000e+04</td>\n",
       "      <td>2.416050e+04</td>\n",
       "      <td>0.000000e+00</td>\n",
       "      <td>5.084100e+04</td>\n",
       "      <td>1.000000e+01</td>\n",
       "      <td>1.000000e+00</td>\n",
       "      <td>0.000000</td>\n",
       "      <td>...</td>\n",
       "      <td>0.715645</td>\n",
       "      <td>-1.300000e+03</td>\n",
       "      <td>-1.000000e+00</td>\n",
       "      <td>6.000000e+00</td>\n",
       "      <td>365243.000000</td>\n",
       "      <td>-1628.000000</td>\n",
       "      <td>-1242.000000</td>\n",
       "      <td>-1314.000000</td>\n",
       "      <td>-1270.000000</td>\n",
       "      <td>0.000000</td>\n",
       "    </tr>\n",
       "    <tr>\n",
       "      <th>50%</th>\n",
       "      <td>1.923110e+06</td>\n",
       "      <td>2.787145e+05</td>\n",
       "      <td>1.125000e+04</td>\n",
       "      <td>7.104600e+04</td>\n",
       "      <td>8.054100e+04</td>\n",
       "      <td>1.638000e+03</td>\n",
       "      <td>1.123200e+05</td>\n",
       "      <td>1.200000e+01</td>\n",
       "      <td>1.000000e+00</td>\n",
       "      <td>0.051605</td>\n",
       "      <td>...</td>\n",
       "      <td>0.835095</td>\n",
       "      <td>-5.810000e+02</td>\n",
       "      <td>3.000000e+00</td>\n",
       "      <td>1.200000e+01</td>\n",
       "      <td>365243.000000</td>\n",
       "      <td>-831.000000</td>\n",
       "      <td>-361.000000</td>\n",
       "      <td>-537.000000</td>\n",
       "      <td>-499.000000</td>\n",
       "      <td>0.000000</td>\n",
       "    </tr>\n",
       "    <tr>\n",
       "      <th>75%</th>\n",
       "      <td>2.384280e+06</td>\n",
       "      <td>3.675140e+05</td>\n",
       "      <td>2.065842e+04</td>\n",
       "      <td>1.803600e+05</td>\n",
       "      <td>2.164185e+05</td>\n",
       "      <td>7.740000e+03</td>\n",
       "      <td>2.340000e+05</td>\n",
       "      <td>1.500000e+01</td>\n",
       "      <td>1.000000e+00</td>\n",
       "      <td>0.108909</td>\n",
       "      <td>...</td>\n",
       "      <td>0.852537</td>\n",
       "      <td>-2.800000e+02</td>\n",
       "      <td>8.200000e+01</td>\n",
       "      <td>2.400000e+01</td>\n",
       "      <td>365243.000000</td>\n",
       "      <td>-411.000000</td>\n",
       "      <td>129.000000</td>\n",
       "      <td>-74.000000</td>\n",
       "      <td>-44.000000</td>\n",
       "      <td>1.000000</td>\n",
       "    </tr>\n",
       "    <tr>\n",
       "      <th>max</th>\n",
       "      <td>2.845382e+06</td>\n",
       "      <td>4.562550e+05</td>\n",
       "      <td>4.180581e+05</td>\n",
       "      <td>6.905160e+06</td>\n",
       "      <td>6.905160e+06</td>\n",
       "      <td>3.060045e+06</td>\n",
       "      <td>6.905160e+06</td>\n",
       "      <td>2.300000e+01</td>\n",
       "      <td>1.000000e+00</td>\n",
       "      <td>1.000000</td>\n",
       "      <td>...</td>\n",
       "      <td>1.000000</td>\n",
       "      <td>-1.000000e+00</td>\n",
       "      <td>4.000000e+06</td>\n",
       "      <td>8.400000e+01</td>\n",
       "      <td>365243.000000</td>\n",
       "      <td>365243.000000</td>\n",
       "      <td>365243.000000</td>\n",
       "      <td>365243.000000</td>\n",
       "      <td>365243.000000</td>\n",
       "      <td>1.000000</td>\n",
       "    </tr>\n",
       "  </tbody>\n",
       "</table>\n",
       "<p>8 rows × 21 columns</p>\n",
       "</div>"
      ],
      "text/plain": [
       "       SK_ID_PREV_prev  SK_ID_CURR_prev  AMT_ANNUITY_prev  \\\n",
       "count     1.670214e+06     1.670214e+06      1.297979e+06   \n",
       "mean      1.923089e+06     2.783572e+05      1.595512e+04   \n",
       "std       5.325980e+05     1.028148e+05      1.478214e+04   \n",
       "min       1.000001e+06     1.000010e+05      0.000000e+00   \n",
       "25%       1.461857e+06     1.893290e+05      6.321780e+03   \n",
       "50%       1.923110e+06     2.787145e+05      1.125000e+04   \n",
       "75%       2.384280e+06     3.675140e+05      2.065842e+04   \n",
       "max       2.845382e+06     4.562550e+05      4.180581e+05   \n",
       "\n",
       "       AMT_APPLICATION_prev  AMT_CREDIT_prev  AMT_DOWN_PAYMENT_prev  \\\n",
       "count          1.670214e+06     1.670213e+06           7.743700e+05   \n",
       "mean           1.752339e+05     1.961140e+05           6.697402e+03   \n",
       "std            2.927798e+05     3.185746e+05           2.092150e+04   \n",
       "min            0.000000e+00     0.000000e+00          -9.000000e-01   \n",
       "25%            1.872000e+04     2.416050e+04           0.000000e+00   \n",
       "50%            7.104600e+04     8.054100e+04           1.638000e+03   \n",
       "75%            1.803600e+05     2.164185e+05           7.740000e+03   \n",
       "max            6.905160e+06     6.905160e+06           3.060045e+06   \n",
       "\n",
       "       AMT_GOODS_PRICE_prev  HOUR_APPR_PROCESS_START_prev  \\\n",
       "count          1.284699e+06                  1.670214e+06   \n",
       "mean           2.278473e+05                  1.248418e+01   \n",
       "std            3.153966e+05                  3.334028e+00   \n",
       "min            0.000000e+00                  0.000000e+00   \n",
       "25%            5.084100e+04                  1.000000e+01   \n",
       "50%            1.123200e+05                  1.200000e+01   \n",
       "75%            2.340000e+05                  1.500000e+01   \n",
       "max            6.905160e+06                  2.300000e+01   \n",
       "\n",
       "       NFLAG_LAST_APPL_IN_DAY_prev  RATE_DOWN_PAYMENT_prev  ...  \\\n",
       "count                 1.670214e+06           774370.000000  ...   \n",
       "mean                  9.964675e-01                0.079637  ...   \n",
       "std                   5.932963e-02                0.107823  ...   \n",
       "min                   0.000000e+00               -0.000015  ...   \n",
       "25%                   1.000000e+00                0.000000  ...   \n",
       "50%                   1.000000e+00                0.051605  ...   \n",
       "75%                   1.000000e+00                0.108909  ...   \n",
       "max                   1.000000e+00                1.000000  ...   \n",
       "\n",
       "       RATE_INTEREST_PRIVILEGED_prev  DAYS_DECISION_prev  \\\n",
       "count                    5951.000000        1.670214e+06   \n",
       "mean                        0.773503       -8.806797e+02   \n",
       "std                         0.100879        7.790997e+02   \n",
       "min                         0.373150       -2.922000e+03   \n",
       "25%                         0.715645       -1.300000e+03   \n",
       "50%                         0.835095       -5.810000e+02   \n",
       "75%                         0.852537       -2.800000e+02   \n",
       "max                         1.000000       -1.000000e+00   \n",
       "\n",
       "       SELLERPLACE_AREA_prev  CNT_PAYMENT_prev  DAYS_FIRST_DRAWING_prev  \\\n",
       "count           1.670214e+06      1.297984e+06            997149.000000   \n",
       "mean            3.139511e+02      1.605408e+01            342209.855039   \n",
       "std             7.127443e+03      1.456729e+01             88916.115834   \n",
       "min            -1.000000e+00      0.000000e+00             -2922.000000   \n",
       "25%            -1.000000e+00      6.000000e+00            365243.000000   \n",
       "50%             3.000000e+00      1.200000e+01            365243.000000   \n",
       "75%             8.200000e+01      2.400000e+01            365243.000000   \n",
       "max             4.000000e+06      8.400000e+01            365243.000000   \n",
       "\n",
       "       DAYS_FIRST_DUE_prev  DAYS_LAST_DUE_1ST_VERSION_prev  \\\n",
       "count        997149.000000                   997149.000000   \n",
       "mean          13826.269337                    33767.774054   \n",
       "std           72444.869708                   106857.034789   \n",
       "min           -2892.000000                    -2801.000000   \n",
       "25%           -1628.000000                    -1242.000000   \n",
       "50%            -831.000000                     -361.000000   \n",
       "75%            -411.000000                      129.000000   \n",
       "max          365243.000000                   365243.000000   \n",
       "\n",
       "       DAYS_LAST_DUE_prev  DAYS_TERMINATION_prev  \\\n",
       "count       997149.000000          997149.000000   \n",
       "mean         76582.403064           81992.343838   \n",
       "std         149647.415123          153303.516729   \n",
       "min          -2889.000000           -2874.000000   \n",
       "25%          -1314.000000           -1270.000000   \n",
       "50%           -537.000000            -499.000000   \n",
       "75%            -74.000000             -44.000000   \n",
       "max         365243.000000          365243.000000   \n",
       "\n",
       "       NFLAG_INSURED_ON_APPROVAL_prev  \n",
       "count                   997149.000000  \n",
       "mean                         0.332570  \n",
       "std                          0.471134  \n",
       "min                          0.000000  \n",
       "25%                          0.000000  \n",
       "50%                          0.000000  \n",
       "75%                          1.000000  \n",
       "max                          1.000000  \n",
       "\n",
       "[8 rows x 21 columns]"
      ]
     },
     "execution_count": 37,
     "metadata": {},
     "output_type": "execute_result"
    }
   ],
   "source": [
    "Pre_App_DF.describe()"
   ]
  },
  {
   "cell_type": "code",
   "execution_count": 38,
   "metadata": {},
   "outputs": [
    {
     "data": {
      "text/plain": [
       "SK_ID_PREV_prev                      0.00\n",
       "SK_ID_CURR_prev                      0.00\n",
       "NAME_CONTRACT_TYPE_prev              0.00\n",
       "AMT_ANNUITY_prev                    22.29\n",
       "AMT_APPLICATION_prev                 0.00\n",
       "AMT_CREDIT_prev                      0.00\n",
       "AMT_DOWN_PAYMENT_prev               53.64\n",
       "AMT_GOODS_PRICE_prev                23.08\n",
       "WEEKDAY_APPR_PROCESS_START_prev      0.00\n",
       "HOUR_APPR_PROCESS_START_prev         0.00\n",
       "FLAG_LAST_APPL_PER_CONTRACT_prev     0.00\n",
       "NFLAG_LAST_APPL_IN_DAY_prev          0.00\n",
       "RATE_DOWN_PAYMENT_prev              53.64\n",
       "RATE_INTEREST_PRIMARY_prev          99.64\n",
       "RATE_INTEREST_PRIVILEGED_prev       99.64\n",
       "NAME_CASH_LOAN_PURPOSE_prev          0.00\n",
       "NAME_CONTRACT_STATUS_prev            0.00\n",
       "DAYS_DECISION_prev                   0.00\n",
       "NAME_PAYMENT_TYPE_prev               0.00\n",
       "CODE_REJECT_REASON_prev              0.00\n",
       "NAME_TYPE_SUITE_prev                49.12\n",
       "NAME_CLIENT_TYPE_prev                0.00\n",
       "NAME_GOODS_CATEGORY_prev             0.00\n",
       "NAME_PORTFOLIO_prev                  0.00\n",
       "NAME_PRODUCT_TYPE_prev               0.00\n",
       "CHANNEL_TYPE_prev                    0.00\n",
       "SELLERPLACE_AREA_prev                0.00\n",
       "NAME_SELLER_INDUSTRY_prev            0.00\n",
       "CNT_PAYMENT_prev                    22.29\n",
       "NAME_YIELD_GROUP_prev                0.00\n",
       "PRODUCT_COMBINATION_prev             0.02\n",
       "DAYS_FIRST_DRAWING_prev             40.30\n",
       "DAYS_FIRST_DUE_prev                 40.30\n",
       "DAYS_LAST_DUE_1ST_VERSION_prev      40.30\n",
       "DAYS_LAST_DUE_prev                  40.30\n",
       "DAYS_TERMINATION_prev               40.30\n",
       "NFLAG_INSURED_ON_APPROVAL_prev      40.30\n",
       "dtype: float64"
      ]
     },
     "execution_count": 38,
     "metadata": {},
     "output_type": "execute_result"
    }
   ],
   "source": [
    "#Identifying null  percentages\n",
    "round(100*(Pre_App_DF.isnull().sum()/len(Pre_App_DF.index)),2)"
   ]
  },
  {
   "cell_type": "code",
   "execution_count": 39,
   "metadata": {},
   "outputs": [],
   "source": [
    "# Removing the column which are having greater than 50% of NaN values\n",
    "Pre_App_DF=Pre_App_DF.drop(\"AMT_DOWN_PAYMENT_prev\",axis=1)\n",
    "Pre_App_DF=Pre_App_DF.drop(\"RATE_INTEREST_PRIMARY_prev\",axis=1)\n",
    "Pre_App_DF=Pre_App_DF.drop(\"RATE_INTEREST_PRIVILEGED_prev\",axis=1)"
   ]
  },
  {
   "cell_type": "code",
   "execution_count": 40,
   "metadata": {},
   "outputs": [],
   "source": [
    "# Merging  Current and Previous Application Data on Sk_Id_Curr\n",
    "df_app_merge=pd.merge(App_Data_DF,Pre_App_DF,left_on='SK_ID_CURR',right_on='SK_ID_CURR_prev')"
   ]
  },
  {
   "cell_type": "markdown",
   "metadata": {},
   "source": [
    "### Univariate Analysis of NAME_CONTRACT_TYPE"
   ]
  },
  {
   "cell_type": "code",
   "execution_count": 41,
   "metadata": {},
   "outputs": [
    {
     "data": {
      "text/html": [
       "<div>\n",
       "<style scoped>\n",
       "    .dataframe tbody tr th:only-of-type {\n",
       "        vertical-align: middle;\n",
       "    }\n",
       "\n",
       "    .dataframe tbody tr th {\n",
       "        vertical-align: top;\n",
       "    }\n",
       "\n",
       "    .dataframe thead th {\n",
       "        text-align: right;\n",
       "    }\n",
       "</style>\n",
       "<table border=\"1\" class=\"dataframe\">\n",
       "  <thead>\n",
       "    <tr style=\"text-align: right;\">\n",
       "      <th></th>\n",
       "      <th>SK_ID_CURR_prev</th>\n",
       "    </tr>\n",
       "    <tr>\n",
       "      <th>NAME_CONTRACT_TYPE_prev</th>\n",
       "      <th></th>\n",
       "    </tr>\n",
       "  </thead>\n",
       "  <tbody>\n",
       "    <tr>\n",
       "      <th>Cash loans</th>\n",
       "      <td>44.757917</td>\n",
       "    </tr>\n",
       "    <tr>\n",
       "      <th>Consumer loans</th>\n",
       "      <td>43.656142</td>\n",
       "    </tr>\n",
       "    <tr>\n",
       "      <th>Revolving loans</th>\n",
       "      <td>11.565225</td>\n",
       "    </tr>\n",
       "    <tr>\n",
       "      <th>XNA</th>\n",
       "      <td>0.020716</td>\n",
       "    </tr>\n",
       "  </tbody>\n",
       "</table>\n",
       "</div>"
      ],
      "text/plain": [
       "                         SK_ID_CURR_prev\n",
       "NAME_CONTRACT_TYPE_prev                 \n",
       "Cash loans                     44.757917\n",
       "Consumer loans                 43.656142\n",
       "Revolving loans                11.565225\n",
       "XNA                             0.020716"
      ]
     },
     "execution_count": 41,
     "metadata": {},
     "output_type": "execute_result"
    }
   ],
   "source": [
    "### Univariate Analysis on NAME_CONTRACT_TYPE\n",
    "Pre_App_DF_CON = Pre_App_DF.loc[:,['SK_ID_CURR_prev','NAME_CONTRACT_TYPE_prev']]\n",
    "(Pre_App_DF_CON.groupby('NAME_CONTRACT_TYPE_prev').count()/len(Pre_App_DF_CON))*100"
   ]
  },
  {
   "cell_type": "markdown",
   "metadata": {},
   "source": [
    "**From Above analysis,44.75% contract are of Cash and 43.65 are consumer loans which is most people prefer because it may get approved but we can't tell now** \n"
   ]
  },
  {
   "cell_type": "markdown",
   "metadata": {},
   "source": [
    "### Bivariate Analysis with NAME_CONTRACT_TYPE and NAME_CONTRACT_STATUS \n"
   ]
  },
  {
   "cell_type": "code",
   "execution_count": 42,
   "metadata": {},
   "outputs": [
    {
     "data": {
      "text/html": [
       "<div>\n",
       "<style scoped>\n",
       "    .dataframe tbody tr th:only-of-type {\n",
       "        vertical-align: middle;\n",
       "    }\n",
       "\n",
       "    .dataframe tbody tr th {\n",
       "        vertical-align: top;\n",
       "    }\n",
       "\n",
       "    .dataframe thead th {\n",
       "        text-align: right;\n",
       "    }\n",
       "</style>\n",
       "<table border=\"1\" class=\"dataframe\">\n",
       "  <thead>\n",
       "    <tr style=\"text-align: right;\">\n",
       "      <th></th>\n",
       "      <th></th>\n",
       "      <th>SK_ID_CURR_prev</th>\n",
       "    </tr>\n",
       "    <tr>\n",
       "      <th>NAME_CONTRACT_STATUS_prev</th>\n",
       "      <th>NAME_CONTRACT_TYPE_prev</th>\n",
       "      <th></th>\n",
       "    </tr>\n",
       "  </thead>\n",
       "  <tbody>\n",
       "    <tr>\n",
       "      <th rowspan=\"3\" valign=\"top\">Approved</th>\n",
       "      <th>Cash loans</th>\n",
       "      <td>18.712572</td>\n",
       "    </tr>\n",
       "    <tr>\n",
       "      <th>Consumer loans</th>\n",
       "      <td>37.508367</td>\n",
       "    </tr>\n",
       "    <tr>\n",
       "      <th>Revolving loans</th>\n",
       "      <td>5.853801</td>\n",
       "    </tr>\n",
       "    <tr>\n",
       "      <th rowspan=\"4\" valign=\"top\">Canceled</th>\n",
       "      <th>Cash loans</th>\n",
       "      <td>16.081233</td>\n",
       "    </tr>\n",
       "    <tr>\n",
       "      <th>Consumer loans</th>\n",
       "      <td>0.093341</td>\n",
       "    </tr>\n",
       "    <tr>\n",
       "      <th>Revolving loans</th>\n",
       "      <td>2.745397</td>\n",
       "    </tr>\n",
       "    <tr>\n",
       "      <th>XNA</th>\n",
       "      <td>0.018860</td>\n",
       "    </tr>\n",
       "    <tr>\n",
       "      <th rowspan=\"4\" valign=\"top\">Refused</th>\n",
       "      <th>Cash loans</th>\n",
       "      <td>9.934535</td>\n",
       "    </tr>\n",
       "    <tr>\n",
       "      <th>Consumer loans</th>\n",
       "      <td>4.501519</td>\n",
       "    </tr>\n",
       "    <tr>\n",
       "      <th>Revolving loans</th>\n",
       "      <td>2.965728</td>\n",
       "    </tr>\n",
       "    <tr>\n",
       "      <th>XNA</th>\n",
       "      <td>0.001856</td>\n",
       "    </tr>\n",
       "    <tr>\n",
       "      <th rowspan=\"3\" valign=\"top\">Unused offer</th>\n",
       "      <th>Cash loans</th>\n",
       "      <td>0.029577</td>\n",
       "    </tr>\n",
       "    <tr>\n",
       "      <th>Consumer loans</th>\n",
       "      <td>1.552915</td>\n",
       "    </tr>\n",
       "    <tr>\n",
       "      <th>Revolving loans</th>\n",
       "      <td>0.000299</td>\n",
       "    </tr>\n",
       "  </tbody>\n",
       "</table>\n",
       "</div>"
      ],
      "text/plain": [
       "                                                   SK_ID_CURR_prev\n",
       "NAME_CONTRACT_STATUS_prev NAME_CONTRACT_TYPE_prev                 \n",
       "Approved                  Cash loans                     18.712572\n",
       "                          Consumer loans                 37.508367\n",
       "                          Revolving loans                 5.853801\n",
       "Canceled                  Cash loans                     16.081233\n",
       "                          Consumer loans                  0.093341\n",
       "                          Revolving loans                 2.745397\n",
       "                          XNA                             0.018860\n",
       "Refused                   Cash loans                      9.934535\n",
       "                          Consumer loans                  4.501519\n",
       "                          Revolving loans                 2.965728\n",
       "                          XNA                             0.001856\n",
       "Unused offer              Cash loans                      0.029577\n",
       "                          Consumer loans                  1.552915\n",
       "                          Revolving loans                 0.000299"
      ]
     },
     "execution_count": 42,
     "metadata": {},
     "output_type": "execute_result"
    }
   ],
   "source": [
    "Pre_App_STAT = Pre_App_DF.loc[:,['SK_ID_CURR_prev','NAME_CONTRACT_TYPE_prev','NAME_CONTRACT_STATUS_prev']]\n",
    "\n",
    "(Pre_App_STAT.groupby(['NAME_CONTRACT_STATUS_prev','NAME_CONTRACT_TYPE_prev']).count()/len(Pre_App_STAT))*100"
   ]
  },
  {
   "cell_type": "markdown",
   "metadata": {},
   "source": [
    "***From above,44.75% contract are of Cash and 43.65 are consumer loans which is most people prefer but approval rate is higher for Consumer Loans and loans which are canceled by client are mostly client with cash loans** "
   ]
  },
  {
   "cell_type": "markdown",
   "metadata": {},
   "source": [
    "#### Here we are removing outliers from 3 Numerical variables like AMT_CREDIT ,AMT_ANNUITY ,AMT_APPLICATION "
   ]
  },
  {
   "cell_type": "code",
   "execution_count": 43,
   "metadata": {},
   "outputs": [
    {
     "data": {
      "text/plain": [
       "<matplotlib.axes._subplots.AxesSubplot at 0x1ce006c32e8>"
      ]
     },
     "execution_count": 43,
     "metadata": {},
     "output_type": "execute_result"
    },
    {
     "data": {
      "image/png": "[encoded data removed]",
      "text/plain": [
       "<Figure size 432x288 with 1 Axes>"
      ]
     },
     "metadata": {
      "needs_background": "light"
     },
     "output_type": "display_data"
    }
   ],
   "source": [
    "Pre_App_DF_AMT=Pre_App_DF.loc[:,['AMT_CREDIT_prev','AMT_APPLICATION_prev']]\n",
    "sns.boxplot(data=Pre_App_DF_AMT)"
   ]
  },
  {
   "cell_type": "markdown",
   "metadata": {},
   "source": [
    "##### AS you can see from boxplots there are lot of outliers in 3 of Numerical variable we will be removing them by using The interquartile range (IQR), also called the midspread or middle 50%"
   ]
  },
  {
   "cell_type": "code",
   "execution_count": 45,
   "metadata": {},
   "outputs": [
    {
     "data": {
      "text/plain": [
       "(1664903, 2)"
      ]
     },
     "execution_count": 45,
     "metadata": {},
     "output_type": "execute_result"
    }
   ],
   "source": [
    "Q1 = Pre_App_DF_AMT.quantile(0.5)\n",
    "Q3 = Pre_App_DF_AMT.quantile(0.95)\n",
    "IQR = Q3 - Q1\n",
    "Pre_App_AMT_out = Pre_App_DF_AMT[~((Pre_App_DF_AMT < (Q1 - 1.5 * IQR)) |(Pre_App_DF_AMT > (Q3 + 1.5 * IQR))).any(axis=1)]\n",
    "Pre_App_AMT_out.shape"
   ]
  },
  {
   "cell_type": "code",
   "execution_count": 46,
   "metadata": {},
   "outputs": [
    {
     "data": {
      "text/html": [
       "<div>\n",
       "<style scoped>\n",
       "    .dataframe tbody tr th:only-of-type {\n",
       "        vertical-align: middle;\n",
       "    }\n",
       "\n",
       "    .dataframe tbody tr th {\n",
       "        vertical-align: top;\n",
       "    }\n",
       "\n",
       "    .dataframe thead th {\n",
       "        text-align: right;\n",
       "    }\n",
       "</style>\n",
       "<table border=\"1\" class=\"dataframe\">\n",
       "  <thead>\n",
       "    <tr style=\"text-align: right;\">\n",
       "      <th></th>\n",
       "      <th>AMT_CREDIT_prev</th>\n",
       "      <th>AMT_APPLICATION_prev</th>\n",
       "    </tr>\n",
       "  </thead>\n",
       "  <tbody>\n",
       "    <tr>\n",
       "      <th>0</th>\n",
       "      <td>17145.0</td>\n",
       "      <td>17145.0</td>\n",
       "    </tr>\n",
       "    <tr>\n",
       "      <th>1</th>\n",
       "      <td>679671.0</td>\n",
       "      <td>607500.0</td>\n",
       "    </tr>\n",
       "    <tr>\n",
       "      <th>2</th>\n",
       "      <td>136444.5</td>\n",
       "      <td>112500.0</td>\n",
       "    </tr>\n",
       "    <tr>\n",
       "      <th>3</th>\n",
       "      <td>470790.0</td>\n",
       "      <td>450000.0</td>\n",
       "    </tr>\n",
       "    <tr>\n",
       "      <th>4</th>\n",
       "      <td>404055.0</td>\n",
       "      <td>337500.0</td>\n",
       "    </tr>\n",
       "  </tbody>\n",
       "</table>\n",
       "</div>"
      ],
      "text/plain": [
       "   AMT_CREDIT_prev  AMT_APPLICATION_prev\n",
       "0          17145.0               17145.0\n",
       "1         679671.0              607500.0\n",
       "2         136444.5              112500.0\n",
       "3         470790.0              450000.0\n",
       "4         404055.0              337500.0"
      ]
     },
     "execution_count": 46,
     "metadata": {},
     "output_type": "execute_result"
    }
   ],
   "source": [
    "Pre_App_AMT_out.head()"
   ]
  },
  {
   "cell_type": "code",
   "execution_count": 47,
   "metadata": {},
   "outputs": [
    {
     "data": {
      "text/plain": [
       "<matplotlib.axes._subplots.AxesSubplot at 0x1ce07b65ef0>"
      ]
     },
     "execution_count": 47,
     "metadata": {},
     "output_type": "execute_result"
    },
    {
     "data": {
      "image/png": "[encoded data removed]",
      "text/plain": [
       "<Figure size 432x288 with 1 Axes>"
      ]
     },
     "metadata": {
      "needs_background": "light"
     },
     "output_type": "display_data"
    }
   ],
   "source": [
    "sns.boxplot(data=Pre_App_AMT_out)"
   ]
  },
  {
   "cell_type": "markdown",
   "metadata": {},
   "source": [
    "#### AS you can see from boxplots we have removed most of the outliers so we can do statistical analysis "
   ]
  },
  {
   "cell_type": "code",
   "execution_count": null,
   "metadata": {},
   "outputs": [],
   "source": []
  },
  {
   "cell_type": "code",
   "execution_count": 48,
   "metadata": {},
   "outputs": [
    {
     "data": {
      "text/html": [
       "<div>\n",
       "<style scoped>\n",
       "    .dataframe tbody tr th:only-of-type {\n",
       "        vertical-align: middle;\n",
       "    }\n",
       "\n",
       "    .dataframe tbody tr th {\n",
       "        vertical-align: top;\n",
       "    }\n",
       "\n",
       "    .dataframe thead th {\n",
       "        text-align: right;\n",
       "    }\n",
       "</style>\n",
       "<table border=\"1\" class=\"dataframe\">\n",
       "  <thead>\n",
       "    <tr style=\"text-align: right;\">\n",
       "      <th></th>\n",
       "      <th>AMT_CREDIT_prev</th>\n",
       "      <th>AMT_APPLICATION_prev</th>\n",
       "    </tr>\n",
       "  </thead>\n",
       "  <tbody>\n",
       "    <tr>\n",
       "      <th>AMT_CREDIT_prev</th>\n",
       "      <td>1.000000</td>\n",
       "      <td>0.972082</td>\n",
       "    </tr>\n",
       "    <tr>\n",
       "      <th>AMT_APPLICATION_prev</th>\n",
       "      <td>0.972082</td>\n",
       "      <td>1.000000</td>\n",
       "    </tr>\n",
       "  </tbody>\n",
       "</table>\n",
       "</div>"
      ],
      "text/plain": [
       "                      AMT_CREDIT_prev  AMT_APPLICATION_prev\n",
       "AMT_CREDIT_prev              1.000000              0.972082\n",
       "AMT_APPLICATION_prev         0.972082              1.000000"
      ]
     },
     "execution_count": 48,
     "metadata": {},
     "output_type": "execute_result"
    }
   ],
   "source": [
    "corre=Pre_App_AMT_out.corr(method='pearson')\n",
    "corre"
   ]
  },
  {
   "cell_type": "markdown",
   "metadata": {},
   "source": [
    "#### AS you can see from There is Positive correlation matrix between this two"
   ]
  },
  {
   "cell_type": "markdown",
   "metadata": {},
   "source": [
    "###  Bivariate anaylysis with Numerical varible vs Continous Variable"
   ]
  },
  {
   "cell_type": "code",
   "execution_count": 49,
   "metadata": {},
   "outputs": [
    {
     "data": {
      "text/html": [
       "<div>\n",
       "<style scoped>\n",
       "    .dataframe tbody tr th:only-of-type {\n",
       "        vertical-align: middle;\n",
       "    }\n",
       "\n",
       "    .dataframe tbody tr th {\n",
       "        vertical-align: top;\n",
       "    }\n",
       "\n",
       "    .dataframe thead th {\n",
       "        text-align: right;\n",
       "    }\n",
       "</style>\n",
       "<table border=\"1\" class=\"dataframe\">\n",
       "  <thead>\n",
       "    <tr style=\"text-align: right;\">\n",
       "      <th></th>\n",
       "      <th>NAME_CONTRACT_STATUS_prev</th>\n",
       "      <th>AMT_CREDIT_prev</th>\n",
       "      <th>AMT_APPLICATION_prev</th>\n",
       "    </tr>\n",
       "  </thead>\n",
       "  <tbody>\n",
       "    <tr>\n",
       "      <th>0</th>\n",
       "      <td>Approved</td>\n",
       "      <td>17145.0</td>\n",
       "      <td>17145.0</td>\n",
       "    </tr>\n",
       "    <tr>\n",
       "      <th>1</th>\n",
       "      <td>Approved</td>\n",
       "      <td>679671.0</td>\n",
       "      <td>607500.0</td>\n",
       "    </tr>\n",
       "    <tr>\n",
       "      <th>2</th>\n",
       "      <td>Approved</td>\n",
       "      <td>136444.5</td>\n",
       "      <td>112500.0</td>\n",
       "    </tr>\n",
       "    <tr>\n",
       "      <th>3</th>\n",
       "      <td>Approved</td>\n",
       "      <td>470790.0</td>\n",
       "      <td>450000.0</td>\n",
       "    </tr>\n",
       "    <tr>\n",
       "      <th>4</th>\n",
       "      <td>Refused</td>\n",
       "      <td>404055.0</td>\n",
       "      <td>337500.0</td>\n",
       "    </tr>\n",
       "  </tbody>\n",
       "</table>\n",
       "</div>"
      ],
      "text/plain": [
       "  NAME_CONTRACT_STATUS_prev  AMT_CREDIT_prev  AMT_APPLICATION_prev\n",
       "0                  Approved          17145.0               17145.0\n",
       "1                  Approved         679671.0              607500.0\n",
       "2                  Approved         136444.5              112500.0\n",
       "3                  Approved         470790.0              450000.0\n",
       "4                   Refused         404055.0              337500.0"
      ]
     },
     "execution_count": 49,
     "metadata": {},
     "output_type": "execute_result"
    }
   ],
   "source": [
    "Pre_App_AMT_out1 = pd.concat([Pre_App_DF.loc[:,'NAME_CONTRACT_STATUS_prev'], Pre_App_AMT_out], axis=1)\n",
    "Pre_App_AMT_out2=Pre_App_AMT_out1.dropna()\n",
    "Pre_App_AMT_out2.index = pd.RangeIndex(len(Pre_App_AMT_out2.index))\n",
    "Pre_App_AMT_out2.head()"
   ]
  },
  {
   "cell_type": "code",
   "execution_count": 50,
   "metadata": {},
   "outputs": [
    {
     "data": {
      "text/html": [
       "<div>\n",
       "<style scoped>\n",
       "    .dataframe tbody tr th:only-of-type {\n",
       "        vertical-align: middle;\n",
       "    }\n",
       "\n",
       "    .dataframe tbody tr th {\n",
       "        vertical-align: top;\n",
       "    }\n",
       "\n",
       "    .dataframe thead th {\n",
       "        text-align: right;\n",
       "    }\n",
       "</style>\n",
       "<table border=\"1\" class=\"dataframe\">\n",
       "  <thead>\n",
       "    <tr style=\"text-align: right;\">\n",
       "      <th></th>\n",
       "      <th>NAME_CONTRACT_STATUS_prev</th>\n",
       "      <th>AMT_CREDIT_prev</th>\n",
       "      <th>AMT_APPLICATION_prev</th>\n",
       "    </tr>\n",
       "  </thead>\n",
       "  <tbody>\n",
       "    <tr>\n",
       "      <th>0</th>\n",
       "      <td>Approved</td>\n",
       "      <td>17145.0</td>\n",
       "      <td>17145.0</td>\n",
       "    </tr>\n",
       "    <tr>\n",
       "      <th>1</th>\n",
       "      <td>Approved</td>\n",
       "      <td>679671.0</td>\n",
       "      <td>607500.0</td>\n",
       "    </tr>\n",
       "    <tr>\n",
       "      <th>2</th>\n",
       "      <td>Approved</td>\n",
       "      <td>136444.5</td>\n",
       "      <td>112500.0</td>\n",
       "    </tr>\n",
       "    <tr>\n",
       "      <th>3</th>\n",
       "      <td>Approved</td>\n",
       "      <td>470790.0</td>\n",
       "      <td>450000.0</td>\n",
       "    </tr>\n",
       "    <tr>\n",
       "      <th>4</th>\n",
       "      <td>Refused</td>\n",
       "      <td>404055.0</td>\n",
       "      <td>337500.0</td>\n",
       "    </tr>\n",
       "    <tr>\n",
       "      <th>5</th>\n",
       "      <td>Approved</td>\n",
       "      <td>340573.5</td>\n",
       "      <td>315000.0</td>\n",
       "    </tr>\n",
       "    <tr>\n",
       "      <th>6</th>\n",
       "      <td>Canceled</td>\n",
       "      <td>0.0</td>\n",
       "      <td>0.0</td>\n",
       "    </tr>\n",
       "    <tr>\n",
       "      <th>7</th>\n",
       "      <td>Canceled</td>\n",
       "      <td>0.0</td>\n",
       "      <td>0.0</td>\n",
       "    </tr>\n",
       "    <tr>\n",
       "      <th>8</th>\n",
       "      <td>Canceled</td>\n",
       "      <td>0.0</td>\n",
       "      <td>0.0</td>\n",
       "    </tr>\n",
       "    <tr>\n",
       "      <th>9</th>\n",
       "      <td>Canceled</td>\n",
       "      <td>0.0</td>\n",
       "      <td>0.0</td>\n",
       "    </tr>\n",
       "    <tr>\n",
       "      <th>19</th>\n",
       "      <td>Refused</td>\n",
       "      <td>49455.0</td>\n",
       "      <td>45000.0</td>\n",
       "    </tr>\n",
       "    <tr>\n",
       "      <th>20</th>\n",
       "      <td>Refused</td>\n",
       "      <td>491580.0</td>\n",
       "      <td>450000.0</td>\n",
       "    </tr>\n",
       "    <tr>\n",
       "      <th>22</th>\n",
       "      <td>Refused</td>\n",
       "      <td>0.0</td>\n",
       "      <td>0.0</td>\n",
       "    </tr>\n",
       "    <tr>\n",
       "      <th>23</th>\n",
       "      <td>Refused</td>\n",
       "      <td>1277104.5</td>\n",
       "      <td>1129500.0</td>\n",
       "    </tr>\n",
       "    <tr>\n",
       "      <th>24</th>\n",
       "      <td>Canceled</td>\n",
       "      <td>0.0</td>\n",
       "      <td>0.0</td>\n",
       "    </tr>\n",
       "    <tr>\n",
       "      <th>41</th>\n",
       "      <td>Unused offer</td>\n",
       "      <td>17950.5</td>\n",
       "      <td>17950.5</td>\n",
       "    </tr>\n",
       "    <tr>\n",
       "      <th>96</th>\n",
       "      <td>Unused offer</td>\n",
       "      <td>23400.0</td>\n",
       "      <td>23400.0</td>\n",
       "    </tr>\n",
       "    <tr>\n",
       "      <th>97</th>\n",
       "      <td>Unused offer</td>\n",
       "      <td>113215.5</td>\n",
       "      <td>113215.5</td>\n",
       "    </tr>\n",
       "    <tr>\n",
       "      <th>151</th>\n",
       "      <td>Unused offer</td>\n",
       "      <td>62860.5</td>\n",
       "      <td>62860.5</td>\n",
       "    </tr>\n",
       "    <tr>\n",
       "      <th>181</th>\n",
       "      <td>Unused offer</td>\n",
       "      <td>27666.0</td>\n",
       "      <td>27666.0</td>\n",
       "    </tr>\n",
       "  </tbody>\n",
       "</table>\n",
       "</div>"
      ],
      "text/plain": [
       "    NAME_CONTRACT_STATUS_prev  AMT_CREDIT_prev  AMT_APPLICATION_prev\n",
       "0                    Approved          17145.0               17145.0\n",
       "1                    Approved         679671.0              607500.0\n",
       "2                    Approved         136444.5              112500.0\n",
       "3                    Approved         470790.0              450000.0\n",
       "4                     Refused         404055.0              337500.0\n",
       "5                    Approved         340573.5              315000.0\n",
       "6                    Canceled              0.0                   0.0\n",
       "7                    Canceled              0.0                   0.0\n",
       "8                    Canceled              0.0                   0.0\n",
       "9                    Canceled              0.0                   0.0\n",
       "19                    Refused          49455.0               45000.0\n",
       "20                    Refused         491580.0              450000.0\n",
       "22                    Refused              0.0                   0.0\n",
       "23                    Refused        1277104.5             1129500.0\n",
       "24                   Canceled              0.0                   0.0\n",
       "41               Unused offer          17950.5               17950.5\n",
       "96               Unused offer          23400.0               23400.0\n",
       "97               Unused offer         113215.5              113215.5\n",
       "151              Unused offer          62860.5               62860.5\n",
       "181              Unused offer          27666.0               27666.0"
      ]
     },
     "execution_count": 50,
     "metadata": {},
     "output_type": "execute_result"
    }
   ],
   "source": [
    "Pre_App_AMT_out3=Pre_App_AMT_out2.groupby(['NAME_CONTRACT_STATUS_prev'])\n",
    "Pre_App_AMT_out3.head()"
   ]
  },
  {
   "cell_type": "code",
   "execution_count": 51,
   "metadata": {},
   "outputs": [
    {
     "data": {
      "text/html": [
       "<div>\n",
       "<style scoped>\n",
       "    .dataframe tbody tr th:only-of-type {\n",
       "        vertical-align: middle;\n",
       "    }\n",
       "\n",
       "    .dataframe tbody tr th {\n",
       "        vertical-align: top;\n",
       "    }\n",
       "\n",
       "    .dataframe thead th {\n",
       "        text-align: right;\n",
       "    }\n",
       "</style>\n",
       "<table border=\"1\" class=\"dataframe\">\n",
       "  <thead>\n",
       "    <tr style=\"text-align: right;\">\n",
       "      <th></th>\n",
       "      <th>AMT_CREDIT_prev</th>\n",
       "      <th>AMT_APPLICATION_prev</th>\n",
       "    </tr>\n",
       "    <tr>\n",
       "      <th>NAME_CONTRACT_STATUS_prev</th>\n",
       "      <th></th>\n",
       "      <th></th>\n",
       "    </tr>\n",
       "  </thead>\n",
       "  <tbody>\n",
       "    <tr>\n",
       "      <th>Approved</th>\n",
       "      <td>199126.299875</td>\n",
       "      <td>177256.080962</td>\n",
       "    </tr>\n",
       "    <tr>\n",
       "      <th>Canceled</th>\n",
       "      <td>21771.178666</td>\n",
       "      <td>20396.190824</td>\n",
       "    </tr>\n",
       "    <tr>\n",
       "      <th>Refused</th>\n",
       "      <td>347508.275658</td>\n",
       "      <td>309023.691949</td>\n",
       "    </tr>\n",
       "    <tr>\n",
       "      <th>Unused offer</th>\n",
       "      <td>69547.710857</td>\n",
       "      <td>69524.451267</td>\n",
       "    </tr>\n",
       "  </tbody>\n",
       "</table>\n",
       "</div>"
      ],
      "text/plain": [
       "                           AMT_CREDIT_prev  AMT_APPLICATION_prev\n",
       "NAME_CONTRACT_STATUS_prev                                       \n",
       "Approved                     199126.299875         177256.080962\n",
       "Canceled                      21771.178666          20396.190824\n",
       "Refused                      347508.275658         309023.691949\n",
       "Unused offer                  69547.710857          69524.451267"
      ]
     },
     "execution_count": 51,
     "metadata": {},
     "output_type": "execute_result"
    }
   ],
   "source": [
    "Pre_App_AMT_out4=Pre_App_AMT_out3['AMT_CREDIT_prev','AMT_APPLICATION_prev'].mean()\n",
    "Pre_App_AMT_out4.head()"
   ]
  },
  {
   "cell_type": "code",
   "execution_count": 52,
   "metadata": {},
   "outputs": [
    {
     "data": {
      "image/png": "[encoded data removed]",
      "text/plain": [
       "<Figure size 432x288 with 1 Axes>"
      ]
     },
     "metadata": {
      "needs_background": "light"
     },
     "output_type": "display_data"
    }
   ],
   "source": [
    "Pre_App_AMT_out4.plot(kind=\"bar\")\n",
    "\n",
    "plt.show()"
   ]
  },
  {
   "cell_type": "markdown",
   "metadata": {},
   "source": [
    "#### Refused rate is greater for greater final loan amount but approval rate is moderate for average Loan Amount"
   ]
  },
  {
   "cell_type": "code",
   "execution_count": null,
   "metadata": {},
   "outputs": [],
   "source": []
  }
 ],
 "metadata": {
  "kernelspec": {
   "display_name": "Python 3",
   "language": "python",
   "name": "python3"
  },
  "language_info": {
   "codemirror_mode": {
    "name": "ipython",
    "version": 3
   },
   "file_extension": ".py",
   "mimetype": "text/x-python",
   "name": "python",
   "nbconvert_exporter": "python",
   "pygments_lexer": "ipython3",
   "version": "3.7.3"
  }
 },
 "nbformat": 4,
 "nbformat_minor": 2
}
