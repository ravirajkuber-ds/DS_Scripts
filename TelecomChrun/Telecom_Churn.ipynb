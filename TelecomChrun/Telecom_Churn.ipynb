{
 "cells": [
  {
   "cell_type": "code",
   "execution_count": 2,
   "metadata": {},
   "outputs": [],
   "source": [
    "#To calculate the execution time of the notebook\n",
    "import timeit\n",
    "start_time = timeit.default_timer()\n",
    "\n",
    "\n",
    "#Importing Required Libraries\n",
    "\n",
    "import numpy as np\n",
    "import pandas as pd\n",
    "import matplotlib.pyplot as plt\n",
    "%matplotlib inline\n",
    "import seaborn as sns\n",
    "import warnings\n",
    "warnings.filterwarnings(\"ignore\")\n",
    "\n",
    "import sklearn\n",
    "from sklearn.linear_model import LogisticRegression\n",
    "from sklearn.model_selection import GridSearchCV\n",
    "from sklearn.preprocessing import scale\n",
    "from sklearn.preprocessing import StandardScaler\n",
    "from sklearn.decomposition import PCA\n",
    "from sklearn.decomposition import IncrementalPCA\n",
    "from sklearn.metrics import silhouette_score\n",
    "from sklearn.model_selection import train_test_split"
   ]
  },
  {
   "cell_type": "code",
   "execution_count": 3,
   "metadata": {},
   "outputs": [],
   "source": [
    "#Set Input File path\n",
    "file_path='C:\\\\Users\\\\Raviraj Kuber\\\\Documents\\\\IIITB\\\\Telecom Case Study\\\\telecom_churn_data.csv'\n",
    "#Load File\n",
    "base_data=pd.read_csv(file_path)"
   ]
  },
  {
   "cell_type": "code",
   "execution_count": 4,
   "metadata": {},
   "outputs": [
    {
     "data": {
      "text/html": [
       "<div>\n",
       "<style scoped>\n",
       "    .dataframe tbody tr th:only-of-type {\n",
       "        vertical-align: middle;\n",
       "    }\n",
       "\n",
       "    .dataframe tbody tr th {\n",
       "        vertical-align: top;\n",
       "    }\n",
       "\n",
       "    .dataframe thead th {\n",
       "        text-align: right;\n",
       "    }\n",
       "</style>\n",
       "<table border=\"1\" class=\"dataframe\">\n",
       "  <thead>\n",
       "    <tr style=\"text-align: right;\">\n",
       "      <th></th>\n",
       "      <th>mobile_number</th>\n",
       "      <th>circle_id</th>\n",
       "      <th>loc_og_t2o_mou</th>\n",
       "      <th>std_og_t2o_mou</th>\n",
       "      <th>loc_ic_t2o_mou</th>\n",
       "      <th>last_date_of_month_6</th>\n",
       "      <th>last_date_of_month_7</th>\n",
       "      <th>last_date_of_month_8</th>\n",
       "      <th>last_date_of_month_9</th>\n",
       "      <th>arpu_6</th>\n",
       "      <th>...</th>\n",
       "      <th>sachet_3g_9</th>\n",
       "      <th>fb_user_6</th>\n",
       "      <th>fb_user_7</th>\n",
       "      <th>fb_user_8</th>\n",
       "      <th>fb_user_9</th>\n",
       "      <th>aon</th>\n",
       "      <th>aug_vbc_3g</th>\n",
       "      <th>jul_vbc_3g</th>\n",
       "      <th>jun_vbc_3g</th>\n",
       "      <th>sep_vbc_3g</th>\n",
       "    </tr>\n",
       "  </thead>\n",
       "  <tbody>\n",
       "    <tr>\n",
       "      <th>0</th>\n",
       "      <td>7000842753</td>\n",
       "      <td>109</td>\n",
       "      <td>0.0</td>\n",
       "      <td>0.0</td>\n",
       "      <td>0.0</td>\n",
       "      <td>6/30/2014</td>\n",
       "      <td>7/31/2014</td>\n",
       "      <td>8/31/2014</td>\n",
       "      <td>9/30/2014</td>\n",
       "      <td>197.385</td>\n",
       "      <td>...</td>\n",
       "      <td>0</td>\n",
       "      <td>1.0</td>\n",
       "      <td>1.0</td>\n",
       "      <td>1.0</td>\n",
       "      <td>NaN</td>\n",
       "      <td>968</td>\n",
       "      <td>30.4</td>\n",
       "      <td>0.0</td>\n",
       "      <td>101.20</td>\n",
       "      <td>3.58</td>\n",
       "    </tr>\n",
       "    <tr>\n",
       "      <th>1</th>\n",
       "      <td>7001865778</td>\n",
       "      <td>109</td>\n",
       "      <td>0.0</td>\n",
       "      <td>0.0</td>\n",
       "      <td>0.0</td>\n",
       "      <td>6/30/2014</td>\n",
       "      <td>7/31/2014</td>\n",
       "      <td>8/31/2014</td>\n",
       "      <td>9/30/2014</td>\n",
       "      <td>34.047</td>\n",
       "      <td>...</td>\n",
       "      <td>0</td>\n",
       "      <td>NaN</td>\n",
       "      <td>1.0</td>\n",
       "      <td>1.0</td>\n",
       "      <td>NaN</td>\n",
       "      <td>1006</td>\n",
       "      <td>0.0</td>\n",
       "      <td>0.0</td>\n",
       "      <td>0.00</td>\n",
       "      <td>0.00</td>\n",
       "    </tr>\n",
       "    <tr>\n",
       "      <th>2</th>\n",
       "      <td>7001625959</td>\n",
       "      <td>109</td>\n",
       "      <td>0.0</td>\n",
       "      <td>0.0</td>\n",
       "      <td>0.0</td>\n",
       "      <td>6/30/2014</td>\n",
       "      <td>7/31/2014</td>\n",
       "      <td>8/31/2014</td>\n",
       "      <td>9/30/2014</td>\n",
       "      <td>167.690</td>\n",
       "      <td>...</td>\n",
       "      <td>0</td>\n",
       "      <td>NaN</td>\n",
       "      <td>NaN</td>\n",
       "      <td>NaN</td>\n",
       "      <td>1.0</td>\n",
       "      <td>1103</td>\n",
       "      <td>0.0</td>\n",
       "      <td>0.0</td>\n",
       "      <td>4.17</td>\n",
       "      <td>0.00</td>\n",
       "    </tr>\n",
       "    <tr>\n",
       "      <th>3</th>\n",
       "      <td>7001204172</td>\n",
       "      <td>109</td>\n",
       "      <td>0.0</td>\n",
       "      <td>0.0</td>\n",
       "      <td>0.0</td>\n",
       "      <td>6/30/2014</td>\n",
       "      <td>7/31/2014</td>\n",
       "      <td>8/31/2014</td>\n",
       "      <td>9/30/2014</td>\n",
       "      <td>221.338</td>\n",
       "      <td>...</td>\n",
       "      <td>0</td>\n",
       "      <td>NaN</td>\n",
       "      <td>NaN</td>\n",
       "      <td>NaN</td>\n",
       "      <td>NaN</td>\n",
       "      <td>2491</td>\n",
       "      <td>0.0</td>\n",
       "      <td>0.0</td>\n",
       "      <td>0.00</td>\n",
       "      <td>0.00</td>\n",
       "    </tr>\n",
       "    <tr>\n",
       "      <th>4</th>\n",
       "      <td>7000142493</td>\n",
       "      <td>109</td>\n",
       "      <td>0.0</td>\n",
       "      <td>0.0</td>\n",
       "      <td>0.0</td>\n",
       "      <td>6/30/2014</td>\n",
       "      <td>7/31/2014</td>\n",
       "      <td>8/31/2014</td>\n",
       "      <td>9/30/2014</td>\n",
       "      <td>261.636</td>\n",
       "      <td>...</td>\n",
       "      <td>0</td>\n",
       "      <td>0.0</td>\n",
       "      <td>NaN</td>\n",
       "      <td>NaN</td>\n",
       "      <td>NaN</td>\n",
       "      <td>1526</td>\n",
       "      <td>0.0</td>\n",
       "      <td>0.0</td>\n",
       "      <td>0.00</td>\n",
       "      <td>0.00</td>\n",
       "    </tr>\n",
       "  </tbody>\n",
       "</table>\n",
       "<p>5 rows × 226 columns</p>\n",
       "</div>"
      ],
      "text/plain": [
       "   mobile_number  circle_id  loc_og_t2o_mou  std_og_t2o_mou  loc_ic_t2o_mou  \\\n",
       "0     7000842753        109             0.0             0.0             0.0   \n",
       "1     7001865778        109             0.0             0.0             0.0   \n",
       "2     7001625959        109             0.0             0.0             0.0   \n",
       "3     7001204172        109             0.0             0.0             0.0   \n",
       "4     7000142493        109             0.0             0.0             0.0   \n",
       "\n",
       "  last_date_of_month_6 last_date_of_month_7 last_date_of_month_8  \\\n",
       "0            6/30/2014            7/31/2014            8/31/2014   \n",
       "1            6/30/2014            7/31/2014            8/31/2014   \n",
       "2            6/30/2014            7/31/2014            8/31/2014   \n",
       "3            6/30/2014            7/31/2014            8/31/2014   \n",
       "4            6/30/2014            7/31/2014            8/31/2014   \n",
       "\n",
       "  last_date_of_month_9   arpu_6  ...  sachet_3g_9  fb_user_6  fb_user_7  \\\n",
       "0            9/30/2014  197.385  ...            0        1.0        1.0   \n",
       "1            9/30/2014   34.047  ...            0        NaN        1.0   \n",
       "2            9/30/2014  167.690  ...            0        NaN        NaN   \n",
       "3            9/30/2014  221.338  ...            0        NaN        NaN   \n",
       "4            9/30/2014  261.636  ...            0        0.0        NaN   \n",
       "\n",
       "   fb_user_8  fb_user_9   aon  aug_vbc_3g  jul_vbc_3g  jun_vbc_3g  sep_vbc_3g  \n",
       "0        1.0        NaN   968        30.4         0.0      101.20        3.58  \n",
       "1        1.0        NaN  1006         0.0         0.0        0.00        0.00  \n",
       "2        NaN        1.0  1103         0.0         0.0        4.17        0.00  \n",
       "3        NaN        NaN  2491         0.0         0.0        0.00        0.00  \n",
       "4        NaN        NaN  1526         0.0         0.0        0.00        0.00  \n",
       "\n",
       "[5 rows x 226 columns]"
      ]
     },
     "execution_count": 4,
     "metadata": {},
     "output_type": "execute_result"
    }
   ],
   "source": [
    "base_data.head()"
   ]
  },
  {
   "cell_type": "markdown",
   "metadata": {},
   "source": [
    "**As per the Problem Statement, we require to identify the High Value Customers.Need to derive the Column Avg_Recharge for the** **Months of June & July,to identify the High Value Customers. Hence First we do the required derivations first, before performing Data Cleansing & Massaging Activities.**\n",
    "\n",
    "**Columns Required** \n",
    "\n",
    "**1) total_rech_amt_6**\n",
    "\n",
    "**2) total_rech_amt_7**\n",
    "\n",
    "**3) total_rech_num_6**\n",
    "\n",
    "**4) total_rech_num_7**\n",
    "\n",
    "**5) total_rech_data_6**\n",
    "\n",
    "**6) total_rech_data_7**\n"
   ]
  },
  {
   "cell_type": "markdown",
   "metadata": {},
   "source": [
    "**EDA & Feature Engineering**"
   ]
  },
  {
   "cell_type": "code",
   "execution_count": 4,
   "metadata": {},
   "outputs": [
    {
     "data": {
      "text/plain": [
       "0"
      ]
     },
     "execution_count": 4,
     "metadata": {},
     "output_type": "execute_result"
    }
   ],
   "source": [
    "# Analyze only Columns for June(_6)\n",
    "base_data['total_rech_amt_6'].isnull().sum()"
   ]
  },
  {
   "cell_type": "code",
   "execution_count": 5,
   "metadata": {},
   "outputs": [
    {
     "data": {
      "text/plain": [
       "0"
      ]
     },
     "execution_count": 5,
     "metadata": {},
     "output_type": "execute_result"
    }
   ],
   "source": [
    "base_data['total_rech_num_6'].isnull().sum()"
   ]
  },
  {
   "cell_type": "code",
   "execution_count": 6,
   "metadata": {},
   "outputs": [
    {
     "data": {
      "text/plain": [
       "74846"
      ]
     },
     "execution_count": 6,
     "metadata": {},
     "output_type": "execute_result"
    }
   ],
   "source": [
    "base_data['total_rech_data_6'].isnull().sum()"
   ]
  },
  {
   "cell_type": "code",
   "execution_count": 7,
   "metadata": {},
   "outputs": [
    {
     "data": {
      "text/plain": [
       "array([0.])"
      ]
     },
     "execution_count": 7,
     "metadata": {},
     "output_type": "execute_result"
    }
   ],
   "source": [
    "#It is observed that total_rech_num_6 & total_rech_amt_6 columns have no nulls values,while total_rech_data_6 has over 70% null values. There might be a possibility \n",
    "#that no net recharge was done for those numbers during the month.\n",
    "\n",
    "# Analysing Data Volume Usage where total_rech_data_6 is null\n",
    "\n",
    "base_data['vol_2g_mb_6'].loc[base_data['total_rech_data_6'].isnull()].unique()"
   ]
  },
  {
   "cell_type": "code",
   "execution_count": 8,
   "metadata": {},
   "outputs": [
    {
     "data": {
      "image/png": "[encoded data removed]",
      "text/plain": [
       "<Figure size 144x360 with 1 Axes>"
      ]
     },
     "metadata": {
      "needs_background": "light"
     },
     "output_type": "display_data"
    }
   ],
   "source": [
    "#Plotting Data Counts for vol_2g_mb_6\n",
    "fig, axs = plt.subplots(1, figsize = (2,5))\n",
    "plt1 = sns.countplot(base_data['vol_2g_mb_6'].loc[base_data['total_rech_data_6'].isnull()].unique())\n",
    "plt1=plt1.set_xticklabels(plt1.get_xticklabels(), rotation=40,horizontalalignment='right',fontweight='light', fontsize='x-large')"
   ]
  },
  {
   "cell_type": "code",
   "execution_count": 9,
   "metadata": {},
   "outputs": [
    {
     "data": {
      "text/plain": [
       "array([0.])"
      ]
     },
     "execution_count": 9,
     "metadata": {},
     "output_type": "execute_result"
    }
   ],
   "source": [
    "base_data['vol_3g_mb_6'].loc[base_data['total_rech_data_6'].isnull()].unique()"
   ]
  },
  {
   "cell_type": "code",
   "execution_count": 10,
   "metadata": {},
   "outputs": [
    {
     "data": {
      "image/png": "[encoded data removed]",
      "text/plain": [
       "<Figure size 144x360 with 1 Axes>"
      ]
     },
     "metadata": {
      "needs_background": "light"
     },
     "output_type": "display_data"
    }
   ],
   "source": [
    "#Plotting Data Counts for vol_3g_mb_6\n",
    "fig, axs = plt.subplots(1, figsize = (2,5))\n",
    "plt1 = sns.countplot(base_data['vol_3g_mb_6'].loc[base_data['total_rech_data_6'].isnull()].unique())\n",
    "plt1=plt1.set_xticklabels(plt1.get_xticklabels(), rotation=40,horizontalalignment='right',fontweight='light', fontsize='x-large')"
   ]
  },
  {
   "cell_type": "raw",
   "metadata": {},
   "source": [
    "From tbe abvoe analysis it can be seen that where ever data is missing in total_rech_data_6, corresponding column data for vol_2g_mb_6 & vol_3g_mb_6 are 0. This indicates that no recharcge has been done.Hence the missing values in total_rech_data_6 can be imputed with 0."
   ]
  },
  {
   "cell_type": "code",
   "execution_count": 11,
   "metadata": {},
   "outputs": [],
   "source": [
    "#Imputing Missing Values in total_rech_data_6 with 0.\n",
    "base_data['total_rech_data_6']= base_data['total_rech_data_6'].replace(np.nan, 0)"
   ]
  },
  {
   "cell_type": "code",
   "execution_count": 12,
   "metadata": {},
   "outputs": [
    {
     "data": {
      "text/plain": [
       "0"
      ]
     },
     "execution_count": 12,
     "metadata": {},
     "output_type": "execute_result"
    }
   ],
   "source": [
    "# Analyze only Columns for July(_7)\n",
    "base_data['total_rech_amt_7'].isnull().sum()"
   ]
  },
  {
   "cell_type": "code",
   "execution_count": 13,
   "metadata": {},
   "outputs": [
    {
     "data": {
      "text/plain": [
       "0"
      ]
     },
     "execution_count": 13,
     "metadata": {},
     "output_type": "execute_result"
    }
   ],
   "source": [
    "# Analyze only Columns for July(_7)\n",
    "base_data['total_rech_num_7'].isnull().sum()"
   ]
  },
  {
   "cell_type": "code",
   "execution_count": 14,
   "metadata": {},
   "outputs": [
    {
     "data": {
      "text/plain": [
       "74428"
      ]
     },
     "execution_count": 14,
     "metadata": {},
     "output_type": "execute_result"
    }
   ],
   "source": [
    "# Analyze only Columns for July(_7)\n",
    "base_data['total_rech_data_7'].isnull().sum()"
   ]
  },
  {
   "cell_type": "code",
   "execution_count": 15,
   "metadata": {},
   "outputs": [
    {
     "data": {
      "text/plain": [
       "array([0.])"
      ]
     },
     "execution_count": 15,
     "metadata": {},
     "output_type": "execute_result"
    }
   ],
   "source": [
    "#It is observed that total_rech_num_7 & total_rech_amt_7 columns have no nulls values,\n",
    "#while total_rech_data_7 has over 70% null values. There might be a possibility that no net recharge was \n",
    "# done for those numbers during the month.\n",
    "\n",
    "# Analysing Data Volume Usage where total_rech_data_7 is null\n",
    "\n",
    "base_data['vol_2g_mb_7'].loc[base_data['total_rech_data_7'].isnull()].unique()"
   ]
  },
  {
   "cell_type": "code",
   "execution_count": 16,
   "metadata": {},
   "outputs": [
    {
     "data": {
      "image/png": "[encoded data removed]",
      "text/plain": [
       "<Figure size 144x360 with 1 Axes>"
      ]
     },
     "metadata": {
      "needs_background": "light"
     },
     "output_type": "display_data"
    }
   ],
   "source": [
    "#Plotting Data Counts for vol_2g_mb_7\n",
    "fig, axs = plt.subplots(1, figsize = (2,5))\n",
    "plt1 = sns.countplot(base_data['vol_2g_mb_7'].loc[base_data['total_rech_data_7'].isnull()].unique())\n",
    "plt1=plt1.set_xticklabels(plt1.get_xticklabels(), rotation=40,horizontalalignment='right',fontweight='light', fontsize='x-large')"
   ]
  },
  {
   "cell_type": "code",
   "execution_count": 17,
   "metadata": {},
   "outputs": [
    {
     "data": {
      "text/plain": [
       "array([0.])"
      ]
     },
     "execution_count": 17,
     "metadata": {},
     "output_type": "execute_result"
    }
   ],
   "source": [
    "# Analyze only Columns for July(_7)\n",
    "base_data['vol_3g_mb_7'].loc[base_data['total_rech_data_7'].isnull()].unique()"
   ]
  },
  {
   "cell_type": "code",
   "execution_count": 18,
   "metadata": {},
   "outputs": [
    {
     "data": {
      "image/png": "[encoded data removed]",
      "text/plain": [
       "<Figure size 144x360 with 1 Axes>"
      ]
     },
     "metadata": {
      "needs_background": "light"
     },
     "output_type": "display_data"
    }
   ],
   "source": [
    "#Plotting Data Counts for vol_3g_mb_7\n",
    "fig, axs = plt.subplots(1, figsize = (2,5))\n",
    "plt1 = sns.countplot(base_data['vol_3g_mb_7'].loc[base_data['total_rech_data_7'].isnull()].unique())\n",
    "plt1=plt1.set_xticklabels(plt1.get_xticklabels(), rotation=40,horizontalalignment='right',fontweight='light', fontsize='x-large')"
   ]
  },
  {
   "cell_type": "markdown",
   "metadata": {},
   "source": [
    "**From tbe abvoe analysis it can be seen that where ever data is missing in total_rech_data_7, \n",
    "corresponding column data for vol_2g_mb_7 & vol_3g_mb_7 are 0. This indicates that no recharcge has been done.\n",
    "Hence the missing values in total_rech_data_7 can be imputed with 0.**"
   ]
  },
  {
   "cell_type": "code",
   "execution_count": 19,
   "metadata": {},
   "outputs": [],
   "source": [
    "#Imputing Missing Values in total_rech_data_7 with 0.\n",
    "base_data['total_rech_data_7']= base_data['total_rech_data_7'].replace(np.nan, 0)"
   ]
  },
  {
   "cell_type": "code",
   "execution_count": 20,
   "metadata": {},
   "outputs": [
    {
     "data": {
      "text/plain": [
       "0"
      ]
     },
     "execution_count": 20,
     "metadata": {},
     "output_type": "execute_result"
    }
   ],
   "source": [
    "#Checking the Columns again\n",
    "base_data['total_rech_data_7'].isnull().sum()"
   ]
  },
  {
   "cell_type": "code",
   "execution_count": 21,
   "metadata": {},
   "outputs": [
    {
     "data": {
      "text/plain": [
       "0"
      ]
     },
     "execution_count": 21,
     "metadata": {},
     "output_type": "execute_result"
    }
   ],
   "source": [
    "base_data['total_rech_data_6'].isnull().sum()"
   ]
  },
  {
   "cell_type": "code",
   "execution_count": 22,
   "metadata": {},
   "outputs": [],
   "source": [
    "#Deriving the Column total_recharge_cd_6=total_rech_num_6+total_rech_data_6\n",
    "base_data['total_recharge_cnt_6']=base_data['total_rech_num_6']+base_data['total_rech_data_6']"
   ]
  },
  {
   "cell_type": "code",
   "execution_count": 23,
   "metadata": {},
   "outputs": [
    {
     "data": {
      "text/plain": [
       "0"
      ]
     },
     "execution_count": 23,
     "metadata": {},
     "output_type": "execute_result"
    }
   ],
   "source": [
    "#Basic Column Sanity\n",
    "base_data['total_recharge_cnt_6'].isnull().sum()"
   ]
  },
  {
   "cell_type": "code",
   "execution_count": 24,
   "metadata": {},
   "outputs": [],
   "source": [
    "#Deriving the Column total_recharge_cnt_7=total_rech_num_7+total_rech_data_7\n",
    "base_data['total_recharge_cnt_7']=base_data['total_rech_num_7']+base_data['total_rech_data_7']"
   ]
  },
  {
   "cell_type": "code",
   "execution_count": 25,
   "metadata": {},
   "outputs": [
    {
     "data": {
      "text/plain": [
       "0"
      ]
     },
     "execution_count": 25,
     "metadata": {},
     "output_type": "execute_result"
    }
   ],
   "source": [
    "#Basic Column Sanity\n",
    "base_data['total_recharge_cnt_7'].isnull().sum()"
   ]
  },
  {
   "cell_type": "code",
   "execution_count": 26,
   "metadata": {},
   "outputs": [
    {
     "data": {
      "text/html": [
       "<div>\n",
       "<style scoped>\n",
       "    .dataframe tbody tr th:only-of-type {\n",
       "        vertical-align: middle;\n",
       "    }\n",
       "\n",
       "    .dataframe tbody tr th {\n",
       "        vertical-align: top;\n",
       "    }\n",
       "\n",
       "    .dataframe thead th {\n",
       "        text-align: right;\n",
       "    }\n",
       "</style>\n",
       "<table border=\"1\" class=\"dataframe\">\n",
       "  <thead>\n",
       "    <tr style=\"text-align: right;\">\n",
       "      <th></th>\n",
       "      <th>mobile_number</th>\n",
       "      <th>circle_id</th>\n",
       "      <th>loc_og_t2o_mou</th>\n",
       "      <th>std_og_t2o_mou</th>\n",
       "      <th>loc_ic_t2o_mou</th>\n",
       "      <th>last_date_of_month_6</th>\n",
       "      <th>last_date_of_month_7</th>\n",
       "      <th>last_date_of_month_8</th>\n",
       "      <th>last_date_of_month_9</th>\n",
       "      <th>arpu_6</th>\n",
       "      <th>...</th>\n",
       "      <th>fb_user_7</th>\n",
       "      <th>fb_user_8</th>\n",
       "      <th>fb_user_9</th>\n",
       "      <th>aon</th>\n",
       "      <th>aug_vbc_3g</th>\n",
       "      <th>jul_vbc_3g</th>\n",
       "      <th>jun_vbc_3g</th>\n",
       "      <th>sep_vbc_3g</th>\n",
       "      <th>total_recharge_cnt_6</th>\n",
       "      <th>total_recharge_cnt_7</th>\n",
       "    </tr>\n",
       "  </thead>\n",
       "  <tbody>\n",
       "    <tr>\n",
       "      <th>26</th>\n",
       "      <td>7000335166</td>\n",
       "      <td>109</td>\n",
       "      <td>0.0</td>\n",
       "      <td>0.0</td>\n",
       "      <td>0.0</td>\n",
       "      <td>6/30/2014</td>\n",
       "      <td>7/31/2014</td>\n",
       "      <td>8/31/2014</td>\n",
       "      <td>9/30/2014</td>\n",
       "      <td>0.01</td>\n",
       "      <td>...</td>\n",
       "      <td>1.0</td>\n",
       "      <td>1.0</td>\n",
       "      <td>1.0</td>\n",
       "      <td>766</td>\n",
       "      <td>0.00</td>\n",
       "      <td>0.00</td>\n",
       "      <td>0.00</td>\n",
       "      <td>0.00</td>\n",
       "      <td>0.0</td>\n",
       "      <td>7.0</td>\n",
       "    </tr>\n",
       "    <tr>\n",
       "      <th>91</th>\n",
       "      <td>7000160837</td>\n",
       "      <td>109</td>\n",
       "      <td>0.0</td>\n",
       "      <td>0.0</td>\n",
       "      <td>0.0</td>\n",
       "      <td>6/30/2014</td>\n",
       "      <td>7/31/2014</td>\n",
       "      <td>8/31/2014</td>\n",
       "      <td>9/30/2014</td>\n",
       "      <td>4.00</td>\n",
       "      <td>...</td>\n",
       "      <td>1.0</td>\n",
       "      <td>1.0</td>\n",
       "      <td>1.0</td>\n",
       "      <td>707</td>\n",
       "      <td>0.00</td>\n",
       "      <td>0.00</td>\n",
       "      <td>0.00</td>\n",
       "      <td>0.00</td>\n",
       "      <td>0.0</td>\n",
       "      <td>16.0</td>\n",
       "    </tr>\n",
       "    <tr>\n",
       "      <th>187</th>\n",
       "      <td>7000375019</td>\n",
       "      <td>109</td>\n",
       "      <td>0.0</td>\n",
       "      <td>0.0</td>\n",
       "      <td>0.0</td>\n",
       "      <td>6/30/2014</td>\n",
       "      <td>7/31/2014</td>\n",
       "      <td>8/31/2014</td>\n",
       "      <td>9/30/2014</td>\n",
       "      <td>37.50</td>\n",
       "      <td>...</td>\n",
       "      <td>1.0</td>\n",
       "      <td>1.0</td>\n",
       "      <td>1.0</td>\n",
       "      <td>219</td>\n",
       "      <td>0.00</td>\n",
       "      <td>0.00</td>\n",
       "      <td>0.00</td>\n",
       "      <td>0.00</td>\n",
       "      <td>0.0</td>\n",
       "      <td>4.0</td>\n",
       "    </tr>\n",
       "    <tr>\n",
       "      <th>198</th>\n",
       "      <td>7002122258</td>\n",
       "      <td>109</td>\n",
       "      <td>0.0</td>\n",
       "      <td>0.0</td>\n",
       "      <td>0.0</td>\n",
       "      <td>6/30/2014</td>\n",
       "      <td>7/31/2014</td>\n",
       "      <td>8/31/2014</td>\n",
       "      <td>9/30/2014</td>\n",
       "      <td>17.60</td>\n",
       "      <td>...</td>\n",
       "      <td>NaN</td>\n",
       "      <td>NaN</td>\n",
       "      <td>NaN</td>\n",
       "      <td>978</td>\n",
       "      <td>0.00</td>\n",
       "      <td>0.00</td>\n",
       "      <td>0.00</td>\n",
       "      <td>0.00</td>\n",
       "      <td>0.0</td>\n",
       "      <td>2.0</td>\n",
       "    </tr>\n",
       "    <tr>\n",
       "      <th>232</th>\n",
       "      <td>7000621478</td>\n",
       "      <td>109</td>\n",
       "      <td>NaN</td>\n",
       "      <td>NaN</td>\n",
       "      <td>NaN</td>\n",
       "      <td>6/30/2014</td>\n",
       "      <td>NaN</td>\n",
       "      <td>8/31/2014</td>\n",
       "      <td>NaN</td>\n",
       "      <td>0.70</td>\n",
       "      <td>...</td>\n",
       "      <td>NaN</td>\n",
       "      <td>NaN</td>\n",
       "      <td>NaN</td>\n",
       "      <td>671</td>\n",
       "      <td>0.00</td>\n",
       "      <td>0.00</td>\n",
       "      <td>0.00</td>\n",
       "      <td>0.00</td>\n",
       "      <td>0.0</td>\n",
       "      <td>0.0</td>\n",
       "    </tr>\n",
       "    <tr>\n",
       "      <th>263</th>\n",
       "      <td>7001241836</td>\n",
       "      <td>109</td>\n",
       "      <td>0.0</td>\n",
       "      <td>0.0</td>\n",
       "      <td>0.0</td>\n",
       "      <td>6/30/2014</td>\n",
       "      <td>7/31/2014</td>\n",
       "      <td>8/31/2014</td>\n",
       "      <td>9/30/2014</td>\n",
       "      <td>0.30</td>\n",
       "      <td>...</td>\n",
       "      <td>NaN</td>\n",
       "      <td>1.0</td>\n",
       "      <td>1.0</td>\n",
       "      <td>462</td>\n",
       "      <td>332.47</td>\n",
       "      <td>0.00</td>\n",
       "      <td>0.00</td>\n",
       "      <td>206.72</td>\n",
       "      <td>0.0</td>\n",
       "      <td>7.0</td>\n",
       "    </tr>\n",
       "    <tr>\n",
       "      <th>279</th>\n",
       "      <td>7002323802</td>\n",
       "      <td>109</td>\n",
       "      <td>NaN</td>\n",
       "      <td>NaN</td>\n",
       "      <td>NaN</td>\n",
       "      <td>6/30/2014</td>\n",
       "      <td>NaN</td>\n",
       "      <td>8/31/2014</td>\n",
       "      <td>NaN</td>\n",
       "      <td>0.90</td>\n",
       "      <td>...</td>\n",
       "      <td>NaN</td>\n",
       "      <td>NaN</td>\n",
       "      <td>NaN</td>\n",
       "      <td>663</td>\n",
       "      <td>0.00</td>\n",
       "      <td>0.00</td>\n",
       "      <td>0.00</td>\n",
       "      <td>0.00</td>\n",
       "      <td>0.0</td>\n",
       "      <td>0.0</td>\n",
       "    </tr>\n",
       "    <tr>\n",
       "      <th>371</th>\n",
       "      <td>7002229815</td>\n",
       "      <td>109</td>\n",
       "      <td>0.0</td>\n",
       "      <td>0.0</td>\n",
       "      <td>0.0</td>\n",
       "      <td>6/30/2014</td>\n",
       "      <td>7/31/2014</td>\n",
       "      <td>8/31/2014</td>\n",
       "      <td>9/30/2014</td>\n",
       "      <td>0.00</td>\n",
       "      <td>...</td>\n",
       "      <td>NaN</td>\n",
       "      <td>NaN</td>\n",
       "      <td>NaN</td>\n",
       "      <td>382</td>\n",
       "      <td>0.00</td>\n",
       "      <td>0.00</td>\n",
       "      <td>0.00</td>\n",
       "      <td>0.00</td>\n",
       "      <td>0.0</td>\n",
       "      <td>1.0</td>\n",
       "    </tr>\n",
       "    <tr>\n",
       "      <th>414</th>\n",
       "      <td>7000919353</td>\n",
       "      <td>109</td>\n",
       "      <td>0.0</td>\n",
       "      <td>0.0</td>\n",
       "      <td>0.0</td>\n",
       "      <td>6/30/2014</td>\n",
       "      <td>7/31/2014</td>\n",
       "      <td>8/31/2014</td>\n",
       "      <td>9/30/2014</td>\n",
       "      <td>20.00</td>\n",
       "      <td>...</td>\n",
       "      <td>1.0</td>\n",
       "      <td>1.0</td>\n",
       "      <td>1.0</td>\n",
       "      <td>429</td>\n",
       "      <td>0.00</td>\n",
       "      <td>0.00</td>\n",
       "      <td>0.00</td>\n",
       "      <td>0.00</td>\n",
       "      <td>0.0</td>\n",
       "      <td>12.0</td>\n",
       "    </tr>\n",
       "    <tr>\n",
       "      <th>431</th>\n",
       "      <td>7000599626</td>\n",
       "      <td>109</td>\n",
       "      <td>0.0</td>\n",
       "      <td>0.0</td>\n",
       "      <td>0.0</td>\n",
       "      <td>6/30/2014</td>\n",
       "      <td>7/31/2014</td>\n",
       "      <td>8/31/2014</td>\n",
       "      <td>9/30/2014</td>\n",
       "      <td>3.22</td>\n",
       "      <td>...</td>\n",
       "      <td>1.0</td>\n",
       "      <td>1.0</td>\n",
       "      <td>1.0</td>\n",
       "      <td>251</td>\n",
       "      <td>230.20</td>\n",
       "      <td>182.58</td>\n",
       "      <td>109.79</td>\n",
       "      <td>0.00</td>\n",
       "      <td>0.0</td>\n",
       "      <td>5.0</td>\n",
       "    </tr>\n",
       "  </tbody>\n",
       "</table>\n",
       "<p>10 rows × 228 columns</p>\n",
       "</div>"
      ],
      "text/plain": [
       "     mobile_number  circle_id  loc_og_t2o_mou  std_og_t2o_mou  loc_ic_t2o_mou  \\\n",
       "26      7000335166        109             0.0             0.0             0.0   \n",
       "91      7000160837        109             0.0             0.0             0.0   \n",
       "187     7000375019        109             0.0             0.0             0.0   \n",
       "198     7002122258        109             0.0             0.0             0.0   \n",
       "232     7000621478        109             NaN             NaN             NaN   \n",
       "263     7001241836        109             0.0             0.0             0.0   \n",
       "279     7002323802        109             NaN             NaN             NaN   \n",
       "371     7002229815        109             0.0             0.0             0.0   \n",
       "414     7000919353        109             0.0             0.0             0.0   \n",
       "431     7000599626        109             0.0             0.0             0.0   \n",
       "\n",
       "    last_date_of_month_6 last_date_of_month_7 last_date_of_month_8  \\\n",
       "26             6/30/2014            7/31/2014            8/31/2014   \n",
       "91             6/30/2014            7/31/2014            8/31/2014   \n",
       "187            6/30/2014            7/31/2014            8/31/2014   \n",
       "198            6/30/2014            7/31/2014            8/31/2014   \n",
       "232            6/30/2014                  NaN            8/31/2014   \n",
       "263            6/30/2014            7/31/2014            8/31/2014   \n",
       "279            6/30/2014                  NaN            8/31/2014   \n",
       "371            6/30/2014            7/31/2014            8/31/2014   \n",
       "414            6/30/2014            7/31/2014            8/31/2014   \n",
       "431            6/30/2014            7/31/2014            8/31/2014   \n",
       "\n",
       "    last_date_of_month_9  arpu_6  ...  fb_user_7  fb_user_8  fb_user_9  aon  \\\n",
       "26             9/30/2014    0.01  ...        1.0        1.0        1.0  766   \n",
       "91             9/30/2014    4.00  ...        1.0        1.0        1.0  707   \n",
       "187            9/30/2014   37.50  ...        1.0        1.0        1.0  219   \n",
       "198            9/30/2014   17.60  ...        NaN        NaN        NaN  978   \n",
       "232                  NaN    0.70  ...        NaN        NaN        NaN  671   \n",
       "263            9/30/2014    0.30  ...        NaN        1.0        1.0  462   \n",
       "279                  NaN    0.90  ...        NaN        NaN        NaN  663   \n",
       "371            9/30/2014    0.00  ...        NaN        NaN        NaN  382   \n",
       "414            9/30/2014   20.00  ...        1.0        1.0        1.0  429   \n",
       "431            9/30/2014    3.22  ...        1.0        1.0        1.0  251   \n",
       "\n",
       "     aug_vbc_3g  jul_vbc_3g  jun_vbc_3g  sep_vbc_3g  total_recharge_cnt_6  \\\n",
       "26         0.00        0.00        0.00        0.00                   0.0   \n",
       "91         0.00        0.00        0.00        0.00                   0.0   \n",
       "187        0.00        0.00        0.00        0.00                   0.0   \n",
       "198        0.00        0.00        0.00        0.00                   0.0   \n",
       "232        0.00        0.00        0.00        0.00                   0.0   \n",
       "263      332.47        0.00        0.00      206.72                   0.0   \n",
       "279        0.00        0.00        0.00        0.00                   0.0   \n",
       "371        0.00        0.00        0.00        0.00                   0.0   \n",
       "414        0.00        0.00        0.00        0.00                   0.0   \n",
       "431      230.20      182.58      109.79        0.00                   0.0   \n",
       "\n",
       "     total_recharge_cnt_7  \n",
       "26                    7.0  \n",
       "91                   16.0  \n",
       "187                   4.0  \n",
       "198                   2.0  \n",
       "232                   0.0  \n",
       "263                   7.0  \n",
       "279                   0.0  \n",
       "371                   1.0  \n",
       "414                  12.0  \n",
       "431                   5.0  \n",
       "\n",
       "[10 rows x 228 columns]"
      ]
     },
     "execution_count": 26,
     "metadata": {},
     "output_type": "execute_result"
    }
   ],
   "source": [
    "#Some More Sanity Checks\n",
    "base_data[(base_data['total_rech_amt_6'] ==0) & (base_data['total_rech_num_6']==0) ].head(10)"
   ]
  },
  {
   "cell_type": "code",
   "execution_count": 27,
   "metadata": {},
   "outputs": [
    {
     "data": {
      "text/html": [
       "<div>\n",
       "<style scoped>\n",
       "    .dataframe tbody tr th:only-of-type {\n",
       "        vertical-align: middle;\n",
       "    }\n",
       "\n",
       "    .dataframe tbody tr th {\n",
       "        vertical-align: top;\n",
       "    }\n",
       "\n",
       "    .dataframe thead th {\n",
       "        text-align: right;\n",
       "    }\n",
       "</style>\n",
       "<table border=\"1\" class=\"dataframe\">\n",
       "  <thead>\n",
       "    <tr style=\"text-align: right;\">\n",
       "      <th></th>\n",
       "      <th>mobile_number</th>\n",
       "      <th>circle_id</th>\n",
       "      <th>loc_og_t2o_mou</th>\n",
       "      <th>std_og_t2o_mou</th>\n",
       "      <th>loc_ic_t2o_mou</th>\n",
       "      <th>last_date_of_month_6</th>\n",
       "      <th>last_date_of_month_7</th>\n",
       "      <th>last_date_of_month_8</th>\n",
       "      <th>last_date_of_month_9</th>\n",
       "      <th>arpu_6</th>\n",
       "      <th>...</th>\n",
       "      <th>fb_user_7</th>\n",
       "      <th>fb_user_8</th>\n",
       "      <th>fb_user_9</th>\n",
       "      <th>aon</th>\n",
       "      <th>aug_vbc_3g</th>\n",
       "      <th>jul_vbc_3g</th>\n",
       "      <th>jun_vbc_3g</th>\n",
       "      <th>sep_vbc_3g</th>\n",
       "      <th>total_recharge_cnt_6</th>\n",
       "      <th>total_recharge_cnt_7</th>\n",
       "    </tr>\n",
       "  </thead>\n",
       "  <tbody>\n",
       "    <tr>\n",
       "      <th>52</th>\n",
       "      <td>7001419252</td>\n",
       "      <td>109</td>\n",
       "      <td>0.0</td>\n",
       "      <td>0.0</td>\n",
       "      <td>0.0</td>\n",
       "      <td>6/30/2014</td>\n",
       "      <td>7/31/2014</td>\n",
       "      <td>8/31/2014</td>\n",
       "      <td>9/30/2014</td>\n",
       "      <td>167.881</td>\n",
       "      <td>...</td>\n",
       "      <td>NaN</td>\n",
       "      <td>1.0</td>\n",
       "      <td>1.0</td>\n",
       "      <td>889</td>\n",
       "      <td>0.0</td>\n",
       "      <td>0.0</td>\n",
       "      <td>0.00</td>\n",
       "      <td>0.0</td>\n",
       "      <td>4.0</td>\n",
       "      <td>0.0</td>\n",
       "    </tr>\n",
       "    <tr>\n",
       "      <th>68</th>\n",
       "      <td>7000181022</td>\n",
       "      <td>109</td>\n",
       "      <td>0.0</td>\n",
       "      <td>0.0</td>\n",
       "      <td>0.0</td>\n",
       "      <td>6/30/2014</td>\n",
       "      <td>7/31/2014</td>\n",
       "      <td>8/31/2014</td>\n",
       "      <td>9/30/2014</td>\n",
       "      <td>0.000</td>\n",
       "      <td>...</td>\n",
       "      <td>NaN</td>\n",
       "      <td>NaN</td>\n",
       "      <td>NaN</td>\n",
       "      <td>335</td>\n",
       "      <td>0.0</td>\n",
       "      <td>0.0</td>\n",
       "      <td>0.00</td>\n",
       "      <td>0.0</td>\n",
       "      <td>1.0</td>\n",
       "      <td>0.0</td>\n",
       "    </tr>\n",
       "    <tr>\n",
       "      <th>121</th>\n",
       "      <td>7001904828</td>\n",
       "      <td>109</td>\n",
       "      <td>0.0</td>\n",
       "      <td>0.0</td>\n",
       "      <td>0.0</td>\n",
       "      <td>6/30/2014</td>\n",
       "      <td>7/31/2014</td>\n",
       "      <td>8/31/2014</td>\n",
       "      <td>9/30/2014</td>\n",
       "      <td>289.516</td>\n",
       "      <td>...</td>\n",
       "      <td>NaN</td>\n",
       "      <td>NaN</td>\n",
       "      <td>NaN</td>\n",
       "      <td>2888</td>\n",
       "      <td>0.0</td>\n",
       "      <td>0.0</td>\n",
       "      <td>0.00</td>\n",
       "      <td>0.0</td>\n",
       "      <td>4.0</td>\n",
       "      <td>0.0</td>\n",
       "    </tr>\n",
       "    <tr>\n",
       "      <th>130</th>\n",
       "      <td>7000562233</td>\n",
       "      <td>109</td>\n",
       "      <td>0.0</td>\n",
       "      <td>0.0</td>\n",
       "      <td>0.0</td>\n",
       "      <td>6/30/2014</td>\n",
       "      <td>7/31/2014</td>\n",
       "      <td>8/31/2014</td>\n",
       "      <td>9/30/2014</td>\n",
       "      <td>233.269</td>\n",
       "      <td>...</td>\n",
       "      <td>NaN</td>\n",
       "      <td>NaN</td>\n",
       "      <td>NaN</td>\n",
       "      <td>502</td>\n",
       "      <td>0.0</td>\n",
       "      <td>0.0</td>\n",
       "      <td>0.00</td>\n",
       "      <td>0.0</td>\n",
       "      <td>7.0</td>\n",
       "      <td>0.0</td>\n",
       "    </tr>\n",
       "    <tr>\n",
       "      <th>144</th>\n",
       "      <td>7000816313</td>\n",
       "      <td>109</td>\n",
       "      <td>0.0</td>\n",
       "      <td>0.0</td>\n",
       "      <td>0.0</td>\n",
       "      <td>6/30/2014</td>\n",
       "      <td>NaN</td>\n",
       "      <td>NaN</td>\n",
       "      <td>NaN</td>\n",
       "      <td>340.765</td>\n",
       "      <td>...</td>\n",
       "      <td>NaN</td>\n",
       "      <td>NaN</td>\n",
       "      <td>NaN</td>\n",
       "      <td>1179</td>\n",
       "      <td>0.0</td>\n",
       "      <td>0.0</td>\n",
       "      <td>0.00</td>\n",
       "      <td>0.0</td>\n",
       "      <td>2.0</td>\n",
       "      <td>0.0</td>\n",
       "    </tr>\n",
       "    <tr>\n",
       "      <th>201</th>\n",
       "      <td>7000669827</td>\n",
       "      <td>109</td>\n",
       "      <td>NaN</td>\n",
       "      <td>NaN</td>\n",
       "      <td>NaN</td>\n",
       "      <td>6/30/2014</td>\n",
       "      <td>7/31/2014</td>\n",
       "      <td>8/31/2014</td>\n",
       "      <td>9/30/2014</td>\n",
       "      <td>45.000</td>\n",
       "      <td>...</td>\n",
       "      <td>NaN</td>\n",
       "      <td>NaN</td>\n",
       "      <td>NaN</td>\n",
       "      <td>1069</td>\n",
       "      <td>0.0</td>\n",
       "      <td>0.0</td>\n",
       "      <td>0.00</td>\n",
       "      <td>0.0</td>\n",
       "      <td>1.0</td>\n",
       "      <td>0.0</td>\n",
       "    </tr>\n",
       "    <tr>\n",
       "      <th>202</th>\n",
       "      <td>7001788209</td>\n",
       "      <td>109</td>\n",
       "      <td>NaN</td>\n",
       "      <td>NaN</td>\n",
       "      <td>NaN</td>\n",
       "      <td>6/30/2014</td>\n",
       "      <td>NaN</td>\n",
       "      <td>NaN</td>\n",
       "      <td>NaN</td>\n",
       "      <td>126.339</td>\n",
       "      <td>...</td>\n",
       "      <td>NaN</td>\n",
       "      <td>NaN</td>\n",
       "      <td>NaN</td>\n",
       "      <td>925</td>\n",
       "      <td>0.0</td>\n",
       "      <td>0.0</td>\n",
       "      <td>0.00</td>\n",
       "      <td>0.0</td>\n",
       "      <td>1.0</td>\n",
       "      <td>0.0</td>\n",
       "    </tr>\n",
       "    <tr>\n",
       "      <th>216</th>\n",
       "      <td>7001320191</td>\n",
       "      <td>109</td>\n",
       "      <td>0.0</td>\n",
       "      <td>0.0</td>\n",
       "      <td>0.0</td>\n",
       "      <td>6/30/2014</td>\n",
       "      <td>NaN</td>\n",
       "      <td>NaN</td>\n",
       "      <td>NaN</td>\n",
       "      <td>44.550</td>\n",
       "      <td>...</td>\n",
       "      <td>NaN</td>\n",
       "      <td>NaN</td>\n",
       "      <td>NaN</td>\n",
       "      <td>2834</td>\n",
       "      <td>0.0</td>\n",
       "      <td>0.0</td>\n",
       "      <td>807.06</td>\n",
       "      <td>0.0</td>\n",
       "      <td>6.0</td>\n",
       "      <td>0.0</td>\n",
       "    </tr>\n",
       "    <tr>\n",
       "      <th>232</th>\n",
       "      <td>7000621478</td>\n",
       "      <td>109</td>\n",
       "      <td>NaN</td>\n",
       "      <td>NaN</td>\n",
       "      <td>NaN</td>\n",
       "      <td>6/30/2014</td>\n",
       "      <td>NaN</td>\n",
       "      <td>8/31/2014</td>\n",
       "      <td>NaN</td>\n",
       "      <td>0.700</td>\n",
       "      <td>...</td>\n",
       "      <td>NaN</td>\n",
       "      <td>NaN</td>\n",
       "      <td>NaN</td>\n",
       "      <td>671</td>\n",
       "      <td>0.0</td>\n",
       "      <td>0.0</td>\n",
       "      <td>0.00</td>\n",
       "      <td>0.0</td>\n",
       "      <td>0.0</td>\n",
       "      <td>0.0</td>\n",
       "    </tr>\n",
       "    <tr>\n",
       "      <th>275</th>\n",
       "      <td>7000464930</td>\n",
       "      <td>109</td>\n",
       "      <td>NaN</td>\n",
       "      <td>NaN</td>\n",
       "      <td>NaN</td>\n",
       "      <td>6/30/2014</td>\n",
       "      <td>NaN</td>\n",
       "      <td>NaN</td>\n",
       "      <td>NaN</td>\n",
       "      <td>90.208</td>\n",
       "      <td>...</td>\n",
       "      <td>NaN</td>\n",
       "      <td>NaN</td>\n",
       "      <td>NaN</td>\n",
       "      <td>318</td>\n",
       "      <td>0.0</td>\n",
       "      <td>0.0</td>\n",
       "      <td>0.00</td>\n",
       "      <td>0.0</td>\n",
       "      <td>1.0</td>\n",
       "      <td>0.0</td>\n",
       "    </tr>\n",
       "  </tbody>\n",
       "</table>\n",
       "<p>10 rows × 228 columns</p>\n",
       "</div>"
      ],
      "text/plain": [
       "     mobile_number  circle_id  loc_og_t2o_mou  std_og_t2o_mou  loc_ic_t2o_mou  \\\n",
       "52      7001419252        109             0.0             0.0             0.0   \n",
       "68      7000181022        109             0.0             0.0             0.0   \n",
       "121     7001904828        109             0.0             0.0             0.0   \n",
       "130     7000562233        109             0.0             0.0             0.0   \n",
       "144     7000816313        109             0.0             0.0             0.0   \n",
       "201     7000669827        109             NaN             NaN             NaN   \n",
       "202     7001788209        109             NaN             NaN             NaN   \n",
       "216     7001320191        109             0.0             0.0             0.0   \n",
       "232     7000621478        109             NaN             NaN             NaN   \n",
       "275     7000464930        109             NaN             NaN             NaN   \n",
       "\n",
       "    last_date_of_month_6 last_date_of_month_7 last_date_of_month_8  \\\n",
       "52             6/30/2014            7/31/2014            8/31/2014   \n",
       "68             6/30/2014            7/31/2014            8/31/2014   \n",
       "121            6/30/2014            7/31/2014            8/31/2014   \n",
       "130            6/30/2014            7/31/2014            8/31/2014   \n",
       "144            6/30/2014                  NaN                  NaN   \n",
       "201            6/30/2014            7/31/2014            8/31/2014   \n",
       "202            6/30/2014                  NaN                  NaN   \n",
       "216            6/30/2014                  NaN                  NaN   \n",
       "232            6/30/2014                  NaN            8/31/2014   \n",
       "275            6/30/2014                  NaN                  NaN   \n",
       "\n",
       "    last_date_of_month_9   arpu_6  ...  fb_user_7  fb_user_8  fb_user_9   aon  \\\n",
       "52             9/30/2014  167.881  ...        NaN        1.0        1.0   889   \n",
       "68             9/30/2014    0.000  ...        NaN        NaN        NaN   335   \n",
       "121            9/30/2014  289.516  ...        NaN        NaN        NaN  2888   \n",
       "130            9/30/2014  233.269  ...        NaN        NaN        NaN   502   \n",
       "144                  NaN  340.765  ...        NaN        NaN        NaN  1179   \n",
       "201            9/30/2014   45.000  ...        NaN        NaN        NaN  1069   \n",
       "202                  NaN  126.339  ...        NaN        NaN        NaN   925   \n",
       "216                  NaN   44.550  ...        NaN        NaN        NaN  2834   \n",
       "232                  NaN    0.700  ...        NaN        NaN        NaN   671   \n",
       "275                  NaN   90.208  ...        NaN        NaN        NaN   318   \n",
       "\n",
       "     aug_vbc_3g  jul_vbc_3g  jun_vbc_3g  sep_vbc_3g  total_recharge_cnt_6  \\\n",
       "52          0.0         0.0        0.00         0.0                   4.0   \n",
       "68          0.0         0.0        0.00         0.0                   1.0   \n",
       "121         0.0         0.0        0.00         0.0                   4.0   \n",
       "130         0.0         0.0        0.00         0.0                   7.0   \n",
       "144         0.0         0.0        0.00         0.0                   2.0   \n",
       "201         0.0         0.0        0.00         0.0                   1.0   \n",
       "202         0.0         0.0        0.00         0.0                   1.0   \n",
       "216         0.0         0.0      807.06         0.0                   6.0   \n",
       "232         0.0         0.0        0.00         0.0                   0.0   \n",
       "275         0.0         0.0        0.00         0.0                   1.0   \n",
       "\n",
       "     total_recharge_cnt_7  \n",
       "52                    0.0  \n",
       "68                    0.0  \n",
       "121                   0.0  \n",
       "130                   0.0  \n",
       "144                   0.0  \n",
       "201                   0.0  \n",
       "202                   0.0  \n",
       "216                   0.0  \n",
       "232                   0.0  \n",
       "275                   0.0  \n",
       "\n",
       "[10 rows x 228 columns]"
      ]
     },
     "execution_count": 27,
     "metadata": {},
     "output_type": "execute_result"
    }
   ],
   "source": [
    "#Some More Sanity Checks\n",
    "base_data[(base_data['total_rech_amt_7'] ==0) & (base_data['total_rech_num_7']==0) ].head(10)"
   ]
  },
  {
   "cell_type": "code",
   "execution_count": 28,
   "metadata": {},
   "outputs": [],
   "source": [
    "#Calculating only Calling Recharge for the month of June(_6)\n",
    "base_data['total_calling_rch_6']=(base_data['total_rech_amt_6']/base_data['total_recharge_cnt_6'])*base_data['total_rech_num_6']\n",
    "base_data['total_calling_rch_6']=round(base_data['total_calling_rch_6'],2)"
   ]
  },
  {
   "cell_type": "code",
   "execution_count": 29,
   "metadata": {},
   "outputs": [],
   "source": [
    "#Calculating only Data Recharge for the month of June(_6)\n",
    "base_data['total_data_rch_6']=(base_data['total_rech_amt_6']/base_data['total_recharge_cnt_6'])*base_data['total_rech_data_6']\n",
    "base_data['total_data_rch_6']=round(base_data['total_data_rch_6'],2)"
   ]
  },
  {
   "cell_type": "code",
   "execution_count": 30,
   "metadata": {},
   "outputs": [
    {
     "data": {
      "text/html": [
       "<div>\n",
       "<style scoped>\n",
       "    .dataframe tbody tr th:only-of-type {\n",
       "        vertical-align: middle;\n",
       "    }\n",
       "\n",
       "    .dataframe tbody tr th {\n",
       "        vertical-align: top;\n",
       "    }\n",
       "\n",
       "    .dataframe thead th {\n",
       "        text-align: right;\n",
       "    }\n",
       "</style>\n",
       "<table border=\"1\" class=\"dataframe\">\n",
       "  <thead>\n",
       "    <tr style=\"text-align: right;\">\n",
       "      <th></th>\n",
       "      <th>total_rech_amt_6</th>\n",
       "      <th>total_recharge_cnt_6</th>\n",
       "      <th>total_rech_num_6</th>\n",
       "      <th>total_calling_rch_6</th>\n",
       "      <th>total_rech_data_6</th>\n",
       "      <th>total_data_rch_6</th>\n",
       "    </tr>\n",
       "  </thead>\n",
       "  <tbody>\n",
       "    <tr>\n",
       "      <th>0</th>\n",
       "      <td>362</td>\n",
       "      <td>5.0</td>\n",
       "      <td>4</td>\n",
       "      <td>289.60</td>\n",
       "      <td>1.0</td>\n",
       "      <td>72.40</td>\n",
       "    </tr>\n",
       "    <tr>\n",
       "      <th>1</th>\n",
       "      <td>74</td>\n",
       "      <td>4.0</td>\n",
       "      <td>4</td>\n",
       "      <td>74.00</td>\n",
       "      <td>0.0</td>\n",
       "      <td>0.00</td>\n",
       "    </tr>\n",
       "    <tr>\n",
       "      <th>2</th>\n",
       "      <td>168</td>\n",
       "      <td>5.0</td>\n",
       "      <td>5</td>\n",
       "      <td>168.00</td>\n",
       "      <td>0.0</td>\n",
       "      <td>0.00</td>\n",
       "    </tr>\n",
       "    <tr>\n",
       "      <th>3</th>\n",
       "      <td>230</td>\n",
       "      <td>10.0</td>\n",
       "      <td>10</td>\n",
       "      <td>230.00</td>\n",
       "      <td>0.0</td>\n",
       "      <td>0.00</td>\n",
       "    </tr>\n",
       "    <tr>\n",
       "      <th>4</th>\n",
       "      <td>196</td>\n",
       "      <td>6.0</td>\n",
       "      <td>5</td>\n",
       "      <td>163.33</td>\n",
       "      <td>1.0</td>\n",
       "      <td>32.67</td>\n",
       "    </tr>\n",
       "  </tbody>\n",
       "</table>\n",
       "</div>"
      ],
      "text/plain": [
       "   total_rech_amt_6  total_recharge_cnt_6  total_rech_num_6  \\\n",
       "0               362                   5.0                 4   \n",
       "1                74                   4.0                 4   \n",
       "2               168                   5.0                 5   \n",
       "3               230                  10.0                10   \n",
       "4               196                   6.0                 5   \n",
       "\n",
       "   total_calling_rch_6  total_rech_data_6  total_data_rch_6  \n",
       "0               289.60                1.0             72.40  \n",
       "1                74.00                0.0              0.00  \n",
       "2               168.00                0.0              0.00  \n",
       "3               230.00                0.0              0.00  \n",
       "4               163.33                1.0             32.67  "
      ]
     },
     "execution_count": 30,
     "metadata": {},
     "output_type": "execute_result"
    }
   ],
   "source": [
    "#View Basic data for derived Columns for the month of June(_6)\n",
    "base_data[['total_rech_amt_6','total_recharge_cnt_6','total_rech_num_6','total_calling_rch_6','total_rech_data_6','total_data_rch_6']].head()"
   ]
  },
  {
   "cell_type": "code",
   "execution_count": 31,
   "metadata": {},
   "outputs": [],
   "source": [
    "#Calculating only Calling Recharge for the month of July(_7)\n",
    "base_data['total_calling_rch_7']=(base_data['total_rech_amt_7']/base_data['total_recharge_cnt_7'])*base_data['total_rech_num_7']\n",
    "base_data['total_calling_rch_7']=round(base_data['total_calling_rch_7'],2)"
   ]
  },
  {
   "cell_type": "code",
   "execution_count": 32,
   "metadata": {},
   "outputs": [],
   "source": [
    "#Calculating only Data Recharge for the month of July(_7)\n",
    "base_data['total_data_rch_7']=(base_data['total_rech_amt_7']/base_data['total_recharge_cnt_7'])*base_data['total_rech_data_7']\n",
    "base_data['total_data_rch_7']=round(base_data['total_data_rch_7'],2)"
   ]
  },
  {
   "cell_type": "code",
   "execution_count": 33,
   "metadata": {},
   "outputs": [
    {
     "data": {
      "text/html": [
       "<div>\n",
       "<style scoped>\n",
       "    .dataframe tbody tr th:only-of-type {\n",
       "        vertical-align: middle;\n",
       "    }\n",
       "\n",
       "    .dataframe tbody tr th {\n",
       "        vertical-align: top;\n",
       "    }\n",
       "\n",
       "    .dataframe thead th {\n",
       "        text-align: right;\n",
       "    }\n",
       "</style>\n",
       "<table border=\"1\" class=\"dataframe\">\n",
       "  <thead>\n",
       "    <tr style=\"text-align: right;\">\n",
       "      <th></th>\n",
       "      <th>total_rech_amt_7</th>\n",
       "      <th>total_recharge_cnt_7</th>\n",
       "      <th>total_rech_num_7</th>\n",
       "      <th>total_calling_rch_7</th>\n",
       "      <th>total_rech_data_7</th>\n",
       "      <th>total_data_rch_7</th>\n",
       "    </tr>\n",
       "  </thead>\n",
       "  <tbody>\n",
       "    <tr>\n",
       "      <th>0</th>\n",
       "      <td>252</td>\n",
       "      <td>4.0</td>\n",
       "      <td>3</td>\n",
       "      <td>189.0</td>\n",
       "      <td>1.0</td>\n",
       "      <td>63.0</td>\n",
       "    </tr>\n",
       "    <tr>\n",
       "      <th>1</th>\n",
       "      <td>384</td>\n",
       "      <td>10.0</td>\n",
       "      <td>9</td>\n",
       "      <td>345.6</td>\n",
       "      <td>1.0</td>\n",
       "      <td>38.4</td>\n",
       "    </tr>\n",
       "    <tr>\n",
       "      <th>2</th>\n",
       "      <td>315</td>\n",
       "      <td>4.0</td>\n",
       "      <td>4</td>\n",
       "      <td>315.0</td>\n",
       "      <td>0.0</td>\n",
       "      <td>0.0</td>\n",
       "    </tr>\n",
       "    <tr>\n",
       "      <th>3</th>\n",
       "      <td>310</td>\n",
       "      <td>11.0</td>\n",
       "      <td>11</td>\n",
       "      <td>310.0</td>\n",
       "      <td>0.0</td>\n",
       "      <td>0.0</td>\n",
       "    </tr>\n",
       "    <tr>\n",
       "      <th>4</th>\n",
       "      <td>350</td>\n",
       "      <td>6.0</td>\n",
       "      <td>6</td>\n",
       "      <td>350.0</td>\n",
       "      <td>0.0</td>\n",
       "      <td>0.0</td>\n",
       "    </tr>\n",
       "  </tbody>\n",
       "</table>\n",
       "</div>"
      ],
      "text/plain": [
       "   total_rech_amt_7  total_recharge_cnt_7  total_rech_num_7  \\\n",
       "0               252                   4.0                 3   \n",
       "1               384                  10.0                 9   \n",
       "2               315                   4.0                 4   \n",
       "3               310                  11.0                11   \n",
       "4               350                   6.0                 6   \n",
       "\n",
       "   total_calling_rch_7  total_rech_data_7  total_data_rch_7  \n",
       "0                189.0                1.0              63.0  \n",
       "1                345.6                1.0              38.4  \n",
       "2                315.0                0.0               0.0  \n",
       "3                310.0                0.0               0.0  \n",
       "4                350.0                0.0               0.0  "
      ]
     },
     "execution_count": 33,
     "metadata": {},
     "output_type": "execute_result"
    }
   ],
   "source": [
    "#View Basic data for derived Columns for the month of July(_7)\n",
    "base_data[['total_rech_amt_7','total_recharge_cnt_7','total_rech_num_7','total_calling_rch_7','total_rech_data_7','total_data_rch_7']].head()"
   ]
  },
  {
   "cell_type": "code",
   "execution_count": 34,
   "metadata": {},
   "outputs": [],
   "source": [
    "#Calculating only Calling & Data Recharge for the month of August(_8)\n",
    "base_data['total_rech_data_8']= base_data['total_rech_data_8'].replace(np.nan, 0)\n",
    "base_data['total_recharge_cnt_8']=base_data['total_rech_num_8']+base_data['total_rech_data_8']\n",
    "base_data['total_calling_rch_8']=(base_data['total_rech_amt_8']/base_data['total_recharge_cnt_8'])*base_data['total_rech_num_8']\n",
    "base_data['total_calling_rch_8']=round(base_data['total_calling_rch_8'],2)\n",
    "\n",
    "base_data['total_data_rch_8']=(base_data['total_rech_amt_8']/base_data['total_recharge_cnt_8'])*base_data['total_rech_data_8']\n",
    "base_data['total_data_rch_8']=round(base_data['total_data_rch_8'],2)"
   ]
  },
  {
   "cell_type": "code",
   "execution_count": 35,
   "metadata": {},
   "outputs": [
    {
     "data": {
      "text/html": [
       "<div>\n",
       "<style scoped>\n",
       "    .dataframe tbody tr th:only-of-type {\n",
       "        vertical-align: middle;\n",
       "    }\n",
       "\n",
       "    .dataframe tbody tr th {\n",
       "        vertical-align: top;\n",
       "    }\n",
       "\n",
       "    .dataframe thead th {\n",
       "        text-align: right;\n",
       "    }\n",
       "</style>\n",
       "<table border=\"1\" class=\"dataframe\">\n",
       "  <thead>\n",
       "    <tr style=\"text-align: right;\">\n",
       "      <th></th>\n",
       "      <th>total_rech_num_7</th>\n",
       "      <th>total_rech_data_7</th>\n",
       "      <th>total_recharge_cnt_7</th>\n",
       "    </tr>\n",
       "  </thead>\n",
       "  <tbody>\n",
       "    <tr>\n",
       "      <th>0</th>\n",
       "      <td>3</td>\n",
       "      <td>1.0</td>\n",
       "      <td>4.0</td>\n",
       "    </tr>\n",
       "    <tr>\n",
       "      <th>1</th>\n",
       "      <td>9</td>\n",
       "      <td>1.0</td>\n",
       "      <td>10.0</td>\n",
       "    </tr>\n",
       "    <tr>\n",
       "      <th>2</th>\n",
       "      <td>4</td>\n",
       "      <td>0.0</td>\n",
       "      <td>4.0</td>\n",
       "    </tr>\n",
       "    <tr>\n",
       "      <th>3</th>\n",
       "      <td>11</td>\n",
       "      <td>0.0</td>\n",
       "      <td>11.0</td>\n",
       "    </tr>\n",
       "    <tr>\n",
       "      <th>4</th>\n",
       "      <td>6</td>\n",
       "      <td>0.0</td>\n",
       "      <td>6.0</td>\n",
       "    </tr>\n",
       "  </tbody>\n",
       "</table>\n",
       "</div>"
      ],
      "text/plain": [
       "   total_rech_num_7  total_rech_data_7  total_recharge_cnt_7\n",
       "0                 3                1.0                   4.0\n",
       "1                 9                1.0                  10.0\n",
       "2                 4                0.0                   4.0\n",
       "3                11                0.0                  11.0\n",
       "4                 6                0.0                   6.0"
      ]
     },
     "execution_count": 35,
     "metadata": {},
     "output_type": "execute_result"
    }
   ],
   "source": [
    "base_data[['total_rech_num_7','total_rech_data_7','total_recharge_cnt_7']].head()"
   ]
  },
  {
   "cell_type": "code",
   "execution_count": 36,
   "metadata": {},
   "outputs": [],
   "source": [
    "#Calculating Average Recharge for the month of June & July= (Total_rch_June +Total_rch_July)/2\n",
    "base_data['avg_rch_6_7']=(base_data['total_calling_rch_6']+base_data['total_calling_rch_7']+base_data['total_data_rch_6']+base_data['total_data_rch_7'])/2\n",
    "base_data['avg_rch_6_7']=round(base_data['avg_rch_6_7'],2)"
   ]
  },
  {
   "cell_type": "code",
   "execution_count": 37,
   "metadata": {},
   "outputs": [
    {
     "data": {
      "text/html": [
       "<div>\n",
       "<style scoped>\n",
       "    .dataframe tbody tr th:only-of-type {\n",
       "        vertical-align: middle;\n",
       "    }\n",
       "\n",
       "    .dataframe tbody tr th {\n",
       "        vertical-align: top;\n",
       "    }\n",
       "\n",
       "    .dataframe thead th {\n",
       "        text-align: right;\n",
       "    }\n",
       "</style>\n",
       "<table border=\"1\" class=\"dataframe\">\n",
       "  <thead>\n",
       "    <tr style=\"text-align: right;\">\n",
       "      <th></th>\n",
       "      <th>total_rech_amt_6</th>\n",
       "      <th>total_recharge_cnt_6</th>\n",
       "      <th>total_rech_num_6</th>\n",
       "      <th>total_calling_rch_6</th>\n",
       "      <th>total_rech_data_6</th>\n",
       "      <th>total_data_rch_6</th>\n",
       "      <th>total_rech_amt_7</th>\n",
       "      <th>total_recharge_cnt_7</th>\n",
       "      <th>total_rech_num_7</th>\n",
       "      <th>total_calling_rch_7</th>\n",
       "      <th>total_rech_data_7</th>\n",
       "      <th>total_data_rch_7</th>\n",
       "      <th>avg_rch_6_7</th>\n",
       "    </tr>\n",
       "  </thead>\n",
       "  <tbody>\n",
       "    <tr>\n",
       "      <th>0</th>\n",
       "      <td>362</td>\n",
       "      <td>5.0</td>\n",
       "      <td>4</td>\n",
       "      <td>289.60</td>\n",
       "      <td>1.0</td>\n",
       "      <td>72.40</td>\n",
       "      <td>252</td>\n",
       "      <td>4.0</td>\n",
       "      <td>3</td>\n",
       "      <td>189.0</td>\n",
       "      <td>1.0</td>\n",
       "      <td>63.0</td>\n",
       "      <td>307.0</td>\n",
       "    </tr>\n",
       "    <tr>\n",
       "      <th>1</th>\n",
       "      <td>74</td>\n",
       "      <td>4.0</td>\n",
       "      <td>4</td>\n",
       "      <td>74.00</td>\n",
       "      <td>0.0</td>\n",
       "      <td>0.00</td>\n",
       "      <td>384</td>\n",
       "      <td>10.0</td>\n",
       "      <td>9</td>\n",
       "      <td>345.6</td>\n",
       "      <td>1.0</td>\n",
       "      <td>38.4</td>\n",
       "      <td>229.0</td>\n",
       "    </tr>\n",
       "    <tr>\n",
       "      <th>2</th>\n",
       "      <td>168</td>\n",
       "      <td>5.0</td>\n",
       "      <td>5</td>\n",
       "      <td>168.00</td>\n",
       "      <td>0.0</td>\n",
       "      <td>0.00</td>\n",
       "      <td>315</td>\n",
       "      <td>4.0</td>\n",
       "      <td>4</td>\n",
       "      <td>315.0</td>\n",
       "      <td>0.0</td>\n",
       "      <td>0.0</td>\n",
       "      <td>241.5</td>\n",
       "    </tr>\n",
       "    <tr>\n",
       "      <th>3</th>\n",
       "      <td>230</td>\n",
       "      <td>10.0</td>\n",
       "      <td>10</td>\n",
       "      <td>230.00</td>\n",
       "      <td>0.0</td>\n",
       "      <td>0.00</td>\n",
       "      <td>310</td>\n",
       "      <td>11.0</td>\n",
       "      <td>11</td>\n",
       "      <td>310.0</td>\n",
       "      <td>0.0</td>\n",
       "      <td>0.0</td>\n",
       "      <td>270.0</td>\n",
       "    </tr>\n",
       "    <tr>\n",
       "      <th>4</th>\n",
       "      <td>196</td>\n",
       "      <td>6.0</td>\n",
       "      <td>5</td>\n",
       "      <td>163.33</td>\n",
       "      <td>1.0</td>\n",
       "      <td>32.67</td>\n",
       "      <td>350</td>\n",
       "      <td>6.0</td>\n",
       "      <td>6</td>\n",
       "      <td>350.0</td>\n",
       "      <td>0.0</td>\n",
       "      <td>0.0</td>\n",
       "      <td>273.0</td>\n",
       "    </tr>\n",
       "  </tbody>\n",
       "</table>\n",
       "</div>"
      ],
      "text/plain": [
       "   total_rech_amt_6  total_recharge_cnt_6  total_rech_num_6  \\\n",
       "0               362                   5.0                 4   \n",
       "1                74                   4.0                 4   \n",
       "2               168                   5.0                 5   \n",
       "3               230                  10.0                10   \n",
       "4               196                   6.0                 5   \n",
       "\n",
       "   total_calling_rch_6  total_rech_data_6  total_data_rch_6  total_rech_amt_7  \\\n",
       "0               289.60                1.0             72.40               252   \n",
       "1                74.00                0.0              0.00               384   \n",
       "2               168.00                0.0              0.00               315   \n",
       "3               230.00                0.0              0.00               310   \n",
       "4               163.33                1.0             32.67               350   \n",
       "\n",
       "   total_recharge_cnt_7  total_rech_num_7  total_calling_rch_7  \\\n",
       "0                   4.0                 3                189.0   \n",
       "1                  10.0                 9                345.6   \n",
       "2                   4.0                 4                315.0   \n",
       "3                  11.0                11                310.0   \n",
       "4                   6.0                 6                350.0   \n",
       "\n",
       "   total_rech_data_7  total_data_rch_7  avg_rch_6_7  \n",
       "0                1.0              63.0        307.0  \n",
       "1                1.0              38.4        229.0  \n",
       "2                0.0               0.0        241.5  \n",
       "3                0.0               0.0        270.0  \n",
       "4                0.0               0.0        273.0  "
      ]
     },
     "execution_count": 37,
     "metadata": {},
     "output_type": "execute_result"
    }
   ],
   "source": [
    "# Viewing all the Derived Columns\n",
    "base_data[['total_rech_amt_6','total_recharge_cnt_6','total_rech_num_6','total_calling_rch_6','total_rech_data_6','total_data_rch_6','total_rech_amt_7','total_recharge_cnt_7','total_rech_num_7','total_calling_rch_7','total_rech_data_7','total_data_rch_7','avg_rch_6_7']].head()"
   ]
  },
  {
   "cell_type": "code",
   "execution_count": 38,
   "metadata": {},
   "outputs": [],
   "source": [
    "#Converting Mobile number to Varchar,so that it is not affected by Iterative imputer\n",
    "base_data['mobile_number']=base_data.mobile_number.astype(str)\n",
    "\n",
    "#Add ID column to base data.\n",
    "base_data[\"ID\"]=base_data.index+1000"
   ]
  },
  {
   "cell_type": "code",
   "execution_count": 39,
   "metadata": {},
   "outputs": [
    {
     "data": {
      "text/plain": [
       "count    25153.000000\n",
       "mean         0.914404\n",
       "std          0.279772\n",
       "min          0.000000\n",
       "25%          1.000000\n",
       "50%          1.000000\n",
       "75%          1.000000\n",
       "max          1.000000\n",
       "Name: fb_user_6, dtype: float64"
      ]
     },
     "execution_count": 39,
     "metadata": {},
     "output_type": "execute_result"
    }
   ],
   "source": [
    "#Analyzing Column fb_user_6\n",
    "base_data['fb_user_6'].describe()"
   ]
  },
  {
   "cell_type": "code",
   "execution_count": 40,
   "metadata": {},
   "outputs": [
    {
     "data": {
      "text/plain": [
       "count    25571.000000\n",
       "mean         0.908764\n",
       "std          0.287950\n",
       "min          0.000000\n",
       "25%          1.000000\n",
       "50%          1.000000\n",
       "75%          1.000000\n",
       "max          1.000000\n",
       "Name: fb_user_7, dtype: float64"
      ]
     },
     "execution_count": 40,
     "metadata": {},
     "output_type": "execute_result"
    }
   ],
   "source": [
    "#Analyzing Column fb_user_7\n",
    "base_data['fb_user_7'].describe()"
   ]
  },
  {
   "cell_type": "code",
   "execution_count": 41,
   "metadata": {},
   "outputs": [
    {
     "data": {
      "text/plain": [
       "count    26339.000000\n",
       "mean         0.890808\n",
       "std          0.311885\n",
       "min          0.000000\n",
       "25%          1.000000\n",
       "50%          1.000000\n",
       "75%          1.000000\n",
       "max          1.000000\n",
       "Name: fb_user_8, dtype: float64"
      ]
     },
     "execution_count": 41,
     "metadata": {},
     "output_type": "execute_result"
    }
   ],
   "source": [
    "#Analyzing Column fb_user_8\n",
    "base_data['fb_user_8'].describe()"
   ]
  },
  {
   "cell_type": "code",
   "execution_count": 42,
   "metadata": {},
   "outputs": [],
   "source": [
    "#Analyszing the Above fb_user columns,it can be seen that they are Categorical in nature & contain heavy nulls.\n",
    "#Hence Dropping these Columns\n",
    "\n",
    "#Dropping Fb_user columns\n",
    "base_data=base_data.drop(['fb_user_6','fb_user_7','fb_user_8'],axis=1)"
   ]
  },
  {
   "cell_type": "code",
   "execution_count": 43,
   "metadata": {},
   "outputs": [
    {
     "data": {
      "text/plain": [
       "count    25153.000000\n",
       "mean         0.025086\n",
       "std          0.156391\n",
       "min          0.000000\n",
       "25%          0.000000\n",
       "50%          0.000000\n",
       "75%          0.000000\n",
       "max          1.000000\n",
       "Name: night_pck_user_6, dtype: float64"
      ]
     },
     "execution_count": 43,
     "metadata": {},
     "output_type": "execute_result"
    }
   ],
   "source": [
    "#Analyzing Column night_pck_user_6\n",
    "base_data['night_pck_user_6'].describe()"
   ]
  },
  {
   "cell_type": "code",
   "execution_count": 44,
   "metadata": {},
   "outputs": [
    {
     "data": {
      "text/plain": [
       "0.7484674846748467"
      ]
     },
     "execution_count": 44,
     "metadata": {},
     "output_type": "execute_result"
    }
   ],
   "source": [
    "#Analyzing Column night_pck_user_6\n",
    "base_data['night_pck_user_6'].isnull().sum()/len(base_data)"
   ]
  },
  {
   "cell_type": "code",
   "execution_count": 45,
   "metadata": {},
   "outputs": [
    {
     "data": {
      "text/plain": [
       "count    25571.000000\n",
       "mean         0.023034\n",
       "std          0.150014\n",
       "min          0.000000\n",
       "25%          0.000000\n",
       "50%          0.000000\n",
       "75%          0.000000\n",
       "max          1.000000\n",
       "Name: night_pck_user_7, dtype: float64"
      ]
     },
     "execution_count": 45,
     "metadata": {},
     "output_type": "execute_result"
    }
   ],
   "source": [
    "#Analyzing Column night_pck_user_7\n",
    "base_data['night_pck_user_7'].describe()"
   ]
  },
  {
   "cell_type": "code",
   "execution_count": 46,
   "metadata": {},
   "outputs": [
    {
     "data": {
      "text/plain": [
       "0.7442874428744287"
      ]
     },
     "execution_count": 46,
     "metadata": {},
     "output_type": "execute_result"
    }
   ],
   "source": [
    "#Analyzing Column night_pck_user_7\n",
    "base_data['night_pck_user_7'].isnull().sum()/len(base_data)"
   ]
  },
  {
   "cell_type": "code",
   "execution_count": 47,
   "metadata": {},
   "outputs": [
    {
     "data": {
      "text/plain": [
       "count    26339.000000\n",
       "mean         0.020844\n",
       "std          0.142863\n",
       "min          0.000000\n",
       "25%          0.000000\n",
       "50%          0.000000\n",
       "75%          0.000000\n",
       "max          1.000000\n",
       "Name: night_pck_user_8, dtype: float64"
      ]
     },
     "execution_count": 47,
     "metadata": {},
     "output_type": "execute_result"
    }
   ],
   "source": [
    "#Analyzing Column night_pck_user_8\n",
    "base_data['night_pck_user_8'].describe()"
   ]
  },
  {
   "cell_type": "code",
   "execution_count": 48,
   "metadata": {},
   "outputs": [
    {
     "data": {
      "text/plain": [
       "0.7366073660736607"
      ]
     },
     "execution_count": 48,
     "metadata": {},
     "output_type": "execute_result"
    }
   ],
   "source": [
    "#Analyzing Column night_pck_user_8\n",
    "base_data['night_pck_user_8'].isnull().sum()/len(base_data)"
   ]
  },
  {
   "cell_type": "code",
   "execution_count": 49,
   "metadata": {},
   "outputs": [],
   "source": [
    "#Analyszing the Above night_pck_user columns,it can be seen that they are Categorical in nature & contain heavy nulls.\n",
    "#Hence Dropping these Columns\n",
    "\n",
    "#Dropping Fb_user columns\n",
    "base_data=base_data.drop(['night_pck_user_6','night_pck_user_7','night_pck_user_8'],axis=1)"
   ]
  },
  {
   "cell_type": "code",
   "execution_count": 50,
   "metadata": {},
   "outputs": [],
   "source": [
    "#Implementing Iterative Imputer on Base Data, to fill up nulls\n",
    "#Kindly note that the below code Takes approximately  60-75 Mins to run.\n",
    "\n",
    "from sklearn.experimental import enable_iterative_imputer\n",
    "from sklearn.impute import IterativeImputer\n",
    "numeric_columns = base_data.select_dtypes(include=[np.number])\n",
    "imp_iter = IterativeImputer(max_iter=5, sample_posterior=True, random_state=123)\n",
    "loans_imp_iter = imp_iter.fit_transform(numeric_columns)\n",
    "base_data = pd.DataFrame(loans_imp_iter, columns=numeric_columns.columns)\n",
    "\n",
    "#Converting Id Column to IND\n",
    "base_data['ID']=base_data.ID.astype(int)\n"
   ]
  },
  {
   "cell_type": "code",
   "execution_count": 51,
   "metadata": {},
   "outputs": [
    {
     "data": {
      "text/plain": [
       "<matplotlib.axes._subplots.AxesSubplot at 0x1e739c96c18>"
      ]
     },
     "execution_count": 51,
     "metadata": {},
     "output_type": "execute_result"
    },
    {
     "data": {
      "image/png": "[encoded data removed]",
      "text/plain": [
       "<Figure size 432x288 with 1 Axes>"
      ]
     },
     "metadata": {
      "needs_background": "light"
     },
     "output_type": "display_data"
    }
   ],
   "source": [
    "#View Boxplot for Average Recharge_6_7\n",
    "sns.boxplot(base_data['avg_rch_6_7'])"
   ]
  },
  {
   "cell_type": "code",
   "execution_count": 52,
   "metadata": {},
   "outputs": [
    {
     "data": {
      "text/plain": [
       "368.5"
      ]
     },
     "execution_count": 52,
     "metadata": {},
     "output_type": "execute_result"
    }
   ],
   "source": [
    "#Idenfifying 70th %ile of Average Recharge.\n",
    "avg_70_pile=base_data.avg_rch_6_7.quantile(.7)\n",
    "avg_70_pile"
   ]
  },
  {
   "cell_type": "code",
   "execution_count": 53,
   "metadata": {},
   "outputs": [],
   "source": [
    "#Filter Base Dataframe based on 70 %ile value derived, to get HVC\n",
    "working_data_hvc=base_data[(base_data['avg_rch_6_7']>=avg_70_pile)]"
   ]
  },
  {
   "cell_type": "code",
   "execution_count": 54,
   "metadata": {},
   "outputs": [
    {
     "data": {
      "text/plain": [
       "30015"
      ]
     },
     "execution_count": 54,
     "metadata": {},
     "output_type": "execute_result"
    }
   ],
   "source": [
    "#Length of Derived Dataframe\n",
    "len(working_data_hvc)"
   ]
  },
  {
   "cell_type": "code",
   "execution_count": 55,
   "metadata": {},
   "outputs": [
    {
     "data": {
      "text/html": [
       "<div>\n",
       "<style scoped>\n",
       "    .dataframe tbody tr th:only-of-type {\n",
       "        vertical-align: middle;\n",
       "    }\n",
       "\n",
       "    .dataframe tbody tr th {\n",
       "        vertical-align: top;\n",
       "    }\n",
       "\n",
       "    .dataframe thead th {\n",
       "        text-align: right;\n",
       "    }\n",
       "</style>\n",
       "<table border=\"1\" class=\"dataframe\">\n",
       "  <thead>\n",
       "    <tr style=\"text-align: right;\">\n",
       "      <th></th>\n",
       "      <th>circle_id</th>\n",
       "      <th>loc_og_t2o_mou</th>\n",
       "      <th>std_og_t2o_mou</th>\n",
       "      <th>loc_ic_t2o_mou</th>\n",
       "      <th>arpu_6</th>\n",
       "      <th>arpu_7</th>\n",
       "      <th>arpu_8</th>\n",
       "      <th>arpu_9</th>\n",
       "      <th>onnet_mou_6</th>\n",
       "      <th>onnet_mou_7</th>\n",
       "      <th>...</th>\n",
       "      <th>total_recharge_cnt_7</th>\n",
       "      <th>total_calling_rch_6</th>\n",
       "      <th>total_data_rch_6</th>\n",
       "      <th>total_calling_rch_7</th>\n",
       "      <th>total_data_rch_7</th>\n",
       "      <th>total_recharge_cnt_8</th>\n",
       "      <th>total_calling_rch_8</th>\n",
       "      <th>total_data_rch_8</th>\n",
       "      <th>avg_rch_6_7</th>\n",
       "      <th>ID</th>\n",
       "    </tr>\n",
       "  </thead>\n",
       "  <tbody>\n",
       "    <tr>\n",
       "      <th>7</th>\n",
       "      <td>109.0</td>\n",
       "      <td>0.0</td>\n",
       "      <td>0.0</td>\n",
       "      <td>0.0</td>\n",
       "      <td>1069.180</td>\n",
       "      <td>1349.850</td>\n",
       "      <td>3171.480</td>\n",
       "      <td>500.000</td>\n",
       "      <td>57.84</td>\n",
       "      <td>54.68</td>\n",
       "      <td>...</td>\n",
       "      <td>5.0</td>\n",
       "      <td>1580.0</td>\n",
       "      <td>0.0</td>\n",
       "      <td>790.00</td>\n",
       "      <td>0.00</td>\n",
       "      <td>7.0</td>\n",
       "      <td>3638.00</td>\n",
       "      <td>0.00</td>\n",
       "      <td>1185.0</td>\n",
       "      <td>1007</td>\n",
       "    </tr>\n",
       "    <tr>\n",
       "      <th>8</th>\n",
       "      <td>109.0</td>\n",
       "      <td>0.0</td>\n",
       "      <td>0.0</td>\n",
       "      <td>0.0</td>\n",
       "      <td>378.721</td>\n",
       "      <td>492.223</td>\n",
       "      <td>137.362</td>\n",
       "      <td>166.787</td>\n",
       "      <td>413.69</td>\n",
       "      <td>351.03</td>\n",
       "      <td>...</td>\n",
       "      <td>23.0</td>\n",
       "      <td>437.0</td>\n",
       "      <td>0.0</td>\n",
       "      <td>548.74</td>\n",
       "      <td>52.26</td>\n",
       "      <td>17.0</td>\n",
       "      <td>98.82</td>\n",
       "      <td>21.18</td>\n",
       "      <td>519.0</td>\n",
       "      <td>1008</td>\n",
       "    </tr>\n",
       "    <tr>\n",
       "      <th>13</th>\n",
       "      <td>109.0</td>\n",
       "      <td>0.0</td>\n",
       "      <td>0.0</td>\n",
       "      <td>0.0</td>\n",
       "      <td>492.846</td>\n",
       "      <td>205.671</td>\n",
       "      <td>593.260</td>\n",
       "      <td>322.732</td>\n",
       "      <td>501.76</td>\n",
       "      <td>108.39</td>\n",
       "      <td>...</td>\n",
       "      <td>4.0</td>\n",
       "      <td>507.0</td>\n",
       "      <td>0.0</td>\n",
       "      <td>253.00</td>\n",
       "      <td>0.00</td>\n",
       "      <td>14.0</td>\n",
       "      <td>563.36</td>\n",
       "      <td>153.64</td>\n",
       "      <td>380.0</td>\n",
       "      <td>1013</td>\n",
       "    </tr>\n",
       "    <tr>\n",
       "      <th>16</th>\n",
       "      <td>109.0</td>\n",
       "      <td>0.0</td>\n",
       "      <td>0.0</td>\n",
       "      <td>0.0</td>\n",
       "      <td>430.975</td>\n",
       "      <td>299.869</td>\n",
       "      <td>187.894</td>\n",
       "      <td>206.490</td>\n",
       "      <td>50.51</td>\n",
       "      <td>74.01</td>\n",
       "      <td>...</td>\n",
       "      <td>6.0</td>\n",
       "      <td>570.0</td>\n",
       "      <td>0.0</td>\n",
       "      <td>348.00</td>\n",
       "      <td>0.00</td>\n",
       "      <td>2.0</td>\n",
       "      <td>160.00</td>\n",
       "      <td>0.00</td>\n",
       "      <td>459.0</td>\n",
       "      <td>1016</td>\n",
       "    </tr>\n",
       "    <tr>\n",
       "      <th>17</th>\n",
       "      <td>109.0</td>\n",
       "      <td>0.0</td>\n",
       "      <td>0.0</td>\n",
       "      <td>0.0</td>\n",
       "      <td>690.008</td>\n",
       "      <td>18.980</td>\n",
       "      <td>25.499</td>\n",
       "      <td>257.583</td>\n",
       "      <td>1185.91</td>\n",
       "      <td>9.28</td>\n",
       "      <td>...</td>\n",
       "      <td>2.0</td>\n",
       "      <td>816.0</td>\n",
       "      <td>0.0</td>\n",
       "      <td>0.00</td>\n",
       "      <td>0.00</td>\n",
       "      <td>4.0</td>\n",
       "      <td>30.00</td>\n",
       "      <td>0.00</td>\n",
       "      <td>408.0</td>\n",
       "      <td>1017</td>\n",
       "    </tr>\n",
       "  </tbody>\n",
       "</table>\n",
       "<p>5 rows × 218 columns</p>\n",
       "</div>"
      ],
      "text/plain": [
       "    circle_id  loc_og_t2o_mou  std_og_t2o_mou  loc_ic_t2o_mou    arpu_6  \\\n",
       "7       109.0             0.0             0.0             0.0  1069.180   \n",
       "8       109.0             0.0             0.0             0.0   378.721   \n",
       "13      109.0             0.0             0.0             0.0   492.846   \n",
       "16      109.0             0.0             0.0             0.0   430.975   \n",
       "17      109.0             0.0             0.0             0.0   690.008   \n",
       "\n",
       "      arpu_7    arpu_8   arpu_9  onnet_mou_6  onnet_mou_7  ...  \\\n",
       "7   1349.850  3171.480  500.000        57.84        54.68  ...   \n",
       "8    492.223   137.362  166.787       413.69       351.03  ...   \n",
       "13   205.671   593.260  322.732       501.76       108.39  ...   \n",
       "16   299.869   187.894  206.490        50.51        74.01  ...   \n",
       "17    18.980    25.499  257.583      1185.91         9.28  ...   \n",
       "\n",
       "    total_recharge_cnt_7  total_calling_rch_6  total_data_rch_6  \\\n",
       "7                    5.0               1580.0               0.0   \n",
       "8                   23.0                437.0               0.0   \n",
       "13                   4.0                507.0               0.0   \n",
       "16                   6.0                570.0               0.0   \n",
       "17                   2.0                816.0               0.0   \n",
       "\n",
       "    total_calling_rch_7  total_data_rch_7  total_recharge_cnt_8  \\\n",
       "7                790.00              0.00                   7.0   \n",
       "8                548.74             52.26                  17.0   \n",
       "13               253.00              0.00                  14.0   \n",
       "16               348.00              0.00                   2.0   \n",
       "17                 0.00              0.00                   4.0   \n",
       "\n",
       "    total_calling_rch_8  total_data_rch_8  avg_rch_6_7    ID  \n",
       "7               3638.00              0.00       1185.0  1007  \n",
       "8                 98.82             21.18        519.0  1008  \n",
       "13               563.36            153.64        380.0  1013  \n",
       "16               160.00              0.00        459.0  1016  \n",
       "17                30.00              0.00        408.0  1017  \n",
       "\n",
       "[5 rows x 218 columns]"
      ]
     },
     "execution_count": 55,
     "metadata": {},
     "output_type": "execute_result"
    }
   ],
   "source": [
    "working_data_hvc.head()"
   ]
  },
  {
   "cell_type": "markdown",
   "metadata": {},
   "source": [
    "**From Above , the working_data_hvc Dataframe consists of the High Value Customers. Overall Dataframe size=30015 Records i.e. \n",
    "**The Organization has 30k High Value Customers, who generate Major Income for the Telecom Company**"
   ]
  },
  {
   "cell_type": "markdown",
   "metadata": {},
   "source": [
    "**Identifying the Chrun Customers. Churn Customers Can be Indentifed using the following 4 Columns**\n",
    "\n",
    "**1) total_ic_mou_9**\n",
    "\n",
    "**2)total_og_mou_9**\n",
    "\n",
    "**3)vol_2g_mb_9**\n",
    "\n",
    "**4)vol_3g_mb_9**\n",
    "\n",
    "**Analyzing these columns**\n"
   ]
  },
  {
   "cell_type": "code",
   "execution_count": 56,
   "metadata": {},
   "outputs": [
    {
     "data": {
      "text/plain": [
       "total_ic_mou_9    0\n",
       "total_og_mou_9    0\n",
       "dtype: int64"
      ]
     },
     "execution_count": 56,
     "metadata": {},
     "output_type": "execute_result"
    }
   ],
   "source": [
    "#Null Analysis on Incoming & Outgoing Calling Data\n",
    "working_data_hvc[['total_ic_mou_9','total_og_mou_9']].isnull().sum()"
   ]
  },
  {
   "cell_type": "code",
   "execution_count": 57,
   "metadata": {},
   "outputs": [
    {
     "data": {
      "text/plain": [
       "total_ic_mou_9    0.0\n",
       "total_og_mou_9    0.0\n",
       "dtype: float64"
      ]
     },
     "execution_count": 57,
     "metadata": {},
     "output_type": "execute_result"
    }
   ],
   "source": [
    "# Minumum Value of Incoming & Outgoing Calling Data\n",
    "working_data_hvc[['total_ic_mou_9','total_og_mou_9']].min()"
   ]
  },
  {
   "cell_type": "code",
   "execution_count": 58,
   "metadata": {},
   "outputs": [
    {
     "data": {
      "text/plain": [
       "vol_2g_mb_9    0\n",
       "vol_3g_mb_9    0\n",
       "dtype: int64"
      ]
     },
     "execution_count": 58,
     "metadata": {},
     "output_type": "execute_result"
    }
   ],
   "source": [
    "#Null Analysis on 2g & 3g  Data\n",
    "working_data_hvc[['vol_2g_mb_9','vol_3g_mb_9']].isnull().sum()"
   ]
  },
  {
   "cell_type": "code",
   "execution_count": 59,
   "metadata": {},
   "outputs": [
    {
     "data": {
      "text/plain": [
       "vol_2g_mb_9    0.0\n",
       "vol_3g_mb_9    0.0\n",
       "dtype: float64"
      ]
     },
     "execution_count": 59,
     "metadata": {},
     "output_type": "execute_result"
    }
   ],
   "source": [
    "# Minumum Value of 2g & 3g  Data\n",
    "working_data_hvc[['vol_2g_mb_9','vol_3g_mb_9']].min()"
   ]
  },
  {
   "cell_type": "code",
   "execution_count": 60,
   "metadata": {},
   "outputs": [],
   "source": [
    "#From above analysis, it can be seen that All the four columns are not-null and do not require any imputation. Hence we can define\n",
    "#churn as those customer , for whom all the above 4 columns are 0.0"
   ]
  },
  {
   "cell_type": "code",
   "execution_count": 61,
   "metadata": {},
   "outputs": [
    {
     "data": {
      "text/plain": [
       "2597"
      ]
     },
     "execution_count": 61,
     "metadata": {},
     "output_type": "execute_result"
    }
   ],
   "source": [
    "#Count of Records that have Churned\n",
    "len(working_data_hvc[(working_data_hvc['vol_2g_mb_9']==0.0) & (working_data_hvc['vol_3g_mb_9']==0.0) & \n",
    "                 ((working_data_hvc['total_ic_mou_9']==0.0) & (working_data_hvc['total_og_mou_9']==0.0))])"
   ]
  },
  {
   "cell_type": "code",
   "execution_count": 62,
   "metadata": {},
   "outputs": [],
   "source": [
    "#Assigning Value as 1 to Churn Cases\n",
    "working_data_hvc.loc[(working_data_hvc['vol_2g_mb_9'] ==0.0) & (working_data_hvc['vol_3g_mb_9']==0.0)&(working_data_hvc['total_og_mou_9']==0.0) & (working_data_hvc['total_ic_mou_9']==0.0), 'churn'] = 1\n",
    "#Assigning Values as 0 to Non-churn Cases\n",
    "working_data_hvc['churn']= working_data_hvc['churn'].replace(np.nan, 0)"
   ]
  },
  {
   "cell_type": "code",
   "execution_count": 63,
   "metadata": {},
   "outputs": [
    {
     "data": {
      "image/png": "[encoded data removed]",
      "text/plain": [
       "<Figure size 144x360 with 1 Axes>"
      ]
     },
     "metadata": {
      "needs_background": "light"
     },
     "output_type": "display_data"
    }
   ],
   "source": [
    "#Plotting Data Counts for Churn\n",
    "fig, axs = plt.subplots(1, figsize = (2,5))\n",
    "plt1 = sns.countplot(working_data_hvc['churn'].astype(int))\n",
    "plt1=plt1.set_xticklabels(plt1.get_xticklabels(), rotation=40,horizontalalignment='right',fontweight='light', fontsize='x-large')"
   ]
  },
  {
   "cell_type": "code",
   "execution_count": 64,
   "metadata": {},
   "outputs": [
    {
     "data": {
      "text/plain": [
       "2597"
      ]
     },
     "execution_count": 64,
     "metadata": {},
     "output_type": "execute_result"
    }
   ],
   "source": [
    "#Number of Churn Cases\n",
    "len(working_data_hvc.loc[working_data_hvc['churn']==1])"
   ]
  },
  {
   "cell_type": "code",
   "execution_count": 65,
   "metadata": {},
   "outputs": [
    {
     "data": {
      "text/plain": [
       "27418"
      ]
     },
     "execution_count": 65,
     "metadata": {},
     "output_type": "execute_result"
    }
   ],
   "source": [
    "#Number of Non-Churn Cases\n",
    "len(working_data_hvc.loc[working_data_hvc['churn']==0])"
   ]
  },
  {
   "cell_type": "code",
   "execution_count": 66,
   "metadata": {},
   "outputs": [
    {
     "data": {
      "text/html": [
       "<div>\n",
       "<style scoped>\n",
       "    .dataframe tbody tr th:only-of-type {\n",
       "        vertical-align: middle;\n",
       "    }\n",
       "\n",
       "    .dataframe tbody tr th {\n",
       "        vertical-align: top;\n",
       "    }\n",
       "\n",
       "    .dataframe thead th {\n",
       "        text-align: right;\n",
       "    }\n",
       "</style>\n",
       "<table border=\"1\" class=\"dataframe\">\n",
       "  <thead>\n",
       "    <tr style=\"text-align: right;\">\n",
       "      <th></th>\n",
       "      <th>circle_id</th>\n",
       "      <th>loc_og_t2o_mou</th>\n",
       "      <th>std_og_t2o_mou</th>\n",
       "      <th>loc_ic_t2o_mou</th>\n",
       "      <th>arpu_6</th>\n",
       "      <th>arpu_7</th>\n",
       "      <th>arpu_8</th>\n",
       "      <th>arpu_9</th>\n",
       "      <th>onnet_mou_6</th>\n",
       "      <th>onnet_mou_7</th>\n",
       "      <th>...</th>\n",
       "      <th>total_calling_rch_6</th>\n",
       "      <th>total_data_rch_6</th>\n",
       "      <th>total_calling_rch_7</th>\n",
       "      <th>total_data_rch_7</th>\n",
       "      <th>total_recharge_cnt_8</th>\n",
       "      <th>total_calling_rch_8</th>\n",
       "      <th>total_data_rch_8</th>\n",
       "      <th>avg_rch_6_7</th>\n",
       "      <th>ID</th>\n",
       "      <th>churn</th>\n",
       "    </tr>\n",
       "  </thead>\n",
       "  <tbody>\n",
       "    <tr>\n",
       "      <th>7</th>\n",
       "      <td>109.0</td>\n",
       "      <td>0.0</td>\n",
       "      <td>0.0</td>\n",
       "      <td>0.0</td>\n",
       "      <td>1069.180</td>\n",
       "      <td>1349.850</td>\n",
       "      <td>3171.480</td>\n",
       "      <td>500.000</td>\n",
       "      <td>57.84</td>\n",
       "      <td>54.68</td>\n",
       "      <td>...</td>\n",
       "      <td>1580.0</td>\n",
       "      <td>0.0</td>\n",
       "      <td>790.00</td>\n",
       "      <td>0.00</td>\n",
       "      <td>7.0</td>\n",
       "      <td>3638.00</td>\n",
       "      <td>0.00</td>\n",
       "      <td>1185.0</td>\n",
       "      <td>1007</td>\n",
       "      <td>1</td>\n",
       "    </tr>\n",
       "    <tr>\n",
       "      <th>8</th>\n",
       "      <td>109.0</td>\n",
       "      <td>0.0</td>\n",
       "      <td>0.0</td>\n",
       "      <td>0.0</td>\n",
       "      <td>378.721</td>\n",
       "      <td>492.223</td>\n",
       "      <td>137.362</td>\n",
       "      <td>166.787</td>\n",
       "      <td>413.69</td>\n",
       "      <td>351.03</td>\n",
       "      <td>...</td>\n",
       "      <td>437.0</td>\n",
       "      <td>0.0</td>\n",
       "      <td>548.74</td>\n",
       "      <td>52.26</td>\n",
       "      <td>17.0</td>\n",
       "      <td>98.82</td>\n",
       "      <td>21.18</td>\n",
       "      <td>519.0</td>\n",
       "      <td>1008</td>\n",
       "      <td>0</td>\n",
       "    </tr>\n",
       "    <tr>\n",
       "      <th>13</th>\n",
       "      <td>109.0</td>\n",
       "      <td>0.0</td>\n",
       "      <td>0.0</td>\n",
       "      <td>0.0</td>\n",
       "      <td>492.846</td>\n",
       "      <td>205.671</td>\n",
       "      <td>593.260</td>\n",
       "      <td>322.732</td>\n",
       "      <td>501.76</td>\n",
       "      <td>108.39</td>\n",
       "      <td>...</td>\n",
       "      <td>507.0</td>\n",
       "      <td>0.0</td>\n",
       "      <td>253.00</td>\n",
       "      <td>0.00</td>\n",
       "      <td>14.0</td>\n",
       "      <td>563.36</td>\n",
       "      <td>153.64</td>\n",
       "      <td>380.0</td>\n",
       "      <td>1013</td>\n",
       "      <td>0</td>\n",
       "    </tr>\n",
       "    <tr>\n",
       "      <th>16</th>\n",
       "      <td>109.0</td>\n",
       "      <td>0.0</td>\n",
       "      <td>0.0</td>\n",
       "      <td>0.0</td>\n",
       "      <td>430.975</td>\n",
       "      <td>299.869</td>\n",
       "      <td>187.894</td>\n",
       "      <td>206.490</td>\n",
       "      <td>50.51</td>\n",
       "      <td>74.01</td>\n",
       "      <td>...</td>\n",
       "      <td>570.0</td>\n",
       "      <td>0.0</td>\n",
       "      <td>348.00</td>\n",
       "      <td>0.00</td>\n",
       "      <td>2.0</td>\n",
       "      <td>160.00</td>\n",
       "      <td>0.00</td>\n",
       "      <td>459.0</td>\n",
       "      <td>1016</td>\n",
       "      <td>0</td>\n",
       "    </tr>\n",
       "    <tr>\n",
       "      <th>17</th>\n",
       "      <td>109.0</td>\n",
       "      <td>0.0</td>\n",
       "      <td>0.0</td>\n",
       "      <td>0.0</td>\n",
       "      <td>690.008</td>\n",
       "      <td>18.980</td>\n",
       "      <td>25.499</td>\n",
       "      <td>257.583</td>\n",
       "      <td>1185.91</td>\n",
       "      <td>9.28</td>\n",
       "      <td>...</td>\n",
       "      <td>816.0</td>\n",
       "      <td>0.0</td>\n",
       "      <td>0.00</td>\n",
       "      <td>0.00</td>\n",
       "      <td>4.0</td>\n",
       "      <td>30.00</td>\n",
       "      <td>0.00</td>\n",
       "      <td>408.0</td>\n",
       "      <td>1017</td>\n",
       "      <td>0</td>\n",
       "    </tr>\n",
       "  </tbody>\n",
       "</table>\n",
       "<p>5 rows × 219 columns</p>\n",
       "</div>"
      ],
      "text/plain": [
       "    circle_id  loc_og_t2o_mou  std_og_t2o_mou  loc_ic_t2o_mou    arpu_6  \\\n",
       "7       109.0             0.0             0.0             0.0  1069.180   \n",
       "8       109.0             0.0             0.0             0.0   378.721   \n",
       "13      109.0             0.0             0.0             0.0   492.846   \n",
       "16      109.0             0.0             0.0             0.0   430.975   \n",
       "17      109.0             0.0             0.0             0.0   690.008   \n",
       "\n",
       "      arpu_7    arpu_8   arpu_9  onnet_mou_6  onnet_mou_7  ...  \\\n",
       "7   1349.850  3171.480  500.000        57.84        54.68  ...   \n",
       "8    492.223   137.362  166.787       413.69       351.03  ...   \n",
       "13   205.671   593.260  322.732       501.76       108.39  ...   \n",
       "16   299.869   187.894  206.490        50.51        74.01  ...   \n",
       "17    18.980    25.499  257.583      1185.91         9.28  ...   \n",
       "\n",
       "    total_calling_rch_6  total_data_rch_6  total_calling_rch_7  \\\n",
       "7                1580.0               0.0               790.00   \n",
       "8                 437.0               0.0               548.74   \n",
       "13                507.0               0.0               253.00   \n",
       "16                570.0               0.0               348.00   \n",
       "17                816.0               0.0                 0.00   \n",
       "\n",
       "    total_data_rch_7  total_recharge_cnt_8  total_calling_rch_8  \\\n",
       "7               0.00                   7.0              3638.00   \n",
       "8              52.26                  17.0                98.82   \n",
       "13              0.00                  14.0               563.36   \n",
       "16              0.00                   2.0               160.00   \n",
       "17              0.00                   4.0                30.00   \n",
       "\n",
       "    total_data_rch_8  avg_rch_6_7    ID  churn  \n",
       "7               0.00       1185.0  1007      1  \n",
       "8              21.18        519.0  1008      0  \n",
       "13            153.64        380.0  1013      0  \n",
       "16              0.00        459.0  1016      0  \n",
       "17              0.00        408.0  1017      0  \n",
       "\n",
       "[5 rows x 219 columns]"
      ]
     },
     "execution_count": 66,
     "metadata": {},
     "output_type": "execute_result"
    }
   ],
   "source": [
    "#Converting Churn to int\n",
    "working_data_hvc['churn']=working_data_hvc['churn'].astype(int)\n",
    "#Dataset with Churn Values\n",
    "working_data_hvc.head()"
   ]
  },
  {
   "cell_type": "code",
   "execution_count": 67,
   "metadata": {},
   "outputs": [
    {
     "data": {
      "text/plain": [
       "['arpu_9',\n",
       " 'onnet_mou_9',\n",
       " 'offnet_mou_9',\n",
       " 'roam_ic_mou_9',\n",
       " 'roam_og_mou_9',\n",
       " 'loc_og_t2t_mou_9',\n",
       " 'loc_og_t2m_mou_9',\n",
       " 'loc_og_t2f_mou_9',\n",
       " 'loc_og_t2c_mou_9',\n",
       " 'loc_og_mou_9',\n",
       " 'std_og_t2t_mou_9',\n",
       " 'std_og_t2m_mou_9',\n",
       " 'std_og_t2f_mou_9',\n",
       " 'std_og_t2c_mou_9',\n",
       " 'std_og_mou_9',\n",
       " 'isd_og_mou_9',\n",
       " 'spl_og_mou_9',\n",
       " 'og_others_9',\n",
       " 'total_og_mou_9',\n",
       " 'loc_ic_t2t_mou_9',\n",
       " 'loc_ic_t2m_mou_9',\n",
       " 'loc_ic_t2f_mou_9',\n",
       " 'loc_ic_mou_9',\n",
       " 'std_ic_t2t_mou_9',\n",
       " 'std_ic_t2m_mou_9',\n",
       " 'std_ic_t2f_mou_9',\n",
       " 'std_ic_t2o_mou_9',\n",
       " 'std_ic_mou_9',\n",
       " 'total_ic_mou_9',\n",
       " 'spl_ic_mou_9',\n",
       " 'isd_ic_mou_9',\n",
       " 'ic_others_9',\n",
       " 'total_rech_num_9',\n",
       " 'total_rech_amt_9',\n",
       " 'max_rech_amt_9',\n",
       " 'last_day_rch_amt_9',\n",
       " 'total_rech_data_9',\n",
       " 'max_rech_data_9',\n",
       " 'count_rech_2g_9',\n",
       " 'count_rech_3g_9',\n",
       " 'av_rech_amt_data_9',\n",
       " 'vol_2g_mb_9',\n",
       " 'vol_3g_mb_9',\n",
       " 'arpu_3g_9',\n",
       " 'arpu_2g_9',\n",
       " 'night_pck_user_9',\n",
       " 'monthly_2g_9',\n",
       " 'sachet_2g_9',\n",
       " 'monthly_3g_9',\n",
       " 'sachet_3g_9',\n",
       " 'fb_user_9']"
      ]
     },
     "execution_count": 67,
     "metadata": {},
     "output_type": "execute_result"
    }
   ],
   "source": [
    "#List of Columns that are not required, since churn has been defined.\n",
    "drop_col_list=list(working_data_hvc.filter(regex='_9'))\n",
    "drop_col_list"
   ]
  },
  {
   "cell_type": "code",
   "execution_count": 68,
   "metadata": {},
   "outputs": [],
   "source": [
    "#Dropping the columns\n",
    "working_data_hvc = working_data_hvc[working_data_hvc.columns.drop(drop_col_list)]"
   ]
  },
  {
   "cell_type": "code",
   "execution_count": 69,
   "metadata": {},
   "outputs": [
    {
     "data": {
      "text/html": [
       "<div>\n",
       "<style scoped>\n",
       "    .dataframe tbody tr th:only-of-type {\n",
       "        vertical-align: middle;\n",
       "    }\n",
       "\n",
       "    .dataframe tbody tr th {\n",
       "        vertical-align: top;\n",
       "    }\n",
       "\n",
       "    .dataframe thead th {\n",
       "        text-align: right;\n",
       "    }\n",
       "</style>\n",
       "<table border=\"1\" class=\"dataframe\">\n",
       "  <thead>\n",
       "    <tr style=\"text-align: right;\">\n",
       "      <th></th>\n",
       "      <th>circle_id</th>\n",
       "      <th>loc_og_t2o_mou</th>\n",
       "      <th>std_og_t2o_mou</th>\n",
       "      <th>loc_ic_t2o_mou</th>\n",
       "      <th>arpu_6</th>\n",
       "      <th>arpu_7</th>\n",
       "      <th>arpu_8</th>\n",
       "      <th>onnet_mou_6</th>\n",
       "      <th>onnet_mou_7</th>\n",
       "      <th>onnet_mou_8</th>\n",
       "      <th>...</th>\n",
       "      <th>total_calling_rch_6</th>\n",
       "      <th>total_data_rch_6</th>\n",
       "      <th>total_calling_rch_7</th>\n",
       "      <th>total_data_rch_7</th>\n",
       "      <th>total_recharge_cnt_8</th>\n",
       "      <th>total_calling_rch_8</th>\n",
       "      <th>total_data_rch_8</th>\n",
       "      <th>avg_rch_6_7</th>\n",
       "      <th>ID</th>\n",
       "      <th>churn</th>\n",
       "    </tr>\n",
       "  </thead>\n",
       "  <tbody>\n",
       "    <tr>\n",
       "      <th>7</th>\n",
       "      <td>109.0</td>\n",
       "      <td>0.0</td>\n",
       "      <td>0.0</td>\n",
       "      <td>0.0</td>\n",
       "      <td>1069.180</td>\n",
       "      <td>1349.850</td>\n",
       "      <td>3171.480</td>\n",
       "      <td>57.84</td>\n",
       "      <td>54.68</td>\n",
       "      <td>52.29</td>\n",
       "      <td>...</td>\n",
       "      <td>1580.0</td>\n",
       "      <td>0.0</td>\n",
       "      <td>790.00</td>\n",
       "      <td>0.00</td>\n",
       "      <td>7.0</td>\n",
       "      <td>3638.00</td>\n",
       "      <td>0.00</td>\n",
       "      <td>1185.0</td>\n",
       "      <td>1007</td>\n",
       "      <td>1</td>\n",
       "    </tr>\n",
       "    <tr>\n",
       "      <th>8</th>\n",
       "      <td>109.0</td>\n",
       "      <td>0.0</td>\n",
       "      <td>0.0</td>\n",
       "      <td>0.0</td>\n",
       "      <td>378.721</td>\n",
       "      <td>492.223</td>\n",
       "      <td>137.362</td>\n",
       "      <td>413.69</td>\n",
       "      <td>351.03</td>\n",
       "      <td>35.08</td>\n",
       "      <td>...</td>\n",
       "      <td>437.0</td>\n",
       "      <td>0.0</td>\n",
       "      <td>548.74</td>\n",
       "      <td>52.26</td>\n",
       "      <td>17.0</td>\n",
       "      <td>98.82</td>\n",
       "      <td>21.18</td>\n",
       "      <td>519.0</td>\n",
       "      <td>1008</td>\n",
       "      <td>0</td>\n",
       "    </tr>\n",
       "    <tr>\n",
       "      <th>13</th>\n",
       "      <td>109.0</td>\n",
       "      <td>0.0</td>\n",
       "      <td>0.0</td>\n",
       "      <td>0.0</td>\n",
       "      <td>492.846</td>\n",
       "      <td>205.671</td>\n",
       "      <td>593.260</td>\n",
       "      <td>501.76</td>\n",
       "      <td>108.39</td>\n",
       "      <td>534.24</td>\n",
       "      <td>...</td>\n",
       "      <td>507.0</td>\n",
       "      <td>0.0</td>\n",
       "      <td>253.00</td>\n",
       "      <td>0.00</td>\n",
       "      <td>14.0</td>\n",
       "      <td>563.36</td>\n",
       "      <td>153.64</td>\n",
       "      <td>380.0</td>\n",
       "      <td>1013</td>\n",
       "      <td>0</td>\n",
       "    </tr>\n",
       "    <tr>\n",
       "      <th>16</th>\n",
       "      <td>109.0</td>\n",
       "      <td>0.0</td>\n",
       "      <td>0.0</td>\n",
       "      <td>0.0</td>\n",
       "      <td>430.975</td>\n",
       "      <td>299.869</td>\n",
       "      <td>187.894</td>\n",
       "      <td>50.51</td>\n",
       "      <td>74.01</td>\n",
       "      <td>70.61</td>\n",
       "      <td>...</td>\n",
       "      <td>570.0</td>\n",
       "      <td>0.0</td>\n",
       "      <td>348.00</td>\n",
       "      <td>0.00</td>\n",
       "      <td>2.0</td>\n",
       "      <td>160.00</td>\n",
       "      <td>0.00</td>\n",
       "      <td>459.0</td>\n",
       "      <td>1016</td>\n",
       "      <td>0</td>\n",
       "    </tr>\n",
       "    <tr>\n",
       "      <th>17</th>\n",
       "      <td>109.0</td>\n",
       "      <td>0.0</td>\n",
       "      <td>0.0</td>\n",
       "      <td>0.0</td>\n",
       "      <td>690.008</td>\n",
       "      <td>18.980</td>\n",
       "      <td>25.499</td>\n",
       "      <td>1185.91</td>\n",
       "      <td>9.28</td>\n",
       "      <td>7.79</td>\n",
       "      <td>...</td>\n",
       "      <td>816.0</td>\n",
       "      <td>0.0</td>\n",
       "      <td>0.00</td>\n",
       "      <td>0.00</td>\n",
       "      <td>4.0</td>\n",
       "      <td>30.00</td>\n",
       "      <td>0.00</td>\n",
       "      <td>408.0</td>\n",
       "      <td>1017</td>\n",
       "      <td>0</td>\n",
       "    </tr>\n",
       "  </tbody>\n",
       "</table>\n",
       "<p>5 rows × 168 columns</p>\n",
       "</div>"
      ],
      "text/plain": [
       "    circle_id  loc_og_t2o_mou  std_og_t2o_mou  loc_ic_t2o_mou    arpu_6  \\\n",
       "7       109.0             0.0             0.0             0.0  1069.180   \n",
       "8       109.0             0.0             0.0             0.0   378.721   \n",
       "13      109.0             0.0             0.0             0.0   492.846   \n",
       "16      109.0             0.0             0.0             0.0   430.975   \n",
       "17      109.0             0.0             0.0             0.0   690.008   \n",
       "\n",
       "      arpu_7    arpu_8  onnet_mou_6  onnet_mou_7  onnet_mou_8  ...  \\\n",
       "7   1349.850  3171.480        57.84        54.68        52.29  ...   \n",
       "8    492.223   137.362       413.69       351.03        35.08  ...   \n",
       "13   205.671   593.260       501.76       108.39       534.24  ...   \n",
       "16   299.869   187.894        50.51        74.01        70.61  ...   \n",
       "17    18.980    25.499      1185.91         9.28         7.79  ...   \n",
       "\n",
       "    total_calling_rch_6  total_data_rch_6  total_calling_rch_7  \\\n",
       "7                1580.0               0.0               790.00   \n",
       "8                 437.0               0.0               548.74   \n",
       "13                507.0               0.0               253.00   \n",
       "16                570.0               0.0               348.00   \n",
       "17                816.0               0.0                 0.00   \n",
       "\n",
       "    total_data_rch_7  total_recharge_cnt_8  total_calling_rch_8  \\\n",
       "7               0.00                   7.0              3638.00   \n",
       "8              52.26                  17.0                98.82   \n",
       "13              0.00                  14.0               563.36   \n",
       "16              0.00                   2.0               160.00   \n",
       "17              0.00                   4.0                30.00   \n",
       "\n",
       "    total_data_rch_8  avg_rch_6_7    ID  churn  \n",
       "7               0.00       1185.0  1007      1  \n",
       "8              21.18        519.0  1008      0  \n",
       "13            153.64        380.0  1013      0  \n",
       "16              0.00        459.0  1016      0  \n",
       "17              0.00        408.0  1017      0  \n",
       "\n",
       "[5 rows x 168 columns]"
      ]
     },
     "execution_count": 69,
     "metadata": {},
     "output_type": "execute_result"
    }
   ],
   "source": [
    "#Final Working Dataframe\n",
    "working_data_hvc.head()"
   ]
  },
  {
   "cell_type": "code",
   "execution_count": 70,
   "metadata": {},
   "outputs": [
    {
     "data": {
      "text/plain": [
       "30015"
      ]
     },
     "execution_count": 70,
     "metadata": {},
     "output_type": "execute_result"
    }
   ],
   "source": [
    "len(working_data_hvc)"
   ]
  },
  {
   "cell_type": "code",
   "execution_count": 71,
   "metadata": {},
   "outputs": [],
   "source": [
    "#Exploratory Data Analysis"
   ]
  },
  {
   "cell_type": "code",
   "execution_count": 72,
   "metadata": {},
   "outputs": [],
   "source": [
    "#Recharge Analysis for the Month of June\n",
    "analysis_frame=pd.DataFrame({'KPI':['Total_Recharge_Overall_June'], 'Value': base_data['total_rech_amt_6'].sum()})\n",
    "temp=pd.DataFrame({'KPI':['Total_Recharge_HVC_June'], 'Value':working_data_hvc['total_rech_amt_6'].sum()})\n",
    "analysis_frame=pd.concat([analysis_frame,temp])"
   ]
  },
  {
   "cell_type": "code",
   "execution_count": 73,
   "metadata": {},
   "outputs": [
    {
     "data": {
      "image/png": "[encoded data removed]",
      "text/plain": [
       "<Figure size 432x288 with 1 Axes>"
      ]
     },
     "metadata": {
      "needs_background": "light"
     },
     "output_type": "display_data"
    }
   ],
   "source": [
    "#Overall Analysis for Recharge Done for the Month of June- All Customers Vs High Value Customers\n",
    "x=analysis_frame['KPI']\n",
    "y=analysis_frame['Value']\n",
    "y_pos = np.arange(len(y))\n",
    "plt.bar(x, y)\n",
    "plt.title('Overall Recharge Comparison - All  vs High Value Customers - June')\n",
    "plt.xlabel('Customer Recharge Base')\n",
    "plt.ylabel('Rechare Amounts (In Crores)')\n",
    "plt.ylim(0,40000000)\n",
    "plt.show()\n"
   ]
  },
  {
   "cell_type": "code",
   "execution_count": 74,
   "metadata": {},
   "outputs": [
    {
     "data": {
      "text/html": [
       "<div>\n",
       "<style scoped>\n",
       "    .dataframe tbody tr th:only-of-type {\n",
       "        vertical-align: middle;\n",
       "    }\n",
       "\n",
       "    .dataframe tbody tr th {\n",
       "        vertical-align: top;\n",
       "    }\n",
       "\n",
       "    .dataframe thead th {\n",
       "        text-align: right;\n",
       "    }\n",
       "</style>\n",
       "<table border=\"1\" class=\"dataframe\">\n",
       "  <thead>\n",
       "    <tr style=\"text-align: right;\">\n",
       "      <th></th>\n",
       "      <th>KPI</th>\n",
       "      <th>Value</th>\n",
       "    </tr>\n",
       "  </thead>\n",
       "  <tbody>\n",
       "    <tr>\n",
       "      <th>0</th>\n",
       "      <td>Total_Recharge_Overall_June</td>\n",
       "      <td>32751134.00</td>\n",
       "    </tr>\n",
       "    <tr>\n",
       "      <th>0</th>\n",
       "      <td>Total_Recharge_HVC_June</td>\n",
       "      <td>20930660.00</td>\n",
       "    </tr>\n",
       "    <tr>\n",
       "      <th>0</th>\n",
       "      <td>%age Contribution of HVC to Total Recharge val...</td>\n",
       "      <td>63.91</td>\n",
       "    </tr>\n",
       "  </tbody>\n",
       "</table>\n",
       "</div>"
      ],
      "text/plain": [
       "                                                 KPI        Value\n",
       "0                        Total_Recharge_Overall_June  32751134.00\n",
       "0                            Total_Recharge_HVC_June  20930660.00\n",
       "0  %age Contribution of HVC to Total Recharge val...        63.91"
      ]
     },
     "execution_count": 74,
     "metadata": {},
     "output_type": "execute_result"
    }
   ],
   "source": [
    "temp= pd.DataFrame({'KPI':['%age Contribution of HVC to Total Recharge value - June'], 'Value':round((working_data_hvc['total_rech_amt_6'].sum()/base_data['total_rech_amt_6'].sum())*100,2)})\n",
    "analysis_frame=pd.concat([analysis_frame,temp])\n",
    "analysis_frame"
   ]
  },
  {
   "cell_type": "code",
   "execution_count": 75,
   "metadata": {},
   "outputs": [],
   "source": [
    "#Recharge Analysis for the Month of July\n",
    "analysis_frame=pd.DataFrame({'KPI':['Total_Recharge_Overall_July'], 'Value': base_data['total_rech_amt_7'].sum()})\n",
    "temp=pd.DataFrame({'KPI':['Total_Recharge_HVC_July'], 'Value':working_data_hvc['total_rech_amt_7'].sum()})\n",
    "analysis_frame=pd.concat([analysis_frame,temp])"
   ]
  },
  {
   "cell_type": "code",
   "execution_count": 76,
   "metadata": {},
   "outputs": [
    {
     "data": {
      "image/png": "[encoded data removed]",
      "text/plain": [
       "<Figure size 432x288 with 1 Axes>"
      ]
     },
     "metadata": {
      "needs_background": "light"
     },
     "output_type": "display_data"
    }
   ],
   "source": [
    "#Overall Analysis for Recharge Done for the Month of July- All Customers Vs High Value Customers\n",
    "x=analysis_frame['KPI']\n",
    "y=analysis_frame['Value']\n",
    "y_pos = np.arange(len(y))\n",
    "plt.bar(x, y)\n",
    "plt.title('Overall Recharge Comparison - All  vs High Value Customers- July')\n",
    "plt.xlabel('Customer Recharge Base')\n",
    "plt.ylabel('Rechare Amounts (In Crores)')\n",
    "plt.ylim(0,40000000)\n",
    "plt.show()"
   ]
  },
  {
   "cell_type": "code",
   "execution_count": 77,
   "metadata": {},
   "outputs": [
    {
     "data": {
      "text/html": [
       "<div>\n",
       "<style scoped>\n",
       "    .dataframe tbody tr th:only-of-type {\n",
       "        vertical-align: middle;\n",
       "    }\n",
       "\n",
       "    .dataframe tbody tr th {\n",
       "        vertical-align: top;\n",
       "    }\n",
       "\n",
       "    .dataframe thead th {\n",
       "        text-align: right;\n",
       "    }\n",
       "</style>\n",
       "<table border=\"1\" class=\"dataframe\">\n",
       "  <thead>\n",
       "    <tr style=\"text-align: right;\">\n",
       "      <th></th>\n",
       "      <th>KPI</th>\n",
       "      <th>Value</th>\n",
       "    </tr>\n",
       "  </thead>\n",
       "  <tbody>\n",
       "    <tr>\n",
       "      <th>0</th>\n",
       "      <td>Total_Recharge_Overall_July</td>\n",
       "      <td>32295974.00</td>\n",
       "    </tr>\n",
       "    <tr>\n",
       "      <th>0</th>\n",
       "      <td>Total_Recharge_HVC_July</td>\n",
       "      <td>20887143.00</td>\n",
       "    </tr>\n",
       "    <tr>\n",
       "      <th>0</th>\n",
       "      <td>%age Contribution of HVC to Total Recharge val...</td>\n",
       "      <td>64.67</td>\n",
       "    </tr>\n",
       "  </tbody>\n",
       "</table>\n",
       "</div>"
      ],
      "text/plain": [
       "                                                 KPI        Value\n",
       "0                        Total_Recharge_Overall_July  32295974.00\n",
       "0                            Total_Recharge_HVC_July  20887143.00\n",
       "0  %age Contribution of HVC to Total Recharge val...        64.67"
      ]
     },
     "execution_count": 77,
     "metadata": {},
     "output_type": "execute_result"
    }
   ],
   "source": [
    "temp= pd.DataFrame({'KPI':['%age Contribution of HVC to Total Recharge value - July'], 'Value':round((working_data_hvc['total_rech_amt_7'].sum()/base_data['total_rech_amt_7'].sum())*100,2)})\n",
    "analysis_frame=pd.concat([analysis_frame,temp])\n",
    "analysis_frame"
   ]
  },
  {
   "cell_type": "code",
   "execution_count": 78,
   "metadata": {},
   "outputs": [],
   "source": [
    "#Recharge Analysis for the Month of August\n",
    "analysis_frame=pd.DataFrame({'KPI':['Total_Recharge_Overall_August'], 'Value': base_data['total_rech_amt_8'].sum()})\n",
    "temp=pd.DataFrame({'KPI':['Total_Recharge_HVC_August'], 'Value':working_data_hvc['total_rech_amt_8'].sum()})\n",
    "analysis_frame=pd.concat([analysis_frame,temp])"
   ]
  },
  {
   "cell_type": "code",
   "execution_count": 79,
   "metadata": {},
   "outputs": [
    {
     "data": {
      "image/png": "[encoded data removed]",
      "text/plain": [
       "<Figure size 432x288 with 1 Axes>"
      ]
     },
     "metadata": {
      "needs_background": "light"
     },
     "output_type": "display_data"
    }
   ],
   "source": [
    "#Overall Analysis for Recharge Done for the Month of August- All Customers Vs High Value Customers\n",
    "x=analysis_frame['KPI']\n",
    "y=analysis_frame['Value']\n",
    "y_pos = np.arange(len(y))\n",
    "plt.bar(x, y)\n",
    "plt.title('Overall Recharge Comparison - All  vs High Value Customers- August')\n",
    "plt.xlabel('Customer Recharge Base')\n",
    "plt.ylabel('Rechare Amounts (In Crores)')\n",
    "plt.ylim(0,40000000)\n",
    "plt.show()"
   ]
  },
  {
   "cell_type": "code",
   "execution_count": 80,
   "metadata": {},
   "outputs": [
    {
     "data": {
      "text/html": [
       "<div>\n",
       "<style scoped>\n",
       "    .dataframe tbody tr th:only-of-type {\n",
       "        vertical-align: middle;\n",
       "    }\n",
       "\n",
       "    .dataframe tbody tr th {\n",
       "        vertical-align: top;\n",
       "    }\n",
       "\n",
       "    .dataframe thead th {\n",
       "        text-align: right;\n",
       "    }\n",
       "</style>\n",
       "<table border=\"1\" class=\"dataframe\">\n",
       "  <thead>\n",
       "    <tr style=\"text-align: right;\">\n",
       "      <th></th>\n",
       "      <th>KPI</th>\n",
       "      <th>Value</th>\n",
       "    </tr>\n",
       "  </thead>\n",
       "  <tbody>\n",
       "    <tr>\n",
       "      <th>0</th>\n",
       "      <td>Total_Recharge_Overall_August</td>\n",
       "      <td>32415388.00</td>\n",
       "    </tr>\n",
       "    <tr>\n",
       "      <th>0</th>\n",
       "      <td>Total_Recharge_HVC_August</td>\n",
       "      <td>18416359.00</td>\n",
       "    </tr>\n",
       "    <tr>\n",
       "      <th>0</th>\n",
       "      <td>%age Contribution of HVC to Total Recharge val...</td>\n",
       "      <td>56.81</td>\n",
       "    </tr>\n",
       "  </tbody>\n",
       "</table>\n",
       "</div>"
      ],
      "text/plain": [
       "                                                 KPI        Value\n",
       "0                      Total_Recharge_Overall_August  32415388.00\n",
       "0                          Total_Recharge_HVC_August  18416359.00\n",
       "0  %age Contribution of HVC to Total Recharge val...        56.81"
      ]
     },
     "execution_count": 80,
     "metadata": {},
     "output_type": "execute_result"
    }
   ],
   "source": [
    "temp= pd.DataFrame({'KPI':['%age Contribution of HVC to Total Recharge value - August'], 'Value':round((working_data_hvc['total_rech_amt_8'].sum()/base_data['total_rech_amt_8'].sum())*100,2)})\n",
    "analysis_frame=pd.concat([analysis_frame,temp])\n",
    "analysis_frame"
   ]
  },
  {
   "cell_type": "markdown",
   "metadata": {},
   "source": [
    "**From Above analysis it can be seen that For the month of June & July HVC Contributes for nearly 64-65% of overall Recharges**\n",
    "**while the same dropped to 57%  in the month of August.**"
   ]
  },
  {
   "cell_type": "code",
   "execution_count": 81,
   "metadata": {},
   "outputs": [
    {
     "data": {
      "text/html": [
       "<div>\n",
       "<style scoped>\n",
       "    .dataframe tbody tr th:only-of-type {\n",
       "        vertical-align: middle;\n",
       "    }\n",
       "\n",
       "    .dataframe tbody tr th {\n",
       "        vertical-align: top;\n",
       "    }\n",
       "\n",
       "    .dataframe thead th {\n",
       "        text-align: right;\n",
       "    }\n",
       "</style>\n",
       "<table border=\"1\" class=\"dataframe\">\n",
       "  <thead>\n",
       "    <tr style=\"text-align: right;\">\n",
       "      <th></th>\n",
       "      <th>circle_id</th>\n",
       "      <th>loc_og_t2o_mou</th>\n",
       "      <th>std_og_t2o_mou</th>\n",
       "      <th>loc_ic_t2o_mou</th>\n",
       "      <th>arpu_6</th>\n",
       "      <th>arpu_7</th>\n",
       "      <th>arpu_8</th>\n",
       "      <th>onnet_mou_6</th>\n",
       "      <th>onnet_mou_7</th>\n",
       "      <th>onnet_mou_8</th>\n",
       "      <th>...</th>\n",
       "      <th>total_calling_rch_6</th>\n",
       "      <th>total_data_rch_6</th>\n",
       "      <th>total_calling_rch_7</th>\n",
       "      <th>total_data_rch_7</th>\n",
       "      <th>total_recharge_cnt_8</th>\n",
       "      <th>total_calling_rch_8</th>\n",
       "      <th>total_data_rch_8</th>\n",
       "      <th>avg_rch_6_7</th>\n",
       "      <th>ID</th>\n",
       "      <th>churn</th>\n",
       "    </tr>\n",
       "  </thead>\n",
       "  <tbody>\n",
       "    <tr>\n",
       "      <th>7</th>\n",
       "      <td>109.0</td>\n",
       "      <td>0.0</td>\n",
       "      <td>0.0</td>\n",
       "      <td>0.0</td>\n",
       "      <td>1069.180</td>\n",
       "      <td>1349.850</td>\n",
       "      <td>3171.480</td>\n",
       "      <td>57.84</td>\n",
       "      <td>54.68</td>\n",
       "      <td>52.29</td>\n",
       "      <td>...</td>\n",
       "      <td>1580.0</td>\n",
       "      <td>0.0</td>\n",
       "      <td>790.00</td>\n",
       "      <td>0.00</td>\n",
       "      <td>7.0</td>\n",
       "      <td>3638.00</td>\n",
       "      <td>0.00</td>\n",
       "      <td>1185.0</td>\n",
       "      <td>1007</td>\n",
       "      <td>1</td>\n",
       "    </tr>\n",
       "    <tr>\n",
       "      <th>8</th>\n",
       "      <td>109.0</td>\n",
       "      <td>0.0</td>\n",
       "      <td>0.0</td>\n",
       "      <td>0.0</td>\n",
       "      <td>378.721</td>\n",
       "      <td>492.223</td>\n",
       "      <td>137.362</td>\n",
       "      <td>413.69</td>\n",
       "      <td>351.03</td>\n",
       "      <td>35.08</td>\n",
       "      <td>...</td>\n",
       "      <td>437.0</td>\n",
       "      <td>0.0</td>\n",
       "      <td>548.74</td>\n",
       "      <td>52.26</td>\n",
       "      <td>17.0</td>\n",
       "      <td>98.82</td>\n",
       "      <td>21.18</td>\n",
       "      <td>519.0</td>\n",
       "      <td>1008</td>\n",
       "      <td>0</td>\n",
       "    </tr>\n",
       "    <tr>\n",
       "      <th>13</th>\n",
       "      <td>109.0</td>\n",
       "      <td>0.0</td>\n",
       "      <td>0.0</td>\n",
       "      <td>0.0</td>\n",
       "      <td>492.846</td>\n",
       "      <td>205.671</td>\n",
       "      <td>593.260</td>\n",
       "      <td>501.76</td>\n",
       "      <td>108.39</td>\n",
       "      <td>534.24</td>\n",
       "      <td>...</td>\n",
       "      <td>507.0</td>\n",
       "      <td>0.0</td>\n",
       "      <td>253.00</td>\n",
       "      <td>0.00</td>\n",
       "      <td>14.0</td>\n",
       "      <td>563.36</td>\n",
       "      <td>153.64</td>\n",
       "      <td>380.0</td>\n",
       "      <td>1013</td>\n",
       "      <td>0</td>\n",
       "    </tr>\n",
       "    <tr>\n",
       "      <th>16</th>\n",
       "      <td>109.0</td>\n",
       "      <td>0.0</td>\n",
       "      <td>0.0</td>\n",
       "      <td>0.0</td>\n",
       "      <td>430.975</td>\n",
       "      <td>299.869</td>\n",
       "      <td>187.894</td>\n",
       "      <td>50.51</td>\n",
       "      <td>74.01</td>\n",
       "      <td>70.61</td>\n",
       "      <td>...</td>\n",
       "      <td>570.0</td>\n",
       "      <td>0.0</td>\n",
       "      <td>348.00</td>\n",
       "      <td>0.00</td>\n",
       "      <td>2.0</td>\n",
       "      <td>160.00</td>\n",
       "      <td>0.00</td>\n",
       "      <td>459.0</td>\n",
       "      <td>1016</td>\n",
       "      <td>0</td>\n",
       "    </tr>\n",
       "    <tr>\n",
       "      <th>17</th>\n",
       "      <td>109.0</td>\n",
       "      <td>0.0</td>\n",
       "      <td>0.0</td>\n",
       "      <td>0.0</td>\n",
       "      <td>690.008</td>\n",
       "      <td>18.980</td>\n",
       "      <td>25.499</td>\n",
       "      <td>1185.91</td>\n",
       "      <td>9.28</td>\n",
       "      <td>7.79</td>\n",
       "      <td>...</td>\n",
       "      <td>816.0</td>\n",
       "      <td>0.0</td>\n",
       "      <td>0.00</td>\n",
       "      <td>0.00</td>\n",
       "      <td>4.0</td>\n",
       "      <td>30.00</td>\n",
       "      <td>0.00</td>\n",
       "      <td>408.0</td>\n",
       "      <td>1017</td>\n",
       "      <td>0</td>\n",
       "    </tr>\n",
       "  </tbody>\n",
       "</table>\n",
       "<p>5 rows × 168 columns</p>\n",
       "</div>"
      ],
      "text/plain": [
       "    circle_id  loc_og_t2o_mou  std_og_t2o_mou  loc_ic_t2o_mou    arpu_6  \\\n",
       "7       109.0             0.0             0.0             0.0  1069.180   \n",
       "8       109.0             0.0             0.0             0.0   378.721   \n",
       "13      109.0             0.0             0.0             0.0   492.846   \n",
       "16      109.0             0.0             0.0             0.0   430.975   \n",
       "17      109.0             0.0             0.0             0.0   690.008   \n",
       "\n",
       "      arpu_7    arpu_8  onnet_mou_6  onnet_mou_7  onnet_mou_8  ...  \\\n",
       "7   1349.850  3171.480        57.84        54.68        52.29  ...   \n",
       "8    492.223   137.362       413.69       351.03        35.08  ...   \n",
       "13   205.671   593.260       501.76       108.39       534.24  ...   \n",
       "16   299.869   187.894        50.51        74.01        70.61  ...   \n",
       "17    18.980    25.499      1185.91         9.28         7.79  ...   \n",
       "\n",
       "    total_calling_rch_6  total_data_rch_6  total_calling_rch_7  \\\n",
       "7                1580.0               0.0               790.00   \n",
       "8                 437.0               0.0               548.74   \n",
       "13                507.0               0.0               253.00   \n",
       "16                570.0               0.0               348.00   \n",
       "17                816.0               0.0                 0.00   \n",
       "\n",
       "    total_data_rch_7  total_recharge_cnt_8  total_calling_rch_8  \\\n",
       "7               0.00                   7.0              3638.00   \n",
       "8              52.26                  17.0                98.82   \n",
       "13              0.00                  14.0               563.36   \n",
       "16              0.00                   2.0               160.00   \n",
       "17              0.00                   4.0                30.00   \n",
       "\n",
       "    total_data_rch_8  avg_rch_6_7    ID  churn  \n",
       "7               0.00       1185.0  1007      1  \n",
       "8              21.18        519.0  1008      0  \n",
       "13            153.64        380.0  1013      0  \n",
       "16              0.00        459.0  1016      0  \n",
       "17              0.00        408.0  1017      0  \n",
       "\n",
       "[5 rows x 168 columns]"
      ]
     },
     "execution_count": 81,
     "metadata": {},
     "output_type": "execute_result"
    }
   ],
   "source": [
    "#View all Numeric Columns\n",
    "working_data_hvc.select_dtypes(include=[np.number]).head()"
   ]
  },
  {
   "cell_type": "code",
   "execution_count": 82,
   "metadata": {},
   "outputs": [
    {
     "data": {
      "text/plain": [
       "count    30015.0\n",
       "mean       109.0\n",
       "std          0.0\n",
       "min        109.0\n",
       "25%        109.0\n",
       "50%        109.0\n",
       "75%        109.0\n",
       "max        109.0\n",
       "Name: circle_id, dtype: float64"
      ]
     },
     "execution_count": 82,
     "metadata": {},
     "output_type": "execute_result"
    }
   ],
   "source": [
    "#Analyzing Column Circle_id\n",
    "working_data_hvc['circle_id'].describe()"
   ]
  },
  {
   "cell_type": "code",
   "execution_count": 83,
   "metadata": {},
   "outputs": [
    {
     "data": {
      "text/plain": [
       "count    30015.000000\n",
       "mean         0.000002\n",
       "std          0.000605\n",
       "min         -0.024802\n",
       "25%          0.000000\n",
       "50%          0.000000\n",
       "75%          0.000000\n",
       "max          0.022535\n",
       "Name: loc_og_t2o_mou, dtype: float64"
      ]
     },
     "execution_count": 83,
     "metadata": {},
     "output_type": "execute_result"
    }
   ],
   "source": [
    "#Analyzing Column loc_og_t2o_mou\n",
    "working_data_hvc['loc_og_t2o_mou'].describe()"
   ]
  },
  {
   "cell_type": "code",
   "execution_count": 84,
   "metadata": {},
   "outputs": [
    {
     "data": {
      "text/plain": [
       "count    30015.000000\n",
       "mean        -0.000005\n",
       "std          0.000632\n",
       "min         -0.024847\n",
       "25%          0.000000\n",
       "50%          0.000000\n",
       "75%          0.000000\n",
       "max          0.028380\n",
       "Name: std_og_t2o_mou, dtype: float64"
      ]
     },
     "execution_count": 84,
     "metadata": {},
     "output_type": "execute_result"
    }
   ],
   "source": [
    "#Analyzing Column std_og_t2o_mou\n",
    "working_data_hvc['std_og_t2o_mou'].describe()"
   ]
  },
  {
   "cell_type": "code",
   "execution_count": 85,
   "metadata": {},
   "outputs": [
    {
     "data": {
      "text/plain": [
       "count    30015.000000\n",
       "mean        -0.000003\n",
       "std          0.000669\n",
       "min         -0.032884\n",
       "25%          0.000000\n",
       "50%          0.000000\n",
       "75%          0.000000\n",
       "max          0.027614\n",
       "Name: loc_ic_t2o_mou, dtype: float64"
      ]
     },
     "execution_count": 85,
     "metadata": {},
     "output_type": "execute_result"
    }
   ],
   "source": [
    "#Analyzing Column loc_ic_t2o_mou\n",
    "working_data_hvc['loc_ic_t2o_mou'].describe()"
   ]
  },
  {
   "cell_type": "code",
   "execution_count": 86,
   "metadata": {},
   "outputs": [],
   "source": [
    "#From Above Analysis, it can be seen that the columns have negligible variance.Hence these columns can be dropped.\n",
    "working_data_hvc=working_data_hvc.drop(['loc_ic_t2o_mou','std_og_t2o_mou','loc_og_t2o_mou','circle_id'],axis=1)"
   ]
  },
  {
   "cell_type": "code",
   "execution_count": 87,
   "metadata": {},
   "outputs": [],
   "source": [
    "#The Column avg_rch_6_7 was required only to find the HVC & it's value has been derived using the columns in the dataset. \n",
    "#Hence we can drop this column\n",
    "working_data_hvc=working_data_hvc.drop(['avg_rch_6_7'],axis=1)"
   ]
  },
  {
   "cell_type": "code",
   "execution_count": 88,
   "metadata": {},
   "outputs": [
    {
     "data": {
      "text/plain": [
       "<matplotlib.axes._subplots.AxesSubplot at 0x1e714d4afd0>"
      ]
     },
     "execution_count": 88,
     "metadata": {},
     "output_type": "execute_result"
    },
    {
     "data": {
      "image/png": "[encoded data removed]",
      "text/plain": [
       "<Figure size 1440x864 with 3 Axes>"
      ]
     },
     "metadata": {
      "needs_background": "light"
     },
     "output_type": "display_data"
    }
   ],
   "source": [
    "#Creating boxplot for outlier analysis\n",
    "plt.figure(figsize = (20,12))\n",
    "plt.subplot(4,3,1)\n",
    "sns.boxplot(x ='arpu_6',data = working_data_hvc )\n",
    "plt.subplot(4,3,2)\n",
    "sns.boxplot(x ='arpu_7',data = working_data_hvc )\n",
    "plt.subplot(4,3,3)\n",
    "sns.boxplot(x ='arpu_8',data = working_data_hvc )"
   ]
  },
  {
   "cell_type": "code",
   "execution_count": 89,
   "metadata": {},
   "outputs": [
    {
     "data": {
      "text/plain": [
       "<matplotlib.axes._subplots.AxesSubplot at 0x1e714dc6e80>"
      ]
     },
     "execution_count": 89,
     "metadata": {},
     "output_type": "execute_result"
    },
    {
     "data": {
      "image/png": "[encoded data removed]",
      "text/plain": [
       "<Figure size 1440x864 with 3 Axes>"
      ]
     },
     "metadata": {
      "needs_background": "light"
     },
     "output_type": "display_data"
    }
   ],
   "source": [
    "plt.figure(figsize = (20,12))\n",
    "plt.subplot(4,3,1)\n",
    "sns.boxplot(x ='onnet_mou_6',data = working_data_hvc )\n",
    "plt.subplot(4,3,2)\n",
    "sns.boxplot(x ='onnet_mou_7',data = working_data_hvc )\n",
    "plt.subplot(4,3,3)\n",
    "sns.boxplot(x ='onnet_mou_8',data = working_data_hvc )"
   ]
  },
  {
   "cell_type": "code",
   "execution_count": 90,
   "metadata": {},
   "outputs": [
    {
     "data": {
      "text/plain": [
       "<matplotlib.axes._subplots.AxesSubplot at 0x1e714feff28>"
      ]
     },
     "execution_count": 90,
     "metadata": {},
     "output_type": "execute_result"
    },
    {
     "data": {
      "image/png": "[encoded data removed]",
      "text/plain": [
       "<Figure size 1440x864 with 6 Axes>"
      ]
     },
     "metadata": {
      "needs_background": "light"
     },
     "output_type": "display_data"
    }
   ],
   "source": [
    "plt.figure(figsize = (20,12))\n",
    "plt.subplot(4,3,1)\n",
    "sns.boxplot(x ='roam_ic_mou_6',data = working_data_hvc )\n",
    "plt.subplot(4,3,2)\n",
    "sns.boxplot(x ='roam_ic_mou_7',data = working_data_hvc )\n",
    "plt.subplot(4,3,3)\n",
    "sns.boxplot(x ='roam_ic_mou_8',data = working_data_hvc )\n",
    "plt.subplot(4,3,4)\n",
    "sns.boxplot(x ='roam_og_mou_6',data = working_data_hvc )\n",
    "plt.subplot(4,3,5)\n",
    "sns.boxplot(x ='roam_og_mou_7',data = working_data_hvc )\n",
    "plt.subplot(4,3,6)\n",
    "sns.boxplot(x ='roam_og_mou_8',data = working_data_hvc )"
   ]
  },
  {
   "cell_type": "code",
   "execution_count": 91,
   "metadata": {},
   "outputs": [
    {
     "data": {
      "text/plain": [
       "<matplotlib.axes._subplots.AxesSubplot at 0x1e737200cf8>"
      ]
     },
     "execution_count": 91,
     "metadata": {},
     "output_type": "execute_result"
    },
    {
     "data": {
      "image/png": "[encoded data removed]",
      "text/plain": [
       "<Figure size 1440x864 with 6 Axes>"
      ]
     },
     "metadata": {
      "needs_background": "light"
     },
     "output_type": "display_data"
    }
   ],
   "source": [
    "plt.figure(figsize = (20,12))\n",
    "plt.subplot(4,3,1)\n",
    "sns.boxplot(x ='total_rech_num_6',data = working_data_hvc )\n",
    "plt.subplot(4,3,2)\n",
    "sns.boxplot(x ='total_rech_num_7',data = working_data_hvc )\n",
    "plt.subplot(4,3,3)\n",
    "sns.boxplot(x ='total_rech_num_8',data = working_data_hvc )\n",
    "plt.subplot(4,3,4)\n",
    "sns.boxplot(x ='total_rech_amt_6',data = working_data_hvc )\n",
    "plt.subplot(4,3,5)\n",
    "sns.boxplot(x ='total_rech_amt_7',data = working_data_hvc )\n",
    "plt.subplot(4,3,6)\n",
    "sns.boxplot(x ='total_rech_amt_8',data = working_data_hvc )"
   ]
  },
  {
   "cell_type": "code",
   "execution_count": 92,
   "metadata": {},
   "outputs": [],
   "source": [
    "#Treating Outliers\n",
    "q1 = working_data_hvc['total_rech_amt_6'].quantile(0.05)\n",
    "q3 = working_data_hvc['total_rech_amt_6'].quantile(0.95)\n",
    "working_data_hvc = working_data_hvc[(working_data_hvc['total_rech_amt_6'] >= q1) & (working_data_hvc['total_rech_amt_6'] <= q3)]"
   ]
  },
  {
   "cell_type": "code",
   "execution_count": 93,
   "metadata": {},
   "outputs": [
    {
     "data": {
      "text/plain": [
       "<matplotlib.axes._subplots.AxesSubplot at 0x1e7153c7e80>"
      ]
     },
     "execution_count": 93,
     "metadata": {},
     "output_type": "execute_result"
    },
    {
     "data": {
      "image/png": "[encoded data removed]",
      "text/plain": [
       "<Figure size 1440x864 with 6 Axes>"
      ]
     },
     "metadata": {
      "needs_background": "light"
     },
     "output_type": "display_data"
    }
   ],
   "source": [
    "#Post Outlier Treatment\n",
    "plt.figure(figsize = (20,12))\n",
    "plt.subplot(4,3,1)\n",
    "sns.boxplot(x ='total_rech_num_6',data = working_data_hvc )\n",
    "plt.subplot(4,3,2)\n",
    "sns.boxplot(x ='total_rech_num_7',data = working_data_hvc )\n",
    "plt.subplot(4,3,3)\n",
    "sns.boxplot(x ='total_rech_num_8',data = working_data_hvc )\n",
    "plt.subplot(4,3,4)\n",
    "sns.boxplot(x ='total_rech_amt_6',data = working_data_hvc )\n",
    "plt.subplot(4,3,5)\n",
    "sns.boxplot(x ='total_rech_amt_7',data = working_data_hvc )\n",
    "plt.subplot(4,3,6)\n",
    "sns.boxplot(x ='total_rech_amt_8',data = working_data_hvc )"
   ]
  },
  {
   "cell_type": "code",
   "execution_count": 94,
   "metadata": {},
   "outputs": [
    {
     "data": {
      "text/plain": [
       "27053"
      ]
     },
     "execution_count": 94,
     "metadata": {},
     "output_type": "execute_result"
    }
   ],
   "source": [
    "len(working_data_hvc)"
   ]
  },
  {
   "cell_type": "code",
   "execution_count": 95,
   "metadata": {},
   "outputs": [
    {
     "data": {
      "text/plain": [
       "<matplotlib.axes._subplots.AxesSubplot at 0x1e7157aec18>"
      ]
     },
     "execution_count": 95,
     "metadata": {},
     "output_type": "execute_result"
    },
    {
     "data": {
      "image/png": "[encoded data removed]",
      "text/plain": [
       "<Figure size 1440x864 with 6 Axes>"
      ]
     },
     "metadata": {
      "needs_background": "light"
     },
     "output_type": "display_data"
    }
   ],
   "source": [
    "plt.figure(figsize = (20,12))\n",
    "plt.subplot(4,3,1)\n",
    "sns.boxplot(x ='max_rech_amt_6',data = working_data_hvc )\n",
    "plt.subplot(4,3,2)\n",
    "sns.boxplot(x ='max_rech_amt_7',data = working_data_hvc )\n",
    "plt.subplot(4,3,3)\n",
    "sns.boxplot(x ='max_rech_amt_8',data = working_data_hvc )\n",
    "plt.subplot(4,3,4)\n",
    "sns.boxplot(x ='last_day_rch_amt_6',data = working_data_hvc )\n",
    "plt.subplot(4,3,5)\n",
    "sns.boxplot(x ='last_day_rch_amt_7',data = working_data_hvc )\n",
    "plt.subplot(4,3,6)\n",
    "sns.boxplot(x ='last_day_rch_amt_8',data = working_data_hvc )"
   ]
  },
  {
   "cell_type": "code",
   "execution_count": 96,
   "metadata": {},
   "outputs": [
    {
     "data": {
      "text/plain": [
       "<matplotlib.axes._subplots.AxesSubplot at 0x1e715cd3c88>"
      ]
     },
     "execution_count": 96,
     "metadata": {},
     "output_type": "execute_result"
    },
    {
     "data": {
      "image/png": "[encoded data removed]",
      "text/plain": [
       "<Figure size 1440x864 with 6 Axes>"
      ]
     },
     "metadata": {
      "needs_background": "light"
     },
     "output_type": "display_data"
    }
   ],
   "source": [
    "plt.figure(figsize = (20,12))\n",
    "plt.subplot(4,3,1)\n",
    "sns.boxplot(x ='total_rech_data_6',data = working_data_hvc )\n",
    "plt.subplot(4,3,2)\n",
    "sns.boxplot(x ='total_rech_data_7',data = working_data_hvc )\n",
    "plt.subplot(4,3,3)\n",
    "sns.boxplot(x ='total_rech_data_8',data = working_data_hvc )\n",
    "plt.subplot(4,3,4)\n",
    "sns.boxplot(x ='max_rech_data_6',data = working_data_hvc )\n",
    "plt.subplot(4,3,5)\n",
    "sns.boxplot(x ='max_rech_data_7',data = working_data_hvc )\n",
    "plt.subplot(4,3,6)\n",
    "sns.boxplot(x ='max_rech_data_8',data =working_data_hvc )"
   ]
  },
  {
   "cell_type": "markdown",
   "metadata": {},
   "source": [
    "**Post Outlier Treatment, Number of Records Reduced by Almost 3000,but the data is much feasible to be used to PCA**\n",
    "**& Other Analysis.**"
   ]
  },
  {
   "cell_type": "code",
   "execution_count": 97,
   "metadata": {},
   "outputs": [],
   "source": [
    "#Some More EDA on Calling Data, of HVC Customers\n",
    "\n",
    "#Roaming Incoming Minutes Analysis \n",
    "\n",
    "analysis_frame=pd.DataFrame({'KPI':['June'], 'Value': working_data_hvc['roam_ic_mou_6'].sum()})\n",
    "temp=pd.DataFrame({'KPI':['July'], 'Value':working_data_hvc['roam_ic_mou_7'].sum()})\n",
    "analysis_frame=pd.concat([analysis_frame,temp])\n",
    "temp=pd.DataFrame({'KPI':['August'], 'Value':working_data_hvc['roam_ic_mou_8'].sum()})\n",
    "analysis_frame=pd.concat([analysis_frame,temp])"
   ]
  },
  {
   "cell_type": "code",
   "execution_count": 98,
   "metadata": {},
   "outputs": [
    {
     "data": {
      "image/png": "[encoded data removed]",
      "text/plain": [
       "<Figure size 864x720 with 1 Axes>"
      ]
     },
     "metadata": {
      "needs_background": "light"
     },
     "output_type": "display_data"
    }
   ],
   "source": [
    "#Overall Analysis Roaming Incoming High Value Customers\n",
    "x=analysis_frame['KPI']\n",
    "y=analysis_frame['Value']\n",
    "y_pos = np.arange(len(y))\n",
    "plt.figure(figsize = (12,10))\n",
    "plt.bar(x, y)\n",
    "plt.title('Overall Roaming Incoming Minutes - High Value Customers')\n",
    "plt.xlabel('Roaming Incoming Months')\n",
    "plt.ylabel('Roaming Minutes')\n",
    "plt.ylim(0,600000)\n",
    "plt.show()"
   ]
  },
  {
   "cell_type": "code",
   "execution_count": 99,
   "metadata": {},
   "outputs": [],
   "source": [
    "#Roaming Outgoing Analysis\n",
    "\n",
    "analysis_frame=pd.DataFrame({'KPI':['June'], 'Value': working_data_hvc['roam_og_mou_6'].sum()})\n",
    "temp=pd.DataFrame({'KPI':['July'], 'Value':working_data_hvc['roam_og_mou_7'].sum()})\n",
    "analysis_frame=pd.concat([analysis_frame,temp])\n",
    "temp=pd.DataFrame({'KPI':['August'], 'Value':working_data_hvc['roam_og_mou_8'].sum()})\n",
    "analysis_frame=pd.concat([analysis_frame,temp])"
   ]
  },
  {
   "cell_type": "code",
   "execution_count": 100,
   "metadata": {},
   "outputs": [
    {
     "data": {
      "image/png": "[encoded data removed]",
      "text/plain": [
       "<Figure size 864x720 with 1 Axes>"
      ]
     },
     "metadata": {
      "needs_background": "light"
     },
     "output_type": "display_data"
    }
   ],
   "source": [
    "#Overall Analysis Roaming Outgoing High Value Customers\n",
    "x=analysis_frame['KPI']\n",
    "y=analysis_frame['Value']\n",
    "y_pos = np.arange(len(y))\n",
    "plt.figure(figsize = (12,10))\n",
    "plt.bar(x, y)\n",
    "plt.title('Overall Roaming Outgoing Minutes - High Value Customers')\n",
    "plt.xlabel('Roaming Outgoing Months')\n",
    "plt.ylabel('Roaming Minutes')\n",
    "plt.ylim(0,900000)\n",
    "plt.show()"
   ]
  },
  {
   "cell_type": "code",
   "execution_count": 101,
   "metadata": {},
   "outputs": [],
   "source": [
    "#ISD Outgoing Minutes Analysis \n",
    "analysis_frame=pd.DataFrame({'KPI':['June'], 'Value': working_data_hvc['isd_og_mou_6'].sum()})\n",
    "temp=pd.DataFrame({'KPI':['July'], 'Value':working_data_hvc['isd_og_mou_7'].sum()})\n",
    "analysis_frame=pd.concat([analysis_frame,temp])\n",
    "temp=pd.DataFrame({'KPI':['August'], 'Value':working_data_hvc['isd_og_mou_8'].sum()})\n",
    "analysis_frame=pd.concat([analysis_frame,temp])"
   ]
  },
  {
   "cell_type": "code",
   "execution_count": 102,
   "metadata": {},
   "outputs": [
    {
     "data": {
      "image/png": "[encoded data removed]",
      "text/plain": [
       "<Figure size 864x720 with 1 Axes>"
      ]
     },
     "metadata": {
      "needs_background": "light"
     },
     "output_type": "display_data"
    }
   ],
   "source": [
    "#Overall Analysis ISD Outgoing High Value Customers\n",
    "x=analysis_frame['KPI']\n",
    "y=analysis_frame['Value']\n",
    "y_pos = np.arange(len(y))\n",
    "plt.figure(figsize = (12,10))\n",
    "plt.bar(x, y)\n",
    "plt.title('Overall ISD Outgoing Minutes - High Value Customers')\n",
    "plt.xlabel('ISD Outgoing Months')\n",
    "plt.ylabel('ISD Minutes')\n",
    "plt.ylim(0,40000)\n",
    "plt.show()"
   ]
  },
  {
   "cell_type": "code",
   "execution_count": 103,
   "metadata": {},
   "outputs": [],
   "source": [
    "#STD Outgoing Minutes Analysis \n",
    "\n",
    "analysis_frame=pd.DataFrame({'KPI':['June'], 'Value': working_data_hvc['std_og_mou_6'].sum()})\n",
    "temp=pd.DataFrame({'KPI':['July'], 'Value':working_data_hvc['std_og_mou_7'].sum()})\n",
    "analysis_frame=pd.concat([analysis_frame,temp])\n",
    "temp=pd.DataFrame({'KPI':['August'], 'Value':working_data_hvc['std_og_mou_8'].sum()})\n",
    "analysis_frame=pd.concat([analysis_frame,temp])"
   ]
  },
  {
   "cell_type": "code",
   "execution_count": 104,
   "metadata": {},
   "outputs": [
    {
     "data": {
      "image/png": "[encoded data removed]",
      "text/plain": [
       "<Figure size 864x720 with 1 Axes>"
      ]
     },
     "metadata": {
      "needs_background": "light"
     },
     "output_type": "display_data"
    }
   ],
   "source": [
    "#Overall Analysis STD Outgoing High Value Customers\n",
    "x=analysis_frame['KPI']\n",
    "y=analysis_frame['Value']\n",
    "y_pos = np.arange(len(y))\n",
    "plt.figure(figsize = (12,10))\n",
    "plt.bar(x, y)\n",
    "plt.title('Overall STD Outgoing Minutes - High Value Customers')\n",
    "plt.xlabel('STD Outgoing Months')\n",
    "plt.ylabel('STD Minutes')\n",
    "plt.ylim(0,20000000)\n",
    "plt.show()"
   ]
  },
  {
   "cell_type": "code",
   "execution_count": 105,
   "metadata": {},
   "outputs": [],
   "source": [
    "#Special Outgoing Minutes Analysis \n",
    "\n",
    "analysis_frame=pd.DataFrame({'KPI':['June'], 'Value': working_data_hvc['spl_og_mou_6'].sum()})\n",
    "temp=pd.DataFrame({'KPI':['July'], 'Value':working_data_hvc['spl_og_mou_7'].sum()})\n",
    "analysis_frame=pd.concat([analysis_frame,temp])\n",
    "temp=pd.DataFrame({'KPI':['August'], 'Value':working_data_hvc['spl_og_mou_8'].sum()})\n",
    "analysis_frame=pd.concat([analysis_frame,temp])"
   ]
  },
  {
   "cell_type": "code",
   "execution_count": 106,
   "metadata": {},
   "outputs": [
    {
     "data": {
      "image/png": "[encoded data removed]",
      "text/plain": [
       "<Figure size 864x720 with 1 Axes>"
      ]
     },
     "metadata": {
      "needs_background": "light"
     },
     "output_type": "display_data"
    }
   ],
   "source": [
    "#Overall Analysis Special Outgoing High Value Customers\n",
    "x=analysis_frame['KPI']\n",
    "y=analysis_frame['Value']\n",
    "y_pos = np.arange(len(y))\n",
    "plt.figure(figsize = (12,10))\n",
    "plt.bar(x, y)\n",
    "plt.title('Overall Special Outgoing Minutes - High Value Customers')\n",
    "plt.xlabel('Special Outgoing Months')\n",
    "plt.ylabel('Special Minutes')\n",
    "plt.ylim(0,600000)\n",
    "plt.show()"
   ]
  },
  {
   "cell_type": "code",
   "execution_count": 107,
   "metadata": {},
   "outputs": [],
   "source": [
    "#Average Revenue Per User(ARPU) Analysis \n",
    "\n",
    "analysis_frame=pd.DataFrame({'KPI':['June'], 'Value': working_data_hvc['arpu_6'].sum()})\n",
    "temp=pd.DataFrame({'KPI':['July'], 'Value':working_data_hvc['arpu_7'].sum()})\n",
    "analysis_frame=pd.concat([analysis_frame,temp])\n",
    "temp=pd.DataFrame({'KPI':['August'], 'Value':working_data_hvc['arpu_8'].sum()})\n",
    "analysis_frame=pd.concat([analysis_frame,temp])"
   ]
  },
  {
   "cell_type": "code",
   "execution_count": 108,
   "metadata": {},
   "outputs": [
    {
     "data": {
      "image/png": "[encoded data removed]",
      "text/plain": [
       "<Figure size 864x720 with 1 Axes>"
      ]
     },
     "metadata": {
      "needs_background": "light"
     },
     "output_type": "display_data"
    }
   ],
   "source": [
    "#Overall Analysis ARPU High Value Customers\n",
    "x=analysis_frame['KPI']\n",
    "y=analysis_frame['Value']\n",
    "y_pos = np.arange(len(y))\n",
    "plt.figure(figsize = (12,10))\n",
    "plt.bar(x, y)\n",
    "plt.title('ARPU Analysis - High Value Customers')\n",
    "plt.xlabel('ARPU Analysis Months')\n",
    "plt.ylabel('Revenue  (In Crs)')\n",
    "plt.ylim(0,30000000)\n",
    "plt.show()"
   ]
  },
  {
   "cell_type": "markdown",
   "metadata": {},
   "source": [
    "**It can be seen that the Average Revenue Per User is almost same across the 3 Months, but slightly Higher in June & low in August**"
   ]
  },
  {
   "cell_type": "markdown",
   "metadata": {},
   "source": [
    "**Recommendation Section-  From Above EDA,it can be observed that**\n",
    "\n",
    "**1) For High Value Customers, it is seen that the STD Outgoing Calls are the Highest & is almost stable across all the 3 months.**\n",
    "**The telecom company can roll out STD Packages for all these customers, to retain them.**\n",
    "\n",
    "**2) Customers with ISD usageare also considerably high. Telecom company can identify such customers, and provide them with ISD**\n",
    "**Packages.**\n",
    "\n",
    "**3) ARPU is Highest for the Month of June, but it gradually goes down for the Month of July & August.If there were any Offers**\n",
    "**rolled out in the month of June, the same should be continued for July & August, to avoid churn possibility.**\n",
    "\n",
    "**4) After STD,Roaming Usage is higher. Telecom Company can roll out Roaming Packages for such customers.**\n",
    "\n",
    "**5) On an whole, it can be seen that Customers are using More of Calling Features than Data Features. Hence rolling out offers based on Calling can help retain customers.**\n"
   ]
  },
  {
   "cell_type": "code",
   "execution_count": 109,
   "metadata": {},
   "outputs": [],
   "source": [
    "# The columns total_rech_num_6,total_rech_num_7,total_rech_num_8 & total_rech_data_6,total_rech_data_7,total_rech_data_8\n",
    "# have been used to derive the Total number of  recharges for the respective months. Hence these columns can be dropped,\n",
    "#Since they will be repetitive in nature.\n",
    "\n",
    "working_data_hvc=working_data_hvc.drop(['total_rech_data_6','total_rech_data_7','total_rech_data_8'],axis=1)\n",
    "working_data_hvc=working_data_hvc.drop(['total_rech_num_6','total_rech_num_7','total_rech_num_8'],axis=1)"
   ]
  },
  {
   "cell_type": "code",
   "execution_count": 110,
   "metadata": {},
   "outputs": [],
   "source": [
    "# Using the Total_Recharge_Amount, we have split the total recharge amount into Calling & Data Recharge Amount Respectively.\n",
    "# Hence we can drop the Total_Recharge_Amount Columns for each month,Since they will be repetitive in nature. \n",
    "working_data_hvc=working_data_hvc.drop(['total_rech_amt_6','total_rech_amt_7','total_rech_amt_8'],axis=1)"
   ]
  },
  {
   "cell_type": "markdown",
   "metadata": {},
   "source": [
    "**Applying PCA**"
   ]
  },
  {
   "cell_type": "code",
   "execution_count": 111,
   "metadata": {},
   "outputs": [
    {
     "data": {
      "text/html": [
       "<div>\n",
       "<style scoped>\n",
       "    .dataframe tbody tr th:only-of-type {\n",
       "        vertical-align: middle;\n",
       "    }\n",
       "\n",
       "    .dataframe tbody tr th {\n",
       "        vertical-align: top;\n",
       "    }\n",
       "\n",
       "    .dataframe thead th {\n",
       "        text-align: right;\n",
       "    }\n",
       "</style>\n",
       "<table border=\"1\" class=\"dataframe\">\n",
       "  <thead>\n",
       "    <tr style=\"text-align: right;\">\n",
       "      <th></th>\n",
       "      <th>arpu_6</th>\n",
       "      <th>arpu_7</th>\n",
       "      <th>arpu_8</th>\n",
       "      <th>onnet_mou_6</th>\n",
       "      <th>onnet_mou_7</th>\n",
       "      <th>onnet_mou_8</th>\n",
       "      <th>offnet_mou_6</th>\n",
       "      <th>offnet_mou_7</th>\n",
       "      <th>offnet_mou_8</th>\n",
       "      <th>roam_ic_mou_6</th>\n",
       "      <th>...</th>\n",
       "      <th>total_recharge_cnt_7</th>\n",
       "      <th>total_calling_rch_6</th>\n",
       "      <th>total_data_rch_6</th>\n",
       "      <th>total_calling_rch_7</th>\n",
       "      <th>total_data_rch_7</th>\n",
       "      <th>total_recharge_cnt_8</th>\n",
       "      <th>total_calling_rch_8</th>\n",
       "      <th>total_data_rch_8</th>\n",
       "      <th>ID</th>\n",
       "      <th>churn</th>\n",
       "    </tr>\n",
       "  </thead>\n",
       "  <tbody>\n",
       "    <tr>\n",
       "      <th>8</th>\n",
       "      <td>378.721</td>\n",
       "      <td>492.223</td>\n",
       "      <td>137.362</td>\n",
       "      <td>413.69</td>\n",
       "      <td>351.03</td>\n",
       "      <td>35.08</td>\n",
       "      <td>94.66</td>\n",
       "      <td>80.63</td>\n",
       "      <td>136.48</td>\n",
       "      <td>0.00</td>\n",
       "      <td>...</td>\n",
       "      <td>23.0</td>\n",
       "      <td>437.0</td>\n",
       "      <td>0.0</td>\n",
       "      <td>548.74</td>\n",
       "      <td>52.26</td>\n",
       "      <td>17.0</td>\n",
       "      <td>98.82</td>\n",
       "      <td>21.18</td>\n",
       "      <td>1008</td>\n",
       "      <td>0</td>\n",
       "    </tr>\n",
       "    <tr>\n",
       "      <th>13</th>\n",
       "      <td>492.846</td>\n",
       "      <td>205.671</td>\n",
       "      <td>593.260</td>\n",
       "      <td>501.76</td>\n",
       "      <td>108.39</td>\n",
       "      <td>534.24</td>\n",
       "      <td>413.31</td>\n",
       "      <td>119.28</td>\n",
       "      <td>482.46</td>\n",
       "      <td>23.53</td>\n",
       "      <td>...</td>\n",
       "      <td>4.0</td>\n",
       "      <td>507.0</td>\n",
       "      <td>0.0</td>\n",
       "      <td>253.00</td>\n",
       "      <td>0.00</td>\n",
       "      <td>14.0</td>\n",
       "      <td>563.36</td>\n",
       "      <td>153.64</td>\n",
       "      <td>1013</td>\n",
       "      <td>0</td>\n",
       "    </tr>\n",
       "    <tr>\n",
       "      <th>16</th>\n",
       "      <td>430.975</td>\n",
       "      <td>299.869</td>\n",
       "      <td>187.894</td>\n",
       "      <td>50.51</td>\n",
       "      <td>74.01</td>\n",
       "      <td>70.61</td>\n",
       "      <td>296.29</td>\n",
       "      <td>229.74</td>\n",
       "      <td>162.76</td>\n",
       "      <td>0.00</td>\n",
       "      <td>...</td>\n",
       "      <td>6.0</td>\n",
       "      <td>570.0</td>\n",
       "      <td>0.0</td>\n",
       "      <td>348.00</td>\n",
       "      <td>0.00</td>\n",
       "      <td>2.0</td>\n",
       "      <td>160.00</td>\n",
       "      <td>0.00</td>\n",
       "      <td>1016</td>\n",
       "      <td>0</td>\n",
       "    </tr>\n",
       "    <tr>\n",
       "      <th>17</th>\n",
       "      <td>690.008</td>\n",
       "      <td>18.980</td>\n",
       "      <td>25.499</td>\n",
       "      <td>1185.91</td>\n",
       "      <td>9.28</td>\n",
       "      <td>7.79</td>\n",
       "      <td>61.64</td>\n",
       "      <td>0.00</td>\n",
       "      <td>5.54</td>\n",
       "      <td>0.00</td>\n",
       "      <td>...</td>\n",
       "      <td>2.0</td>\n",
       "      <td>816.0</td>\n",
       "      <td>0.0</td>\n",
       "      <td>0.00</td>\n",
       "      <td>0.00</td>\n",
       "      <td>4.0</td>\n",
       "      <td>30.00</td>\n",
       "      <td>0.00</td>\n",
       "      <td>1017</td>\n",
       "      <td>0</td>\n",
       "    </tr>\n",
       "    <tr>\n",
       "      <th>21</th>\n",
       "      <td>514.453</td>\n",
       "      <td>597.753</td>\n",
       "      <td>637.760</td>\n",
       "      <td>102.41</td>\n",
       "      <td>132.11</td>\n",
       "      <td>85.14</td>\n",
       "      <td>757.93</td>\n",
       "      <td>896.68</td>\n",
       "      <td>983.39</td>\n",
       "      <td>0.00</td>\n",
       "      <td>...</td>\n",
       "      <td>26.0</td>\n",
       "      <td>600.0</td>\n",
       "      <td>0.0</td>\n",
       "      <td>680.00</td>\n",
       "      <td>0.00</td>\n",
       "      <td>27.0</td>\n",
       "      <td>718.00</td>\n",
       "      <td>0.00</td>\n",
       "      <td>1021</td>\n",
       "      <td>0</td>\n",
       "    </tr>\n",
       "  </tbody>\n",
       "</table>\n",
       "<p>5 rows × 154 columns</p>\n",
       "</div>"
      ],
      "text/plain": [
       "     arpu_6   arpu_7   arpu_8  onnet_mou_6  onnet_mou_7  onnet_mou_8  \\\n",
       "8   378.721  492.223  137.362       413.69       351.03        35.08   \n",
       "13  492.846  205.671  593.260       501.76       108.39       534.24   \n",
       "16  430.975  299.869  187.894        50.51        74.01        70.61   \n",
       "17  690.008   18.980   25.499      1185.91         9.28         7.79   \n",
       "21  514.453  597.753  637.760       102.41       132.11        85.14   \n",
       "\n",
       "    offnet_mou_6  offnet_mou_7  offnet_mou_8  roam_ic_mou_6  ...  \\\n",
       "8          94.66         80.63        136.48           0.00  ...   \n",
       "13        413.31        119.28        482.46          23.53  ...   \n",
       "16        296.29        229.74        162.76           0.00  ...   \n",
       "17         61.64          0.00          5.54           0.00  ...   \n",
       "21        757.93        896.68        983.39           0.00  ...   \n",
       "\n",
       "    total_recharge_cnt_7  total_calling_rch_6  total_data_rch_6  \\\n",
       "8                   23.0                437.0               0.0   \n",
       "13                   4.0                507.0               0.0   \n",
       "16                   6.0                570.0               0.0   \n",
       "17                   2.0                816.0               0.0   \n",
       "21                  26.0                600.0               0.0   \n",
       "\n",
       "    total_calling_rch_7  total_data_rch_7  total_recharge_cnt_8  \\\n",
       "8                548.74             52.26                  17.0   \n",
       "13               253.00              0.00                  14.0   \n",
       "16               348.00              0.00                   2.0   \n",
       "17                 0.00              0.00                   4.0   \n",
       "21               680.00              0.00                  27.0   \n",
       "\n",
       "    total_calling_rch_8  total_data_rch_8    ID  churn  \n",
       "8                 98.82             21.18  1008      0  \n",
       "13               563.36            153.64  1013      0  \n",
       "16               160.00              0.00  1016      0  \n",
       "17                30.00              0.00  1017      0  \n",
       "21               718.00              0.00  1021      0  \n",
       "\n",
       "[5 rows x 154 columns]"
      ]
     },
     "execution_count": 111,
     "metadata": {},
     "output_type": "execute_result"
    }
   ],
   "source": [
    "#View Base Data\n",
    "working_data_hvc.head()"
   ]
  },
  {
   "cell_type": "code",
   "execution_count": 112,
   "metadata": {},
   "outputs": [],
   "source": [
    "# Preserving ID column & then dropping\n",
    "id=working_data_hvc[\"ID\"]\n",
    "working_data_hvc_pca=working_data_hvc.drop('ID',axis=1)\n"
   ]
  },
  {
   "cell_type": "code",
   "execution_count": 113,
   "metadata": {},
   "outputs": [
    {
     "data": {
      "text/html": [
       "<div>\n",
       "<style scoped>\n",
       "    .dataframe tbody tr th:only-of-type {\n",
       "        vertical-align: middle;\n",
       "    }\n",
       "\n",
       "    .dataframe tbody tr th {\n",
       "        vertical-align: top;\n",
       "    }\n",
       "\n",
       "    .dataframe thead th {\n",
       "        text-align: right;\n",
       "    }\n",
       "</style>\n",
       "<table border=\"1\" class=\"dataframe\">\n",
       "  <thead>\n",
       "    <tr style=\"text-align: right;\">\n",
       "      <th></th>\n",
       "      <th>arpu_6</th>\n",
       "      <th>arpu_7</th>\n",
       "      <th>arpu_8</th>\n",
       "      <th>onnet_mou_6</th>\n",
       "      <th>onnet_mou_7</th>\n",
       "      <th>onnet_mou_8</th>\n",
       "      <th>offnet_mou_6</th>\n",
       "      <th>offnet_mou_7</th>\n",
       "      <th>offnet_mou_8</th>\n",
       "      <th>roam_ic_mou_6</th>\n",
       "      <th>...</th>\n",
       "      <th>total_recharge_cnt_6</th>\n",
       "      <th>total_recharge_cnt_7</th>\n",
       "      <th>total_calling_rch_6</th>\n",
       "      <th>total_data_rch_6</th>\n",
       "      <th>total_calling_rch_7</th>\n",
       "      <th>total_data_rch_7</th>\n",
       "      <th>total_recharge_cnt_8</th>\n",
       "      <th>total_calling_rch_8</th>\n",
       "      <th>total_data_rch_8</th>\n",
       "      <th>churn</th>\n",
       "    </tr>\n",
       "  </thead>\n",
       "  <tbody>\n",
       "    <tr>\n",
       "      <th>8</th>\n",
       "      <td>378.721</td>\n",
       "      <td>492.223</td>\n",
       "      <td>137.362</td>\n",
       "      <td>413.69</td>\n",
       "      <td>351.03</td>\n",
       "      <td>35.08</td>\n",
       "      <td>94.66</td>\n",
       "      <td>80.63</td>\n",
       "      <td>136.48</td>\n",
       "      <td>0.00</td>\n",
       "      <td>...</td>\n",
       "      <td>19.0</td>\n",
       "      <td>23.0</td>\n",
       "      <td>437.0</td>\n",
       "      <td>0.0</td>\n",
       "      <td>548.74</td>\n",
       "      <td>52.26</td>\n",
       "      <td>17.0</td>\n",
       "      <td>98.82</td>\n",
       "      <td>21.18</td>\n",
       "      <td>0</td>\n",
       "    </tr>\n",
       "    <tr>\n",
       "      <th>13</th>\n",
       "      <td>492.846</td>\n",
       "      <td>205.671</td>\n",
       "      <td>593.260</td>\n",
       "      <td>501.76</td>\n",
       "      <td>108.39</td>\n",
       "      <td>534.24</td>\n",
       "      <td>413.31</td>\n",
       "      <td>119.28</td>\n",
       "      <td>482.46</td>\n",
       "      <td>23.53</td>\n",
       "      <td>...</td>\n",
       "      <td>6.0</td>\n",
       "      <td>4.0</td>\n",
       "      <td>507.0</td>\n",
       "      <td>0.0</td>\n",
       "      <td>253.00</td>\n",
       "      <td>0.00</td>\n",
       "      <td>14.0</td>\n",
       "      <td>563.36</td>\n",
       "      <td>153.64</td>\n",
       "      <td>0</td>\n",
       "    </tr>\n",
       "    <tr>\n",
       "      <th>16</th>\n",
       "      <td>430.975</td>\n",
       "      <td>299.869</td>\n",
       "      <td>187.894</td>\n",
       "      <td>50.51</td>\n",
       "      <td>74.01</td>\n",
       "      <td>70.61</td>\n",
       "      <td>296.29</td>\n",
       "      <td>229.74</td>\n",
       "      <td>162.76</td>\n",
       "      <td>0.00</td>\n",
       "      <td>...</td>\n",
       "      <td>10.0</td>\n",
       "      <td>6.0</td>\n",
       "      <td>570.0</td>\n",
       "      <td>0.0</td>\n",
       "      <td>348.00</td>\n",
       "      <td>0.00</td>\n",
       "      <td>2.0</td>\n",
       "      <td>160.00</td>\n",
       "      <td>0.00</td>\n",
       "      <td>0</td>\n",
       "    </tr>\n",
       "    <tr>\n",
       "      <th>17</th>\n",
       "      <td>690.008</td>\n",
       "      <td>18.980</td>\n",
       "      <td>25.499</td>\n",
       "      <td>1185.91</td>\n",
       "      <td>9.28</td>\n",
       "      <td>7.79</td>\n",
       "      <td>61.64</td>\n",
       "      <td>0.00</td>\n",
       "      <td>5.54</td>\n",
       "      <td>0.00</td>\n",
       "      <td>...</td>\n",
       "      <td>19.0</td>\n",
       "      <td>2.0</td>\n",
       "      <td>816.0</td>\n",
       "      <td>0.0</td>\n",
       "      <td>0.00</td>\n",
       "      <td>0.00</td>\n",
       "      <td>4.0</td>\n",
       "      <td>30.00</td>\n",
       "      <td>0.00</td>\n",
       "      <td>0</td>\n",
       "    </tr>\n",
       "    <tr>\n",
       "      <th>21</th>\n",
       "      <td>514.453</td>\n",
       "      <td>597.753</td>\n",
       "      <td>637.760</td>\n",
       "      <td>102.41</td>\n",
       "      <td>132.11</td>\n",
       "      <td>85.14</td>\n",
       "      <td>757.93</td>\n",
       "      <td>896.68</td>\n",
       "      <td>983.39</td>\n",
       "      <td>0.00</td>\n",
       "      <td>...</td>\n",
       "      <td>22.0</td>\n",
       "      <td>26.0</td>\n",
       "      <td>600.0</td>\n",
       "      <td>0.0</td>\n",
       "      <td>680.00</td>\n",
       "      <td>0.00</td>\n",
       "      <td>27.0</td>\n",
       "      <td>718.00</td>\n",
       "      <td>0.00</td>\n",
       "      <td>0</td>\n",
       "    </tr>\n",
       "  </tbody>\n",
       "</table>\n",
       "<p>5 rows × 153 columns</p>\n",
       "</div>"
      ],
      "text/plain": [
       "     arpu_6   arpu_7   arpu_8  onnet_mou_6  onnet_mou_7  onnet_mou_8  \\\n",
       "8   378.721  492.223  137.362       413.69       351.03        35.08   \n",
       "13  492.846  205.671  593.260       501.76       108.39       534.24   \n",
       "16  430.975  299.869  187.894        50.51        74.01        70.61   \n",
       "17  690.008   18.980   25.499      1185.91         9.28         7.79   \n",
       "21  514.453  597.753  637.760       102.41       132.11        85.14   \n",
       "\n",
       "    offnet_mou_6  offnet_mou_7  offnet_mou_8  roam_ic_mou_6  ...  \\\n",
       "8          94.66         80.63        136.48           0.00  ...   \n",
       "13        413.31        119.28        482.46          23.53  ...   \n",
       "16        296.29        229.74        162.76           0.00  ...   \n",
       "17         61.64          0.00          5.54           0.00  ...   \n",
       "21        757.93        896.68        983.39           0.00  ...   \n",
       "\n",
       "    total_recharge_cnt_6  total_recharge_cnt_7  total_calling_rch_6  \\\n",
       "8                   19.0                  23.0                437.0   \n",
       "13                   6.0                   4.0                507.0   \n",
       "16                  10.0                   6.0                570.0   \n",
       "17                  19.0                   2.0                816.0   \n",
       "21                  22.0                  26.0                600.0   \n",
       "\n",
       "    total_data_rch_6  total_calling_rch_7  total_data_rch_7  \\\n",
       "8                0.0               548.74             52.26   \n",
       "13               0.0               253.00              0.00   \n",
       "16               0.0               348.00              0.00   \n",
       "17               0.0                 0.00              0.00   \n",
       "21               0.0               680.00              0.00   \n",
       "\n",
       "    total_recharge_cnt_8  total_calling_rch_8  total_data_rch_8  churn  \n",
       "8                   17.0                98.82             21.18      0  \n",
       "13                  14.0               563.36            153.64      0  \n",
       "16                   2.0               160.00              0.00      0  \n",
       "17                   4.0                30.00              0.00      0  \n",
       "21                  27.0               718.00              0.00      0  \n",
       "\n",
       "[5 rows x 153 columns]"
      ]
     },
     "execution_count": 113,
     "metadata": {},
     "output_type": "execute_result"
    }
   ],
   "source": [
    "working_data_hvc_pca.head()"
   ]
  },
  {
   "cell_type": "code",
   "execution_count": 114,
   "metadata": {},
   "outputs": [],
   "source": [
    "# Preserving Churn column & then dropping\n",
    "chrun=working_data_hvc_pca[\"churn\"]\n",
    "working_data_hvc_pca=working_data_hvc_pca.drop('churn',axis=1)"
   ]
  },
  {
   "cell_type": "code",
   "execution_count": 115,
   "metadata": {},
   "outputs": [
    {
     "data": {
      "text/html": [
       "<div>\n",
       "<style scoped>\n",
       "    .dataframe tbody tr th:only-of-type {\n",
       "        vertical-align: middle;\n",
       "    }\n",
       "\n",
       "    .dataframe tbody tr th {\n",
       "        vertical-align: top;\n",
       "    }\n",
       "\n",
       "    .dataframe thead th {\n",
       "        text-align: right;\n",
       "    }\n",
       "</style>\n",
       "<table border=\"1\" class=\"dataframe\">\n",
       "  <thead>\n",
       "    <tr style=\"text-align: right;\">\n",
       "      <th></th>\n",
       "      <th>arpu_6</th>\n",
       "      <th>arpu_7</th>\n",
       "      <th>arpu_8</th>\n",
       "      <th>onnet_mou_6</th>\n",
       "      <th>onnet_mou_7</th>\n",
       "      <th>onnet_mou_8</th>\n",
       "      <th>offnet_mou_6</th>\n",
       "      <th>offnet_mou_7</th>\n",
       "      <th>offnet_mou_8</th>\n",
       "      <th>roam_ic_mou_6</th>\n",
       "      <th>...</th>\n",
       "      <th>sep_vbc_3g</th>\n",
       "      <th>total_recharge_cnt_6</th>\n",
       "      <th>total_recharge_cnt_7</th>\n",
       "      <th>total_calling_rch_6</th>\n",
       "      <th>total_data_rch_6</th>\n",
       "      <th>total_calling_rch_7</th>\n",
       "      <th>total_data_rch_7</th>\n",
       "      <th>total_recharge_cnt_8</th>\n",
       "      <th>total_calling_rch_8</th>\n",
       "      <th>total_data_rch_8</th>\n",
       "    </tr>\n",
       "  </thead>\n",
       "  <tbody>\n",
       "    <tr>\n",
       "      <th>8</th>\n",
       "      <td>378.721</td>\n",
       "      <td>492.223</td>\n",
       "      <td>137.362</td>\n",
       "      <td>413.69</td>\n",
       "      <td>351.03</td>\n",
       "      <td>35.08</td>\n",
       "      <td>94.66</td>\n",
       "      <td>80.63</td>\n",
       "      <td>136.48</td>\n",
       "      <td>0.00</td>\n",
       "      <td>...</td>\n",
       "      <td>0.0</td>\n",
       "      <td>19.0</td>\n",
       "      <td>23.0</td>\n",
       "      <td>437.0</td>\n",
       "      <td>0.0</td>\n",
       "      <td>548.74</td>\n",
       "      <td>52.26</td>\n",
       "      <td>17.0</td>\n",
       "      <td>98.82</td>\n",
       "      <td>21.18</td>\n",
       "    </tr>\n",
       "    <tr>\n",
       "      <th>13</th>\n",
       "      <td>492.846</td>\n",
       "      <td>205.671</td>\n",
       "      <td>593.260</td>\n",
       "      <td>501.76</td>\n",
       "      <td>108.39</td>\n",
       "      <td>534.24</td>\n",
       "      <td>413.31</td>\n",
       "      <td>119.28</td>\n",
       "      <td>482.46</td>\n",
       "      <td>23.53</td>\n",
       "      <td>...</td>\n",
       "      <td>0.0</td>\n",
       "      <td>6.0</td>\n",
       "      <td>4.0</td>\n",
       "      <td>507.0</td>\n",
       "      <td>0.0</td>\n",
       "      <td>253.00</td>\n",
       "      <td>0.00</td>\n",
       "      <td>14.0</td>\n",
       "      <td>563.36</td>\n",
       "      <td>153.64</td>\n",
       "    </tr>\n",
       "    <tr>\n",
       "      <th>16</th>\n",
       "      <td>430.975</td>\n",
       "      <td>299.869</td>\n",
       "      <td>187.894</td>\n",
       "      <td>50.51</td>\n",
       "      <td>74.01</td>\n",
       "      <td>70.61</td>\n",
       "      <td>296.29</td>\n",
       "      <td>229.74</td>\n",
       "      <td>162.76</td>\n",
       "      <td>0.00</td>\n",
       "      <td>...</td>\n",
       "      <td>0.0</td>\n",
       "      <td>10.0</td>\n",
       "      <td>6.0</td>\n",
       "      <td>570.0</td>\n",
       "      <td>0.0</td>\n",
       "      <td>348.00</td>\n",
       "      <td>0.00</td>\n",
       "      <td>2.0</td>\n",
       "      <td>160.00</td>\n",
       "      <td>0.00</td>\n",
       "    </tr>\n",
       "    <tr>\n",
       "      <th>17</th>\n",
       "      <td>690.008</td>\n",
       "      <td>18.980</td>\n",
       "      <td>25.499</td>\n",
       "      <td>1185.91</td>\n",
       "      <td>9.28</td>\n",
       "      <td>7.79</td>\n",
       "      <td>61.64</td>\n",
       "      <td>0.00</td>\n",
       "      <td>5.54</td>\n",
       "      <td>0.00</td>\n",
       "      <td>...</td>\n",
       "      <td>0.0</td>\n",
       "      <td>19.0</td>\n",
       "      <td>2.0</td>\n",
       "      <td>816.0</td>\n",
       "      <td>0.0</td>\n",
       "      <td>0.00</td>\n",
       "      <td>0.00</td>\n",
       "      <td>4.0</td>\n",
       "      <td>30.00</td>\n",
       "      <td>0.00</td>\n",
       "    </tr>\n",
       "    <tr>\n",
       "      <th>21</th>\n",
       "      <td>514.453</td>\n",
       "      <td>597.753</td>\n",
       "      <td>637.760</td>\n",
       "      <td>102.41</td>\n",
       "      <td>132.11</td>\n",
       "      <td>85.14</td>\n",
       "      <td>757.93</td>\n",
       "      <td>896.68</td>\n",
       "      <td>983.39</td>\n",
       "      <td>0.00</td>\n",
       "      <td>...</td>\n",
       "      <td>0.0</td>\n",
       "      <td>22.0</td>\n",
       "      <td>26.0</td>\n",
       "      <td>600.0</td>\n",
       "      <td>0.0</td>\n",
       "      <td>680.00</td>\n",
       "      <td>0.00</td>\n",
       "      <td>27.0</td>\n",
       "      <td>718.00</td>\n",
       "      <td>0.00</td>\n",
       "    </tr>\n",
       "  </tbody>\n",
       "</table>\n",
       "<p>5 rows × 152 columns</p>\n",
       "</div>"
      ],
      "text/plain": [
       "     arpu_6   arpu_7   arpu_8  onnet_mou_6  onnet_mou_7  onnet_mou_8  \\\n",
       "8   378.721  492.223  137.362       413.69       351.03        35.08   \n",
       "13  492.846  205.671  593.260       501.76       108.39       534.24   \n",
       "16  430.975  299.869  187.894        50.51        74.01        70.61   \n",
       "17  690.008   18.980   25.499      1185.91         9.28         7.79   \n",
       "21  514.453  597.753  637.760       102.41       132.11        85.14   \n",
       "\n",
       "    offnet_mou_6  offnet_mou_7  offnet_mou_8  roam_ic_mou_6  ...  sep_vbc_3g  \\\n",
       "8          94.66         80.63        136.48           0.00  ...         0.0   \n",
       "13        413.31        119.28        482.46          23.53  ...         0.0   \n",
       "16        296.29        229.74        162.76           0.00  ...         0.0   \n",
       "17         61.64          0.00          5.54           0.00  ...         0.0   \n",
       "21        757.93        896.68        983.39           0.00  ...         0.0   \n",
       "\n",
       "    total_recharge_cnt_6  total_recharge_cnt_7  total_calling_rch_6  \\\n",
       "8                   19.0                  23.0                437.0   \n",
       "13                   6.0                   4.0                507.0   \n",
       "16                  10.0                   6.0                570.0   \n",
       "17                  19.0                   2.0                816.0   \n",
       "21                  22.0                  26.0                600.0   \n",
       "\n",
       "    total_data_rch_6  total_calling_rch_7  total_data_rch_7  \\\n",
       "8                0.0               548.74             52.26   \n",
       "13               0.0               253.00              0.00   \n",
       "16               0.0               348.00              0.00   \n",
       "17               0.0                 0.00              0.00   \n",
       "21               0.0               680.00              0.00   \n",
       "\n",
       "    total_recharge_cnt_8  total_calling_rch_8  total_data_rch_8  \n",
       "8                   17.0                98.82             21.18  \n",
       "13                  14.0               563.36            153.64  \n",
       "16                   2.0               160.00              0.00  \n",
       "17                   4.0                30.00              0.00  \n",
       "21                  27.0               718.00              0.00  \n",
       "\n",
       "[5 rows x 152 columns]"
      ]
     },
     "execution_count": 115,
     "metadata": {},
     "output_type": "execute_result"
    }
   ],
   "source": [
    "working_data_hvc_pca.head()"
   ]
  },
  {
   "cell_type": "code",
   "execution_count": 116,
   "metadata": {},
   "outputs": [],
   "source": [
    "# Putting feature variable to X\n",
    "X=working_data_hvc_pca\n",
    "\n",
    "# Putting response variable to y\n",
    "y=chrun"
   ]
  },
  {
   "cell_type": "code",
   "execution_count": 117,
   "metadata": {},
   "outputs": [
    {
     "data": {
      "text/html": [
       "<div>\n",
       "<style scoped>\n",
       "    .dataframe tbody tr th:only-of-type {\n",
       "        vertical-align: middle;\n",
       "    }\n",
       "\n",
       "    .dataframe tbody tr th {\n",
       "        vertical-align: top;\n",
       "    }\n",
       "\n",
       "    .dataframe thead th {\n",
       "        text-align: right;\n",
       "    }\n",
       "</style>\n",
       "<table border=\"1\" class=\"dataframe\">\n",
       "  <thead>\n",
       "    <tr style=\"text-align: right;\">\n",
       "      <th></th>\n",
       "      <th>arpu_6</th>\n",
       "      <th>arpu_7</th>\n",
       "      <th>arpu_8</th>\n",
       "      <th>onnet_mou_6</th>\n",
       "      <th>onnet_mou_7</th>\n",
       "      <th>onnet_mou_8</th>\n",
       "      <th>offnet_mou_6</th>\n",
       "      <th>offnet_mou_7</th>\n",
       "      <th>offnet_mou_8</th>\n",
       "      <th>roam_ic_mou_6</th>\n",
       "      <th>...</th>\n",
       "      <th>sep_vbc_3g</th>\n",
       "      <th>total_recharge_cnt_6</th>\n",
       "      <th>total_recharge_cnt_7</th>\n",
       "      <th>total_calling_rch_6</th>\n",
       "      <th>total_data_rch_6</th>\n",
       "      <th>total_calling_rch_7</th>\n",
       "      <th>total_data_rch_7</th>\n",
       "      <th>total_recharge_cnt_8</th>\n",
       "      <th>total_calling_rch_8</th>\n",
       "      <th>total_data_rch_8</th>\n",
       "    </tr>\n",
       "  </thead>\n",
       "  <tbody>\n",
       "    <tr>\n",
       "      <th>4774</th>\n",
       "      <td>430.052</td>\n",
       "      <td>594.371</td>\n",
       "      <td>409.773</td>\n",
       "      <td>251.48</td>\n",
       "      <td>388.49</td>\n",
       "      <td>444.79</td>\n",
       "      <td>203.61</td>\n",
       "      <td>246.01</td>\n",
       "      <td>213.96</td>\n",
       "      <td>246.34</td>\n",
       "      <td>...</td>\n",
       "      <td>0.0</td>\n",
       "      <td>10.0</td>\n",
       "      <td>19.0</td>\n",
       "      <td>355.00</td>\n",
       "      <td>0.00</td>\n",
       "      <td>706.0</td>\n",
       "      <td>0.0</td>\n",
       "      <td>13.0</td>\n",
       "      <td>500.000000</td>\n",
       "      <td>0.000000</td>\n",
       "    </tr>\n",
       "    <tr>\n",
       "      <th>91524</th>\n",
       "      <td>673.003</td>\n",
       "      <td>468.881</td>\n",
       "      <td>565.594</td>\n",
       "      <td>1388.51</td>\n",
       "      <td>971.66</td>\n",
       "      <td>1016.53</td>\n",
       "      <td>53.16</td>\n",
       "      <td>84.33</td>\n",
       "      <td>81.99</td>\n",
       "      <td>0.00</td>\n",
       "      <td>...</td>\n",
       "      <td>0.0</td>\n",
       "      <td>17.0</td>\n",
       "      <td>14.0</td>\n",
       "      <td>796.00</td>\n",
       "      <td>0.00</td>\n",
       "      <td>526.0</td>\n",
       "      <td>0.0</td>\n",
       "      <td>10.0</td>\n",
       "      <td>666.000000</td>\n",
       "      <td>0.000000</td>\n",
       "    </tr>\n",
       "    <tr>\n",
       "      <th>90552</th>\n",
       "      <td>648.608</td>\n",
       "      <td>943.994</td>\n",
       "      <td>729.251</td>\n",
       "      <td>391.39</td>\n",
       "      <td>689.74</td>\n",
       "      <td>519.29</td>\n",
       "      <td>181.39</td>\n",
       "      <td>180.91</td>\n",
       "      <td>27.43</td>\n",
       "      <td>0.00</td>\n",
       "      <td>...</td>\n",
       "      <td>0.0</td>\n",
       "      <td>13.0</td>\n",
       "      <td>18.0</td>\n",
       "      <td>810.00</td>\n",
       "      <td>0.00</td>\n",
       "      <td>1050.0</td>\n",
       "      <td>0.0</td>\n",
       "      <td>19.0</td>\n",
       "      <td>1000.000000</td>\n",
       "      <td>0.000000</td>\n",
       "    </tr>\n",
       "    <tr>\n",
       "      <th>90204</th>\n",
       "      <td>692.539</td>\n",
       "      <td>188.762</td>\n",
       "      <td>1.000</td>\n",
       "      <td>143.86</td>\n",
       "      <td>103.68</td>\n",
       "      <td>3.73</td>\n",
       "      <td>1117.44</td>\n",
       "      <td>361.33</td>\n",
       "      <td>1.65</td>\n",
       "      <td>0.00</td>\n",
       "      <td>...</td>\n",
       "      <td>0.0</td>\n",
       "      <td>11.0</td>\n",
       "      <td>3.0</td>\n",
       "      <td>710.91</td>\n",
       "      <td>71.09</td>\n",
       "      <td>220.0</td>\n",
       "      <td>0.0</td>\n",
       "      <td>0.0</td>\n",
       "      <td>380.436733</td>\n",
       "      <td>-361.879684</td>\n",
       "    </tr>\n",
       "    <tr>\n",
       "      <th>92119</th>\n",
       "      <td>551.600</td>\n",
       "      <td>667.007</td>\n",
       "      <td>602.051</td>\n",
       "      <td>117.26</td>\n",
       "      <td>266.16</td>\n",
       "      <td>216.19</td>\n",
       "      <td>50.51</td>\n",
       "      <td>42.16</td>\n",
       "      <td>89.08</td>\n",
       "      <td>0.00</td>\n",
       "      <td>...</td>\n",
       "      <td>0.0</td>\n",
       "      <td>38.0</td>\n",
       "      <td>45.0</td>\n",
       "      <td>584.87</td>\n",
       "      <td>50.13</td>\n",
       "      <td>750.0</td>\n",
       "      <td>0.0</td>\n",
       "      <td>38.0</td>\n",
       "      <td>675.740000</td>\n",
       "      <td>18.260000</td>\n",
       "    </tr>\n",
       "  </tbody>\n",
       "</table>\n",
       "<p>5 rows × 152 columns</p>\n",
       "</div>"
      ],
      "text/plain": [
       "        arpu_6   arpu_7   arpu_8  onnet_mou_6  onnet_mou_7  onnet_mou_8  \\\n",
       "4774   430.052  594.371  409.773       251.48       388.49       444.79   \n",
       "91524  673.003  468.881  565.594      1388.51       971.66      1016.53   \n",
       "90552  648.608  943.994  729.251       391.39       689.74       519.29   \n",
       "90204  692.539  188.762    1.000       143.86       103.68         3.73   \n",
       "92119  551.600  667.007  602.051       117.26       266.16       216.19   \n",
       "\n",
       "       offnet_mou_6  offnet_mou_7  offnet_mou_8  roam_ic_mou_6  ...  \\\n",
       "4774         203.61        246.01        213.96         246.34  ...   \n",
       "91524         53.16         84.33         81.99           0.00  ...   \n",
       "90552        181.39        180.91         27.43           0.00  ...   \n",
       "90204       1117.44        361.33          1.65           0.00  ...   \n",
       "92119         50.51         42.16         89.08           0.00  ...   \n",
       "\n",
       "       sep_vbc_3g  total_recharge_cnt_6  total_recharge_cnt_7  \\\n",
       "4774          0.0                  10.0                  19.0   \n",
       "91524         0.0                  17.0                  14.0   \n",
       "90552         0.0                  13.0                  18.0   \n",
       "90204         0.0                  11.0                   3.0   \n",
       "92119         0.0                  38.0                  45.0   \n",
       "\n",
       "       total_calling_rch_6  total_data_rch_6  total_calling_rch_7  \\\n",
       "4774                355.00              0.00                706.0   \n",
       "91524               796.00              0.00                526.0   \n",
       "90552               810.00              0.00               1050.0   \n",
       "90204               710.91             71.09                220.0   \n",
       "92119               584.87             50.13                750.0   \n",
       "\n",
       "       total_data_rch_7  total_recharge_cnt_8  total_calling_rch_8  \\\n",
       "4774                0.0                  13.0           500.000000   \n",
       "91524               0.0                  10.0           666.000000   \n",
       "90552               0.0                  19.0          1000.000000   \n",
       "90204               0.0                   0.0           380.436733   \n",
       "92119               0.0                  38.0           675.740000   \n",
       "\n",
       "       total_data_rch_8  \n",
       "4774           0.000000  \n",
       "91524          0.000000  \n",
       "90552          0.000000  \n",
       "90204       -361.879684  \n",
       "92119         18.260000  \n",
       "\n",
       "[5 rows x 152 columns]"
      ]
     },
     "execution_count": 117,
     "metadata": {},
     "output_type": "execute_result"
    }
   ],
   "source": [
    "# Splitting the data into train and test\n",
    "X_train, X_test, y_train, y_test = train_test_split(X, y, \n",
    "                                                    test_size=0.30, \n",
    "                                                    random_state = 99)\n",
    "X_train.head()"
   ]
  },
  {
   "cell_type": "code",
   "execution_count": 118,
   "metadata": {},
   "outputs": [
    {
     "data": {
      "text/html": [
       "<div>\n",
       "<style scoped>\n",
       "    .dataframe tbody tr th:only-of-type {\n",
       "        vertical-align: middle;\n",
       "    }\n",
       "\n",
       "    .dataframe tbody tr th {\n",
       "        vertical-align: top;\n",
       "    }\n",
       "\n",
       "    .dataframe thead th {\n",
       "        text-align: right;\n",
       "    }\n",
       "</style>\n",
       "<table border=\"1\" class=\"dataframe\">\n",
       "  <thead>\n",
       "    <tr style=\"text-align: right;\">\n",
       "      <th></th>\n",
       "      <th>arpu_6</th>\n",
       "      <th>arpu_7</th>\n",
       "      <th>arpu_8</th>\n",
       "      <th>onnet_mou_6</th>\n",
       "      <th>onnet_mou_7</th>\n",
       "      <th>onnet_mou_8</th>\n",
       "      <th>offnet_mou_6</th>\n",
       "      <th>offnet_mou_7</th>\n",
       "      <th>offnet_mou_8</th>\n",
       "      <th>roam_ic_mou_6</th>\n",
       "      <th>...</th>\n",
       "      <th>sep_vbc_3g</th>\n",
       "      <th>total_recharge_cnt_6</th>\n",
       "      <th>total_recharge_cnt_7</th>\n",
       "      <th>total_calling_rch_6</th>\n",
       "      <th>total_data_rch_6</th>\n",
       "      <th>total_calling_rch_7</th>\n",
       "      <th>total_data_rch_7</th>\n",
       "      <th>total_recharge_cnt_8</th>\n",
       "      <th>total_calling_rch_8</th>\n",
       "      <th>total_data_rch_8</th>\n",
       "    </tr>\n",
       "  </thead>\n",
       "  <tbody>\n",
       "    <tr>\n",
       "      <th>38480</th>\n",
       "      <td>465.920</td>\n",
       "      <td>396.943</td>\n",
       "      <td>187.438</td>\n",
       "      <td>492.08</td>\n",
       "      <td>137.81</td>\n",
       "      <td>99.74</td>\n",
       "      <td>232.43</td>\n",
       "      <td>202.36</td>\n",
       "      <td>142.98</td>\n",
       "      <td>0.0</td>\n",
       "      <td>...</td>\n",
       "      <td>0.0</td>\n",
       "      <td>19.0</td>\n",
       "      <td>17.0</td>\n",
       "      <td>530.00</td>\n",
       "      <td>0.00</td>\n",
       "      <td>378.82</td>\n",
       "      <td>81.18</td>\n",
       "      <td>8.0</td>\n",
       "      <td>240.62</td>\n",
       "      <td>34.38</td>\n",
       "    </tr>\n",
       "    <tr>\n",
       "      <th>11643</th>\n",
       "      <td>855.326</td>\n",
       "      <td>22.418</td>\n",
       "      <td>437.393</td>\n",
       "      <td>190.56</td>\n",
       "      <td>2.18</td>\n",
       "      <td>63.73</td>\n",
       "      <td>1985.23</td>\n",
       "      <td>15.19</td>\n",
       "      <td>1108.21</td>\n",
       "      <td>0.0</td>\n",
       "      <td>...</td>\n",
       "      <td>0.0</td>\n",
       "      <td>17.0</td>\n",
       "      <td>5.0</td>\n",
       "      <td>1006.00</td>\n",
       "      <td>0.00</td>\n",
       "      <td>30.00</td>\n",
       "      <td>0.00</td>\n",
       "      <td>11.0</td>\n",
       "      <td>586.00</td>\n",
       "      <td>0.00</td>\n",
       "    </tr>\n",
       "    <tr>\n",
       "      <th>43235</th>\n",
       "      <td>1039.020</td>\n",
       "      <td>628.295</td>\n",
       "      <td>684.291</td>\n",
       "      <td>116.04</td>\n",
       "      <td>23.23</td>\n",
       "      <td>23.38</td>\n",
       "      <td>213.59</td>\n",
       "      <td>32.91</td>\n",
       "      <td>36.64</td>\n",
       "      <td>0.0</td>\n",
       "      <td>...</td>\n",
       "      <td>0.0</td>\n",
       "      <td>19.0</td>\n",
       "      <td>8.0</td>\n",
       "      <td>847.74</td>\n",
       "      <td>391.26</td>\n",
       "      <td>543.00</td>\n",
       "      <td>181.00</td>\n",
       "      <td>11.0</td>\n",
       "      <td>658.18</td>\n",
       "      <td>246.82</td>\n",
       "    </tr>\n",
       "    <tr>\n",
       "      <th>7818</th>\n",
       "      <td>519.614</td>\n",
       "      <td>993.591</td>\n",
       "      <td>658.198</td>\n",
       "      <td>572.54</td>\n",
       "      <td>745.91</td>\n",
       "      <td>365.41</td>\n",
       "      <td>651.39</td>\n",
       "      <td>815.23</td>\n",
       "      <td>806.29</td>\n",
       "      <td>0.0</td>\n",
       "      <td>...</td>\n",
       "      <td>0.0</td>\n",
       "      <td>8.0</td>\n",
       "      <td>11.0</td>\n",
       "      <td>700.00</td>\n",
       "      <td>0.00</td>\n",
       "      <td>1526.36</td>\n",
       "      <td>152.64</td>\n",
       "      <td>3.0</td>\n",
       "      <td>993.00</td>\n",
       "      <td>0.00</td>\n",
       "    </tr>\n",
       "    <tr>\n",
       "      <th>22766</th>\n",
       "      <td>567.470</td>\n",
       "      <td>375.689</td>\n",
       "      <td>474.319</td>\n",
       "      <td>56.96</td>\n",
       "      <td>33.49</td>\n",
       "      <td>68.16</td>\n",
       "      <td>183.48</td>\n",
       "      <td>104.38</td>\n",
       "      <td>148.94</td>\n",
       "      <td>0.0</td>\n",
       "      <td>...</td>\n",
       "      <td>0.0</td>\n",
       "      <td>20.0</td>\n",
       "      <td>23.0</td>\n",
       "      <td>607.50</td>\n",
       "      <td>67.50</td>\n",
       "      <td>321.52</td>\n",
       "      <td>113.48</td>\n",
       "      <td>12.0</td>\n",
       "      <td>530.00</td>\n",
       "      <td>0.00</td>\n",
       "    </tr>\n",
       "  </tbody>\n",
       "</table>\n",
       "<p>5 rows × 152 columns</p>\n",
       "</div>"
      ],
      "text/plain": [
       "         arpu_6   arpu_7   arpu_8  onnet_mou_6  onnet_mou_7  onnet_mou_8  \\\n",
       "38480   465.920  396.943  187.438       492.08       137.81        99.74   \n",
       "11643   855.326   22.418  437.393       190.56         2.18        63.73   \n",
       "43235  1039.020  628.295  684.291       116.04        23.23        23.38   \n",
       "7818    519.614  993.591  658.198       572.54       745.91       365.41   \n",
       "22766   567.470  375.689  474.319        56.96        33.49        68.16   \n",
       "\n",
       "       offnet_mou_6  offnet_mou_7  offnet_mou_8  roam_ic_mou_6  ...  \\\n",
       "38480        232.43        202.36        142.98            0.0  ...   \n",
       "11643       1985.23         15.19       1108.21            0.0  ...   \n",
       "43235        213.59         32.91         36.64            0.0  ...   \n",
       "7818         651.39        815.23        806.29            0.0  ...   \n",
       "22766        183.48        104.38        148.94            0.0  ...   \n",
       "\n",
       "       sep_vbc_3g  total_recharge_cnt_6  total_recharge_cnt_7  \\\n",
       "38480         0.0                  19.0                  17.0   \n",
       "11643         0.0                  17.0                   5.0   \n",
       "43235         0.0                  19.0                   8.0   \n",
       "7818          0.0                   8.0                  11.0   \n",
       "22766         0.0                  20.0                  23.0   \n",
       "\n",
       "       total_calling_rch_6  total_data_rch_6  total_calling_rch_7  \\\n",
       "38480               530.00              0.00               378.82   \n",
       "11643              1006.00              0.00                30.00   \n",
       "43235               847.74            391.26               543.00   \n",
       "7818                700.00              0.00              1526.36   \n",
       "22766               607.50             67.50               321.52   \n",
       "\n",
       "       total_data_rch_7  total_recharge_cnt_8  total_calling_rch_8  \\\n",
       "38480             81.18                   8.0               240.62   \n",
       "11643              0.00                  11.0               586.00   \n",
       "43235            181.00                  11.0               658.18   \n",
       "7818             152.64                   3.0               993.00   \n",
       "22766            113.48                  12.0               530.00   \n",
       "\n",
       "       total_data_rch_8  \n",
       "38480             34.38  \n",
       "11643              0.00  \n",
       "43235            246.82  \n",
       "7818               0.00  \n",
       "22766              0.00  \n",
       "\n",
       "[5 rows x 152 columns]"
      ]
     },
     "execution_count": 118,
     "metadata": {},
     "output_type": "execute_result"
    }
   ],
   "source": [
    "X_test.head()"
   ]
  },
  {
   "cell_type": "code",
   "execution_count": 119,
   "metadata": {},
   "outputs": [],
   "source": [
    "#Scaling data\n",
    "scaler = StandardScaler()\n",
    "X_train =scaler.fit_transform(X_train)\n",
    "X_test =scaler.fit_transform(X_test)"
   ]
  },
  {
   "cell_type": "code",
   "execution_count": 120,
   "metadata": {},
   "outputs": [
    {
     "data": {
      "text/plain": [
       "array([[-0.49711014,  0.19261642, -0.24523462, ...,  0.19621006,\n",
       "        -0.06084597, -0.42617259],\n",
       "       [ 0.52715948, -0.24257787,  0.22401777, ..., -0.10150875,\n",
       "         0.39044436, -0.42617259],\n",
       "       [ 0.42431135,  1.40509498,  0.71686815, ...,  0.79164769,\n",
       "         1.29846225, -0.42617259],\n",
       "       ...,\n",
       "       [ 0.51075943,  0.44466428,  0.89147397, ...,  4.36427341,\n",
       "         1.01300753, -0.42617259],\n",
       "       [ 0.12018947,  0.03657557,  0.97282318, ...,  0.19621006,\n",
       "         0.85951444,  1.08157024],\n",
       "       [-1.80108284, -1.14976497, -0.52711853, ..., -1.09390478,\n",
       "        -0.77944081, -2.75622834]])"
      ]
     },
     "execution_count": 120,
     "metadata": {},
     "output_type": "execute_result"
    }
   ],
   "source": [
    "#Viewing Scaled Data\n",
    "X_train"
   ]
  },
  {
   "cell_type": "code",
   "execution_count": 121,
   "metadata": {},
   "outputs": [
    {
     "data": {
      "text/plain": [
       "0    91.841369\n",
       "1     8.158631\n",
       "Name: churn, dtype: float64"
      ]
     },
     "execution_count": 121,
     "metadata": {},
     "output_type": "execute_result"
    }
   ],
   "source": [
    "# Class_Balance\n",
    "100*y_train.value_counts(normalize=True)"
   ]
  },
  {
   "cell_type": "markdown",
   "metadata": {},
   "source": [
    "**It can be seen that the classes are not balanced. Hence we need to handle the Class Imbalance while training the Models.**"
   ]
  },
  {
   "cell_type": "code",
   "execution_count": 122,
   "metadata": {},
   "outputs": [
    {
     "data": {
      "text/plain": [
       "PCA(copy=True, iterated_power='auto', n_components=85, random_state=42,\n",
       "    svd_solver='randomized', tol=0.0, whiten=False)"
      ]
     },
     "execution_count": 122,
     "metadata": {},
     "output_type": "execute_result"
    }
   ],
   "source": [
    "#Implementing PCA\n",
    "pca = PCA(svd_solver = 'randomized', random_state = 42,n_components = 85)\n",
    "pca.fit(X_train)"
   ]
  },
  {
   "cell_type": "code",
   "execution_count": 123,
   "metadata": {},
   "outputs": [
    {
     "data": {
      "text/plain": [
       "array([[ 0.04893547,  0.06871945,  0.08944143, ..., -0.01681742,\n",
       "         0.06703416,  0.09270873],\n",
       "       [ 0.12579721,  0.15923241,  0.15080738, ...,  0.08520338,\n",
       "         0.17017366, -0.03121721],\n",
       "       [ 0.10386934,  0.17105531,  0.17303053, ...,  0.07961271,\n",
       "         0.13210698,  0.18763884],\n",
       "       ...,\n",
       "       [ 0.02333982, -0.01100424, -0.09012703, ...,  0.07890328,\n",
       "        -0.13527088,  0.17194618],\n",
       "       [-0.06167947, -0.00573206,  0.08514203, ...,  0.03901865,\n",
       "         0.04648365,  0.09873675],\n",
       "       [ 0.0106074 ,  0.01853529,  0.01025677, ...,  0.02235542,\n",
       "         0.02005994, -0.01913338]])"
      ]
     },
     "execution_count": 123,
     "metadata": {},
     "output_type": "execute_result"
    }
   ],
   "source": [
    "#IDentifying Value of Vectors Post PCA\n",
    "pca.components_"
   ]
  },
  {
   "cell_type": "code",
   "execution_count": 124,
   "metadata": {},
   "outputs": [
    {
     "data": {
      "text/plain": [
       "array([0.08142399, 0.07335903, 0.05485782, 0.03941729, 0.03675306,\n",
       "       0.03202638, 0.02651877, 0.02363656, 0.02100106, 0.02057261,\n",
       "       0.0196935 , 0.01918559, 0.01720291, 0.01673032, 0.0163861 ,\n",
       "       0.01614863, 0.01544276, 0.01532402, 0.01441867, 0.013362  ,\n",
       "       0.01250839, 0.01218564, 0.0114985 , 0.01132705, 0.01066133,\n",
       "       0.01024424, 0.01011241, 0.00992322, 0.00963936, 0.00931868,\n",
       "       0.00830677, 0.00817062, 0.00788817, 0.0076888 , 0.00759902,\n",
       "       0.0073794 , 0.00722401, 0.00709805, 0.00688741, 0.00682338,\n",
       "       0.00673033, 0.00649385, 0.006228  , 0.00601564, 0.00595954,\n",
       "       0.00578784, 0.00570605, 0.00560249, 0.00557206, 0.00541622,\n",
       "       0.00531092, 0.00522833, 0.00507844, 0.00493853, 0.00485448,\n",
       "       0.00481436, 0.00470007, 0.00464679, 0.00447628, 0.00446584,\n",
       "       0.0043827 , 0.00422857, 0.00417083, 0.0037582 , 0.0037064 ,\n",
       "       0.00354269, 0.0034994 , 0.00348019, 0.00341276, 0.00333459,\n",
       "       0.00326685, 0.00319116, 0.00311765, 0.0029911 , 0.0029568 ,\n",
       "       0.00290792, 0.00282088, 0.00281646, 0.00270483, 0.00265779,\n",
       "       0.00261929, 0.00252016, 0.00241214, 0.00231222, 0.00225882])"
      ]
     },
     "execution_count": 124,
     "metadata": {},
     "output_type": "execute_result"
    }
   ],
   "source": [
    "# Identifying the Variance Ratio of Components Post PCA\n",
    "pca.explained_variance_ratio_"
   ]
  },
  {
   "cell_type": "code",
   "execution_count": 125,
   "metadata": {},
   "outputs": [
    {
     "data": {
      "text/plain": [
       "Text(0, 0.5, 'Cumulative Variance')"
      ]
     },
     "execution_count": 125,
     "metadata": {},
     "output_type": "execute_result"
    },
    {
     "data": {
      "image/png": "[encoded data removed]",
      "text/plain": [
       "<Figure size 720x720 with 1 Axes>"
      ]
     },
     "metadata": {
      "needs_background": "light"
     },
     "output_type": "display_data"
    }
   ],
   "source": [
    "# Analyzing  the Scree Plot\n",
    "fig = plt.figure(figsize = (10,10))\n",
    "plt.plot(np.cumsum(pca.explained_variance_ratio_))\n",
    "plt.xlabel('Number of Coponents')\n",
    "plt.ylabel('Cumulative Variance')"
   ]
  },
  {
   "cell_type": "markdown",
   "metadata": {},
   "source": [
    "**From Above Plot, it can be seen that Approx First 40 Components give out 75% of variance**\n",
    "**while approx next 40 Components give 10% Variance. Total of 85% Variance is given by Approx 80 components.**"
   ]
  },
  {
   "cell_type": "code",
   "execution_count": 126,
   "metadata": {},
   "outputs": [
    {
     "data": {
      "text/plain": [
       "(18937, 80)"
      ]
     },
     "execution_count": 126,
     "metadata": {},
     "output_type": "execute_result"
    }
   ],
   "source": [
    "## Implementing PCA using number of components=80 & Incremental PCA\n",
    "pca_final = IncrementalPCA(n_components = 80)\n",
    "df_pca = pca_final.fit_transform(X_train)\n",
    "df_pca.shape"
   ]
  },
  {
   "cell_type": "markdown",
   "metadata": {},
   "source": [
    "**Model-1 Decision Tree with PCA**"
   ]
  },
  {
   "cell_type": "code",
   "execution_count": 127,
   "metadata": {},
   "outputs": [
    {
     "data": {
      "text/plain": [
       "DecisionTreeClassifier(class_weight='balanced', criterion='gini', max_depth=5,\n",
       "                       max_features=None, max_leaf_nodes=None,\n",
       "                       min_impurity_decrease=0.0, min_impurity_split=None,\n",
       "                       min_samples_leaf=1, min_samples_split=2,\n",
       "                       min_weight_fraction_leaf=0.0, presort=False,\n",
       "                       random_state=None, splitter='best')"
      ]
     },
     "execution_count": 127,
     "metadata": {},
     "output_type": "execute_result"
    }
   ],
   "source": [
    "# Importing decision tree classifier from sklearn library\n",
    "from sklearn.tree import DecisionTreeClassifier\n",
    "\n",
    "# Fitting the decision tree with default hyperparameters, apart from\n",
    "# max_depth which is 5 so that we can plot and read the tree.\n",
    "dt_default = DecisionTreeClassifier(max_depth=5,class_weight='balanced')\n",
    "dt_default.fit(X_train, y_train)"
   ]
  },
  {
   "cell_type": "code",
   "execution_count": 128,
   "metadata": {},
   "outputs": [
    {
     "name": "stdout",
     "output_type": "stream",
     "text": [
      "              precision    recall  f1-score   support\n",
      "\n",
      "           0       0.96      0.48      0.64      7466\n",
      "           1       0.11      0.77      0.20       650\n",
      "\n",
      "    accuracy                           0.50      8116\n",
      "   macro avg       0.54      0.63      0.42      8116\n",
      "weighted avg       0.89      0.50      0.60      8116\n",
      "\n"
     ]
    }
   ],
   "source": [
    "# Let's check the evaluation metrics of our default model\n",
    "\n",
    "# Importing classification report and confusion matrix from sklearn metrics\n",
    "from sklearn.metrics import classification_report, confusion_matrix, accuracy_score\n",
    "\n",
    "# Making predictions\n",
    "y_pred_default = dt_default.predict(X_test)\n",
    "\n",
    "# Printing classification report\n",
    "print(classification_report(y_test, y_pred_default))"
   ]
  },
  {
   "cell_type": "code",
   "execution_count": 129,
   "metadata": {},
   "outputs": [
    {
     "name": "stdout",
     "output_type": "stream",
     "text": [
      "[[3582 3884]\n",
      " [ 147  503]]\n",
      "0.5033267619517003\n"
     ]
    }
   ],
   "source": [
    "# Printing confusion matrix and accuracy\n",
    "print(confusion_matrix(y_test,y_pred_default))\n",
    "print(accuracy_score(y_test,y_pred_default))"
   ]
  },
  {
   "cell_type": "markdown",
   "metadata": {},
   "source": [
    "**From Above it can be seen that the Simple Decision Tree Might Tend to Overfit/Underfit,with Default Values.**\n",
    "**Need to Perform Hyperparameter Tuning, to determine best fit values**"
   ]
  },
  {
   "cell_type": "markdown",
   "metadata": {},
   "source": [
    "**Hyperparameter Tuning - Finding Max Depth**"
   ]
  },
  {
   "cell_type": "code",
   "execution_count": 130,
   "metadata": {},
   "outputs": [
    {
     "data": {
      "text/plain": [
       "GridSearchCV(cv=5, error_score='raise-deprecating',\n",
       "             estimator=DecisionTreeClassifier(class_weight=None,\n",
       "                                              criterion='gini', max_depth=None,\n",
       "                                              max_features=None,\n",
       "                                              max_leaf_nodes=None,\n",
       "                                              min_impurity_decrease=0.0,\n",
       "                                              min_impurity_split=None,\n",
       "                                              min_samples_leaf=1,\n",
       "                                              min_samples_split=2,\n",
       "                                              min_weight_fraction_leaf=0.0,\n",
       "                                              presort=False, random_state=100,\n",
       "                                              splitter='best'),\n",
       "             iid='warn', n_jobs=4, param_grid={'max_depth': range(1, 15)},\n",
       "             pre_dispatch='2*n_jobs', refit=True, return_train_score=True,\n",
       "             scoring='accuracy', verbose=0)"
      ]
     },
     "execution_count": 130,
     "metadata": {},
     "output_type": "execute_result"
    }
   ],
   "source": [
    "# GridSearchCV to find optimal max_depth\n",
    "from sklearn.model_selection import KFold\n",
    "from sklearn.model_selection import GridSearchCV\n",
    "\n",
    "# specify number of folds for k-fold CV\n",
    "n_folds = 5\n",
    "\n",
    "# parameters to build the model on\n",
    "parameters = {'max_depth': range(1, 15)}\n",
    "\n",
    "# instantiate the model\n",
    "dtree = DecisionTreeClassifier(criterion = \"gini\",random_state = 100)\n",
    "\n",
    "# fit tree on training data\n",
    "tree = GridSearchCV(dtree, parameters,  cv=n_folds,scoring=\"accuracy\",return_train_score=True,n_jobs=4)\n",
    "\n",
    "#View Tree Parameter Values\n",
    "tree.fit(X_train, y_train)"
   ]
  },
  {
   "cell_type": "code",
   "execution_count": 131,
   "metadata": {},
   "outputs": [],
   "source": [
    "# scores of GridSearch CV\n",
    "scores = tree.cv_results_\n",
    "scores_df=pd.DataFrame(scores)"
   ]
  },
  {
   "cell_type": "code",
   "execution_count": 132,
   "metadata": {},
   "outputs": [
    {
     "data": {
      "image/png": "[encoded data removed]",
      "text/plain": [
       "<Figure size 432x288 with 1 Axes>"
      ]
     },
     "metadata": {
      "needs_background": "light"
     },
     "output_type": "display_data"
    }
   ],
   "source": [
    "# plotting accuracies with max_depth\n",
    "plt.figure()\n",
    "plt.plot(scores[\"param_max_depth\"], \n",
    "         scores[\"mean_train_score\"], \n",
    "         label=\"training accuracy\")\n",
    "plt.plot(scores[\"param_max_depth\"], \n",
    "         scores[\"mean_test_score\"], \n",
    "         label=\"test accuracy\")\n",
    "plt.xlabel(\"min_samples_leaf\")\n",
    "plt.ylabel(\"Accuracy\")\n",
    "plt.legend()\n",
    "plt.show()"
   ]
  },
  {
   "cell_type": "code",
   "execution_count": 133,
   "metadata": {},
   "outputs": [
    {
     "data": {
      "text/html": [
       "<div>\n",
       "<style scoped>\n",
       "    .dataframe tbody tr th:only-of-type {\n",
       "        vertical-align: middle;\n",
       "    }\n",
       "\n",
       "    .dataframe tbody tr th {\n",
       "        vertical-align: top;\n",
       "    }\n",
       "\n",
       "    .dataframe thead th {\n",
       "        text-align: right;\n",
       "    }\n",
       "</style>\n",
       "<table border=\"1\" class=\"dataframe\">\n",
       "  <thead>\n",
       "    <tr style=\"text-align: right;\">\n",
       "      <th></th>\n",
       "      <th>param_max_depth</th>\n",
       "      <th>mean_train_score</th>\n",
       "      <th>mean_test_score</th>\n",
       "      <th>rank_test_score</th>\n",
       "    </tr>\n",
       "  </thead>\n",
       "  <tbody>\n",
       "    <tr>\n",
       "      <th>0</th>\n",
       "      <td>1</td>\n",
       "      <td>0.938639</td>\n",
       "      <td>0.938586</td>\n",
       "      <td>5</td>\n",
       "    </tr>\n",
       "    <tr>\n",
       "      <th>1</th>\n",
       "      <td>2</td>\n",
       "      <td>0.943589</td>\n",
       "      <td>0.942229</td>\n",
       "      <td>2</td>\n",
       "    </tr>\n",
       "    <tr>\n",
       "      <th>2</th>\n",
       "      <td>3</td>\n",
       "      <td>0.943748</td>\n",
       "      <td>0.942969</td>\n",
       "      <td>1</td>\n",
       "    </tr>\n",
       "    <tr>\n",
       "      <th>3</th>\n",
       "      <td>4</td>\n",
       "      <td>0.945781</td>\n",
       "      <td>0.942177</td>\n",
       "      <td>3</td>\n",
       "    </tr>\n",
       "    <tr>\n",
       "      <th>4</th>\n",
       "      <td>5</td>\n",
       "      <td>0.948976</td>\n",
       "      <td>0.940434</td>\n",
       "      <td>4</td>\n",
       "    </tr>\n",
       "    <tr>\n",
       "      <th>5</th>\n",
       "      <td>6</td>\n",
       "      <td>0.953675</td>\n",
       "      <td>0.938163</td>\n",
       "      <td>6</td>\n",
       "    </tr>\n",
       "    <tr>\n",
       "      <th>6</th>\n",
       "      <td>7</td>\n",
       "      <td>0.958666</td>\n",
       "      <td>0.935417</td>\n",
       "      <td>7</td>\n",
       "    </tr>\n",
       "    <tr>\n",
       "      <th>7</th>\n",
       "      <td>8</td>\n",
       "      <td>0.965068</td>\n",
       "      <td>0.931932</td>\n",
       "      <td>8</td>\n",
       "    </tr>\n",
       "    <tr>\n",
       "      <th>8</th>\n",
       "      <td>9</td>\n",
       "      <td>0.970930</td>\n",
       "      <td>0.928341</td>\n",
       "      <td>9</td>\n",
       "    </tr>\n",
       "    <tr>\n",
       "      <th>9</th>\n",
       "      <td>10</td>\n",
       "      <td>0.976316</td>\n",
       "      <td>0.927444</td>\n",
       "      <td>10</td>\n",
       "    </tr>\n",
       "    <tr>\n",
       "      <th>10</th>\n",
       "      <td>11</td>\n",
       "      <td>0.980976</td>\n",
       "      <td>0.925384</td>\n",
       "      <td>11</td>\n",
       "    </tr>\n",
       "    <tr>\n",
       "      <th>11</th>\n",
       "      <td>12</td>\n",
       "      <td>0.984382</td>\n",
       "      <td>0.924170</td>\n",
       "      <td>12</td>\n",
       "    </tr>\n",
       "    <tr>\n",
       "      <th>12</th>\n",
       "      <td>13</td>\n",
       "      <td>0.986732</td>\n",
       "      <td>0.921476</td>\n",
       "      <td>14</td>\n",
       "    </tr>\n",
       "    <tr>\n",
       "      <th>13</th>\n",
       "      <td>14</td>\n",
       "      <td>0.988884</td>\n",
       "      <td>0.921582</td>\n",
       "      <td>13</td>\n",
       "    </tr>\n",
       "  </tbody>\n",
       "</table>\n",
       "</div>"
      ],
      "text/plain": [
       "   param_max_depth  mean_train_score  mean_test_score  rank_test_score\n",
       "0                1          0.938639         0.938586                5\n",
       "1                2          0.943589         0.942229                2\n",
       "2                3          0.943748         0.942969                1\n",
       "3                4          0.945781         0.942177                3\n",
       "4                5          0.948976         0.940434                4\n",
       "5                6          0.953675         0.938163                6\n",
       "6                7          0.958666         0.935417                7\n",
       "7                8          0.965068         0.931932                8\n",
       "8                9          0.970930         0.928341                9\n",
       "9               10          0.976316         0.927444               10\n",
       "10              11          0.980976         0.925384               11\n",
       "11              12          0.984382         0.924170               12\n",
       "12              13          0.986732         0.921476               14\n",
       "13              14          0.988884         0.921582               13"
      ]
     },
     "execution_count": 133,
     "metadata": {},
     "output_type": "execute_result"
    }
   ],
   "source": [
    "#View Scores for Max Depth\n",
    "scores_df[['param_max_depth','mean_train_score','mean_test_score','rank_test_score']]"
   ]
  },
  {
   "cell_type": "markdown",
   "metadata": {},
   "source": [
    "**From Above Graph & Table it can be seen that after Max_Dept=5, the Test Score Drastically reducess while the training Scores drastically increase.**\n",
    "**Hence the model tends to overfit after max_depth=5. Hence Optimum value for Max_depth=5**"
   ]
  },
  {
   "cell_type": "markdown",
   "metadata": {},
   "source": [
    "**Hyperparameter Tuning - Finding min_samples_leaf**"
   ]
  },
  {
   "cell_type": "code",
   "execution_count": 134,
   "metadata": {},
   "outputs": [
    {
     "data": {
      "text/plain": [
       "GridSearchCV(cv=5, error_score='raise-deprecating',\n",
       "             estimator=DecisionTreeClassifier(class_weight=None,\n",
       "                                              criterion='gini', max_depth=None,\n",
       "                                              max_features=None,\n",
       "                                              max_leaf_nodes=None,\n",
       "                                              min_impurity_decrease=0.0,\n",
       "                                              min_impurity_split=None,\n",
       "                                              min_samples_leaf=1,\n",
       "                                              min_samples_split=2,\n",
       "                                              min_weight_fraction_leaf=0.0,\n",
       "                                              presort=False, random_state=100,\n",
       "                                              splitter='best'),\n",
       "             iid='warn', n_jobs=4,\n",
       "             param_grid={'min_samples_leaf': range(75, 200, 25)},\n",
       "             pre_dispatch='2*n_jobs', refit=True, return_train_score=True,\n",
       "             scoring='accuracy', verbose=0)"
      ]
     },
     "execution_count": 134,
     "metadata": {},
     "output_type": "execute_result"
    }
   ],
   "source": [
    "# GridSearchCV to find optimal max_depth\n",
    "from sklearn.model_selection import KFold\n",
    "from sklearn.model_selection import GridSearchCV\n",
    "\n",
    "# specify number of folds for k-fold CV\n",
    "n_folds = 5\n",
    "\n",
    "# parameters to build the model on\n",
    "parameters = {'min_samples_leaf': range(75, 200, 25)}\n",
    "\n",
    "# instantiate the model\n",
    "dtree = DecisionTreeClassifier(criterion = \"gini\",random_state = 100)\n",
    "\n",
    "# fit tree on training data\n",
    "tree = GridSearchCV(dtree, parameters, cv=n_folds,scoring=\"accuracy\",return_train_score=True,n_jobs=4)\n",
    "\n",
    "#View Tree Parameters\n",
    "tree.fit(X_train, y_train)"
   ]
  },
  {
   "cell_type": "code",
   "execution_count": 135,
   "metadata": {},
   "outputs": [],
   "source": [
    "# scores of GridSearch CV\n",
    "scores = tree.cv_results_\n",
    "scores_df=pd.DataFrame(scores)"
   ]
  },
  {
   "cell_type": "code",
   "execution_count": null,
   "metadata": {},
   "outputs": [
    {
     "data": {
      "image/png": "[encoded data removed]",
      "text/plain": [
       "<Figure size 432x288 with 1 Axes>"
      ]
     },
     "metadata": {
      "needs_background": "light"
     },
     "output_type": "display_data"
    }
   ],
   "source": [
    "# plotting accuracies with max_depth\n",
    "plt.figure()\n",
    "plt.plot(scores[\"param_min_samples_leaf\"], \n",
    "         scores[\"mean_train_score\"], \n",
    "         label=\"training accuracy\")\n",
    "plt.plot(scores[\"param_min_samples_leaf\"], \n",
    "         scores[\"mean_test_score\"], \n",
    "         label=\"test accuracy\")\n",
    "plt.xlabel(\"min_samples_leaf\")\n",
    "plt.ylabel(\"Accuracy\")\n",
    "plt.legend()\n",
    "plt.show()"
   ]
  },
  {
   "cell_type": "code",
   "execution_count": null,
   "metadata": {},
   "outputs": [],
   "source": [
    "#View Scores for min_Samples_leaf\n",
    "scores_df[['param_min_samples_leaf','mean_train_score','mean_test_score','rank_test_score']]"
   ]
  },
  {
   "cell_type": "markdown",
   "metadata": {},
   "source": [
    "**From Above Graph & Table it can be seen that for lower values of sample leaf, the model tends to Overfit.**\n",
    "**After min_sample_leaf values of 125, both test & train scores start to converge.Hence, 125 is the optimum value for min_sample_leaf.**"
   ]
  },
  {
   "cell_type": "markdown",
   "metadata": {},
   "source": [
    "**Hyperparameter Tuning- min_samples_split**"
   ]
  },
  {
   "cell_type": "code",
   "execution_count": 138,
   "metadata": {},
   "outputs": [
    {
     "data": {
      "text/plain": [
       "GridSearchCV(cv=5, error_score='raise-deprecating',\n",
       "             estimator=DecisionTreeClassifier(class_weight=None,\n",
       "                                              criterion='gini', max_depth=None,\n",
       "                                              max_features=None,\n",
       "                                              max_leaf_nodes=None,\n",
       "                                              min_impurity_decrease=0.0,\n",
       "                                              min_impurity_split=None,\n",
       "                                              min_samples_leaf=1,\n",
       "                                              min_samples_split=2,\n",
       "                                              min_weight_fraction_leaf=0.0,\n",
       "                                              presort=False, random_state=100,\n",
       "                                              splitter='best'),\n",
       "             iid='warn', n_jobs=4,\n",
       "             param_grid={'min_samples_split': range(5, 500, 20)},\n",
       "             pre_dispatch='2*n_jobs', refit=True, return_train_score=True,\n",
       "             scoring='accuracy', verbose=0)"
      ]
     },
     "execution_count": 138,
     "metadata": {},
     "output_type": "execute_result"
    }
   ],
   "source": [
    "# GridSearchCV to find optimal min_samples_split\n",
    "from sklearn.model_selection import KFold\n",
    "from sklearn.model_selection import GridSearchCV\n",
    "\n",
    "\n",
    "# specify number of folds for k-fold CV\n",
    "n_folds = 5\n",
    "\n",
    "# parameters to build the model on\n",
    "parameters = {'min_samples_split': range(5, 500, 20)}\n",
    "\n",
    "# instantiate the model\n",
    "dtree = DecisionTreeClassifier(criterion = \"gini\", \n",
    "                               random_state = 100)\n",
    "\n",
    "# fit tree on training data\n",
    "tree = GridSearchCV(dtree, parameters,cv=n_folds,scoring=\"accuracy\",return_train_score=True,n_jobs=4)\n",
    "\n",
    "#View Tree Parameters\n",
    "tree.fit(X_train, y_train)"
   ]
  },
  {
   "cell_type": "code",
   "execution_count": 139,
   "metadata": {},
   "outputs": [],
   "source": [
    "# scores of GridSearch CV\n",
    "scores = tree.cv_results_\n",
    "scores_df=pd.DataFrame(scores)"
   ]
  },
  {
   "cell_type": "code",
   "execution_count": 140,
   "metadata": {},
   "outputs": [
    {
     "data": {
      "image/png": "[encoded data removed]",
      "text/plain": [
       "<Figure size 432x288 with 1 Axes>"
      ]
     },
     "metadata": {
      "needs_background": "light"
     },
     "output_type": "display_data"
    }
   ],
   "source": [
    "# plotting accuracies with param_min_samples_split\n",
    "plt.figure()\n",
    "plt.plot(scores[\"param_min_samples_split\"], \n",
    "         scores[\"mean_train_score\"], \n",
    "         label=\"training accuracy\")\n",
    "plt.plot(scores[\"param_min_samples_split\"], \n",
    "         scores[\"mean_test_score\"], \n",
    "         label=\"test accuracy\")\n",
    "plt.xlabel(\"min_samples_split\")\n",
    "plt.ylabel(\"Accuracy\")\n",
    "plt.legend()\n",
    "plt.show()"
   ]
  },
  {
   "cell_type": "code",
   "execution_count": 141,
   "metadata": {},
   "outputs": [
    {
     "data": {
      "text/html": [
       "<div>\n",
       "<style scoped>\n",
       "    .dataframe tbody tr th:only-of-type {\n",
       "        vertical-align: middle;\n",
       "    }\n",
       "\n",
       "    .dataframe tbody tr th {\n",
       "        vertical-align: top;\n",
       "    }\n",
       "\n",
       "    .dataframe thead th {\n",
       "        text-align: right;\n",
       "    }\n",
       "</style>\n",
       "<table border=\"1\" class=\"dataframe\">\n",
       "  <thead>\n",
       "    <tr style=\"text-align: right;\">\n",
       "      <th></th>\n",
       "      <th>param_min_samples_split</th>\n",
       "      <th>mean_train_score</th>\n",
       "      <th>mean_test_score</th>\n",
       "      <th>rank_test_score</th>\n",
       "    </tr>\n",
       "  </thead>\n",
       "  <tbody>\n",
       "    <tr>\n",
       "      <th>0</th>\n",
       "      <td>5</td>\n",
       "      <td>0.994508</td>\n",
       "      <td>0.909489</td>\n",
       "      <td>25</td>\n",
       "    </tr>\n",
       "    <tr>\n",
       "      <th>1</th>\n",
       "      <td>25</td>\n",
       "      <td>0.975564</td>\n",
       "      <td>0.920420</td>\n",
       "      <td>24</td>\n",
       "    </tr>\n",
       "    <tr>\n",
       "      <th>2</th>\n",
       "      <td>45</td>\n",
       "      <td>0.967233</td>\n",
       "      <td>0.924803</td>\n",
       "      <td>23</td>\n",
       "    </tr>\n",
       "    <tr>\n",
       "      <th>3</th>\n",
       "      <td>65</td>\n",
       "      <td>0.962349</td>\n",
       "      <td>0.927813</td>\n",
       "      <td>22</td>\n",
       "    </tr>\n",
       "    <tr>\n",
       "      <th>4</th>\n",
       "      <td>85</td>\n",
       "      <td>0.959246</td>\n",
       "      <td>0.929503</td>\n",
       "      <td>21</td>\n",
       "    </tr>\n",
       "    <tr>\n",
       "      <th>5</th>\n",
       "      <td>105</td>\n",
       "      <td>0.957108</td>\n",
       "      <td>0.932460</td>\n",
       "      <td>20</td>\n",
       "    </tr>\n",
       "    <tr>\n",
       "      <th>6</th>\n",
       "      <td>125</td>\n",
       "      <td>0.955167</td>\n",
       "      <td>0.932936</td>\n",
       "      <td>19</td>\n",
       "    </tr>\n",
       "    <tr>\n",
       "      <th>7</th>\n",
       "      <td>145</td>\n",
       "      <td>0.953649</td>\n",
       "      <td>0.934097</td>\n",
       "      <td>18</td>\n",
       "    </tr>\n",
       "    <tr>\n",
       "      <th>8</th>\n",
       "      <td>165</td>\n",
       "      <td>0.952131</td>\n",
       "      <td>0.934889</td>\n",
       "      <td>17</td>\n",
       "    </tr>\n",
       "    <tr>\n",
       "      <th>9</th>\n",
       "      <td>185</td>\n",
       "      <td>0.951141</td>\n",
       "      <td>0.936157</td>\n",
       "      <td>16</td>\n",
       "    </tr>\n",
       "    <tr>\n",
       "      <th>10</th>\n",
       "      <td>205</td>\n",
       "      <td>0.950745</td>\n",
       "      <td>0.936368</td>\n",
       "      <td>15</td>\n",
       "    </tr>\n",
       "    <tr>\n",
       "      <th>11</th>\n",
       "      <td>225</td>\n",
       "      <td>0.950098</td>\n",
       "      <td>0.936843</td>\n",
       "      <td>14</td>\n",
       "    </tr>\n",
       "    <tr>\n",
       "      <th>12</th>\n",
       "      <td>245</td>\n",
       "      <td>0.949200</td>\n",
       "      <td>0.937477</td>\n",
       "      <td>13</td>\n",
       "    </tr>\n",
       "    <tr>\n",
       "      <th>13</th>\n",
       "      <td>265</td>\n",
       "      <td>0.947695</td>\n",
       "      <td>0.939642</td>\n",
       "      <td>12</td>\n",
       "    </tr>\n",
       "    <tr>\n",
       "      <th>14</th>\n",
       "      <td>285</td>\n",
       "      <td>0.947180</td>\n",
       "      <td>0.939853</td>\n",
       "      <td>9</td>\n",
       "    </tr>\n",
       "    <tr>\n",
       "      <th>15</th>\n",
       "      <td>305</td>\n",
       "      <td>0.946586</td>\n",
       "      <td>0.940592</td>\n",
       "      <td>4</td>\n",
       "    </tr>\n",
       "    <tr>\n",
       "      <th>16</th>\n",
       "      <td>325</td>\n",
       "      <td>0.946494</td>\n",
       "      <td>0.940645</td>\n",
       "      <td>1</td>\n",
       "    </tr>\n",
       "    <tr>\n",
       "      <th>17</th>\n",
       "      <td>345</td>\n",
       "      <td>0.946507</td>\n",
       "      <td>0.940645</td>\n",
       "      <td>1</td>\n",
       "    </tr>\n",
       "    <tr>\n",
       "      <th>18</th>\n",
       "      <td>365</td>\n",
       "      <td>0.946243</td>\n",
       "      <td>0.940645</td>\n",
       "      <td>1</td>\n",
       "    </tr>\n",
       "    <tr>\n",
       "      <th>19</th>\n",
       "      <td>385</td>\n",
       "      <td>0.945926</td>\n",
       "      <td>0.940170</td>\n",
       "      <td>6</td>\n",
       "    </tr>\n",
       "    <tr>\n",
       "      <th>20</th>\n",
       "      <td>405</td>\n",
       "      <td>0.945543</td>\n",
       "      <td>0.939906</td>\n",
       "      <td>8</td>\n",
       "    </tr>\n",
       "    <tr>\n",
       "      <th>21</th>\n",
       "      <td>425</td>\n",
       "      <td>0.945424</td>\n",
       "      <td>0.939853</td>\n",
       "      <td>9</td>\n",
       "    </tr>\n",
       "    <tr>\n",
       "      <th>22</th>\n",
       "      <td>445</td>\n",
       "      <td>0.945385</td>\n",
       "      <td>0.939800</td>\n",
       "      <td>11</td>\n",
       "    </tr>\n",
       "    <tr>\n",
       "      <th>23</th>\n",
       "      <td>465</td>\n",
       "      <td>0.945332</td>\n",
       "      <td>0.940170</td>\n",
       "      <td>6</td>\n",
       "    </tr>\n",
       "    <tr>\n",
       "      <th>24</th>\n",
       "      <td>485</td>\n",
       "      <td>0.945332</td>\n",
       "      <td>0.940223</td>\n",
       "      <td>5</td>\n",
       "    </tr>\n",
       "  </tbody>\n",
       "</table>\n",
       "</div>"
      ],
      "text/plain": [
       "   param_min_samples_split  mean_train_score  mean_test_score  rank_test_score\n",
       "0                        5          0.994508         0.909489               25\n",
       "1                       25          0.975564         0.920420               24\n",
       "2                       45          0.967233         0.924803               23\n",
       "3                       65          0.962349         0.927813               22\n",
       "4                       85          0.959246         0.929503               21\n",
       "5                      105          0.957108         0.932460               20\n",
       "6                      125          0.955167         0.932936               19\n",
       "7                      145          0.953649         0.934097               18\n",
       "8                      165          0.952131         0.934889               17\n",
       "9                      185          0.951141         0.936157               16\n",
       "10                     205          0.950745         0.936368               15\n",
       "11                     225          0.950098         0.936843               14\n",
       "12                     245          0.949200         0.937477               13\n",
       "13                     265          0.947695         0.939642               12\n",
       "14                     285          0.947180         0.939853                9\n",
       "15                     305          0.946586         0.940592                4\n",
       "16                     325          0.946494         0.940645                1\n",
       "17                     345          0.946507         0.940645                1\n",
       "18                     365          0.946243         0.940645                1\n",
       "19                     385          0.945926         0.940170                6\n",
       "20                     405          0.945543         0.939906                8\n",
       "21                     425          0.945424         0.939853                9\n",
       "22                     445          0.945385         0.939800               11\n",
       "23                     465          0.945332         0.940170                6\n",
       "24                     485          0.945332         0.940223                5"
      ]
     },
     "execution_count": 141,
     "metadata": {},
     "output_type": "execute_result"
    }
   ],
   "source": [
    "#View Scores for min_samples_split\n",
    "scores_df[['param_min_samples_split','mean_train_score','mean_test_score','rank_test_score']]"
   ]
  },
  {
   "cell_type": "markdown",
   "metadata": {},
   "source": [
    "**From Above Graph & Table it can be seen that for lower values of sample leaf split , the model tends to Overfit.** \n",
    "**After min_sample_split values of 325, both test & train scores start to converge.Hence, 325 is the optimum value for min_sample_split.**"
   ]
  },
  {
   "cell_type": "markdown",
   "metadata": {},
   "source": [
    "**Hyperparameter Tuning - Finding Best Values using automated GridSearch**"
   ]
  },
  {
   "cell_type": "code",
   "execution_count": 142,
   "metadata": {},
   "outputs": [
    {
     "name": "stdout",
     "output_type": "stream",
     "text": [
      "Fitting 5 folds for each of 24 candidates, totalling 120 fits\n"
     ]
    },
    {
     "name": "stderr",
     "output_type": "stream",
     "text": [
      "[Parallel(n_jobs=3)]: Using backend LokyBackend with 3 concurrent workers.\n",
      "[Parallel(n_jobs=3)]: Done  44 tasks      | elapsed:   34.6s\n",
      "[Parallel(n_jobs=3)]: Done 120 out of 120 | elapsed:  1.4min finished\n"
     ]
    },
    {
     "data": {
      "text/plain": [
       "GridSearchCV(cv=5, error_score='raise-deprecating',\n",
       "             estimator=DecisionTreeClassifier(class_weight={0: 0.2, 1: 0.8},\n",
       "                                              criterion='gini', max_depth=None,\n",
       "                                              max_features=None,\n",
       "                                              max_leaf_nodes=None,\n",
       "                                              min_impurity_decrease=0.0,\n",
       "                                              min_impurity_split=None,\n",
       "                                              min_samples_leaf=1,\n",
       "                                              min_samples_split=2,\n",
       "                                              min_weight_fraction_leaf=0.0,\n",
       "                                              presort=False, random_state=None,\n",
       "                                              splitter='best'),\n",
       "             iid='warn', n_jobs=3,\n",
       "             param_grid={'criterion': ['entropy', 'gini'],\n",
       "                         'max_depth': range(4, 12, 4),\n",
       "                         'min_samples_leaf': range(50, 200, 50),\n",
       "                         'min_samples_split': range(300, 400, 50)},\n",
       "             pre_dispatch='2*n_jobs', refit=True, return_train_score=False,\n",
       "             scoring=None, verbose=1)"
      ]
     },
     "execution_count": 142,
     "metadata": {},
     "output_type": "execute_result"
    }
   ],
   "source": [
    "# Create the parameter grid \n",
    "param_grid = {\n",
    "    'max_depth': range(4, 12, 4),\n",
    "    'min_samples_leaf': range(50, 200, 50),\n",
    "    'min_samples_split': range(300, 400, 50),\n",
    "    'criterion': [\"entropy\", \"gini\"]\n",
    "}\n",
    "\n",
    "n_folds = 5\n",
    "\n",
    "# Instantiate the grid search model\n",
    "dtree = DecisionTreeClassifier(class_weight = {0:.20,1:.80})\n",
    "grid_search = GridSearchCV(estimator = dtree, param_grid = param_grid, \n",
    "                          cv = n_folds, verbose = 1,n_jobs=3)\n",
    "\n",
    "# Fit the grid search to the data\n",
    "grid_search.fit(X_train,y_train)"
   ]
  },
  {
   "cell_type": "code",
   "execution_count": 143,
   "metadata": {},
   "outputs": [],
   "source": [
    "# cv results\n",
    "cv_results = pd.DataFrame(grid_search.cv_results_)\n",
    "#cv_results"
   ]
  },
  {
   "cell_type": "code",
   "execution_count": 144,
   "metadata": {},
   "outputs": [
    {
     "name": "stdout",
     "output_type": "stream",
     "text": [
      "Best Accuracy 0.9282885356709089\n",
      "DecisionTreeClassifier(class_weight={0: 0.2, 1: 0.8}, criterion='gini',\n",
      "                       max_depth=8, max_features=None, max_leaf_nodes=None,\n",
      "                       min_impurity_decrease=0.0, min_impurity_split=None,\n",
      "                       min_samples_leaf=150, min_samples_split=350,\n",
      "                       min_weight_fraction_leaf=0.0, presort=False,\n",
      "                       random_state=None, splitter='best')\n"
     ]
    }
   ],
   "source": [
    "# printing the optimal accuracy score and hyperparameters\n",
    "print(\"Best Accuracy\", grid_search.best_score_)\n",
    "print(grid_search.best_estimator_)"
   ]
  },
  {
   "cell_type": "code",
   "execution_count": 145,
   "metadata": {},
   "outputs": [
    {
     "name": "stdout",
     "output_type": "stream",
     "text": [
      "              precision    recall  f1-score   support\n",
      "\n",
      "           0       0.97      0.94      0.96      7466\n",
      "           1       0.52      0.71      0.60       650\n",
      "\n",
      "    accuracy                           0.92      8116\n",
      "   macro avg       0.75      0.82      0.78      8116\n",
      "weighted avg       0.94      0.92      0.93      8116\n",
      "\n"
     ]
    }
   ],
   "source": [
    "# model with optimal hyperparameters- as per grid search cv. Adding Class_weight paramter to handle data imbalance scenario\n",
    "clf_gini = DecisionTreeClassifier(criterion = \"gini\", \n",
    "                                  random_state = 100,\n",
    "                                  max_depth=5, \n",
    "                                  min_samples_leaf=50,\n",
    "                                  min_samples_split=325,class_weight = {0:.20,1:.80})\n",
    "clf_gini.fit(X_train, y_train)\n",
    "\n",
    "from sklearn.metrics import classification_report,confusion_matrix\n",
    "y_pred = clf_gini.predict(X_test)\n",
    "report=classification_report(y_test, y_pred, output_dict=True)\n",
    "print(classification_report(y_test, y_pred))"
   ]
  },
  {
   "cell_type": "code",
   "execution_count": 146,
   "metadata": {},
   "outputs": [
    {
     "data": {
      "text/plain": [
       "array([[7042,  424],\n",
       "       [ 191,  459]], dtype=int64)"
      ]
     },
     "execution_count": 146,
     "metadata": {},
     "output_type": "execute_result"
    }
   ],
   "source": [
    "# confusion matrix\n",
    "confusion = confusion_matrix(y_test,y_pred )\n",
    "\n",
    "\n",
    "TP = confusion[1,1] # true positive \n",
    "TN = confusion[0,0] # true negatives\n",
    "FP = confusion[0,1] # false positives\n",
    "FN = confusion[1,0] # false negatives\n",
    "confusion"
   ]
  },
  {
   "cell_type": "code",
   "execution_count": 147,
   "metadata": {},
   "outputs": [],
   "source": [
    "#Add SCores to DataFRame\n",
    "Model_Report=pd.DataFrame({'Model':['Decision Tree with PCA'], 'Accuracy': round(report['accuracy'],2),'Recall':round((TP / float(TP+FN)),2)})\n"
   ]
  },
  {
   "cell_type": "code",
   "execution_count": 148,
   "metadata": {},
   "outputs": [
    {
     "data": {
      "text/html": [
       "<div>\n",
       "<style scoped>\n",
       "    .dataframe tbody tr th:only-of-type {\n",
       "        vertical-align: middle;\n",
       "    }\n",
       "\n",
       "    .dataframe tbody tr th {\n",
       "        vertical-align: top;\n",
       "    }\n",
       "\n",
       "    .dataframe thead th {\n",
       "        text-align: right;\n",
       "    }\n",
       "</style>\n",
       "<table border=\"1\" class=\"dataframe\">\n",
       "  <thead>\n",
       "    <tr style=\"text-align: right;\">\n",
       "      <th></th>\n",
       "      <th>Model</th>\n",
       "      <th>Accuracy</th>\n",
       "      <th>Recall</th>\n",
       "    </tr>\n",
       "  </thead>\n",
       "  <tbody>\n",
       "    <tr>\n",
       "      <th>0</th>\n",
       "      <td>Decision Tree with PCA</td>\n",
       "      <td>0.92</td>\n",
       "      <td>0.71</td>\n",
       "    </tr>\n",
       "  </tbody>\n",
       "</table>\n",
       "</div>"
      ],
      "text/plain": [
       "                    Model  Accuracy  Recall\n",
       "0  Decision Tree with PCA      0.92    0.71"
      ]
     },
     "execution_count": 148,
     "metadata": {},
     "output_type": "execute_result"
    }
   ],
   "source": [
    "#View DataFrame\n",
    "Model_Report"
   ]
  },
  {
   "cell_type": "markdown",
   "metadata": {},
   "source": [
    "**From above it can be seen that the values used for training the model, with class Imbalance handling, gives an accuracy of 92% &**\n",
    "**Recall(Sensitivity) of 71%**"
   ]
  },
  {
   "cell_type": "markdown",
   "metadata": {},
   "source": [
    "**Model 2 With PCA- Logistic Regression**"
   ]
  },
  {
   "cell_type": "code",
   "execution_count": 149,
   "metadata": {},
   "outputs": [
    {
     "name": "stdout",
     "output_type": "stream",
     "text": [
      "LogisticRegression(C=1.0, class_weight=None, dual=False, fit_intercept=True,\n",
      "                   intercept_scaling=1, l1_ratio=None, max_iter=100,\n",
      "                   multi_class='warn', n_jobs=None, penalty='l2',\n",
      "                   random_state=None, solver='warn', tol=0.0001, verbose=0,\n",
      "                   warm_start=False)\n"
     ]
    }
   ],
   "source": [
    "#Basic Logistic Regression Model\n",
    "logmodelm = LogisticRegression()\n",
    "print(logmodelm.fit(X_train,y_train))"
   ]
  },
  {
   "cell_type": "markdown",
   "metadata": {},
   "source": [
    "**From Above-**\n",
    "\n",
    "**1) Alpha (C)=1.0**\n",
    "\n",
    "**2) class_weight=False (Data Imbalance Exists)**\n",
    "\n",
    "**3) Penalty-l2 (Ridge Regression)**"
   ]
  },
  {
   "cell_type": "code",
   "execution_count": 150,
   "metadata": {},
   "outputs": [],
   "source": [
    "#Predicting the Values\n",
    "y_pred = logmodelm.predict(X_test)"
   ]
  },
  {
   "cell_type": "code",
   "execution_count": 151,
   "metadata": {},
   "outputs": [
    {
     "name": "stdout",
     "output_type": "stream",
     "text": [
      "[[7383   83]\n",
      " [ 445  205]]\n"
     ]
    }
   ],
   "source": [
    "#Confusion Matrix\n",
    "\n",
    "#TP = confusion[1,1] # true positive \n",
    "#TN = confusion[0,0] # true negatives\n",
    "#FP = confusion[0,1] # false positives\n",
    "#FN = confusion[1,0] # false negatives\n",
    "\n",
    "from sklearn.metrics import confusion_matrix\n",
    "confusion_matrix = confusion_matrix(y_test,y_pred)\n",
    "print(confusion_matrix)"
   ]
  },
  {
   "cell_type": "code",
   "execution_count": 152,
   "metadata": {},
   "outputs": [
    {
     "name": "stdout",
     "output_type": "stream",
     "text": [
      "              precision    recall  f1-score   support\n",
      "\n",
      "           0       0.94      0.99      0.97      7466\n",
      "           1       0.71      0.32      0.44       650\n",
      "\n",
      "    accuracy                           0.93      8116\n",
      "   macro avg       0.83      0.65      0.70      8116\n",
      "weighted avg       0.92      0.93      0.92      8116\n",
      "\n"
     ]
    }
   ],
   "source": [
    "#Accuracy & Recall Values\n",
    "from sklearn.metrics import classification_report\n",
    "print(classification_report(y_test,y_pred))"
   ]
  },
  {
   "cell_type": "markdown",
   "metadata": {},
   "source": [
    "**Although the Accuracy value of the model is high, the recall is low. This is due to Data Imbalance & Recall value of 0 is high,**\n",
    "**which means there might be Overfitting in Training Data.**\n",
    "**Need to implement Penalty & Data Imbalance Management Functions, to observe if the Model Performance Improves.**"
   ]
  },
  {
   "cell_type": "code",
   "execution_count": 153,
   "metadata": {},
   "outputs": [],
   "source": [
    "#Defining Range Values for Grid Search\n",
    "param_grid_dual_val=[True,False]\n",
    "max_iter=[100,110,120,130,140,150]\n",
    "alpha = [0.001,0.01,0.1,1.0,1.5,2.0,2.5]\n",
    "param_grid = dict(dual=param_grid_dual_val,max_iter=max_iter,C=alpha)"
   ]
  },
  {
   "cell_type": "code",
   "execution_count": 154,
   "metadata": {},
   "outputs": [],
   "source": [
    "#Running with GridSearch to find optimum Alpha Value & Penalty Type l2\n",
    "lr = LogisticRegression(penalty='l2')\n",
    "n_fold=3\n",
    "grid = GridSearchCV (estimator=lr,param_grid=param_grid, cv = n_fold, n_jobs=4)\n",
    "grid_result = grid.fit(X_train, y_train)"
   ]
  },
  {
   "cell_type": "code",
   "execution_count": 155,
   "metadata": {},
   "outputs": [
    {
     "name": "stdout",
     "output_type": "stream",
     "text": [
      "LogisticRegression(C=1.0, class_weight='balanced', dual=False,\n",
      "                   fit_intercept=True, intercept_scaling=1, l1_ratio=None,\n",
      "                   max_iter=100, multi_class='warn', n_jobs=None, penalty='l2',\n",
      "                   random_state=None, solver='warn', tol=0.0001, verbose=0,\n",
      "                   warm_start=False)\n"
     ]
    }
   ],
   "source": [
    "#Implementing Using Values received from GridSearch\n",
    "lrm = LogisticRegression(C = 1.0,penalty='l2',class_weight='balanced')\n",
    "print(lrm.fit(X_train,y_train))"
   ]
  },
  {
   "cell_type": "code",
   "execution_count": 156,
   "metadata": {},
   "outputs": [],
   "source": [
    "#Predicting From Above\n",
    "y_prediction = lrm.predict(X_test)"
   ]
  },
  {
   "cell_type": "code",
   "execution_count": 157,
   "metadata": {},
   "outputs": [
    {
     "name": "stdout",
     "output_type": "stream",
     "text": [
      "[[6368 1098]\n",
      " [ 117  533]]\n"
     ]
    }
   ],
   "source": [
    "#Confusion Matrix\n",
    "from sklearn.metrics import confusion_matrix\n",
    "confusion_matrix = confusion_matrix(y_test,y_prediction)\n",
    "print(confusion_matrix)"
   ]
  },
  {
   "cell_type": "code",
   "execution_count": 158,
   "metadata": {},
   "outputs": [
    {
     "name": "stdout",
     "output_type": "stream",
     "text": [
      "              precision    recall  f1-score   support\n",
      "\n",
      "           0       0.98      0.85      0.91      7466\n",
      "           1       0.33      0.82      0.47       650\n",
      "\n",
      "    accuracy                           0.85      8116\n",
      "   macro avg       0.65      0.84      0.69      8116\n",
      "weighted avg       0.93      0.85      0.88      8116\n",
      "\n"
     ]
    }
   ],
   "source": [
    "#Values Post Hyperparamter Tuning & Penalty & Data Imbalance Handling\n",
    "from sklearn.metrics import classification_report,confusion_matrix\n",
    "y_pred = clf_gini.predict(X_test)\n",
    "report=classification_report(y_test, y_prediction, output_dict=True)\n",
    "print(classification_report(y_test, y_prediction))"
   ]
  },
  {
   "cell_type": "code",
   "execution_count": 159,
   "metadata": {},
   "outputs": [
    {
     "data": {
      "text/plain": [
       "array([[6368, 1098],\n",
       "       [ 117,  533]], dtype=int64)"
      ]
     },
     "execution_count": 159,
     "metadata": {},
     "output_type": "execute_result"
    }
   ],
   "source": [
    "# confusion matrix\n",
    "from sklearn.metrics import confusion_matrix\n",
    "confusion = confusion_matrix(y_test,y_prediction)\n",
    "\n",
    "\n",
    "TP = confusion[1,1] # true positive \n",
    "TN = confusion[0,0] # true negatives\n",
    "FP = confusion[0,1] # false positives\n",
    "FN = confusion[1,0] # false negatives\n",
    "confusion\n"
   ]
  },
  {
   "cell_type": "code",
   "execution_count": 160,
   "metadata": {},
   "outputs": [],
   "source": [
    "#Adding Logistic Regression L2 Score to Dataframe\n",
    "temp=pd.DataFrame({'Model':['Logistic Regression L2 with PCA'], 'Accuracy': round(report['accuracy'],2),'Recall':round((TP / float(TP+FN)),2)})\n",
    "Model_Report=pd.concat([Model_Report,temp])"
   ]
  },
  {
   "cell_type": "code",
   "execution_count": 161,
   "metadata": {},
   "outputs": [
    {
     "data": {
      "text/html": [
       "<div>\n",
       "<style scoped>\n",
       "    .dataframe tbody tr th:only-of-type {\n",
       "        vertical-align: middle;\n",
       "    }\n",
       "\n",
       "    .dataframe tbody tr th {\n",
       "        vertical-align: top;\n",
       "    }\n",
       "\n",
       "    .dataframe thead th {\n",
       "        text-align: right;\n",
       "    }\n",
       "</style>\n",
       "<table border=\"1\" class=\"dataframe\">\n",
       "  <thead>\n",
       "    <tr style=\"text-align: right;\">\n",
       "      <th></th>\n",
       "      <th>Model</th>\n",
       "      <th>Accuracy</th>\n",
       "      <th>Recall</th>\n",
       "    </tr>\n",
       "  </thead>\n",
       "  <tbody>\n",
       "    <tr>\n",
       "      <th>0</th>\n",
       "      <td>Decision Tree with PCA</td>\n",
       "      <td>0.92</td>\n",
       "      <td>0.71</td>\n",
       "    </tr>\n",
       "    <tr>\n",
       "      <th>0</th>\n",
       "      <td>Logistic Regression L2 with PCA</td>\n",
       "      <td>0.85</td>\n",
       "      <td>0.82</td>\n",
       "    </tr>\n",
       "  </tbody>\n",
       "</table>\n",
       "</div>"
      ],
      "text/plain": [
       "                             Model  Accuracy  Recall\n",
       "0           Decision Tree with PCA      0.92    0.71\n",
       "0  Logistic Regression L2 with PCA      0.85    0.82"
      ]
     },
     "execution_count": 161,
     "metadata": {},
     "output_type": "execute_result"
    }
   ],
   "source": [
    "#View Model Scores\n",
    "Model_Report"
   ]
  },
  {
   "cell_type": "code",
   "execution_count": 162,
   "metadata": {},
   "outputs": [
    {
     "name": "stdout",
     "output_type": "stream",
     "text": [
      "LogisticRegression(C=1.0, class_weight='balanced', dual=False,\n",
      "                   fit_intercept=True, intercept_scaling=1, l1_ratio=None,\n",
      "                   max_iter=100, multi_class='warn', n_jobs=None, penalty='l1',\n",
      "                   random_state=None, solver='saga', tol=0.0001, verbose=0,\n",
      "                   warm_start=False)\n"
     ]
    }
   ],
   "source": [
    "#Repeating Above Process for Logistic Regression with L1 Regularization\n",
    "\n",
    "lrm = LogisticRegression(C = 1.0,penalty='l1',solver=\"saga\",class_weight='balanced')\n",
    "print(lrm.fit(X_train,y_train))\n"
   ]
  },
  {
   "cell_type": "code",
   "execution_count": 163,
   "metadata": {},
   "outputs": [],
   "source": [
    "#Predicting From Above\n",
    "y_prediction = lrm.predict(X_test)"
   ]
  },
  {
   "cell_type": "code",
   "execution_count": 164,
   "metadata": {},
   "outputs": [
    {
     "name": "stdout",
     "output_type": "stream",
     "text": [
      "[[6385 1081]\n",
      " [ 115  535]]\n"
     ]
    }
   ],
   "source": [
    "#Confusion Matrix\n",
    "from sklearn.metrics import confusion_matrix\n",
    "confusion_matrix = confusion_matrix(y_test,y_prediction)\n",
    "print(confusion_matrix)"
   ]
  },
  {
   "cell_type": "code",
   "execution_count": 165,
   "metadata": {},
   "outputs": [
    {
     "name": "stdout",
     "output_type": "stream",
     "text": [
      "              precision    recall  f1-score   support\n",
      "\n",
      "           0       0.98      0.86      0.91      7466\n",
      "           1       0.33      0.82      0.47       650\n",
      "\n",
      "    accuracy                           0.85      8116\n",
      "   macro avg       0.66      0.84      0.69      8116\n",
      "weighted avg       0.93      0.85      0.88      8116\n",
      "\n"
     ]
    }
   ],
   "source": [
    "#Values Post Hyperparamter Tuning & Penalty & Data Imbalance Handling\n",
    "from sklearn.metrics import classification_report,confusion_matrix\n",
    "y_pred = clf_gini.predict(X_test)\n",
    "report=classification_report(y_test, y_prediction, output_dict=True)\n",
    "print(classification_report(y_test, y_prediction))"
   ]
  },
  {
   "cell_type": "code",
   "execution_count": 166,
   "metadata": {},
   "outputs": [
    {
     "data": {
      "text/plain": [
       "array([[6385, 1081],\n",
       "       [ 115,  535]], dtype=int64)"
      ]
     },
     "execution_count": 166,
     "metadata": {},
     "output_type": "execute_result"
    }
   ],
   "source": [
    "# confusion matrix\n",
    "from sklearn.metrics import confusion_matrix\n",
    "confusion = confusion_matrix(y_test,y_prediction)\n",
    "\n",
    "\n",
    "TP = confusion[1,1] # true positive \n",
    "TN = confusion[0,0] # true negatives\n",
    "FP = confusion[0,1] # false positives\n",
    "FN = confusion[1,0] # false negatives\n",
    "confusion\n"
   ]
  },
  {
   "cell_type": "code",
   "execution_count": 167,
   "metadata": {},
   "outputs": [],
   "source": [
    "#Adding Logistic Regression L1 Score to Dataframe\n",
    "temp=pd.DataFrame({'Model':['Logistic Regression L1 with PCA'], 'Accuracy': round(report['accuracy'],2),'Recall':round((TP / float(TP+FN)),2)})\n",
    "Model_Report=pd.concat([Model_Report,temp])"
   ]
  },
  {
   "cell_type": "code",
   "execution_count": 168,
   "metadata": {},
   "outputs": [
    {
     "data": {
      "text/html": [
       "<div>\n",
       "<style scoped>\n",
       "    .dataframe tbody tr th:only-of-type {\n",
       "        vertical-align: middle;\n",
       "    }\n",
       "\n",
       "    .dataframe tbody tr th {\n",
       "        vertical-align: top;\n",
       "    }\n",
       "\n",
       "    .dataframe thead th {\n",
       "        text-align: right;\n",
       "    }\n",
       "</style>\n",
       "<table border=\"1\" class=\"dataframe\">\n",
       "  <thead>\n",
       "    <tr style=\"text-align: right;\">\n",
       "      <th></th>\n",
       "      <th>Model</th>\n",
       "      <th>Accuracy</th>\n",
       "      <th>Recall</th>\n",
       "    </tr>\n",
       "  </thead>\n",
       "  <tbody>\n",
       "    <tr>\n",
       "      <th>0</th>\n",
       "      <td>Decision Tree with PCA</td>\n",
       "      <td>0.92</td>\n",
       "      <td>0.71</td>\n",
       "    </tr>\n",
       "    <tr>\n",
       "      <th>0</th>\n",
       "      <td>Logistic Regression L2 with PCA</td>\n",
       "      <td>0.85</td>\n",
       "      <td>0.82</td>\n",
       "    </tr>\n",
       "    <tr>\n",
       "      <th>0</th>\n",
       "      <td>Logistic Regression L1 with PCA</td>\n",
       "      <td>0.85</td>\n",
       "      <td>0.82</td>\n",
       "    </tr>\n",
       "  </tbody>\n",
       "</table>\n",
       "</div>"
      ],
      "text/plain": [
       "                             Model  Accuracy  Recall\n",
       "0           Decision Tree with PCA      0.92    0.71\n",
       "0  Logistic Regression L2 with PCA      0.85    0.82\n",
       "0  Logistic Regression L1 with PCA      0.85    0.82"
      ]
     },
     "execution_count": 168,
     "metadata": {},
     "output_type": "execute_result"
    }
   ],
   "source": [
    "#View Model Scores\n",
    "Model_Report"
   ]
  },
  {
   "cell_type": "markdown",
   "metadata": {},
   "source": [
    "**Model 3 Random Forest with PCA**"
   ]
  },
  {
   "cell_type": "code",
   "execution_count": 169,
   "metadata": {},
   "outputs": [
    {
     "data": {
      "text/plain": [
       "RandomForestClassifier(bootstrap=True, class_weight={0: 0.2, 1: 0.8},\n",
       "                       criterion='gini', max_depth=None, max_features='auto',\n",
       "                       max_leaf_nodes=None, min_impurity_decrease=0.0,\n",
       "                       min_impurity_split=None, min_samples_leaf=1,\n",
       "                       min_samples_split=2, min_weight_fraction_leaf=0.0,\n",
       "                       n_estimators=10, n_jobs=None, oob_score=False,\n",
       "                       random_state=None, verbose=0, warm_start=False)"
      ]
     },
     "execution_count": 169,
     "metadata": {},
     "output_type": "execute_result"
    }
   ],
   "source": [
    "# Importing random forest classifier from sklearn library\n",
    "from sklearn.ensemble import RandomForestClassifier\n",
    "\n",
    "# Running the random forest with default parameters.\n",
    "rfc = RandomForestClassifier(class_weight={0:.20,1:.80})\n",
    "rfc.fit(X_train,y_train)"
   ]
  },
  {
   "cell_type": "code",
   "execution_count": 170,
   "metadata": {},
   "outputs": [],
   "source": [
    "# Making predictions\n",
    "predictions = rfc.predict(X_test)"
   ]
  },
  {
   "cell_type": "code",
   "execution_count": 171,
   "metadata": {},
   "outputs": [],
   "source": [
    "# Importing classification report and confusion matrix from sklearn metrics\n",
    "from sklearn.metrics import classification_report,confusion_matrix, accuracy_score"
   ]
  },
  {
   "cell_type": "code",
   "execution_count": 172,
   "metadata": {},
   "outputs": [
    {
     "name": "stdout",
     "output_type": "stream",
     "text": [
      "              precision    recall  f1-score   support\n",
      "\n",
      "           0       0.94      0.99      0.97      7466\n",
      "           1       0.79      0.24      0.36       650\n",
      "\n",
      "    accuracy                           0.93      8116\n",
      "   macro avg       0.87      0.62      0.66      8116\n",
      "weighted avg       0.93      0.93      0.92      8116\n",
      "\n"
     ]
    }
   ],
   "source": [
    "# Let's check the report of our default model\n",
    "print(classification_report(y_test,predictions))"
   ]
  },
  {
   "cell_type": "code",
   "execution_count": 173,
   "metadata": {},
   "outputs": [
    {
     "name": "stdout",
     "output_type": "stream",
     "text": [
      "[[7426   40]\n",
      " [ 497  153]]\n"
     ]
    }
   ],
   "source": [
    "# Printing confusion matrix\n",
    "print(confusion_matrix(y_test,predictions))"
   ]
  },
  {
   "cell_type": "code",
   "execution_count": 174,
   "metadata": {},
   "outputs": [
    {
     "name": "stdout",
     "output_type": "stream",
     "text": [
      "0.9338344011828487\n"
     ]
    }
   ],
   "source": [
    "print(accuracy_score(y_test,predictions))"
   ]
  },
  {
   "cell_type": "markdown",
   "metadata": {},
   "source": [
    "**From Above analysis it is clear that there exists data imbalance & model performance is poor. Hence we need to implement**\n",
    "**Hyperparameter tuning for Random Forest**"
   ]
  },
  {
   "cell_type": "markdown",
   "metadata": {},
   "source": [
    "**Hyperparameter - Max Depth**"
   ]
  },
  {
   "cell_type": "code",
   "execution_count": 175,
   "metadata": {},
   "outputs": [
    {
     "data": {
      "text/plain": [
       "GridSearchCV(cv=5, error_score='raise-deprecating',\n",
       "             estimator=RandomForestClassifier(bootstrap=True, class_weight=None,\n",
       "                                              criterion='gini', max_depth=None,\n",
       "                                              max_features='auto',\n",
       "                                              max_leaf_nodes=None,\n",
       "                                              min_impurity_decrease=0.0,\n",
       "                                              min_impurity_split=None,\n",
       "                                              min_samples_leaf=1,\n",
       "                                              min_samples_split=2,\n",
       "                                              min_weight_fraction_leaf=0.0,\n",
       "                                              n_estimators='warn', n_jobs=None,\n",
       "                                              oob_score=False,\n",
       "                                              random_state=None, verbose=0,\n",
       "                                              warm_start=False),\n",
       "             iid='warn', n_jobs=6, param_grid={'max_depth': range(2, 20, 5)},\n",
       "             pre_dispatch='2*n_jobs', refit=True, return_train_score=True,\n",
       "             scoring='accuracy', verbose=0)"
      ]
     },
     "execution_count": 175,
     "metadata": {},
     "output_type": "execute_result"
    }
   ],
   "source": [
    "# GridSearchCV to find optimal n_estimators\n",
    "from sklearn.model_selection import KFold\n",
    "from sklearn.model_selection import GridSearchCV\n",
    "\n",
    "\n",
    "# specify number of folds for k-fold CV\n",
    "n_folds = 5\n",
    "\n",
    "# parameters to build the model on\n",
    "parameters = {'max_depth': range(2, 20, 5)}\n",
    "\n",
    "# instantiate the model\n",
    "rf = RandomForestClassifier()\n",
    "\n",
    "\n",
    "# fit tree on training data\n",
    "rf = GridSearchCV(rf, parameters, cv=n_folds,scoring=\"accuracy\",return_train_score=True,n_jobs=6)\n",
    "\n",
    "#View RF Fit Data\n",
    "rf.fit(X_train, y_train)"
   ]
  },
  {
   "cell_type": "code",
   "execution_count": 176,
   "metadata": {},
   "outputs": [],
   "source": [
    "# scores of GridSearch CV\n",
    "scores = rf.cv_results_\n",
    "scores_df=pd.DataFrame(scores)"
   ]
  },
  {
   "cell_type": "code",
   "execution_count": 177,
   "metadata": {},
   "outputs": [
    {
     "data": {
      "image/png": "[encoded data removed]",
      "text/plain": [
       "<Figure size 432x288 with 1 Axes>"
      ]
     },
     "metadata": {
      "needs_background": "light"
     },
     "output_type": "display_data"
    }
   ],
   "source": [
    "# plotting accuracies with max_depth\n",
    "plt.figure()\n",
    "plt.plot(scores[\"param_max_depth\"], \n",
    "         scores[\"mean_train_score\"], \n",
    "         label=\"training accuracy\")\n",
    "plt.plot(scores[\"param_max_depth\"], \n",
    "         scores[\"mean_test_score\"], \n",
    "         label=\"test accuracy\")\n",
    "plt.xlabel(\"max_depth\")\n",
    "plt.ylabel(\"Accuracy\")\n",
    "plt.legend()\n",
    "plt.show()\n"
   ]
  },
  {
   "cell_type": "code",
   "execution_count": 178,
   "metadata": {},
   "outputs": [
    {
     "data": {
      "text/html": [
       "<div>\n",
       "<style scoped>\n",
       "    .dataframe tbody tr th:only-of-type {\n",
       "        vertical-align: middle;\n",
       "    }\n",
       "\n",
       "    .dataframe tbody tr th {\n",
       "        vertical-align: top;\n",
       "    }\n",
       "\n",
       "    .dataframe thead th {\n",
       "        text-align: right;\n",
       "    }\n",
       "</style>\n",
       "<table border=\"1\" class=\"dataframe\">\n",
       "  <thead>\n",
       "    <tr style=\"text-align: right;\">\n",
       "      <th></th>\n",
       "      <th>param_max_depth</th>\n",
       "      <th>mean_train_score</th>\n",
       "      <th>mean_test_score</th>\n",
       "      <th>rank_test_score</th>\n",
       "    </tr>\n",
       "  </thead>\n",
       "  <tbody>\n",
       "    <tr>\n",
       "      <th>0</th>\n",
       "      <td>2</td>\n",
       "      <td>0.939140</td>\n",
       "      <td>0.938480</td>\n",
       "      <td>4</td>\n",
       "    </tr>\n",
       "    <tr>\n",
       "      <th>1</th>\n",
       "      <td>7</td>\n",
       "      <td>0.951721</td>\n",
       "      <td>0.943127</td>\n",
       "      <td>1</td>\n",
       "    </tr>\n",
       "    <tr>\n",
       "      <th>2</th>\n",
       "      <td>12</td>\n",
       "      <td>0.972422</td>\n",
       "      <td>0.942758</td>\n",
       "      <td>2</td>\n",
       "    </tr>\n",
       "    <tr>\n",
       "      <th>3</th>\n",
       "      <td>17</td>\n",
       "      <td>0.987749</td>\n",
       "      <td>0.941437</td>\n",
       "      <td>3</td>\n",
       "    </tr>\n",
       "  </tbody>\n",
       "</table>\n",
       "</div>"
      ],
      "text/plain": [
       "  param_max_depth  mean_train_score  mean_test_score  rank_test_score\n",
       "0               2          0.939140         0.938480                4\n",
       "1               7          0.951721         0.943127                1\n",
       "2              12          0.972422         0.942758                2\n",
       "3              17          0.987749         0.941437                3"
      ]
     },
     "execution_count": 178,
     "metadata": {},
     "output_type": "execute_result"
    }
   ],
   "source": [
    "#View Scores for max_depth\n",
    "scores_df[['param_max_depth','mean_train_score','mean_test_score','rank_test_score']]"
   ]
  },
  {
   "cell_type": "markdown",
   "metadata": {},
   "source": [
    "**From above chart & table that as we increase the value of max_depth, both train and test scores increase till a point, but after that test score starts to decrease,indicating Overfitting**\n",
    "**The ensemble tries to overfit as we increase the max_depth. Hence 7 can be consideredas optimal_value**"
   ]
  },
  {
   "cell_type": "markdown",
   "metadata": {},
   "source": [
    "**Hyperparameter Tuning - n_estimators**"
   ]
  },
  {
   "cell_type": "code",
   "execution_count": 179,
   "metadata": {},
   "outputs": [
    {
     "data": {
      "text/plain": [
       "GridSearchCV(cv=5, error_score='raise-deprecating',\n",
       "             estimator=RandomForestClassifier(bootstrap=True, class_weight=None,\n",
       "                                              criterion='gini', max_depth=4,\n",
       "                                              max_features='auto',\n",
       "                                              max_leaf_nodes=None,\n",
       "                                              min_impurity_decrease=0.0,\n",
       "                                              min_impurity_split=None,\n",
       "                                              min_samples_leaf=1,\n",
       "                                              min_samples_split=2,\n",
       "                                              min_weight_fraction_leaf=0.0,\n",
       "                                              n_estimators='warn', n_jobs=None,\n",
       "                                              oob_score=False,\n",
       "                                              random_state=None, verbose=0,\n",
       "                                              warm_start=False),\n",
       "             iid='warn', n_jobs=6,\n",
       "             param_grid={'n_estimators': range(100, 1500, 400)},\n",
       "             pre_dispatch='2*n_jobs', refit=True, return_train_score=True,\n",
       "             scoring='accuracy', verbose=0)"
      ]
     },
     "execution_count": 179,
     "metadata": {},
     "output_type": "execute_result"
    }
   ],
   "source": [
    "# GridSearchCV to find optimal n_estimators\n",
    "from sklearn.model_selection import KFold\n",
    "from sklearn.model_selection import GridSearchCV\n",
    "\n",
    "\n",
    "# specify number of folds for k-fold CV\n",
    "n_folds = 5\n",
    "\n",
    "# parameters to build the model on\n",
    "parameters = {'n_estimators': range(100, 1500, 400)}\n",
    "\n",
    "# instantiate the model (note we are specifying a max_depth)\n",
    "rf = RandomForestClassifier(max_depth=4)\n",
    "\n",
    "\n",
    "# fit tree on training data\n",
    "rf = GridSearchCV(rf, parameters,cv=n_folds,scoring=\"accuracy\",return_train_score=True,n_jobs=6)\n",
    "\n",
    "#View RF Fit Data\n",
    "rf.fit(X_train, y_train)"
   ]
  },
  {
   "cell_type": "code",
   "execution_count": 180,
   "metadata": {},
   "outputs": [],
   "source": [
    "# scores of GridSearch CV\n",
    "scores = rf.cv_results_\n",
    "scores_df=pd.DataFrame(scores)"
   ]
  },
  {
   "cell_type": "code",
   "execution_count": 181,
   "metadata": {},
   "outputs": [
    {
     "data": {
      "image/png": "[encoded data removed]",
      "text/plain": [
       "<Figure size 432x288 with 1 Axes>"
      ]
     },
     "metadata": {
      "needs_background": "light"
     },
     "output_type": "display_data"
    }
   ],
   "source": [
    "# plotting accuracies with n_estimators\n",
    "plt.figure()\n",
    "plt.plot(scores[\"param_n_estimators\"], \n",
    "         scores[\"mean_train_score\"], \n",
    "         label=\"training accuracy\")\n",
    "plt.plot(scores[\"param_n_estimators\"], \n",
    "         scores[\"mean_test_score\"], \n",
    "         label=\"test accuracy\")\n",
    "plt.xlabel(\"n_estimators\")\n",
    "plt.ylabel(\"Accuracy\")\n",
    "plt.legend()\n",
    "plt.show()\n"
   ]
  },
  {
   "cell_type": "code",
   "execution_count": 182,
   "metadata": {},
   "outputs": [
    {
     "data": {
      "text/html": [
       "<div>\n",
       "<style scoped>\n",
       "    .dataframe tbody tr th:only-of-type {\n",
       "        vertical-align: middle;\n",
       "    }\n",
       "\n",
       "    .dataframe tbody tr th {\n",
       "        vertical-align: top;\n",
       "    }\n",
       "\n",
       "    .dataframe thead th {\n",
       "        text-align: right;\n",
       "    }\n",
       "</style>\n",
       "<table border=\"1\" class=\"dataframe\">\n",
       "  <thead>\n",
       "    <tr style=\"text-align: right;\">\n",
       "      <th></th>\n",
       "      <th>param_n_estimators</th>\n",
       "      <th>mean_train_score</th>\n",
       "      <th>mean_test_score</th>\n",
       "      <th>rank_test_score</th>\n",
       "    </tr>\n",
       "  </thead>\n",
       "  <tbody>\n",
       "    <tr>\n",
       "      <th>0</th>\n",
       "      <td>100</td>\n",
       "      <td>0.945292</td>\n",
       "      <td>0.943022</td>\n",
       "      <td>4</td>\n",
       "    </tr>\n",
       "    <tr>\n",
       "      <th>1</th>\n",
       "      <td>500</td>\n",
       "      <td>0.945147</td>\n",
       "      <td>0.943497</td>\n",
       "      <td>3</td>\n",
       "    </tr>\n",
       "    <tr>\n",
       "      <th>2</th>\n",
       "      <td>900</td>\n",
       "      <td>0.945055</td>\n",
       "      <td>0.943867</td>\n",
       "      <td>1</td>\n",
       "    </tr>\n",
       "    <tr>\n",
       "      <th>3</th>\n",
       "      <td>1300</td>\n",
       "      <td>0.945094</td>\n",
       "      <td>0.943761</td>\n",
       "      <td>2</td>\n",
       "    </tr>\n",
       "  </tbody>\n",
       "</table>\n",
       "</div>"
      ],
      "text/plain": [
       "  param_n_estimators  mean_train_score  mean_test_score  rank_test_score\n",
       "0                100          0.945292         0.943022                4\n",
       "1                500          0.945147         0.943497                3\n",
       "2                900          0.945055         0.943867                1\n",
       "3               1300          0.945094         0.943761                2"
      ]
     },
     "execution_count": 182,
     "metadata": {},
     "output_type": "execute_result"
    }
   ],
   "source": [
    "#View Scores for n_estimator\n",
    "scores_df[['param_n_estimators','mean_train_score','mean_test_score','rank_test_score']]"
   ]
  },
  {
   "cell_type": "markdown",
   "metadata": {},
   "source": [
    "**Hyperparameter Tuning - max_features**"
   ]
  },
  {
   "cell_type": "code",
   "execution_count": 183,
   "metadata": {},
   "outputs": [
    {
     "data": {
      "text/plain": [
       "GridSearchCV(cv=5, error_score='raise-deprecating',\n",
       "             estimator=RandomForestClassifier(bootstrap=True, class_weight=None,\n",
       "                                              criterion='gini', max_depth=4,\n",
       "                                              max_features='auto',\n",
       "                                              max_leaf_nodes=None,\n",
       "                                              min_impurity_decrease=0.0,\n",
       "                                              min_impurity_split=None,\n",
       "                                              min_samples_leaf=1,\n",
       "                                              min_samples_split=2,\n",
       "                                              min_weight_fraction_leaf=0.0,\n",
       "                                              n_estimators='warn', n_jobs=None,\n",
       "                                              oob_score=False,\n",
       "                                              random_state=None, verbose=0,\n",
       "                                              warm_start=False),\n",
       "             iid='warn', n_jobs=6,\n",
       "             param_grid={'max_features': [4, 8, 12, 14, 16, 20, 24]},\n",
       "             pre_dispatch='2*n_jobs', refit=True, return_train_score=True,\n",
       "             scoring='accuracy', verbose=0)"
      ]
     },
     "execution_count": 183,
     "metadata": {},
     "output_type": "execute_result"
    }
   ],
   "source": [
    "# GridSearchCV to find optimal max_features\n",
    "from sklearn.model_selection import KFold\n",
    "from sklearn.model_selection import GridSearchCV\n",
    "\n",
    "\n",
    "# specify number of folds for k-fold CV\n",
    "n_folds = 5\n",
    "\n",
    "# parameters to build the model on\n",
    "parameters = {'max_features': [4, 8,12,14,16,20, 24]}\n",
    "\n",
    "# instantiate the model\n",
    "rf = RandomForestClassifier(max_depth=4)\n",
    "\n",
    "\n",
    "# fit tree on training data\n",
    "rf = GridSearchCV(rf, parameters,cv=n_folds,scoring=\"accuracy\",return_train_score=True,n_jobs=6)\n",
    "#View RF Fit Data\n",
    "rf.fit(X_train, y_train)"
   ]
  },
  {
   "cell_type": "code",
   "execution_count": 184,
   "metadata": {},
   "outputs": [],
   "source": [
    "# scores of GridSearch CV\n",
    "scores = rf.cv_results_\n",
    "scores_df=pd.DataFrame(scores)"
   ]
  },
  {
   "cell_type": "code",
   "execution_count": 185,
   "metadata": {},
   "outputs": [
    {
     "data": {
      "image/png": "[encoded data removed]",
      "text/plain": [
       "<Figure size 432x288 with 1 Axes>"
      ]
     },
     "metadata": {
      "needs_background": "light"
     },
     "output_type": "display_data"
    }
   ],
   "source": [
    "# plotting accuracies with max_features\n",
    "plt.figure()\n",
    "plt.plot(scores[\"param_max_features\"], \n",
    "         scores[\"mean_train_score\"], \n",
    "         label=\"training accuracy\")\n",
    "plt.plot(scores[\"param_max_features\"], \n",
    "         scores[\"mean_test_score\"], \n",
    "         label=\"test accuracy\")\n",
    "plt.xlabel(\"max_features\")\n",
    "plt.ylabel(\"Accuracy\")\n",
    "plt.legend()\n",
    "plt.show()"
   ]
  },
  {
   "cell_type": "code",
   "execution_count": 186,
   "metadata": {},
   "outputs": [
    {
     "data": {
      "text/html": [
       "<div>\n",
       "<style scoped>\n",
       "    .dataframe tbody tr th:only-of-type {\n",
       "        vertical-align: middle;\n",
       "    }\n",
       "\n",
       "    .dataframe tbody tr th {\n",
       "        vertical-align: top;\n",
       "    }\n",
       "\n",
       "    .dataframe thead th {\n",
       "        text-align: right;\n",
       "    }\n",
       "</style>\n",
       "<table border=\"1\" class=\"dataframe\">\n",
       "  <thead>\n",
       "    <tr style=\"text-align: right;\">\n",
       "      <th></th>\n",
       "      <th>param_max_features</th>\n",
       "      <th>mean_train_score</th>\n",
       "      <th>mean_test_score</th>\n",
       "      <th>rank_test_score</th>\n",
       "    </tr>\n",
       "  </thead>\n",
       "  <tbody>\n",
       "    <tr>\n",
       "      <th>0</th>\n",
       "      <td>4</td>\n",
       "      <td>0.938850</td>\n",
       "      <td>0.936526</td>\n",
       "      <td>7</td>\n",
       "    </tr>\n",
       "    <tr>\n",
       "      <th>1</th>\n",
       "      <td>8</td>\n",
       "      <td>0.942639</td>\n",
       "      <td>0.940381</td>\n",
       "      <td>6</td>\n",
       "    </tr>\n",
       "    <tr>\n",
       "      <th>2</th>\n",
       "      <td>12</td>\n",
       "      <td>0.945794</td>\n",
       "      <td>0.943867</td>\n",
       "      <td>1</td>\n",
       "    </tr>\n",
       "    <tr>\n",
       "      <th>3</th>\n",
       "      <td>14</td>\n",
       "      <td>0.945371</td>\n",
       "      <td>0.943074</td>\n",
       "      <td>4</td>\n",
       "    </tr>\n",
       "    <tr>\n",
       "      <th>4</th>\n",
       "      <td>16</td>\n",
       "      <td>0.945504</td>\n",
       "      <td>0.943286</td>\n",
       "      <td>2</td>\n",
       "    </tr>\n",
       "    <tr>\n",
       "      <th>5</th>\n",
       "      <td>20</td>\n",
       "      <td>0.944685</td>\n",
       "      <td>0.942969</td>\n",
       "      <td>5</td>\n",
       "    </tr>\n",
       "    <tr>\n",
       "      <th>6</th>\n",
       "      <td>24</td>\n",
       "      <td>0.945781</td>\n",
       "      <td>0.943180</td>\n",
       "      <td>3</td>\n",
       "    </tr>\n",
       "  </tbody>\n",
       "</table>\n",
       "</div>"
      ],
      "text/plain": [
       "  param_max_features  mean_train_score  mean_test_score  rank_test_score\n",
       "0                  4          0.938850         0.936526                7\n",
       "1                  8          0.942639         0.940381                6\n",
       "2                 12          0.945794         0.943867                1\n",
       "3                 14          0.945371         0.943074                4\n",
       "4                 16          0.945504         0.943286                2\n",
       "5                 20          0.944685         0.942969                5\n",
       "6                 24          0.945781         0.943180                3"
      ]
     },
     "execution_count": 186,
     "metadata": {},
     "output_type": "execute_result"
    }
   ],
   "source": [
    "#View Scores for n_estimator\n",
    "scores_df[['param_max_features','mean_train_score','mean_test_score','rank_test_score']]"
   ]
  },
  {
   "cell_type": "markdown",
   "metadata": {},
   "source": [
    "**It can be seen that as the values of max features increase, the model tends to overfit. Hence lower values suit better.**"
   ]
  },
  {
   "cell_type": "markdown",
   "metadata": {},
   "source": [
    "**Hyperparameter Tuning- min_samples_leaf**"
   ]
  },
  {
   "cell_type": "code",
   "execution_count": 187,
   "metadata": {},
   "outputs": [
    {
     "data": {
      "text/plain": [
       "GridSearchCV(cv=5, error_score='raise-deprecating',\n",
       "             estimator=RandomForestClassifier(bootstrap=True, class_weight=None,\n",
       "                                              criterion='gini', max_depth=None,\n",
       "                                              max_features='auto',\n",
       "                                              max_leaf_nodes=None,\n",
       "                                              min_impurity_decrease=0.0,\n",
       "                                              min_impurity_split=None,\n",
       "                                              min_samples_leaf=1,\n",
       "                                              min_samples_split=2,\n",
       "                                              min_weight_fraction_leaf=0.0,\n",
       "                                              n_estimators='warn', n_jobs=None,\n",
       "                                              oob_score=False,\n",
       "                                              random_state=None, verbose=0,\n",
       "                                              warm_start=False),\n",
       "             iid='warn', n_jobs=6,\n",
       "             param_grid={'min_samples_leaf': range(100, 400, 50)},\n",
       "             pre_dispatch='2*n_jobs', refit=True, return_train_score=True,\n",
       "             scoring='accuracy', verbose=0)"
      ]
     },
     "execution_count": 187,
     "metadata": {},
     "output_type": "execute_result"
    }
   ],
   "source": [
    "# GridSearchCV to find optimal min_samples_leaf\n",
    "from sklearn.model_selection import KFold\n",
    "from sklearn.model_selection import GridSearchCV\n",
    "\n",
    "\n",
    "# specify number of folds for k-fold CV\n",
    "n_folds = 5\n",
    "\n",
    "# parameters to build the model on\n",
    "parameters = {'min_samples_leaf': range(100, 400, 50)}\n",
    "\n",
    "# instantiate the model\n",
    "rf = RandomForestClassifier()\n",
    "\n",
    "\n",
    "# fit tree on training data\n",
    "rf = GridSearchCV(rf, parameters,cv=n_folds, scoring=\"accuracy\",return_train_score=True,n_jobs=6)\n",
    "#View RF Fit Data\n",
    "rf.fit(X_train, y_train)"
   ]
  },
  {
   "cell_type": "code",
   "execution_count": 188,
   "metadata": {},
   "outputs": [],
   "source": [
    "# scores of GridSearch CV\n",
    "scores = rf.cv_results_\n",
    "scores_df=pd.DataFrame(scores)"
   ]
  },
  {
   "cell_type": "code",
   "execution_count": 189,
   "metadata": {},
   "outputs": [
    {
     "data": {
      "image/png": "[encoded data removed]",
      "text/plain": [
       "<Figure size 432x288 with 1 Axes>"
      ]
     },
     "metadata": {
      "needs_background": "light"
     },
     "output_type": "display_data"
    }
   ],
   "source": [
    "# plotting accuracies with min_samples_leaf\n",
    "plt.figure()\n",
    "plt.plot(scores[\"param_min_samples_leaf\"], \n",
    "         scores[\"mean_train_score\"], \n",
    "         label=\"training accuracy\")\n",
    "plt.plot(scores[\"param_min_samples_leaf\"], \n",
    "         scores[\"mean_test_score\"], \n",
    "         label=\"test accuracy\")\n",
    "plt.xlabel(\"min_samples_leaf\")\n",
    "plt.ylabel(\"Accuracy\")\n",
    "plt.legend()\n",
    "plt.show()"
   ]
  },
  {
   "cell_type": "code",
   "execution_count": 190,
   "metadata": {},
   "outputs": [
    {
     "data": {
      "text/html": [
       "<div>\n",
       "<style scoped>\n",
       "    .dataframe tbody tr th:only-of-type {\n",
       "        vertical-align: middle;\n",
       "    }\n",
       "\n",
       "    .dataframe tbody tr th {\n",
       "        vertical-align: top;\n",
       "    }\n",
       "\n",
       "    .dataframe thead th {\n",
       "        text-align: right;\n",
       "    }\n",
       "</style>\n",
       "<table border=\"1\" class=\"dataframe\">\n",
       "  <thead>\n",
       "    <tr style=\"text-align: right;\">\n",
       "      <th></th>\n",
       "      <th>param_min_samples_leaf</th>\n",
       "      <th>mean_train_score</th>\n",
       "      <th>mean_test_score</th>\n",
       "      <th>rank_test_score</th>\n",
       "    </tr>\n",
       "  </thead>\n",
       "  <tbody>\n",
       "    <tr>\n",
       "      <th>0</th>\n",
       "      <td>100</td>\n",
       "      <td>0.943378</td>\n",
       "      <td>0.942494</td>\n",
       "      <td>2</td>\n",
       "    </tr>\n",
       "    <tr>\n",
       "      <th>1</th>\n",
       "      <td>150</td>\n",
       "      <td>0.942203</td>\n",
       "      <td>0.942599</td>\n",
       "      <td>1</td>\n",
       "    </tr>\n",
       "    <tr>\n",
       "      <th>2</th>\n",
       "      <td>200</td>\n",
       "      <td>0.939761</td>\n",
       "      <td>0.938639</td>\n",
       "      <td>3</td>\n",
       "    </tr>\n",
       "    <tr>\n",
       "      <th>3</th>\n",
       "      <td>250</td>\n",
       "      <td>0.939602</td>\n",
       "      <td>0.937371</td>\n",
       "      <td>5</td>\n",
       "    </tr>\n",
       "    <tr>\n",
       "      <th>4</th>\n",
       "      <td>300</td>\n",
       "      <td>0.938955</td>\n",
       "      <td>0.938586</td>\n",
       "      <td>4</td>\n",
       "    </tr>\n",
       "    <tr>\n",
       "      <th>5</th>\n",
       "      <td>350</td>\n",
       "      <td>0.929054</td>\n",
       "      <td>0.928817</td>\n",
       "      <td>6</td>\n",
       "    </tr>\n",
       "  </tbody>\n",
       "</table>\n",
       "</div>"
      ],
      "text/plain": [
       "  param_min_samples_leaf  mean_train_score  mean_test_score  rank_test_score\n",
       "0                    100          0.943378         0.942494                2\n",
       "1                    150          0.942203         0.942599                1\n",
       "2                    200          0.939761         0.938639                3\n",
       "3                    250          0.939602         0.937371                5\n",
       "4                    300          0.938955         0.938586                4\n",
       "5                    350          0.929054         0.928817                6"
      ]
     },
     "execution_count": 190,
     "metadata": {},
     "output_type": "execute_result"
    }
   ],
   "source": [
    "#View Scores for n_estimator\n",
    "scores_df[['param_min_samples_leaf','mean_train_score','mean_test_score','rank_test_score']]"
   ]
  },
  {
   "cell_type": "markdown",
   "metadata": {},
   "source": [
    "**It can be observed that post 100, both Train & Test Values start Dropping.The Model tends to overfit at lower**\n",
    "**values of min_sample leaf, and becomes less complex as the values increases.**"
   ]
  },
  {
   "cell_type": "markdown",
   "metadata": {},
   "source": [
    "**Hyperparameter Tuning - min_samples_split**"
   ]
  },
  {
   "cell_type": "code",
   "execution_count": 191,
   "metadata": {},
   "outputs": [
    {
     "data": {
      "text/plain": [
       "GridSearchCV(cv=5, error_score='raise-deprecating',\n",
       "             estimator=RandomForestClassifier(bootstrap=True, class_weight=None,\n",
       "                                              criterion='gini', max_depth=None,\n",
       "                                              max_features='auto',\n",
       "                                              max_leaf_nodes=None,\n",
       "                                              min_impurity_decrease=0.0,\n",
       "                                              min_impurity_split=None,\n",
       "                                              min_samples_leaf=1,\n",
       "                                              min_samples_split=2,\n",
       "                                              min_weight_fraction_leaf=0.0,\n",
       "                                              n_estimators='warn', n_jobs=None,\n",
       "                                              oob_score=False,\n",
       "                                              random_state=None, verbose=0,\n",
       "                                              warm_start=False),\n",
       "             iid='warn', n_jobs=6,\n",
       "             param_grid={'min_samples_split': range(100, 500, 50)},\n",
       "             pre_dispatch='2*n_jobs', refit=True, return_train_score=True,\n",
       "             scoring='accuracy', verbose=0)"
      ]
     },
     "execution_count": 191,
     "metadata": {},
     "output_type": "execute_result"
    }
   ],
   "source": [
    "# GridSearchCV to find optimal min_samples_split\n",
    "from sklearn.model_selection import KFold\n",
    "from sklearn.model_selection import GridSearchCV\n",
    "\n",
    "\n",
    "# specify number of folds for k-fold CV\n",
    "n_folds = 5\n",
    "\n",
    "# parameters to build the model on\n",
    "parameters = {'min_samples_split': range(100, 500, 50)}\n",
    "\n",
    "# instantiate the model\n",
    "rf = RandomForestClassifier()\n",
    "\n",
    "\n",
    "# fit tree on training data\n",
    "rf = GridSearchCV(rf, parameters,cv=n_folds,scoring=\"accuracy\",return_train_score=True,n_jobs=6)\n",
    "#View RF Fit Data\n",
    "rf.fit(X_train, y_train)"
   ]
  },
  {
   "cell_type": "code",
   "execution_count": 192,
   "metadata": {},
   "outputs": [],
   "source": [
    "# scores of GridSearch CV\n",
    "scores = rf.cv_results_\n",
    "scores_df=pd.DataFrame(scores)"
   ]
  },
  {
   "cell_type": "code",
   "execution_count": 193,
   "metadata": {},
   "outputs": [
    {
     "data": {
      "image/png": "[encoded data removed]",
      "text/plain": [
       "<Figure size 432x288 with 1 Axes>"
      ]
     },
     "metadata": {
      "needs_background": "light"
     },
     "output_type": "display_data"
    }
   ],
   "source": [
    "# plotting accuracies with min_samples_split\n",
    "plt.figure()\n",
    "plt.plot(scores[\"param_min_samples_split\"], \n",
    "         scores[\"mean_train_score\"], \n",
    "         label=\"training accuracy\")\n",
    "plt.plot(scores[\"param_min_samples_split\"], \n",
    "         scores[\"mean_test_score\"], \n",
    "         label=\"test accuracy\")\n",
    "plt.xlabel(\"min_samples_split\")\n",
    "plt.ylabel(\"Accuracy\")\n",
    "plt.legend()\n",
    "plt.show()"
   ]
  },
  {
   "cell_type": "code",
   "execution_count": 194,
   "metadata": {},
   "outputs": [
    {
     "data": {
      "text/html": [
       "<div>\n",
       "<style scoped>\n",
       "    .dataframe tbody tr th:only-of-type {\n",
       "        vertical-align: middle;\n",
       "    }\n",
       "\n",
       "    .dataframe tbody tr th {\n",
       "        vertical-align: top;\n",
       "    }\n",
       "\n",
       "    .dataframe thead th {\n",
       "        text-align: right;\n",
       "    }\n",
       "</style>\n",
       "<table border=\"1\" class=\"dataframe\">\n",
       "  <thead>\n",
       "    <tr style=\"text-align: right;\">\n",
       "      <th></th>\n",
       "      <th>param_min_samples_split</th>\n",
       "      <th>mean_train_score</th>\n",
       "      <th>mean_test_score</th>\n",
       "      <th>rank_test_score</th>\n",
       "    </tr>\n",
       "  </thead>\n",
       "  <tbody>\n",
       "    <tr>\n",
       "      <th>0</th>\n",
       "      <td>100</td>\n",
       "      <td>0.949728</td>\n",
       "      <td>0.943074</td>\n",
       "      <td>1</td>\n",
       "    </tr>\n",
       "    <tr>\n",
       "      <th>1</th>\n",
       "      <td>150</td>\n",
       "      <td>0.946599</td>\n",
       "      <td>0.942494</td>\n",
       "      <td>2</td>\n",
       "    </tr>\n",
       "    <tr>\n",
       "      <th>2</th>\n",
       "      <td>200</td>\n",
       "      <td>0.944698</td>\n",
       "      <td>0.942388</td>\n",
       "      <td>3</td>\n",
       "    </tr>\n",
       "    <tr>\n",
       "      <th>3</th>\n",
       "      <td>250</td>\n",
       "      <td>0.944117</td>\n",
       "      <td>0.941965</td>\n",
       "      <td>4</td>\n",
       "    </tr>\n",
       "    <tr>\n",
       "      <th>4</th>\n",
       "      <td>300</td>\n",
       "      <td>0.944263</td>\n",
       "      <td>0.941965</td>\n",
       "      <td>4</td>\n",
       "    </tr>\n",
       "    <tr>\n",
       "      <th>5</th>\n",
       "      <td>350</td>\n",
       "      <td>0.942295</td>\n",
       "      <td>0.941385</td>\n",
       "      <td>7</td>\n",
       "    </tr>\n",
       "    <tr>\n",
       "      <th>6</th>\n",
       "      <td>400</td>\n",
       "      <td>0.942229</td>\n",
       "      <td>0.941596</td>\n",
       "      <td>6</td>\n",
       "    </tr>\n",
       "    <tr>\n",
       "      <th>7</th>\n",
       "      <td>450</td>\n",
       "      <td>0.941345</td>\n",
       "      <td>0.940909</td>\n",
       "      <td>8</td>\n",
       "    </tr>\n",
       "  </tbody>\n",
       "</table>\n",
       "</div>"
      ],
      "text/plain": [
       "  param_min_samples_split  mean_train_score  mean_test_score  rank_test_score\n",
       "0                     100          0.949728         0.943074                1\n",
       "1                     150          0.946599         0.942494                2\n",
       "2                     200          0.944698         0.942388                3\n",
       "3                     250          0.944117         0.941965                4\n",
       "4                     300          0.944263         0.941965                4\n",
       "5                     350          0.942295         0.941385                7\n",
       "6                     400          0.942229         0.941596                6\n",
       "7                     450          0.941345         0.940909                8"
      ]
     },
     "execution_count": 194,
     "metadata": {},
     "output_type": "execute_result"
    }
   ],
   "source": [
    "#View Scores for n_estimator\n",
    "scores_df[['param_min_samples_split','mean_train_score','mean_test_score','rank_test_score']]"
   ]
  },
  {
   "cell_type": "markdown",
   "metadata": {},
   "source": [
    "**From Above it can be seen that Both Test & Training Scores are Maximum at 100 & then they start to Drop.The Model tends to overfit at lower values of min_sample split, and becomes less complex as the values increases.**"
   ]
  },
  {
   "cell_type": "markdown",
   "metadata": {},
   "source": [
    "**Using GrdiSearchCV to Find Optimal Hyperparameters**"
   ]
  },
  {
   "cell_type": "code",
   "execution_count": 195,
   "metadata": {},
   "outputs": [
    {
     "name": "stdout",
     "output_type": "stream",
     "text": [
      "Fitting 3 folds for each of 72 candidates, totalling 216 fits\n"
     ]
    },
    {
     "name": "stderr",
     "output_type": "stream",
     "text": [
      "[Parallel(n_jobs=6)]: Using backend LokyBackend with 6 concurrent workers.\n",
      "[Parallel(n_jobs=6)]: Done  38 tasks      | elapsed:  1.0min\n",
      "[Parallel(n_jobs=6)]: Done 188 tasks      | elapsed:  9.5min\n",
      "[Parallel(n_jobs=6)]: Done 216 out of 216 | elapsed: 11.4min finished\n"
     ]
    },
    {
     "data": {
      "text/plain": [
       "GridSearchCV(cv=3, error_score='raise-deprecating',\n",
       "             estimator=RandomForestClassifier(bootstrap=True, class_weight=None,\n",
       "                                              criterion='gini', max_depth=None,\n",
       "                                              max_features='auto',\n",
       "                                              max_leaf_nodes=None,\n",
       "                                              min_impurity_decrease=0.0,\n",
       "                                              min_impurity_split=None,\n",
       "                                              min_samples_leaf=1,\n",
       "                                              min_samples_split=2,\n",
       "                                              min_weight_fraction_leaf=0.0,\n",
       "                                              n_estimators='warn', n_jobs=None,\n",
       "                                              oob_score=False,\n",
       "                                              random_state=None, verbose=0,\n",
       "                                              warm_start=False),\n",
       "             iid='warn', n_jobs=6,\n",
       "             param_grid={'max_depth': [4, 8, 10], 'max_features': [5, 10],\n",
       "                         'min_samples_leaf': range(100, 400, 200),\n",
       "                         'min_samples_split': range(200, 500, 200),\n",
       "                         'n_estimators': [100, 200, 300]},\n",
       "             pre_dispatch='2*n_jobs', refit=True, return_train_score=False,\n",
       "             scoring=None, verbose=1)"
      ]
     },
     "execution_count": 195,
     "metadata": {},
     "output_type": "execute_result"
    }
   ],
   "source": [
    "# Create the parameter grid based on the results of random search \n",
    "param_grid = {\n",
    "    'max_depth': [4,8,10],\n",
    "    'min_samples_leaf': range(100, 400, 200),\n",
    "    'min_samples_split': range(200, 500, 200),\n",
    "    'n_estimators': [100,200, 300], \n",
    "    'max_features': [5, 10]\n",
    "}\n",
    "# Create a based model\n",
    "rf = RandomForestClassifier()\n",
    "# Instantiate the grid search model\n",
    "grid_search = GridSearchCV(estimator = rf, param_grid = param_grid,cv = 3, n_jobs = 6,verbose = 1)\n",
    "\n",
    "# Fit the grid search to the data\n",
    "grid_search.fit(X_train, y_train)"
   ]
  },
  {
   "cell_type": "code",
   "execution_count": 196,
   "metadata": {},
   "outputs": [
    {
     "name": "stdout",
     "output_type": "stream",
     "text": [
      "Accuracy-  0.943602471352379 Params-  {'max_depth': 10, 'max_features': 10, 'min_samples_leaf': 100, 'min_samples_split': 200, 'n_estimators': 200}\n"
     ]
    }
   ],
   "source": [
    "# printing the optimal accuracy score and hyperparameters\n",
    "print('Accuracy- ',grid_search.best_score_,'Params- ',grid_search.best_params_)"
   ]
  },
  {
   "cell_type": "code",
   "execution_count": 197,
   "metadata": {},
   "outputs": [],
   "source": [
    "# model with the best hyperparameters\n",
    "from sklearn.ensemble import RandomForestClassifier\n",
    "rfc = RandomForestClassifier(bootstrap=True, max_depth=8,min_samples_leaf=100,min_samples_split=200,\n",
    "                             max_features=10,n_estimators=100,class_weight='balanced')"
   ]
  },
  {
   "cell_type": "code",
   "execution_count": 198,
   "metadata": {},
   "outputs": [
    {
     "data": {
      "text/plain": [
       "RandomForestClassifier(bootstrap=True, class_weight='balanced',\n",
       "                       criterion='gini', max_depth=8, max_features=10,\n",
       "                       max_leaf_nodes=None, min_impurity_decrease=0.0,\n",
       "                       min_impurity_split=None, min_samples_leaf=100,\n",
       "                       min_samples_split=200, min_weight_fraction_leaf=0.0,\n",
       "                       n_estimators=100, n_jobs=None, oob_score=False,\n",
       "                       random_state=None, verbose=0, warm_start=False)"
      ]
     },
     "execution_count": 198,
     "metadata": {},
     "output_type": "execute_result"
    }
   ],
   "source": [
    "# fit\n",
    "rfc.fit(X_train,y_train)"
   ]
  },
  {
   "cell_type": "code",
   "execution_count": 199,
   "metadata": {},
   "outputs": [],
   "source": [
    "# predict\n",
    "predictions = rfc.predict(X_test)"
   ]
  },
  {
   "cell_type": "code",
   "execution_count": 200,
   "metadata": {},
   "outputs": [
    {
     "name": "stdout",
     "output_type": "stream",
     "text": [
      "              precision    recall  f1-score   support\n",
      "\n",
      "           0       0.98      0.85      0.91      7466\n",
      "           1       0.31      0.78      0.45       650\n",
      "\n",
      "    accuracy                           0.84      8116\n",
      "   macro avg       0.64      0.82      0.68      8116\n",
      "weighted avg       0.92      0.84      0.87      8116\n",
      "\n"
     ]
    }
   ],
   "source": [
    "# evaluation metrics\n",
    "from sklearn.metrics import classification_report,confusion_matrix\n",
    "report=classification_report(y_test, y_prediction, output_dict=True)\n",
    "print(classification_report(y_test,predictions))"
   ]
  },
  {
   "cell_type": "code",
   "execution_count": 201,
   "metadata": {},
   "outputs": [
    {
     "name": "stdout",
     "output_type": "stream",
     "text": [
      "[[6340 1126]\n",
      " [ 141  509]]\n"
     ]
    }
   ],
   "source": [
    "print(confusion_matrix(y_test,predictions))"
   ]
  },
  {
   "cell_type": "code",
   "execution_count": 202,
   "metadata": {},
   "outputs": [
    {
     "data": {
      "text/plain": [
       "array([[6340, 1126],\n",
       "       [ 141,  509]], dtype=int64)"
      ]
     },
     "execution_count": 202,
     "metadata": {},
     "output_type": "execute_result"
    }
   ],
   "source": [
    "# confusion matrix\n",
    "from sklearn.metrics import confusion_matrix\n",
    "confusion = confusion_matrix(y_test,predictions)\n",
    "\n",
    "\n",
    "TP = confusion[1,1] # true positive \n",
    "TN = confusion[0,0] # true negatives\n",
    "FP = confusion[0,1] # false positives\n",
    "FN = confusion[1,0] # false negatives\n",
    "confusion"
   ]
  },
  {
   "cell_type": "code",
   "execution_count": 203,
   "metadata": {},
   "outputs": [],
   "source": [
    "#Adding Logistic Regression L1 Score to Dataframe\n",
    "temp=pd.DataFrame({'Model':['Random Forest Ensemble with PCA'], 'Accuracy': round(report['accuracy'],2),'Recall':round((TP / float(TP+FN)),2)})\n",
    "Model_Report=pd.concat([Model_Report,temp])"
   ]
  },
  {
   "cell_type": "code",
   "execution_count": 204,
   "metadata": {},
   "outputs": [
    {
     "data": {
      "text/html": [
       "<div>\n",
       "<style scoped>\n",
       "    .dataframe tbody tr th:only-of-type {\n",
       "        vertical-align: middle;\n",
       "    }\n",
       "\n",
       "    .dataframe tbody tr th {\n",
       "        vertical-align: top;\n",
       "    }\n",
       "\n",
       "    .dataframe thead th {\n",
       "        text-align: right;\n",
       "    }\n",
       "</style>\n",
       "<table border=\"1\" class=\"dataframe\">\n",
       "  <thead>\n",
       "    <tr style=\"text-align: right;\">\n",
       "      <th></th>\n",
       "      <th>Model</th>\n",
       "      <th>Accuracy</th>\n",
       "      <th>Recall</th>\n",
       "    </tr>\n",
       "  </thead>\n",
       "  <tbody>\n",
       "    <tr>\n",
       "      <th>0</th>\n",
       "      <td>Decision Tree with PCA</td>\n",
       "      <td>0.92</td>\n",
       "      <td>0.71</td>\n",
       "    </tr>\n",
       "    <tr>\n",
       "      <th>0</th>\n",
       "      <td>Logistic Regression L2 with PCA</td>\n",
       "      <td>0.85</td>\n",
       "      <td>0.82</td>\n",
       "    </tr>\n",
       "    <tr>\n",
       "      <th>0</th>\n",
       "      <td>Logistic Regression L1 with PCA</td>\n",
       "      <td>0.85</td>\n",
       "      <td>0.82</td>\n",
       "    </tr>\n",
       "    <tr>\n",
       "      <th>0</th>\n",
       "      <td>Random Forest Ensemble with PCA</td>\n",
       "      <td>0.85</td>\n",
       "      <td>0.78</td>\n",
       "    </tr>\n",
       "  </tbody>\n",
       "</table>\n",
       "</div>"
      ],
      "text/plain": [
       "                             Model  Accuracy  Recall\n",
       "0           Decision Tree with PCA      0.92    0.71\n",
       "0  Logistic Regression L2 with PCA      0.85    0.82\n",
       "0  Logistic Regression L1 with PCA      0.85    0.82\n",
       "0  Random Forest Ensemble with PCA      0.85    0.78"
      ]
     },
     "execution_count": 204,
     "metadata": {},
     "output_type": "execute_result"
    }
   ],
   "source": [
    "#View Model Scores\n",
    "Model_Report"
   ]
  },
  {
   "cell_type": "markdown",
   "metadata": {},
   "source": [
    "**Model 4 - Plain Logistic Regression**"
   ]
  },
  {
   "cell_type": "code",
   "execution_count": 205,
   "metadata": {},
   "outputs": [
    {
     "data": {
      "text/html": [
       "<div>\n",
       "<style scoped>\n",
       "    .dataframe tbody tr th:only-of-type {\n",
       "        vertical-align: middle;\n",
       "    }\n",
       "\n",
       "    .dataframe tbody tr th {\n",
       "        vertical-align: top;\n",
       "    }\n",
       "\n",
       "    .dataframe thead th {\n",
       "        text-align: right;\n",
       "    }\n",
       "</style>\n",
       "<table border=\"1\" class=\"dataframe\">\n",
       "  <thead>\n",
       "    <tr style=\"text-align: right;\">\n",
       "      <th></th>\n",
       "      <th>arpu_6</th>\n",
       "      <th>arpu_7</th>\n",
       "      <th>arpu_8</th>\n",
       "      <th>onnet_mou_6</th>\n",
       "      <th>onnet_mou_7</th>\n",
       "      <th>onnet_mou_8</th>\n",
       "      <th>offnet_mou_6</th>\n",
       "      <th>offnet_mou_7</th>\n",
       "      <th>offnet_mou_8</th>\n",
       "      <th>roam_ic_mou_6</th>\n",
       "      <th>...</th>\n",
       "      <th>total_recharge_cnt_7</th>\n",
       "      <th>total_calling_rch_6</th>\n",
       "      <th>total_data_rch_6</th>\n",
       "      <th>total_calling_rch_7</th>\n",
       "      <th>total_data_rch_7</th>\n",
       "      <th>total_recharge_cnt_8</th>\n",
       "      <th>total_calling_rch_8</th>\n",
       "      <th>total_data_rch_8</th>\n",
       "      <th>ID</th>\n",
       "      <th>churn</th>\n",
       "    </tr>\n",
       "  </thead>\n",
       "  <tbody>\n",
       "    <tr>\n",
       "      <th>8</th>\n",
       "      <td>378.721</td>\n",
       "      <td>492.223</td>\n",
       "      <td>137.362</td>\n",
       "      <td>413.69</td>\n",
       "      <td>351.03</td>\n",
       "      <td>35.08</td>\n",
       "      <td>94.66</td>\n",
       "      <td>80.63</td>\n",
       "      <td>136.48</td>\n",
       "      <td>0.00</td>\n",
       "      <td>...</td>\n",
       "      <td>23.0</td>\n",
       "      <td>437.0</td>\n",
       "      <td>0.0</td>\n",
       "      <td>548.74</td>\n",
       "      <td>52.26</td>\n",
       "      <td>17.0</td>\n",
       "      <td>98.82</td>\n",
       "      <td>21.18</td>\n",
       "      <td>1008</td>\n",
       "      <td>0</td>\n",
       "    </tr>\n",
       "    <tr>\n",
       "      <th>13</th>\n",
       "      <td>492.846</td>\n",
       "      <td>205.671</td>\n",
       "      <td>593.260</td>\n",
       "      <td>501.76</td>\n",
       "      <td>108.39</td>\n",
       "      <td>534.24</td>\n",
       "      <td>413.31</td>\n",
       "      <td>119.28</td>\n",
       "      <td>482.46</td>\n",
       "      <td>23.53</td>\n",
       "      <td>...</td>\n",
       "      <td>4.0</td>\n",
       "      <td>507.0</td>\n",
       "      <td>0.0</td>\n",
       "      <td>253.00</td>\n",
       "      <td>0.00</td>\n",
       "      <td>14.0</td>\n",
       "      <td>563.36</td>\n",
       "      <td>153.64</td>\n",
       "      <td>1013</td>\n",
       "      <td>0</td>\n",
       "    </tr>\n",
       "    <tr>\n",
       "      <th>16</th>\n",
       "      <td>430.975</td>\n",
       "      <td>299.869</td>\n",
       "      <td>187.894</td>\n",
       "      <td>50.51</td>\n",
       "      <td>74.01</td>\n",
       "      <td>70.61</td>\n",
       "      <td>296.29</td>\n",
       "      <td>229.74</td>\n",
       "      <td>162.76</td>\n",
       "      <td>0.00</td>\n",
       "      <td>...</td>\n",
       "      <td>6.0</td>\n",
       "      <td>570.0</td>\n",
       "      <td>0.0</td>\n",
       "      <td>348.00</td>\n",
       "      <td>0.00</td>\n",
       "      <td>2.0</td>\n",
       "      <td>160.00</td>\n",
       "      <td>0.00</td>\n",
       "      <td>1016</td>\n",
       "      <td>0</td>\n",
       "    </tr>\n",
       "    <tr>\n",
       "      <th>17</th>\n",
       "      <td>690.008</td>\n",
       "      <td>18.980</td>\n",
       "      <td>25.499</td>\n",
       "      <td>1185.91</td>\n",
       "      <td>9.28</td>\n",
       "      <td>7.79</td>\n",
       "      <td>61.64</td>\n",
       "      <td>0.00</td>\n",
       "      <td>5.54</td>\n",
       "      <td>0.00</td>\n",
       "      <td>...</td>\n",
       "      <td>2.0</td>\n",
       "      <td>816.0</td>\n",
       "      <td>0.0</td>\n",
       "      <td>0.00</td>\n",
       "      <td>0.00</td>\n",
       "      <td>4.0</td>\n",
       "      <td>30.00</td>\n",
       "      <td>0.00</td>\n",
       "      <td>1017</td>\n",
       "      <td>0</td>\n",
       "    </tr>\n",
       "    <tr>\n",
       "      <th>21</th>\n",
       "      <td>514.453</td>\n",
       "      <td>597.753</td>\n",
       "      <td>637.760</td>\n",
       "      <td>102.41</td>\n",
       "      <td>132.11</td>\n",
       "      <td>85.14</td>\n",
       "      <td>757.93</td>\n",
       "      <td>896.68</td>\n",
       "      <td>983.39</td>\n",
       "      <td>0.00</td>\n",
       "      <td>...</td>\n",
       "      <td>26.0</td>\n",
       "      <td>600.0</td>\n",
       "      <td>0.0</td>\n",
       "      <td>680.00</td>\n",
       "      <td>0.00</td>\n",
       "      <td>27.0</td>\n",
       "      <td>718.00</td>\n",
       "      <td>0.00</td>\n",
       "      <td>1021</td>\n",
       "      <td>0</td>\n",
       "    </tr>\n",
       "  </tbody>\n",
       "</table>\n",
       "<p>5 rows × 154 columns</p>\n",
       "</div>"
      ],
      "text/plain": [
       "     arpu_6   arpu_7   arpu_8  onnet_mou_6  onnet_mou_7  onnet_mou_8  \\\n",
       "8   378.721  492.223  137.362       413.69       351.03        35.08   \n",
       "13  492.846  205.671  593.260       501.76       108.39       534.24   \n",
       "16  430.975  299.869  187.894        50.51        74.01        70.61   \n",
       "17  690.008   18.980   25.499      1185.91         9.28         7.79   \n",
       "21  514.453  597.753  637.760       102.41       132.11        85.14   \n",
       "\n",
       "    offnet_mou_6  offnet_mou_7  offnet_mou_8  roam_ic_mou_6  ...  \\\n",
       "8          94.66         80.63        136.48           0.00  ...   \n",
       "13        413.31        119.28        482.46          23.53  ...   \n",
       "16        296.29        229.74        162.76           0.00  ...   \n",
       "17         61.64          0.00          5.54           0.00  ...   \n",
       "21        757.93        896.68        983.39           0.00  ...   \n",
       "\n",
       "    total_recharge_cnt_7  total_calling_rch_6  total_data_rch_6  \\\n",
       "8                   23.0                437.0               0.0   \n",
       "13                   4.0                507.0               0.0   \n",
       "16                   6.0                570.0               0.0   \n",
       "17                   2.0                816.0               0.0   \n",
       "21                  26.0                600.0               0.0   \n",
       "\n",
       "    total_calling_rch_7  total_data_rch_7  total_recharge_cnt_8  \\\n",
       "8                548.74             52.26                  17.0   \n",
       "13               253.00              0.00                  14.0   \n",
       "16               348.00              0.00                   2.0   \n",
       "17                 0.00              0.00                   4.0   \n",
       "21               680.00              0.00                  27.0   \n",
       "\n",
       "    total_calling_rch_8  total_data_rch_8    ID  churn  \n",
       "8                 98.82             21.18  1008      0  \n",
       "13               563.36            153.64  1013      0  \n",
       "16               160.00              0.00  1016      0  \n",
       "17                30.00              0.00  1017      0  \n",
       "21               718.00              0.00  1021      0  \n",
       "\n",
       "[5 rows x 154 columns]"
      ]
     },
     "execution_count": 205,
     "metadata": {},
     "output_type": "execute_result"
    }
   ],
   "source": [
    "#View Data\n",
    "working_data_hvc.head()"
   ]
  },
  {
   "cell_type": "code",
   "execution_count": 206,
   "metadata": {},
   "outputs": [],
   "source": [
    "#Store Target & Other Data into X & Y.\n",
    "y=working_data_hvc[\"churn\"]\n",
    "X=working_data_hvc.drop(['ID','churn'],axis=1)"
   ]
  },
  {
   "cell_type": "code",
   "execution_count": 207,
   "metadata": {},
   "outputs": [],
   "source": [
    "#split data into test and train\n",
    "X_train, X_test, y_train, y_test = train_test_split(X, y, test_size=0.2, random_state=42)"
   ]
  },
  {
   "cell_type": "code",
   "execution_count": 208,
   "metadata": {},
   "outputs": [],
   "source": [
    "#Get Column Names\n",
    "x_cols_train=X_train.select_dtypes([np.number]).columns\n",
    "x_cols_test=X_test.select_dtypes([np.number]).columns"
   ]
  },
  {
   "cell_type": "code",
   "execution_count": 209,
   "metadata": {},
   "outputs": [],
   "source": [
    "## Scaling the train and test data\n",
    "from sklearn.preprocessing import  StandardScaler\n",
    "scaler = StandardScaler()\n",
    "X_train[x_cols_train] = scaler.fit_transform(X_train[x_cols_train])\n",
    "X_test[x_cols_test] = scaler.transform(X_test[x_cols_test])"
   ]
  },
  {
   "cell_type": "code",
   "execution_count": 210,
   "metadata": {},
   "outputs": [],
   "source": [
    "#Build & Fit Model\n",
    "\n",
    "from sklearn.linear_model import LogisticRegression\n",
    "from sklearn import metrics\n",
    "\n",
    "logmodel = LogisticRegression()\n",
    "logmodel.fit(X_train , y_train)\n",
    "y_prediction = logmodel.predict(X_test)"
   ]
  },
  {
   "cell_type": "code",
   "execution_count": 211,
   "metadata": {},
   "outputs": [
    {
     "name": "stdout",
     "output_type": "stream",
     "text": [
      "[[4933   60]\n",
      " [ 264  154]]\n"
     ]
    }
   ],
   "source": [
    "#Confusion Matrix\n",
    "from sklearn.metrics import confusion_matrix\n",
    "confusion_matrix = confusion_matrix(y_test,y_prediction)\n",
    "print(confusion_matrix)"
   ]
  },
  {
   "cell_type": "code",
   "execution_count": 212,
   "metadata": {},
   "outputs": [
    {
     "name": "stdout",
     "output_type": "stream",
     "text": [
      "              precision    recall  f1-score   support\n",
      "\n",
      "           0       0.95      0.99      0.97      4993\n",
      "           1       0.72      0.37      0.49       418\n",
      "\n",
      "    accuracy                           0.94      5411\n",
      "   macro avg       0.83      0.68      0.73      5411\n",
      "weighted avg       0.93      0.94      0.93      5411\n",
      "\n"
     ]
    }
   ],
   "source": [
    "#Classification report\n",
    "from sklearn.metrics import classification_report\n",
    "print(classification_report(y_test,y_prediction))"
   ]
  },
  {
   "cell_type": "markdown",
   "metadata": {},
   "source": [
    "**From Above it can be seen that the model performance it too low. We can use Hyperparameter tuning Technique to improve performance** "
   ]
  },
  {
   "cell_type": "code",
   "execution_count": 213,
   "metadata": {},
   "outputs": [],
   "source": [
    "# With L1 Regularization\n",
    "logmodel = LogisticRegression(penalty = 'l1' , solver = 'saga',class_weight='balanced')\n",
    "logmodel.fit(X_train , y_train)\n",
    "\n",
    "y_prediction = logmodel.predict(X_test)"
   ]
  },
  {
   "cell_type": "code",
   "execution_count": 214,
   "metadata": {},
   "outputs": [
    {
     "name": "stdout",
     "output_type": "stream",
     "text": [
      "[[4252  741]\n",
      " [  72  346]]\n"
     ]
    }
   ],
   "source": [
    "#Confusion MAtrix for L1\n",
    "\n",
    "from sklearn.metrics import confusion_matrix\n",
    "confusion_matrix = confusion_matrix(y_test,y_prediction)\n",
    "print(confusion_matrix)"
   ]
  },
  {
   "cell_type": "code",
   "execution_count": 215,
   "metadata": {},
   "outputs": [
    {
     "name": "stdout",
     "output_type": "stream",
     "text": [
      "              precision    recall  f1-score   support\n",
      "\n",
      "           0       0.98      0.85      0.91      4993\n",
      "           1       0.32      0.83      0.46       418\n",
      "\n",
      "    accuracy                           0.85      5411\n",
      "   macro avg       0.65      0.84      0.69      5411\n",
      "weighted avg       0.93      0.85      0.88      5411\n",
      "\n"
     ]
    }
   ],
   "source": [
    "#Classification report\n",
    "from sklearn.metrics import classification_report\n",
    "report=classification_report(y_test, y_prediction, output_dict=True)\n",
    "print(classification_report(y_test,y_prediction))"
   ]
  },
  {
   "cell_type": "code",
   "execution_count": 216,
   "metadata": {},
   "outputs": [
    {
     "data": {
      "text/plain": [
       "array([[4252,  741],\n",
       "       [  72,  346]], dtype=int64)"
      ]
     },
     "execution_count": 216,
     "metadata": {},
     "output_type": "execute_result"
    }
   ],
   "source": [
    "# confusion matrix\n",
    "from sklearn.metrics import confusion_matrix\n",
    "confusion = confusion_matrix(y_test,y_prediction)\n",
    "\n",
    "\n",
    "TP = confusion[1,1] # true positive \n",
    "TN = confusion[0,0] # true negatives\n",
    "FP = confusion[0,1] # false positives\n",
    "FN = confusion[1,0] # false negatives\n",
    "confusion"
   ]
  },
  {
   "cell_type": "code",
   "execution_count": 217,
   "metadata": {},
   "outputs": [
    {
     "data": {
      "text/html": [
       "<div>\n",
       "<style scoped>\n",
       "    .dataframe tbody tr th:only-of-type {\n",
       "        vertical-align: middle;\n",
       "    }\n",
       "\n",
       "    .dataframe tbody tr th {\n",
       "        vertical-align: top;\n",
       "    }\n",
       "\n",
       "    .dataframe thead th {\n",
       "        text-align: right;\n",
       "    }\n",
       "</style>\n",
       "<table border=\"1\" class=\"dataframe\">\n",
       "  <thead>\n",
       "    <tr style=\"text-align: right;\">\n",
       "      <th></th>\n",
       "      <th>Feature</th>\n",
       "      <th>Co-efficient Value</th>\n",
       "    </tr>\n",
       "  </thead>\n",
       "  <tbody>\n",
       "    <tr>\n",
       "      <th>2</th>\n",
       "      <td>arpu_8</td>\n",
       "      <td>0.444603</td>\n",
       "    </tr>\n",
       "    <tr>\n",
       "      <th>61</th>\n",
       "      <td>loc_ic_t2m_mou_7</td>\n",
       "      <td>0.409236</td>\n",
       "    </tr>\n",
       "    <tr>\n",
       "      <th>1</th>\n",
       "      <td>arpu_7</td>\n",
       "      <td>0.326886</td>\n",
       "    </tr>\n",
       "    <tr>\n",
       "      <th>118</th>\n",
       "      <td>vol_3g_mb_7</td>\n",
       "      <td>0.243393</td>\n",
       "    </tr>\n",
       "    <tr>\n",
       "      <th>98</th>\n",
       "      <td>max_rech_amt_8</td>\n",
       "      <td>0.239093</td>\n",
       "    </tr>\n",
       "  </tbody>\n",
       "</table>\n",
       "</div>"
      ],
      "text/plain": [
       "              Feature  Co-efficient Value\n",
       "2              arpu_8            0.444603\n",
       "61   loc_ic_t2m_mou_7            0.409236\n",
       "1              arpu_7            0.326886\n",
       "118       vol_3g_mb_7            0.243393\n",
       "98     max_rech_amt_8            0.239093"
      ]
     },
     "execution_count": 217,
     "metadata": {},
     "output_type": "execute_result"
    }
   ],
   "source": [
    "#Viewing the Co-efficients Values & identifying the top 10 Features\n",
    "x_cols = X_train.columns.tolist()\n",
    "coef = logmodel.coef_.squeeze().tolist()\n",
    "\n",
    "final_coef_l1 = pd.DataFrame(list(zip(x_cols, coef)))\n",
    "final_coef_l1.columns=['Feature','Co-efficient Value']\n",
    "\n",
    "#Top 5 Predictors as per L1 Penalty\n",
    "final_coef_l1.sort_values(by=['Co-efficient Value'],ascending=False).head(5)"
   ]
  },
  {
   "cell_type": "code",
   "execution_count": 218,
   "metadata": {},
   "outputs": [],
   "source": [
    "#Adding Logistic Regression L1 Score to Dataframe\n",
    "temp=pd.DataFrame({'Model':['Logistic Regression L1 without PCA'], 'Accuracy': round(report['accuracy'],2),'Recall':round((TP / float(TP+FN)),2)})\n",
    "Model_Report=pd.concat([Model_Report,temp])"
   ]
  },
  {
   "cell_type": "code",
   "execution_count": 219,
   "metadata": {},
   "outputs": [
    {
     "data": {
      "text/html": [
       "<div>\n",
       "<style scoped>\n",
       "    .dataframe tbody tr th:only-of-type {\n",
       "        vertical-align: middle;\n",
       "    }\n",
       "\n",
       "    .dataframe tbody tr th {\n",
       "        vertical-align: top;\n",
       "    }\n",
       "\n",
       "    .dataframe thead th {\n",
       "        text-align: right;\n",
       "    }\n",
       "</style>\n",
       "<table border=\"1\" class=\"dataframe\">\n",
       "  <thead>\n",
       "    <tr style=\"text-align: right;\">\n",
       "      <th></th>\n",
       "      <th>Model</th>\n",
       "      <th>Accuracy</th>\n",
       "      <th>Recall</th>\n",
       "    </tr>\n",
       "  </thead>\n",
       "  <tbody>\n",
       "    <tr>\n",
       "      <th>0</th>\n",
       "      <td>Decision Tree with PCA</td>\n",
       "      <td>0.92</td>\n",
       "      <td>0.71</td>\n",
       "    </tr>\n",
       "    <tr>\n",
       "      <th>0</th>\n",
       "      <td>Logistic Regression L2 with PCA</td>\n",
       "      <td>0.85</td>\n",
       "      <td>0.82</td>\n",
       "    </tr>\n",
       "    <tr>\n",
       "      <th>0</th>\n",
       "      <td>Logistic Regression L1 with PCA</td>\n",
       "      <td>0.85</td>\n",
       "      <td>0.82</td>\n",
       "    </tr>\n",
       "    <tr>\n",
       "      <th>0</th>\n",
       "      <td>Random Forest Ensemble with PCA</td>\n",
       "      <td>0.85</td>\n",
       "      <td>0.78</td>\n",
       "    </tr>\n",
       "    <tr>\n",
       "      <th>0</th>\n",
       "      <td>Logistic Regression L1 without PCA</td>\n",
       "      <td>0.85</td>\n",
       "      <td>0.83</td>\n",
       "    </tr>\n",
       "  </tbody>\n",
       "</table>\n",
       "</div>"
      ],
      "text/plain": [
       "                                Model  Accuracy  Recall\n",
       "0              Decision Tree with PCA      0.92    0.71\n",
       "0     Logistic Regression L2 with PCA      0.85    0.82\n",
       "0     Logistic Regression L1 with PCA      0.85    0.82\n",
       "0     Random Forest Ensemble with PCA      0.85    0.78\n",
       "0  Logistic Regression L1 without PCA      0.85    0.83"
      ]
     },
     "execution_count": 219,
     "metadata": {},
     "output_type": "execute_result"
    }
   ],
   "source": [
    "#View Model Report\n",
    "Model_Report"
   ]
  },
  {
   "cell_type": "code",
   "execution_count": 220,
   "metadata": {},
   "outputs": [],
   "source": [
    "# With L2 Regularization\n",
    "logmodel = LogisticRegression(penalty = 'l2' ,class_weight='balanced')\n",
    "logmodel.fit(X_train , y_train)\n",
    "\n",
    "y_prediction = logmodel.predict(X_test)"
   ]
  },
  {
   "cell_type": "code",
   "execution_count": 221,
   "metadata": {},
   "outputs": [
    {
     "name": "stdout",
     "output_type": "stream",
     "text": [
      "[[4245  748]\n",
      " [  74  344]]\n"
     ]
    }
   ],
   "source": [
    "#Confusion MAtrix for L2\n",
    "\n",
    "from sklearn.metrics import confusion_matrix\n",
    "confusion_matrix = confusion_matrix(y_test,y_prediction)\n",
    "print(confusion_matrix)"
   ]
  },
  {
   "cell_type": "code",
   "execution_count": 222,
   "metadata": {},
   "outputs": [
    {
     "name": "stdout",
     "output_type": "stream",
     "text": [
      "              precision    recall  f1-score   support\n",
      "\n",
      "           0       0.98      0.85      0.91      4993\n",
      "           1       0.32      0.82      0.46       418\n",
      "\n",
      "    accuracy                           0.85      5411\n",
      "   macro avg       0.65      0.84      0.68      5411\n",
      "weighted avg       0.93      0.85      0.88      5411\n",
      "\n"
     ]
    }
   ],
   "source": [
    "#Classification report L2\n",
    "from sklearn.metrics import classification_report\n",
    "report=classification_report(y_test, y_prediction, output_dict=True)\n",
    "print(classification_report(y_test,y_prediction))"
   ]
  },
  {
   "cell_type": "code",
   "execution_count": 223,
   "metadata": {},
   "outputs": [
    {
     "data": {
      "text/plain": [
       "array([[4245,  748],\n",
       "       [  74,  344]], dtype=int64)"
      ]
     },
     "execution_count": 223,
     "metadata": {},
     "output_type": "execute_result"
    }
   ],
   "source": [
    "# confusion matrix\n",
    "from sklearn.metrics import confusion_matrix\n",
    "confusion = confusion_matrix(y_test,y_prediction)\n",
    "\n",
    "\n",
    "TP = confusion[1,1] # true positive \n",
    "TN = confusion[0,0] # true negatives\n",
    "FP = confusion[0,1] # false positives\n",
    "FN = confusion[1,0] # false negatives\n",
    "confusion"
   ]
  },
  {
   "cell_type": "code",
   "execution_count": 224,
   "metadata": {},
   "outputs": [
    {
     "data": {
      "text/html": [
       "<div>\n",
       "<style scoped>\n",
       "    .dataframe tbody tr th:only-of-type {\n",
       "        vertical-align: middle;\n",
       "    }\n",
       "\n",
       "    .dataframe tbody tr th {\n",
       "        vertical-align: top;\n",
       "    }\n",
       "\n",
       "    .dataframe thead th {\n",
       "        text-align: right;\n",
       "    }\n",
       "</style>\n",
       "<table border=\"1\" class=\"dataframe\">\n",
       "  <thead>\n",
       "    <tr style=\"text-align: right;\">\n",
       "      <th></th>\n",
       "      <th>Feature</th>\n",
       "      <th>Co-efficient Value</th>\n",
       "    </tr>\n",
       "  </thead>\n",
       "  <tbody>\n",
       "    <tr>\n",
       "      <th>2</th>\n",
       "      <td>arpu_8</td>\n",
       "      <td>0.729991</td>\n",
       "    </tr>\n",
       "    <tr>\n",
       "      <th>4</th>\n",
       "      <td>onnet_mou_7</td>\n",
       "      <td>0.708373</td>\n",
       "    </tr>\n",
       "    <tr>\n",
       "      <th>34</th>\n",
       "      <td>std_og_t2m_mou_7</td>\n",
       "      <td>0.614492</td>\n",
       "    </tr>\n",
       "    <tr>\n",
       "      <th>6</th>\n",
       "      <td>offnet_mou_6</td>\n",
       "      <td>0.512635</td>\n",
       "    </tr>\n",
       "    <tr>\n",
       "      <th>30</th>\n",
       "      <td>std_og_t2t_mou_6</td>\n",
       "      <td>0.495653</td>\n",
       "    </tr>\n",
       "  </tbody>\n",
       "</table>\n",
       "</div>"
      ],
      "text/plain": [
       "             Feature  Co-efficient Value\n",
       "2             arpu_8            0.729991\n",
       "4        onnet_mou_7            0.708373\n",
       "34  std_og_t2m_mou_7            0.614492\n",
       "6       offnet_mou_6            0.512635\n",
       "30  std_og_t2t_mou_6            0.495653"
      ]
     },
     "execution_count": 224,
     "metadata": {},
     "output_type": "execute_result"
    }
   ],
   "source": [
    "#Viewing the Co-efficients Values & identifying the top 10 Features\n",
    "x_cols = X_train.columns.tolist()\n",
    "coef = logmodel.coef_.squeeze().tolist()\n",
    "\n",
    "final_coef_l2 = pd.DataFrame(list(zip(x_cols, coef)))\n",
    "final_coef_l2.columns=['Feature','Co-efficient Value']\n",
    "\n",
    "#Top 5 Predictors as per L1 Penalty\n",
    "final_coef_l2.sort_values(by=['Co-efficient Value'],ascending=False).head(5)"
   ]
  },
  {
   "cell_type": "code",
   "execution_count": 225,
   "metadata": {},
   "outputs": [],
   "source": [
    "#Adding Logistic Regression L2 Score to Dataframe\n",
    "temp=pd.DataFrame({'Model':['Logistic Regression L2 without PCA'], 'Accuracy': round(report['accuracy'],2),'Recall':round((TP / float(TP+FN)),2)})\n",
    "Model_Report=pd.concat([Model_Report,temp])"
   ]
  },
  {
   "cell_type": "code",
   "execution_count": 226,
   "metadata": {},
   "outputs": [
    {
     "data": {
      "text/html": [
       "<div>\n",
       "<style scoped>\n",
       "    .dataframe tbody tr th:only-of-type {\n",
       "        vertical-align: middle;\n",
       "    }\n",
       "\n",
       "    .dataframe tbody tr th {\n",
       "        vertical-align: top;\n",
       "    }\n",
       "\n",
       "    .dataframe thead th {\n",
       "        text-align: right;\n",
       "    }\n",
       "</style>\n",
       "<table border=\"1\" class=\"dataframe\">\n",
       "  <thead>\n",
       "    <tr style=\"text-align: right;\">\n",
       "      <th></th>\n",
       "      <th>Model</th>\n",
       "      <th>Accuracy</th>\n",
       "      <th>Recall</th>\n",
       "    </tr>\n",
       "  </thead>\n",
       "  <tbody>\n",
       "    <tr>\n",
       "      <th>0</th>\n",
       "      <td>Decision Tree with PCA</td>\n",
       "      <td>0.92</td>\n",
       "      <td>0.71</td>\n",
       "    </tr>\n",
       "    <tr>\n",
       "      <th>0</th>\n",
       "      <td>Logistic Regression L2 with PCA</td>\n",
       "      <td>0.85</td>\n",
       "      <td>0.82</td>\n",
       "    </tr>\n",
       "    <tr>\n",
       "      <th>0</th>\n",
       "      <td>Logistic Regression L1 with PCA</td>\n",
       "      <td>0.85</td>\n",
       "      <td>0.82</td>\n",
       "    </tr>\n",
       "    <tr>\n",
       "      <th>0</th>\n",
       "      <td>Random Forest Ensemble with PCA</td>\n",
       "      <td>0.85</td>\n",
       "      <td>0.78</td>\n",
       "    </tr>\n",
       "    <tr>\n",
       "      <th>0</th>\n",
       "      <td>Logistic Regression L1 without PCA</td>\n",
       "      <td>0.85</td>\n",
       "      <td>0.83</td>\n",
       "    </tr>\n",
       "    <tr>\n",
       "      <th>0</th>\n",
       "      <td>Logistic Regression L2 without PCA</td>\n",
       "      <td>0.85</td>\n",
       "      <td>0.82</td>\n",
       "    </tr>\n",
       "  </tbody>\n",
       "</table>\n",
       "</div>"
      ],
      "text/plain": [
       "                                Model  Accuracy  Recall\n",
       "0              Decision Tree with PCA      0.92    0.71\n",
       "0     Logistic Regression L2 with PCA      0.85    0.82\n",
       "0     Logistic Regression L1 with PCA      0.85    0.82\n",
       "0     Random Forest Ensemble with PCA      0.85    0.78\n",
       "0  Logistic Regression L1 without PCA      0.85    0.83\n",
       "0  Logistic Regression L2 without PCA      0.85    0.82"
      ]
     },
     "execution_count": 226,
     "metadata": {},
     "output_type": "execute_result"
    }
   ],
   "source": [
    "#View Model Report\n",
    "Model_Report"
   ]
  },
  {
   "cell_type": "markdown",
   "metadata": {},
   "source": [
    "**Model Observations**\n",
    "\n",
    "**1) Decision Tree with PCA has the highest Accuracy, but the Recall(Sensitivity) is lowest as compared to Other Models.**\n",
    "\n",
    "**2) Logistic Regression with both L1 & L2 Penalty, have similar Recall(Sensitivity) & Accuracy.**\n",
    "\n",
    "**3) Random Forest has Acceptable Values, for both Recall(Sensitivity) & Accuracy.**\n",
    "\n",
    "**4) Logistic Regression without PCA are only to identify top features. Yet they can be considered for Optimum Model Race**\n",
    "\n",
    "**Comparing the Scores, Logistic Regression Model with PCA (Either L1 or L2), can be preferred as Optimum Model.**\n",
    "\n",
    "**But Considering, Random Forest handle Data Imbalance better,in this case, where data is heavily Imbalanced,this can also be preferred.**"
   ]
  },
  {
   "cell_type": "code",
   "execution_count": 227,
   "metadata": {},
   "outputs": [
    {
     "data": {
      "text/html": [
       "<div>\n",
       "<style scoped>\n",
       "    .dataframe tbody tr th:only-of-type {\n",
       "        vertical-align: middle;\n",
       "    }\n",
       "\n",
       "    .dataframe tbody tr th {\n",
       "        vertical-align: top;\n",
       "    }\n",
       "\n",
       "    .dataframe thead th {\n",
       "        text-align: right;\n",
       "    }\n",
       "</style>\n",
       "<table border=\"1\" class=\"dataframe\">\n",
       "  <thead>\n",
       "    <tr style=\"text-align: right;\">\n",
       "      <th></th>\n",
       "      <th>Feature</th>\n",
       "      <th>Co-efficient Value</th>\n",
       "    </tr>\n",
       "  </thead>\n",
       "  <tbody>\n",
       "    <tr>\n",
       "      <th>2</th>\n",
       "      <td>arpu_8</td>\n",
       "      <td>0.444603</td>\n",
       "    </tr>\n",
       "    <tr>\n",
       "      <th>61</th>\n",
       "      <td>loc_ic_t2m_mou_7</td>\n",
       "      <td>0.409236</td>\n",
       "    </tr>\n",
       "    <tr>\n",
       "      <th>1</th>\n",
       "      <td>arpu_7</td>\n",
       "      <td>0.326886</td>\n",
       "    </tr>\n",
       "    <tr>\n",
       "      <th>118</th>\n",
       "      <td>vol_3g_mb_7</td>\n",
       "      <td>0.243393</td>\n",
       "    </tr>\n",
       "    <tr>\n",
       "      <th>98</th>\n",
       "      <td>max_rech_amt_8</td>\n",
       "      <td>0.239093</td>\n",
       "    </tr>\n",
       "    <tr>\n",
       "      <th>67</th>\n",
       "      <td>loc_ic_mou_7</td>\n",
       "      <td>0.232454</td>\n",
       "    </tr>\n",
       "    <tr>\n",
       "      <th>85</th>\n",
       "      <td>total_ic_mou_7</td>\n",
       "      <td>0.202924</td>\n",
       "    </tr>\n",
       "    <tr>\n",
       "      <th>4</th>\n",
       "      <td>onnet_mou_7</td>\n",
       "      <td>0.201856</td>\n",
       "    </tr>\n",
       "    <tr>\n",
       "      <th>34</th>\n",
       "      <td>std_og_t2m_mou_7</td>\n",
       "      <td>0.174412</td>\n",
       "    </tr>\n",
       "    <tr>\n",
       "      <th>69</th>\n",
       "      <td>std_ic_t2t_mou_6</td>\n",
       "      <td>0.146639</td>\n",
       "    </tr>\n",
       "  </tbody>\n",
       "</table>\n",
       "</div>"
      ],
      "text/plain": [
       "              Feature  Co-efficient Value\n",
       "2              arpu_8            0.444603\n",
       "61   loc_ic_t2m_mou_7            0.409236\n",
       "1              arpu_7            0.326886\n",
       "118       vol_3g_mb_7            0.243393\n",
       "98     max_rech_amt_8            0.239093\n",
       "67       loc_ic_mou_7            0.232454\n",
       "85     total_ic_mou_7            0.202924\n",
       "4         onnet_mou_7            0.201856\n",
       "34   std_og_t2m_mou_7            0.174412\n",
       "69   std_ic_t2t_mou_6            0.146639"
      ]
     },
     "execution_count": 227,
     "metadata": {},
     "output_type": "execute_result"
    }
   ],
   "source": [
    "#Top 10 Features as per l1 Penalty\n",
    "final_coef_l1.sort_values(by=['Co-efficient Value'],ascending=False).head(10)"
   ]
  },
  {
   "cell_type": "code",
   "execution_count": 228,
   "metadata": {},
   "outputs": [
    {
     "data": {
      "text/html": [
       "<div>\n",
       "<style scoped>\n",
       "    .dataframe tbody tr th:only-of-type {\n",
       "        vertical-align: middle;\n",
       "    }\n",
       "\n",
       "    .dataframe tbody tr th {\n",
       "        vertical-align: top;\n",
       "    }\n",
       "\n",
       "    .dataframe thead th {\n",
       "        text-align: right;\n",
       "    }\n",
       "</style>\n",
       "<table border=\"1\" class=\"dataframe\">\n",
       "  <thead>\n",
       "    <tr style=\"text-align: right;\">\n",
       "      <th></th>\n",
       "      <th>Feature</th>\n",
       "      <th>Co-efficient Value</th>\n",
       "    </tr>\n",
       "  </thead>\n",
       "  <tbody>\n",
       "    <tr>\n",
       "      <th>2</th>\n",
       "      <td>arpu_8</td>\n",
       "      <td>0.729991</td>\n",
       "    </tr>\n",
       "    <tr>\n",
       "      <th>4</th>\n",
       "      <td>onnet_mou_7</td>\n",
       "      <td>0.708373</td>\n",
       "    </tr>\n",
       "    <tr>\n",
       "      <th>34</th>\n",
       "      <td>std_og_t2m_mou_7</td>\n",
       "      <td>0.614492</td>\n",
       "    </tr>\n",
       "    <tr>\n",
       "      <th>6</th>\n",
       "      <td>offnet_mou_6</td>\n",
       "      <td>0.512635</td>\n",
       "    </tr>\n",
       "    <tr>\n",
       "      <th>30</th>\n",
       "      <td>std_og_t2t_mou_6</td>\n",
       "      <td>0.495653</td>\n",
       "    </tr>\n",
       "    <tr>\n",
       "      <th>1</th>\n",
       "      <td>arpu_7</td>\n",
       "      <td>0.492709</td>\n",
       "    </tr>\n",
       "    <tr>\n",
       "      <th>55</th>\n",
       "      <td>total_og_mou_7</td>\n",
       "      <td>0.436251</td>\n",
       "    </tr>\n",
       "    <tr>\n",
       "      <th>84</th>\n",
       "      <td>total_ic_mou_6</td>\n",
       "      <td>0.408007</td>\n",
       "    </tr>\n",
       "    <tr>\n",
       "      <th>82</th>\n",
       "      <td>std_ic_mou_7</td>\n",
       "      <td>0.381639</td>\n",
       "    </tr>\n",
       "    <tr>\n",
       "      <th>67</th>\n",
       "      <td>loc_ic_mou_7</td>\n",
       "      <td>0.375724</td>\n",
       "    </tr>\n",
       "  </tbody>\n",
       "</table>\n",
       "</div>"
      ],
      "text/plain": [
       "             Feature  Co-efficient Value\n",
       "2             arpu_8            0.729991\n",
       "4        onnet_mou_7            0.708373\n",
       "34  std_og_t2m_mou_7            0.614492\n",
       "6       offnet_mou_6            0.512635\n",
       "30  std_og_t2t_mou_6            0.495653\n",
       "1             arpu_7            0.492709\n",
       "55    total_og_mou_7            0.436251\n",
       "84    total_ic_mou_6            0.408007\n",
       "82      std_ic_mou_7            0.381639\n",
       "67      loc_ic_mou_7            0.375724"
      ]
     },
     "execution_count": 228,
     "metadata": {},
     "output_type": "execute_result"
    }
   ],
   "source": [
    "#Top 10 Features as per L2 Penalty\n",
    "final_coef_l2.sort_values(by=['Co-efficient Value'],ascending=False).head(10)"
   ]
  },
  {
   "cell_type": "markdown",
   "metadata": {},
   "source": [
    "**From final_coef_l1 & final_coef_l2 it can be seen that arpu,outgoing minutes play a vital role in deciding if a customer will churn or not.**\n",
    "**Also from EDA Recommendations,Outgoing calls on STD & ARPU play a vital. Hence the Telecom Company can roll out packages with respect to Calling**"
   ]
  },
  {
   "cell_type": "code",
   "execution_count": 229,
   "metadata": {},
   "outputs": [
    {
     "name": "stdout",
     "output_type": "stream",
     "text": [
      "Elapsed Time in Minutes- 76.0\n"
     ]
    }
   ],
   "source": [
    "elapsed = timeit.default_timer() - start_time\n",
    "print('Elapsed Time in Minutes-', round((elapsed/60),0))"
   ]
  }
 ],
 "metadata": {
  "kernelspec": {
   "display_name": "Python 3",
   "language": "python",
   "name": "python3"
  },
  "language_info": {
   "codemirror_mode": {
    "name": "ipython",
    "version": 3
   },
   "file_extension": ".py",
   "mimetype": "text/x-python",
   "name": "python",
   "nbconvert_exporter": "python",
   "pygments_lexer": "ipython3",
   "version": "3.7.3"
  }
 },
 "nbformat": 4,
 "nbformat_minor": 2
}
