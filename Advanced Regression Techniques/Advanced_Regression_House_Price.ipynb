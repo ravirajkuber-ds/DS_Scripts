{
 "cells": [
  {
   "cell_type": "code",
   "execution_count": 1694,
   "metadata": {},
   "outputs": [],
   "source": [
    "#Importing Required Libraries\n",
    "import pandas as pd\n",
    "import numpy as np\n",
    "import warnings\n",
    "warnings.filterwarnings('ignore')\n",
    "import matplotlib.pyplot as plt\n",
    "%matplotlib inline\n",
    "import seaborn as sns\n",
    "from scipy.stats import norm\n",
    "from sklearn.preprocessing import scale\n",
    "from sklearn.model_selection import train_test_split\n",
    "from sklearn import linear_model\n",
    "from sklearn.linear_model import Ridge\n",
    "from sklearn.linear_model import Lasso\n",
    "from sklearn.model_selection import GridSearchCV\n",
    "from sklearn.linear_model import RidgeCV\n",
    "from sklearn.metrics import mean_squared_error\n",
    "from sklearn.metrics import r2_score\n",
    "from math import sqrt\n",
    "\n",
    "file_path='C:\\\\Users\\\\Raviraj Kuber\\\\Documents\\\\IIITB\\\\ml2\\\\train.csv'"
   ]
  },
  {
   "cell_type": "code",
   "execution_count": 1695,
   "metadata": {},
   "outputs": [],
   "source": [
    "#Load Data\n",
    "base_df=pd.read_csv(file_path)"
   ]
  },
  {
   "cell_type": "markdown",
   "metadata": {},
   "source": [
    "**Initial Data Analysis**"
   ]
  },
  {
   "cell_type": "code",
   "execution_count": 1696,
   "metadata": {},
   "outputs": [
    {
     "data": {
      "text/html": [
       "<div>\n",
       "<style scoped>\n",
       "    .dataframe tbody tr th:only-of-type {\n",
       "        vertical-align: middle;\n",
       "    }\n",
       "\n",
       "    .dataframe tbody tr th {\n",
       "        vertical-align: top;\n",
       "    }\n",
       "\n",
       "    .dataframe thead th {\n",
       "        text-align: right;\n",
       "    }\n",
       "</style>\n",
       "<table border=\"1\" class=\"dataframe\">\n",
       "  <thead>\n",
       "    <tr style=\"text-align: right;\">\n",
       "      <th></th>\n",
       "      <th>Id</th>\n",
       "      <th>MSSubClass</th>\n",
       "      <th>MSZoning</th>\n",
       "      <th>LotFrontage</th>\n",
       "      <th>LotArea</th>\n",
       "      <th>Street</th>\n",
       "      <th>Alley</th>\n",
       "      <th>LotShape</th>\n",
       "      <th>LandContour</th>\n",
       "      <th>Utilities</th>\n",
       "      <th>...</th>\n",
       "      <th>PoolArea</th>\n",
       "      <th>PoolQC</th>\n",
       "      <th>Fence</th>\n",
       "      <th>MiscFeature</th>\n",
       "      <th>MiscVal</th>\n",
       "      <th>MoSold</th>\n",
       "      <th>YrSold</th>\n",
       "      <th>SaleType</th>\n",
       "      <th>SaleCondition</th>\n",
       "      <th>SalePrice</th>\n",
       "    </tr>\n",
       "  </thead>\n",
       "  <tbody>\n",
       "    <tr>\n",
       "      <th>0</th>\n",
       "      <td>1</td>\n",
       "      <td>60</td>\n",
       "      <td>RL</td>\n",
       "      <td>65.0</td>\n",
       "      <td>8450</td>\n",
       "      <td>Pave</td>\n",
       "      <td>NaN</td>\n",
       "      <td>Reg</td>\n",
       "      <td>Lvl</td>\n",
       "      <td>AllPub</td>\n",
       "      <td>...</td>\n",
       "      <td>0</td>\n",
       "      <td>NaN</td>\n",
       "      <td>NaN</td>\n",
       "      <td>NaN</td>\n",
       "      <td>0</td>\n",
       "      <td>2</td>\n",
       "      <td>2008</td>\n",
       "      <td>WD</td>\n",
       "      <td>Normal</td>\n",
       "      <td>208500</td>\n",
       "    </tr>\n",
       "    <tr>\n",
       "      <th>1</th>\n",
       "      <td>2</td>\n",
       "      <td>20</td>\n",
       "      <td>RL</td>\n",
       "      <td>80.0</td>\n",
       "      <td>9600</td>\n",
       "      <td>Pave</td>\n",
       "      <td>NaN</td>\n",
       "      <td>Reg</td>\n",
       "      <td>Lvl</td>\n",
       "      <td>AllPub</td>\n",
       "      <td>...</td>\n",
       "      <td>0</td>\n",
       "      <td>NaN</td>\n",
       "      <td>NaN</td>\n",
       "      <td>NaN</td>\n",
       "      <td>0</td>\n",
       "      <td>5</td>\n",
       "      <td>2007</td>\n",
       "      <td>WD</td>\n",
       "      <td>Normal</td>\n",
       "      <td>181500</td>\n",
       "    </tr>\n",
       "    <tr>\n",
       "      <th>2</th>\n",
       "      <td>3</td>\n",
       "      <td>60</td>\n",
       "      <td>RL</td>\n",
       "      <td>68.0</td>\n",
       "      <td>11250</td>\n",
       "      <td>Pave</td>\n",
       "      <td>NaN</td>\n",
       "      <td>IR1</td>\n",
       "      <td>Lvl</td>\n",
       "      <td>AllPub</td>\n",
       "      <td>...</td>\n",
       "      <td>0</td>\n",
       "      <td>NaN</td>\n",
       "      <td>NaN</td>\n",
       "      <td>NaN</td>\n",
       "      <td>0</td>\n",
       "      <td>9</td>\n",
       "      <td>2008</td>\n",
       "      <td>WD</td>\n",
       "      <td>Normal</td>\n",
       "      <td>223500</td>\n",
       "    </tr>\n",
       "    <tr>\n",
       "      <th>3</th>\n",
       "      <td>4</td>\n",
       "      <td>70</td>\n",
       "      <td>RL</td>\n",
       "      <td>60.0</td>\n",
       "      <td>9550</td>\n",
       "      <td>Pave</td>\n",
       "      <td>NaN</td>\n",
       "      <td>IR1</td>\n",
       "      <td>Lvl</td>\n",
       "      <td>AllPub</td>\n",
       "      <td>...</td>\n",
       "      <td>0</td>\n",
       "      <td>NaN</td>\n",
       "      <td>NaN</td>\n",
       "      <td>NaN</td>\n",
       "      <td>0</td>\n",
       "      <td>2</td>\n",
       "      <td>2006</td>\n",
       "      <td>WD</td>\n",
       "      <td>Abnorml</td>\n",
       "      <td>140000</td>\n",
       "    </tr>\n",
       "    <tr>\n",
       "      <th>4</th>\n",
       "      <td>5</td>\n",
       "      <td>60</td>\n",
       "      <td>RL</td>\n",
       "      <td>84.0</td>\n",
       "      <td>14260</td>\n",
       "      <td>Pave</td>\n",
       "      <td>NaN</td>\n",
       "      <td>IR1</td>\n",
       "      <td>Lvl</td>\n",
       "      <td>AllPub</td>\n",
       "      <td>...</td>\n",
       "      <td>0</td>\n",
       "      <td>NaN</td>\n",
       "      <td>NaN</td>\n",
       "      <td>NaN</td>\n",
       "      <td>0</td>\n",
       "      <td>12</td>\n",
       "      <td>2008</td>\n",
       "      <td>WD</td>\n",
       "      <td>Normal</td>\n",
       "      <td>250000</td>\n",
       "    </tr>\n",
       "    <tr>\n",
       "      <th>5</th>\n",
       "      <td>6</td>\n",
       "      <td>50</td>\n",
       "      <td>RL</td>\n",
       "      <td>85.0</td>\n",
       "      <td>14115</td>\n",
       "      <td>Pave</td>\n",
       "      <td>NaN</td>\n",
       "      <td>IR1</td>\n",
       "      <td>Lvl</td>\n",
       "      <td>AllPub</td>\n",
       "      <td>...</td>\n",
       "      <td>0</td>\n",
       "      <td>NaN</td>\n",
       "      <td>MnPrv</td>\n",
       "      <td>Shed</td>\n",
       "      <td>700</td>\n",
       "      <td>10</td>\n",
       "      <td>2009</td>\n",
       "      <td>WD</td>\n",
       "      <td>Normal</td>\n",
       "      <td>143000</td>\n",
       "    </tr>\n",
       "    <tr>\n",
       "      <th>6</th>\n",
       "      <td>7</td>\n",
       "      <td>20</td>\n",
       "      <td>RL</td>\n",
       "      <td>75.0</td>\n",
       "      <td>10084</td>\n",
       "      <td>Pave</td>\n",
       "      <td>NaN</td>\n",
       "      <td>Reg</td>\n",
       "      <td>Lvl</td>\n",
       "      <td>AllPub</td>\n",
       "      <td>...</td>\n",
       "      <td>0</td>\n",
       "      <td>NaN</td>\n",
       "      <td>NaN</td>\n",
       "      <td>NaN</td>\n",
       "      <td>0</td>\n",
       "      <td>8</td>\n",
       "      <td>2007</td>\n",
       "      <td>WD</td>\n",
       "      <td>Normal</td>\n",
       "      <td>307000</td>\n",
       "    </tr>\n",
       "    <tr>\n",
       "      <th>7</th>\n",
       "      <td>8</td>\n",
       "      <td>60</td>\n",
       "      <td>RL</td>\n",
       "      <td>NaN</td>\n",
       "      <td>10382</td>\n",
       "      <td>Pave</td>\n",
       "      <td>NaN</td>\n",
       "      <td>IR1</td>\n",
       "      <td>Lvl</td>\n",
       "      <td>AllPub</td>\n",
       "      <td>...</td>\n",
       "      <td>0</td>\n",
       "      <td>NaN</td>\n",
       "      <td>NaN</td>\n",
       "      <td>Shed</td>\n",
       "      <td>350</td>\n",
       "      <td>11</td>\n",
       "      <td>2009</td>\n",
       "      <td>WD</td>\n",
       "      <td>Normal</td>\n",
       "      <td>200000</td>\n",
       "    </tr>\n",
       "    <tr>\n",
       "      <th>8</th>\n",
       "      <td>9</td>\n",
       "      <td>50</td>\n",
       "      <td>RM</td>\n",
       "      <td>51.0</td>\n",
       "      <td>6120</td>\n",
       "      <td>Pave</td>\n",
       "      <td>NaN</td>\n",
       "      <td>Reg</td>\n",
       "      <td>Lvl</td>\n",
       "      <td>AllPub</td>\n",
       "      <td>...</td>\n",
       "      <td>0</td>\n",
       "      <td>NaN</td>\n",
       "      <td>NaN</td>\n",
       "      <td>NaN</td>\n",
       "      <td>0</td>\n",
       "      <td>4</td>\n",
       "      <td>2008</td>\n",
       "      <td>WD</td>\n",
       "      <td>Abnorml</td>\n",
       "      <td>129900</td>\n",
       "    </tr>\n",
       "    <tr>\n",
       "      <th>9</th>\n",
       "      <td>10</td>\n",
       "      <td>190</td>\n",
       "      <td>RL</td>\n",
       "      <td>50.0</td>\n",
       "      <td>7420</td>\n",
       "      <td>Pave</td>\n",
       "      <td>NaN</td>\n",
       "      <td>Reg</td>\n",
       "      <td>Lvl</td>\n",
       "      <td>AllPub</td>\n",
       "      <td>...</td>\n",
       "      <td>0</td>\n",
       "      <td>NaN</td>\n",
       "      <td>NaN</td>\n",
       "      <td>NaN</td>\n",
       "      <td>0</td>\n",
       "      <td>1</td>\n",
       "      <td>2008</td>\n",
       "      <td>WD</td>\n",
       "      <td>Normal</td>\n",
       "      <td>118000</td>\n",
       "    </tr>\n",
       "    <tr>\n",
       "      <th>10</th>\n",
       "      <td>11</td>\n",
       "      <td>20</td>\n",
       "      <td>RL</td>\n",
       "      <td>70.0</td>\n",
       "      <td>11200</td>\n",
       "      <td>Pave</td>\n",
       "      <td>NaN</td>\n",
       "      <td>Reg</td>\n",
       "      <td>Lvl</td>\n",
       "      <td>AllPub</td>\n",
       "      <td>...</td>\n",
       "      <td>0</td>\n",
       "      <td>NaN</td>\n",
       "      <td>NaN</td>\n",
       "      <td>NaN</td>\n",
       "      <td>0</td>\n",
       "      <td>2</td>\n",
       "      <td>2008</td>\n",
       "      <td>WD</td>\n",
       "      <td>Normal</td>\n",
       "      <td>129500</td>\n",
       "    </tr>\n",
       "    <tr>\n",
       "      <th>11</th>\n",
       "      <td>12</td>\n",
       "      <td>60</td>\n",
       "      <td>RL</td>\n",
       "      <td>85.0</td>\n",
       "      <td>11924</td>\n",
       "      <td>Pave</td>\n",
       "      <td>NaN</td>\n",
       "      <td>IR1</td>\n",
       "      <td>Lvl</td>\n",
       "      <td>AllPub</td>\n",
       "      <td>...</td>\n",
       "      <td>0</td>\n",
       "      <td>NaN</td>\n",
       "      <td>NaN</td>\n",
       "      <td>NaN</td>\n",
       "      <td>0</td>\n",
       "      <td>7</td>\n",
       "      <td>2006</td>\n",
       "      <td>New</td>\n",
       "      <td>Partial</td>\n",
       "      <td>345000</td>\n",
       "    </tr>\n",
       "    <tr>\n",
       "      <th>12</th>\n",
       "      <td>13</td>\n",
       "      <td>20</td>\n",
       "      <td>RL</td>\n",
       "      <td>NaN</td>\n",
       "      <td>12968</td>\n",
       "      <td>Pave</td>\n",
       "      <td>NaN</td>\n",
       "      <td>IR2</td>\n",
       "      <td>Lvl</td>\n",
       "      <td>AllPub</td>\n",
       "      <td>...</td>\n",
       "      <td>0</td>\n",
       "      <td>NaN</td>\n",
       "      <td>NaN</td>\n",
       "      <td>NaN</td>\n",
       "      <td>0</td>\n",
       "      <td>9</td>\n",
       "      <td>2008</td>\n",
       "      <td>WD</td>\n",
       "      <td>Normal</td>\n",
       "      <td>144000</td>\n",
       "    </tr>\n",
       "    <tr>\n",
       "      <th>13</th>\n",
       "      <td>14</td>\n",
       "      <td>20</td>\n",
       "      <td>RL</td>\n",
       "      <td>91.0</td>\n",
       "      <td>10652</td>\n",
       "      <td>Pave</td>\n",
       "      <td>NaN</td>\n",
       "      <td>IR1</td>\n",
       "      <td>Lvl</td>\n",
       "      <td>AllPub</td>\n",
       "      <td>...</td>\n",
       "      <td>0</td>\n",
       "      <td>NaN</td>\n",
       "      <td>NaN</td>\n",
       "      <td>NaN</td>\n",
       "      <td>0</td>\n",
       "      <td>8</td>\n",
       "      <td>2007</td>\n",
       "      <td>New</td>\n",
       "      <td>Partial</td>\n",
       "      <td>279500</td>\n",
       "    </tr>\n",
       "    <tr>\n",
       "      <th>14</th>\n",
       "      <td>15</td>\n",
       "      <td>20</td>\n",
       "      <td>RL</td>\n",
       "      <td>NaN</td>\n",
       "      <td>10920</td>\n",
       "      <td>Pave</td>\n",
       "      <td>NaN</td>\n",
       "      <td>IR1</td>\n",
       "      <td>Lvl</td>\n",
       "      <td>AllPub</td>\n",
       "      <td>...</td>\n",
       "      <td>0</td>\n",
       "      <td>NaN</td>\n",
       "      <td>GdWo</td>\n",
       "      <td>NaN</td>\n",
       "      <td>0</td>\n",
       "      <td>5</td>\n",
       "      <td>2008</td>\n",
       "      <td>WD</td>\n",
       "      <td>Normal</td>\n",
       "      <td>157000</td>\n",
       "    </tr>\n",
       "    <tr>\n",
       "      <th>15</th>\n",
       "      <td>16</td>\n",
       "      <td>45</td>\n",
       "      <td>RM</td>\n",
       "      <td>51.0</td>\n",
       "      <td>6120</td>\n",
       "      <td>Pave</td>\n",
       "      <td>NaN</td>\n",
       "      <td>Reg</td>\n",
       "      <td>Lvl</td>\n",
       "      <td>AllPub</td>\n",
       "      <td>...</td>\n",
       "      <td>0</td>\n",
       "      <td>NaN</td>\n",
       "      <td>GdPrv</td>\n",
       "      <td>NaN</td>\n",
       "      <td>0</td>\n",
       "      <td>7</td>\n",
       "      <td>2007</td>\n",
       "      <td>WD</td>\n",
       "      <td>Normal</td>\n",
       "      <td>132000</td>\n",
       "    </tr>\n",
       "    <tr>\n",
       "      <th>16</th>\n",
       "      <td>17</td>\n",
       "      <td>20</td>\n",
       "      <td>RL</td>\n",
       "      <td>NaN</td>\n",
       "      <td>11241</td>\n",
       "      <td>Pave</td>\n",
       "      <td>NaN</td>\n",
       "      <td>IR1</td>\n",
       "      <td>Lvl</td>\n",
       "      <td>AllPub</td>\n",
       "      <td>...</td>\n",
       "      <td>0</td>\n",
       "      <td>NaN</td>\n",
       "      <td>NaN</td>\n",
       "      <td>Shed</td>\n",
       "      <td>700</td>\n",
       "      <td>3</td>\n",
       "      <td>2010</td>\n",
       "      <td>WD</td>\n",
       "      <td>Normal</td>\n",
       "      <td>149000</td>\n",
       "    </tr>\n",
       "    <tr>\n",
       "      <th>17</th>\n",
       "      <td>18</td>\n",
       "      <td>90</td>\n",
       "      <td>RL</td>\n",
       "      <td>72.0</td>\n",
       "      <td>10791</td>\n",
       "      <td>Pave</td>\n",
       "      <td>NaN</td>\n",
       "      <td>Reg</td>\n",
       "      <td>Lvl</td>\n",
       "      <td>AllPub</td>\n",
       "      <td>...</td>\n",
       "      <td>0</td>\n",
       "      <td>NaN</td>\n",
       "      <td>NaN</td>\n",
       "      <td>Shed</td>\n",
       "      <td>500</td>\n",
       "      <td>10</td>\n",
       "      <td>2006</td>\n",
       "      <td>WD</td>\n",
       "      <td>Normal</td>\n",
       "      <td>90000</td>\n",
       "    </tr>\n",
       "    <tr>\n",
       "      <th>18</th>\n",
       "      <td>19</td>\n",
       "      <td>20</td>\n",
       "      <td>RL</td>\n",
       "      <td>66.0</td>\n",
       "      <td>13695</td>\n",
       "      <td>Pave</td>\n",
       "      <td>NaN</td>\n",
       "      <td>Reg</td>\n",
       "      <td>Lvl</td>\n",
       "      <td>AllPub</td>\n",
       "      <td>...</td>\n",
       "      <td>0</td>\n",
       "      <td>NaN</td>\n",
       "      <td>NaN</td>\n",
       "      <td>NaN</td>\n",
       "      <td>0</td>\n",
       "      <td>6</td>\n",
       "      <td>2008</td>\n",
       "      <td>WD</td>\n",
       "      <td>Normal</td>\n",
       "      <td>159000</td>\n",
       "    </tr>\n",
       "    <tr>\n",
       "      <th>19</th>\n",
       "      <td>20</td>\n",
       "      <td>20</td>\n",
       "      <td>RL</td>\n",
       "      <td>70.0</td>\n",
       "      <td>7560</td>\n",
       "      <td>Pave</td>\n",
       "      <td>NaN</td>\n",
       "      <td>Reg</td>\n",
       "      <td>Lvl</td>\n",
       "      <td>AllPub</td>\n",
       "      <td>...</td>\n",
       "      <td>0</td>\n",
       "      <td>NaN</td>\n",
       "      <td>MnPrv</td>\n",
       "      <td>NaN</td>\n",
       "      <td>0</td>\n",
       "      <td>5</td>\n",
       "      <td>2009</td>\n",
       "      <td>COD</td>\n",
       "      <td>Abnorml</td>\n",
       "      <td>139000</td>\n",
       "    </tr>\n",
       "  </tbody>\n",
       "</table>\n",
       "<p>20 rows × 81 columns</p>\n",
       "</div>"
      ],
      "text/plain": [
       "    Id  MSSubClass MSZoning  LotFrontage  LotArea Street Alley LotShape  \\\n",
       "0    1          60       RL         65.0     8450   Pave   NaN      Reg   \n",
       "1    2          20       RL         80.0     9600   Pave   NaN      Reg   \n",
       "2    3          60       RL         68.0    11250   Pave   NaN      IR1   \n",
       "3    4          70       RL         60.0     9550   Pave   NaN      IR1   \n",
       "4    5          60       RL         84.0    14260   Pave   NaN      IR1   \n",
       "5    6          50       RL         85.0    14115   Pave   NaN      IR1   \n",
       "6    7          20       RL         75.0    10084   Pave   NaN      Reg   \n",
       "7    8          60       RL          NaN    10382   Pave   NaN      IR1   \n",
       "8    9          50       RM         51.0     6120   Pave   NaN      Reg   \n",
       "9   10         190       RL         50.0     7420   Pave   NaN      Reg   \n",
       "10  11          20       RL         70.0    11200   Pave   NaN      Reg   \n",
       "11  12          60       RL         85.0    11924   Pave   NaN      IR1   \n",
       "12  13          20       RL          NaN    12968   Pave   NaN      IR2   \n",
       "13  14          20       RL         91.0    10652   Pave   NaN      IR1   \n",
       "14  15          20       RL          NaN    10920   Pave   NaN      IR1   \n",
       "15  16          45       RM         51.0     6120   Pave   NaN      Reg   \n",
       "16  17          20       RL          NaN    11241   Pave   NaN      IR1   \n",
       "17  18          90       RL         72.0    10791   Pave   NaN      Reg   \n",
       "18  19          20       RL         66.0    13695   Pave   NaN      Reg   \n",
       "19  20          20       RL         70.0     7560   Pave   NaN      Reg   \n",
       "\n",
       "   LandContour Utilities  ... PoolArea PoolQC  Fence MiscFeature MiscVal  \\\n",
       "0          Lvl    AllPub  ...        0    NaN    NaN         NaN       0   \n",
       "1          Lvl    AllPub  ...        0    NaN    NaN         NaN       0   \n",
       "2          Lvl    AllPub  ...        0    NaN    NaN         NaN       0   \n",
       "3          Lvl    AllPub  ...        0    NaN    NaN         NaN       0   \n",
       "4          Lvl    AllPub  ...        0    NaN    NaN         NaN       0   \n",
       "5          Lvl    AllPub  ...        0    NaN  MnPrv        Shed     700   \n",
       "6          Lvl    AllPub  ...        0    NaN    NaN         NaN       0   \n",
       "7          Lvl    AllPub  ...        0    NaN    NaN        Shed     350   \n",
       "8          Lvl    AllPub  ...        0    NaN    NaN         NaN       0   \n",
       "9          Lvl    AllPub  ...        0    NaN    NaN         NaN       0   \n",
       "10         Lvl    AllPub  ...        0    NaN    NaN         NaN       0   \n",
       "11         Lvl    AllPub  ...        0    NaN    NaN         NaN       0   \n",
       "12         Lvl    AllPub  ...        0    NaN    NaN         NaN       0   \n",
       "13         Lvl    AllPub  ...        0    NaN    NaN         NaN       0   \n",
       "14         Lvl    AllPub  ...        0    NaN   GdWo         NaN       0   \n",
       "15         Lvl    AllPub  ...        0    NaN  GdPrv         NaN       0   \n",
       "16         Lvl    AllPub  ...        0    NaN    NaN        Shed     700   \n",
       "17         Lvl    AllPub  ...        0    NaN    NaN        Shed     500   \n",
       "18         Lvl    AllPub  ...        0    NaN    NaN         NaN       0   \n",
       "19         Lvl    AllPub  ...        0    NaN  MnPrv         NaN       0   \n",
       "\n",
       "   MoSold YrSold  SaleType  SaleCondition  SalePrice  \n",
       "0       2   2008        WD         Normal     208500  \n",
       "1       5   2007        WD         Normal     181500  \n",
       "2       9   2008        WD         Normal     223500  \n",
       "3       2   2006        WD        Abnorml     140000  \n",
       "4      12   2008        WD         Normal     250000  \n",
       "5      10   2009        WD         Normal     143000  \n",
       "6       8   2007        WD         Normal     307000  \n",
       "7      11   2009        WD         Normal     200000  \n",
       "8       4   2008        WD        Abnorml     129900  \n",
       "9       1   2008        WD         Normal     118000  \n",
       "10      2   2008        WD         Normal     129500  \n",
       "11      7   2006       New        Partial     345000  \n",
       "12      9   2008        WD         Normal     144000  \n",
       "13      8   2007       New        Partial     279500  \n",
       "14      5   2008        WD         Normal     157000  \n",
       "15      7   2007        WD         Normal     132000  \n",
       "16      3   2010        WD         Normal     149000  \n",
       "17     10   2006        WD         Normal      90000  \n",
       "18      6   2008        WD         Normal     159000  \n",
       "19      5   2009       COD        Abnorml     139000  \n",
       "\n",
       "[20 rows x 81 columns]"
      ]
     },
     "execution_count": 1696,
     "metadata": {},
     "output_type": "execute_result"
    }
   ],
   "source": [
    "#View Data\n",
    "base_df.head(20)"
   ]
  },
  {
   "cell_type": "code",
   "execution_count": 1697,
   "metadata": {},
   "outputs": [
    {
     "data": {
      "text/plain": [
       "(1460, 81)"
      ]
     },
     "execution_count": 1697,
     "metadata": {},
     "output_type": "execute_result"
    }
   ],
   "source": [
    "#Base Data Shape\n",
    "base_df.shape"
   ]
  },
  {
   "cell_type": "code",
   "execution_count": 1698,
   "metadata": {},
   "outputs": [
    {
     "data": {
      "text/html": [
       "<div>\n",
       "<style scoped>\n",
       "    .dataframe tbody tr th:only-of-type {\n",
       "        vertical-align: middle;\n",
       "    }\n",
       "\n",
       "    .dataframe tbody tr th {\n",
       "        vertical-align: top;\n",
       "    }\n",
       "\n",
       "    .dataframe thead th {\n",
       "        text-align: right;\n",
       "    }\n",
       "</style>\n",
       "<table border=\"1\" class=\"dataframe\">\n",
       "  <thead>\n",
       "    <tr style=\"text-align: right;\">\n",
       "      <th></th>\n",
       "      <th>Id</th>\n",
       "      <th>MSSubClass</th>\n",
       "      <th>LotFrontage</th>\n",
       "      <th>LotArea</th>\n",
       "      <th>OverallQual</th>\n",
       "      <th>OverallCond</th>\n",
       "      <th>YearBuilt</th>\n",
       "      <th>YearRemodAdd</th>\n",
       "      <th>MasVnrArea</th>\n",
       "      <th>BsmtFinSF1</th>\n",
       "      <th>...</th>\n",
       "      <th>WoodDeckSF</th>\n",
       "      <th>OpenPorchSF</th>\n",
       "      <th>EnclosedPorch</th>\n",
       "      <th>3SsnPorch</th>\n",
       "      <th>ScreenPorch</th>\n",
       "      <th>PoolArea</th>\n",
       "      <th>MiscVal</th>\n",
       "      <th>MoSold</th>\n",
       "      <th>YrSold</th>\n",
       "      <th>SalePrice</th>\n",
       "    </tr>\n",
       "  </thead>\n",
       "  <tbody>\n",
       "    <tr>\n",
       "      <th>count</th>\n",
       "      <td>1460.000000</td>\n",
       "      <td>1460.000000</td>\n",
       "      <td>1201.000000</td>\n",
       "      <td>1460.000000</td>\n",
       "      <td>1460.000000</td>\n",
       "      <td>1460.000000</td>\n",
       "      <td>1460.000000</td>\n",
       "      <td>1460.000000</td>\n",
       "      <td>1452.000000</td>\n",
       "      <td>1460.000000</td>\n",
       "      <td>...</td>\n",
       "      <td>1460.000000</td>\n",
       "      <td>1460.000000</td>\n",
       "      <td>1460.000000</td>\n",
       "      <td>1460.000000</td>\n",
       "      <td>1460.000000</td>\n",
       "      <td>1460.000000</td>\n",
       "      <td>1460.000000</td>\n",
       "      <td>1460.000000</td>\n",
       "      <td>1460.000000</td>\n",
       "      <td>1460.000000</td>\n",
       "    </tr>\n",
       "    <tr>\n",
       "      <th>mean</th>\n",
       "      <td>730.500000</td>\n",
       "      <td>56.897260</td>\n",
       "      <td>70.049958</td>\n",
       "      <td>10516.828082</td>\n",
       "      <td>6.099315</td>\n",
       "      <td>5.575342</td>\n",
       "      <td>1971.267808</td>\n",
       "      <td>1984.865753</td>\n",
       "      <td>103.685262</td>\n",
       "      <td>443.639726</td>\n",
       "      <td>...</td>\n",
       "      <td>94.244521</td>\n",
       "      <td>46.660274</td>\n",
       "      <td>21.954110</td>\n",
       "      <td>3.409589</td>\n",
       "      <td>15.060959</td>\n",
       "      <td>2.758904</td>\n",
       "      <td>43.489041</td>\n",
       "      <td>6.321918</td>\n",
       "      <td>2007.815753</td>\n",
       "      <td>180921.195890</td>\n",
       "    </tr>\n",
       "    <tr>\n",
       "      <th>std</th>\n",
       "      <td>421.610009</td>\n",
       "      <td>42.300571</td>\n",
       "      <td>24.284752</td>\n",
       "      <td>9981.264932</td>\n",
       "      <td>1.382997</td>\n",
       "      <td>1.112799</td>\n",
       "      <td>30.202904</td>\n",
       "      <td>20.645407</td>\n",
       "      <td>181.066207</td>\n",
       "      <td>456.098091</td>\n",
       "      <td>...</td>\n",
       "      <td>125.338794</td>\n",
       "      <td>66.256028</td>\n",
       "      <td>61.119149</td>\n",
       "      <td>29.317331</td>\n",
       "      <td>55.757415</td>\n",
       "      <td>40.177307</td>\n",
       "      <td>496.123024</td>\n",
       "      <td>2.703626</td>\n",
       "      <td>1.328095</td>\n",
       "      <td>79442.502883</td>\n",
       "    </tr>\n",
       "    <tr>\n",
       "      <th>min</th>\n",
       "      <td>1.000000</td>\n",
       "      <td>20.000000</td>\n",
       "      <td>21.000000</td>\n",
       "      <td>1300.000000</td>\n",
       "      <td>1.000000</td>\n",
       "      <td>1.000000</td>\n",
       "      <td>1872.000000</td>\n",
       "      <td>1950.000000</td>\n",
       "      <td>0.000000</td>\n",
       "      <td>0.000000</td>\n",
       "      <td>...</td>\n",
       "      <td>0.000000</td>\n",
       "      <td>0.000000</td>\n",
       "      <td>0.000000</td>\n",
       "      <td>0.000000</td>\n",
       "      <td>0.000000</td>\n",
       "      <td>0.000000</td>\n",
       "      <td>0.000000</td>\n",
       "      <td>1.000000</td>\n",
       "      <td>2006.000000</td>\n",
       "      <td>34900.000000</td>\n",
       "    </tr>\n",
       "    <tr>\n",
       "      <th>25%</th>\n",
       "      <td>365.750000</td>\n",
       "      <td>20.000000</td>\n",
       "      <td>59.000000</td>\n",
       "      <td>7553.500000</td>\n",
       "      <td>5.000000</td>\n",
       "      <td>5.000000</td>\n",
       "      <td>1954.000000</td>\n",
       "      <td>1967.000000</td>\n",
       "      <td>0.000000</td>\n",
       "      <td>0.000000</td>\n",
       "      <td>...</td>\n",
       "      <td>0.000000</td>\n",
       "      <td>0.000000</td>\n",
       "      <td>0.000000</td>\n",
       "      <td>0.000000</td>\n",
       "      <td>0.000000</td>\n",
       "      <td>0.000000</td>\n",
       "      <td>0.000000</td>\n",
       "      <td>5.000000</td>\n",
       "      <td>2007.000000</td>\n",
       "      <td>129975.000000</td>\n",
       "    </tr>\n",
       "    <tr>\n",
       "      <th>50%</th>\n",
       "      <td>730.500000</td>\n",
       "      <td>50.000000</td>\n",
       "      <td>69.000000</td>\n",
       "      <td>9478.500000</td>\n",
       "      <td>6.000000</td>\n",
       "      <td>5.000000</td>\n",
       "      <td>1973.000000</td>\n",
       "      <td>1994.000000</td>\n",
       "      <td>0.000000</td>\n",
       "      <td>383.500000</td>\n",
       "      <td>...</td>\n",
       "      <td>0.000000</td>\n",
       "      <td>25.000000</td>\n",
       "      <td>0.000000</td>\n",
       "      <td>0.000000</td>\n",
       "      <td>0.000000</td>\n",
       "      <td>0.000000</td>\n",
       "      <td>0.000000</td>\n",
       "      <td>6.000000</td>\n",
       "      <td>2008.000000</td>\n",
       "      <td>163000.000000</td>\n",
       "    </tr>\n",
       "    <tr>\n",
       "      <th>75%</th>\n",
       "      <td>1095.250000</td>\n",
       "      <td>70.000000</td>\n",
       "      <td>80.000000</td>\n",
       "      <td>11601.500000</td>\n",
       "      <td>7.000000</td>\n",
       "      <td>6.000000</td>\n",
       "      <td>2000.000000</td>\n",
       "      <td>2004.000000</td>\n",
       "      <td>166.000000</td>\n",
       "      <td>712.250000</td>\n",
       "      <td>...</td>\n",
       "      <td>168.000000</td>\n",
       "      <td>68.000000</td>\n",
       "      <td>0.000000</td>\n",
       "      <td>0.000000</td>\n",
       "      <td>0.000000</td>\n",
       "      <td>0.000000</td>\n",
       "      <td>0.000000</td>\n",
       "      <td>8.000000</td>\n",
       "      <td>2009.000000</td>\n",
       "      <td>214000.000000</td>\n",
       "    </tr>\n",
       "    <tr>\n",
       "      <th>max</th>\n",
       "      <td>1460.000000</td>\n",
       "      <td>190.000000</td>\n",
       "      <td>313.000000</td>\n",
       "      <td>215245.000000</td>\n",
       "      <td>10.000000</td>\n",
       "      <td>9.000000</td>\n",
       "      <td>2010.000000</td>\n",
       "      <td>2010.000000</td>\n",
       "      <td>1600.000000</td>\n",
       "      <td>5644.000000</td>\n",
       "      <td>...</td>\n",
       "      <td>857.000000</td>\n",
       "      <td>547.000000</td>\n",
       "      <td>552.000000</td>\n",
       "      <td>508.000000</td>\n",
       "      <td>480.000000</td>\n",
       "      <td>738.000000</td>\n",
       "      <td>15500.000000</td>\n",
       "      <td>12.000000</td>\n",
       "      <td>2010.000000</td>\n",
       "      <td>755000.000000</td>\n",
       "    </tr>\n",
       "  </tbody>\n",
       "</table>\n",
       "<p>8 rows × 38 columns</p>\n",
       "</div>"
      ],
      "text/plain": [
       "                Id   MSSubClass  LotFrontage        LotArea  OverallQual  \\\n",
       "count  1460.000000  1460.000000  1201.000000    1460.000000  1460.000000   \n",
       "mean    730.500000    56.897260    70.049958   10516.828082     6.099315   \n",
       "std     421.610009    42.300571    24.284752    9981.264932     1.382997   \n",
       "min       1.000000    20.000000    21.000000    1300.000000     1.000000   \n",
       "25%     365.750000    20.000000    59.000000    7553.500000     5.000000   \n",
       "50%     730.500000    50.000000    69.000000    9478.500000     6.000000   \n",
       "75%    1095.250000    70.000000    80.000000   11601.500000     7.000000   \n",
       "max    1460.000000   190.000000   313.000000  215245.000000    10.000000   \n",
       "\n",
       "       OverallCond    YearBuilt  YearRemodAdd   MasVnrArea   BsmtFinSF1  ...  \\\n",
       "count  1460.000000  1460.000000   1460.000000  1452.000000  1460.000000  ...   \n",
       "mean      5.575342  1971.267808   1984.865753   103.685262   443.639726  ...   \n",
       "std       1.112799    30.202904     20.645407   181.066207   456.098091  ...   \n",
       "min       1.000000  1872.000000   1950.000000     0.000000     0.000000  ...   \n",
       "25%       5.000000  1954.000000   1967.000000     0.000000     0.000000  ...   \n",
       "50%       5.000000  1973.000000   1994.000000     0.000000   383.500000  ...   \n",
       "75%       6.000000  2000.000000   2004.000000   166.000000   712.250000  ...   \n",
       "max       9.000000  2010.000000   2010.000000  1600.000000  5644.000000  ...   \n",
       "\n",
       "        WoodDeckSF  OpenPorchSF  EnclosedPorch    3SsnPorch  ScreenPorch  \\\n",
       "count  1460.000000  1460.000000    1460.000000  1460.000000  1460.000000   \n",
       "mean     94.244521    46.660274      21.954110     3.409589    15.060959   \n",
       "std     125.338794    66.256028      61.119149    29.317331    55.757415   \n",
       "min       0.000000     0.000000       0.000000     0.000000     0.000000   \n",
       "25%       0.000000     0.000000       0.000000     0.000000     0.000000   \n",
       "50%       0.000000    25.000000       0.000000     0.000000     0.000000   \n",
       "75%     168.000000    68.000000       0.000000     0.000000     0.000000   \n",
       "max     857.000000   547.000000     552.000000   508.000000   480.000000   \n",
       "\n",
       "          PoolArea       MiscVal       MoSold       YrSold      SalePrice  \n",
       "count  1460.000000   1460.000000  1460.000000  1460.000000    1460.000000  \n",
       "mean      2.758904     43.489041     6.321918  2007.815753  180921.195890  \n",
       "std      40.177307    496.123024     2.703626     1.328095   79442.502883  \n",
       "min       0.000000      0.000000     1.000000  2006.000000   34900.000000  \n",
       "25%       0.000000      0.000000     5.000000  2007.000000  129975.000000  \n",
       "50%       0.000000      0.000000     6.000000  2008.000000  163000.000000  \n",
       "75%       0.000000      0.000000     8.000000  2009.000000  214000.000000  \n",
       "max     738.000000  15500.000000    12.000000  2010.000000  755000.000000  \n",
       "\n",
       "[8 rows x 38 columns]"
      ]
     },
     "execution_count": 1698,
     "metadata": {},
     "output_type": "execute_result"
    }
   ],
   "source": [
    "#View Data Statistics\n",
    "base_df.describe()"
   ]
  },
  {
   "cell_type": "code",
   "execution_count": 1699,
   "metadata": {},
   "outputs": [
    {
     "name": "stdout",
     "output_type": "stream",
     "text": [
      "<class 'pandas.core.frame.DataFrame'>\n",
      "RangeIndex: 1460 entries, 0 to 1459\n",
      "Data columns (total 81 columns):\n",
      "Id               1460 non-null int64\n",
      "MSSubClass       1460 non-null int64\n",
      "MSZoning         1460 non-null object\n",
      "LotFrontage      1201 non-null float64\n",
      "LotArea          1460 non-null int64\n",
      "Street           1460 non-null object\n",
      "Alley            91 non-null object\n",
      "LotShape         1460 non-null object\n",
      "LandContour      1460 non-null object\n",
      "Utilities        1460 non-null object\n",
      "LotConfig        1460 non-null object\n",
      "LandSlope        1460 non-null object\n",
      "Neighborhood     1460 non-null object\n",
      "Condition1       1460 non-null object\n",
      "Condition2       1460 non-null object\n",
      "BldgType         1460 non-null object\n",
      "HouseStyle       1460 non-null object\n",
      "OverallQual      1460 non-null int64\n",
      "OverallCond      1460 non-null int64\n",
      "YearBuilt        1460 non-null int64\n",
      "YearRemodAdd     1460 non-null int64\n",
      "RoofStyle        1460 non-null object\n",
      "RoofMatl         1460 non-null object\n",
      "Exterior1st      1460 non-null object\n",
      "Exterior2nd      1460 non-null object\n",
      "MasVnrType       1452 non-null object\n",
      "MasVnrArea       1452 non-null float64\n",
      "ExterQual        1460 non-null object\n",
      "ExterCond        1460 non-null object\n",
      "Foundation       1460 non-null object\n",
      "BsmtQual         1423 non-null object\n",
      "BsmtCond         1423 non-null object\n",
      "BsmtExposure     1422 non-null object\n",
      "BsmtFinType1     1423 non-null object\n",
      "BsmtFinSF1       1460 non-null int64\n",
      "BsmtFinType2     1422 non-null object\n",
      "BsmtFinSF2       1460 non-null int64\n",
      "BsmtUnfSF        1460 non-null int64\n",
      "TotalBsmtSF      1460 non-null int64\n",
      "Heating          1460 non-null object\n",
      "HeatingQC        1460 non-null object\n",
      "CentralAir       1460 non-null object\n",
      "Electrical       1459 non-null object\n",
      "1stFlrSF         1460 non-null int64\n",
      "2ndFlrSF         1460 non-null int64\n",
      "LowQualFinSF     1460 non-null int64\n",
      "GrLivArea        1460 non-null int64\n",
      "BsmtFullBath     1460 non-null int64\n",
      "BsmtHalfBath     1460 non-null int64\n",
      "FullBath         1460 non-null int64\n",
      "HalfBath         1460 non-null int64\n",
      "BedroomAbvGr     1460 non-null int64\n",
      "KitchenAbvGr     1460 non-null int64\n",
      "KitchenQual      1460 non-null object\n",
      "TotRmsAbvGrd     1460 non-null int64\n",
      "Functional       1460 non-null object\n",
      "Fireplaces       1460 non-null int64\n",
      "FireplaceQu      770 non-null object\n",
      "GarageType       1379 non-null object\n",
      "GarageYrBlt      1379 non-null float64\n",
      "GarageFinish     1379 non-null object\n",
      "GarageCars       1460 non-null int64\n",
      "GarageArea       1460 non-null int64\n",
      "GarageQual       1379 non-null object\n",
      "GarageCond       1379 non-null object\n",
      "PavedDrive       1460 non-null object\n",
      "WoodDeckSF       1460 non-null int64\n",
      "OpenPorchSF      1460 non-null int64\n",
      "EnclosedPorch    1460 non-null int64\n",
      "3SsnPorch        1460 non-null int64\n",
      "ScreenPorch      1460 non-null int64\n",
      "PoolArea         1460 non-null int64\n",
      "PoolQC           7 non-null object\n",
      "Fence            281 non-null object\n",
      "MiscFeature      54 non-null object\n",
      "MiscVal          1460 non-null int64\n",
      "MoSold           1460 non-null int64\n",
      "YrSold           1460 non-null int64\n",
      "SaleType         1460 non-null object\n",
      "SaleCondition    1460 non-null object\n",
      "SalePrice        1460 non-null int64\n",
      "dtypes: float64(3), int64(35), object(43)\n",
      "memory usage: 924.0+ KB\n"
     ]
    }
   ],
   "source": [
    "#Get Basic Data Info\n",
    "base_df.info()"
   ]
  },
  {
   "cell_type": "code",
   "execution_count": 1700,
   "metadata": {},
   "outputs": [
    {
     "data": {
      "text/plain": [
       "PoolQC           99.52\n",
       "MiscFeature      96.30\n",
       "Alley            93.77\n",
       "Fence            80.75\n",
       "FireplaceQu      47.26\n",
       "LotFrontage      17.74\n",
       "GarageCond        5.55\n",
       "GarageType        5.55\n",
       "GarageYrBlt       5.55\n",
       "GarageFinish      5.55\n",
       "GarageQual        5.55\n",
       "BsmtExposure      2.60\n",
       "BsmtFinType2      2.60\n",
       "BsmtFinType1      2.53\n",
       "BsmtCond          2.53\n",
       "BsmtQual          2.53\n",
       "MasVnrArea        0.55\n",
       "MasVnrType        0.55\n",
       "Electrical        0.07\n",
       "Utilities         0.00\n",
       "YearRemodAdd      0.00\n",
       "MSSubClass        0.00\n",
       "Foundation        0.00\n",
       "ExterCond         0.00\n",
       "ExterQual         0.00\n",
       "Exterior2nd       0.00\n",
       "Exterior1st       0.00\n",
       "RoofMatl          0.00\n",
       "RoofStyle         0.00\n",
       "YearBuilt         0.00\n",
       "                 ...  \n",
       "GarageArea        0.00\n",
       "PavedDrive        0.00\n",
       "WoodDeckSF        0.00\n",
       "OpenPorchSF       0.00\n",
       "3SsnPorch         0.00\n",
       "BsmtUnfSF         0.00\n",
       "ScreenPorch       0.00\n",
       "PoolArea          0.00\n",
       "MiscVal           0.00\n",
       "MoSold            0.00\n",
       "YrSold            0.00\n",
       "SaleType          0.00\n",
       "Functional        0.00\n",
       "TotRmsAbvGrd      0.00\n",
       "KitchenQual       0.00\n",
       "KitchenAbvGr      0.00\n",
       "BedroomAbvGr      0.00\n",
       "HalfBath          0.00\n",
       "FullBath          0.00\n",
       "BsmtHalfBath      0.00\n",
       "BsmtFullBath      0.00\n",
       "GrLivArea         0.00\n",
       "LowQualFinSF      0.00\n",
       "2ndFlrSF          0.00\n",
       "1stFlrSF          0.00\n",
       "CentralAir        0.00\n",
       "SaleCondition     0.00\n",
       "Heating           0.00\n",
       "TotalBsmtSF       0.00\n",
       "Id                0.00\n",
       "Length: 81, dtype: float64"
      ]
     },
     "execution_count": 1700,
     "metadata": {},
     "output_type": "execute_result"
    }
   ],
   "source": [
    "#Analyze Nulls\n",
    "round((base_df.isnull().sum()/len(base_df))*100,2).sort_values(ascending = False)"
   ]
  },
  {
   "cell_type": "markdown",
   "metadata": {},
   "source": [
    "**Inference From Above Data**\n",
    "\n",
    "**1) Out of 81 Columns, 38 Columns are Numeric in Nature.**\n",
    "\n",
    "**2) 4 Columns have above 80% Nulls. Need to analyze these columns for skews & nulls Once Treated then we can plan for dropping or not.**\n",
    "\n",
    "**3) There are Outliers present in the dataset, need to check analyze & handle those.**\n",
    "\n",
    "**4) Few columns have 0.2 to 5.55% of nulls, we can drop these null rows. But need to analyze them, since we do not want heavy information loss.**"
   ]
  },
  {
   "cell_type": "markdown",
   "metadata": {},
   "source": [
    "**In-Depth Analysis of Null Columns**"
   ]
  },
  {
   "cell_type": "code",
   "execution_count": 1701,
   "metadata": {},
   "outputs": [
    {
     "data": {
      "image/png": "[encoded data removed]",
      "text/plain": [
       "<Figure size 504x504 with 1 Axes>"
      ]
     },
     "metadata": {
      "needs_background": "light"
     },
     "output_type": "display_data"
    }
   ],
   "source": [
    "#Alley Column\n",
    "\n",
    "#Replacing NA with String 'Null' and then viewing the Plot\n",
    "base_df['Alley'].fillna('Null',inplace=True)\n",
    "\n",
    "#Plotting\n",
    "fig, axs = plt.subplots(1, figsize = (7,7))\n",
    "plt1 = sns.countplot(base_df['Alley'])\n",
    "plt1=plt1.set_xticklabels(plt1.get_xticklabels(), rotation=40,horizontalalignment='right',fontweight='light', fontsize='large')"
   ]
  },
  {
   "cell_type": "markdown",
   "metadata": {},
   "source": [
    "**From Above Analysis for Alley Column, more than 90% are Nulls. We can replace them with 'No Alley Access'**"
   ]
  },
  {
   "cell_type": "code",
   "execution_count": 1702,
   "metadata": {},
   "outputs": [],
   "source": [
    "base_df[\"Alley\"].replace({\"Null\":\"No Alley Access\"},inplace=True)"
   ]
  },
  {
   "cell_type": "code",
   "execution_count": 1703,
   "metadata": {},
   "outputs": [
    {
     "data": {
      "image/png": "[encoded data removed]",
      "text/plain": [
       "<Figure size 504x504 with 1 Axes>"
      ]
     },
     "metadata": {
      "needs_background": "light"
     },
     "output_type": "display_data"
    }
   ],
   "source": [
    "#Plotting\n",
    "fig, axs = plt.subplots(1, figsize = (7,7))\n",
    "plt1 = sns.countplot(base_df['Alley'])\n",
    "plt1=plt1.set_xticklabels(plt1.get_xticklabels(), rotation=40,horizontalalignment='right',fontweight='light', fontsize='large')"
   ]
  },
  {
   "cell_type": "markdown",
   "metadata": {},
   "source": [
    "**Since from the Above graph, it is visible that 'No Alley Access' is causing Skewness & has low variance . Hence this Column will not contribute to Learning Algorithm. Hence Dropping the Column**"
   ]
  },
  {
   "cell_type": "code",
   "execution_count": 1704,
   "metadata": {},
   "outputs": [],
   "source": [
    "#Dropping Column Alley\n",
    "base_df=base_df.drop(['Alley'],axis=1)"
   ]
  },
  {
   "cell_type": "code",
   "execution_count": 1705,
   "metadata": {},
   "outputs": [
    {
     "data": {
      "image/png": "[encoded data removed]",
      "text/plain": [
       "<Figure size 504x504 with 1 Axes>"
      ]
     },
     "metadata": {
      "needs_background": "light"
     },
     "output_type": "display_data"
    }
   ],
   "source": [
    "#MiscFeature Column\n",
    "\n",
    "#Replacing NA with String 'Null' and then viewing the Plot\n",
    "base_df['MiscFeature'].fillna('Null',inplace=True)\n",
    "\n",
    "#Plotting\n",
    "fig, axs = plt.subplots(1, figsize = (7,7))\n",
    "plt1 = sns.countplot(base_df['MiscFeature'])\n",
    "plt1=plt1.set_xticklabels(plt1.get_xticklabels(), rotation=40,horizontalalignment='right',fontweight='light', fontsize='large')"
   ]
  },
  {
   "cell_type": "markdown",
   "metadata": {},
   "source": [
    "**From Above Analysis for MiscFeature Column, more than 90% are Nulls. We can replace them with 'None'**"
   ]
  },
  {
   "cell_type": "code",
   "execution_count": 1706,
   "metadata": {},
   "outputs": [],
   "source": [
    "base_df[\"MiscFeature\"].replace({\"Null\":\"None\"},inplace=True)"
   ]
  },
  {
   "cell_type": "code",
   "execution_count": 1707,
   "metadata": {},
   "outputs": [
    {
     "data": {
      "image/png": "[encoded data removed]",
      "text/plain": [
       "<Figure size 504x504 with 1 Axes>"
      ]
     },
     "metadata": {
      "needs_background": "light"
     },
     "output_type": "display_data"
    }
   ],
   "source": [
    "#MiscFeature Column\n",
    "\n",
    "#Plotting\n",
    "fig, axs = plt.subplots(1, figsize = (7,7))\n",
    "plt1 = sns.countplot(base_df['MiscFeature'])\n",
    "plt1=plt1.set_xticklabels(plt1.get_xticklabels(), rotation=40,horizontalalignment='right',fontweight='light', fontsize='large')"
   ]
  },
  {
   "cell_type": "markdown",
   "metadata": {},
   "source": [
    "**Since from the Above graph, it is visible that 'None' is causing Skewness. Hence this Column will not contribute to Learning Algorithm. Hence Dropping the Column**"
   ]
  },
  {
   "cell_type": "code",
   "execution_count": 1708,
   "metadata": {},
   "outputs": [],
   "source": [
    "#Dropping Column Alley\n",
    "base_df=base_df.drop(['MiscFeature'],axis=1)"
   ]
  },
  {
   "cell_type": "code",
   "execution_count": 1709,
   "metadata": {},
   "outputs": [
    {
     "data": {
      "image/png": "[encoded data removed]",
      "text/plain": [
       "<Figure size 504x504 with 1 Axes>"
      ]
     },
     "metadata": {
      "needs_background": "light"
     },
     "output_type": "display_data"
    }
   ],
   "source": [
    "#PoolQC Column\n",
    "\n",
    "#Replacing NA with String 'Null' and then viewing the Plot\n",
    "base_df['PoolQC'].fillna('Null',inplace=True)\n",
    "\n",
    "#Plotting\n",
    "fig, axs = plt.subplots(1, figsize = (7,7))\n",
    "plt1 = sns.countplot(base_df['PoolQC'])\n",
    "plt1=plt1.set_xticklabels(plt1.get_xticklabels(), rotation=40,horizontalalignment='right',fontweight='light', fontsize='large')"
   ]
  },
  {
   "cell_type": "markdown",
   "metadata": {},
   "source": [
    "**From Above Analysis for PoolQC Column, more than 90% are Nulls. We can replace them with 'No Pool'**"
   ]
  },
  {
   "cell_type": "code",
   "execution_count": 1710,
   "metadata": {},
   "outputs": [],
   "source": [
    "base_df[\"PoolQC\"].replace({\"Null\":\"No Pool\"},inplace=True)"
   ]
  },
  {
   "cell_type": "code",
   "execution_count": 1711,
   "metadata": {},
   "outputs": [
    {
     "data": {
      "image/png": "[encoded data removed]",
      "text/plain": [
       "<Figure size 504x504 with 1 Axes>"
      ]
     },
     "metadata": {
      "needs_background": "light"
     },
     "output_type": "display_data"
    }
   ],
   "source": [
    "#Plotting\n",
    "fig, axs = plt.subplots(1, figsize = (7,7))\n",
    "plt1 = sns.countplot(base_df['PoolQC'])\n",
    "plt1=plt1.set_xticklabels(plt1.get_xticklabels(), rotation=40,horizontalalignment='right',fontweight='light', fontsize='large')"
   ]
  },
  {
   "cell_type": "markdown",
   "metadata": {},
   "source": [
    "**Since from the Above graph, it is visible that 'No Pool' is causing Skewness & has low variance. Hence this Column will not contribute to Learning Algorithm. Hence Dropping the Column**"
   ]
  },
  {
   "cell_type": "code",
   "execution_count": 1712,
   "metadata": {},
   "outputs": [],
   "source": [
    "base_df=base_df.drop(['PoolQC'],axis=1)"
   ]
  },
  {
   "cell_type": "code",
   "execution_count": 1713,
   "metadata": {},
   "outputs": [
    {
     "data": {
      "image/png": "[encoded data removed]",
      "text/plain": [
       "<Figure size 504x504 with 1 Axes>"
      ]
     },
     "metadata": {
      "needs_background": "light"
     },
     "output_type": "display_data"
    }
   ],
   "source": [
    "#Fence Column\n",
    "#Replacing NA with String 'Null' and then viewing the Plot\n",
    "base_df['Fence'].fillna('Null',inplace=True)\n",
    "#Plotting\n",
    "fig, axs = plt.subplots(1, figsize = (7,7))\n",
    "plt1 = sns.countplot(base_df['Fence'])\n",
    "plt1=plt1.set_xticklabels(plt1.get_xticklabels(), rotation=40,horizontalalignment='right',fontweight='light', fontsize='large')"
   ]
  },
  {
   "cell_type": "code",
   "execution_count": 1714,
   "metadata": {},
   "outputs": [],
   "source": [
    "base_df[\"Fence\"].replace({\"Null\":\"No Fence\"},inplace=True)"
   ]
  },
  {
   "cell_type": "code",
   "execution_count": 1715,
   "metadata": {},
   "outputs": [
    {
     "data": {
      "image/png": "[encoded data removed]",
      "text/plain": [
       "<Figure size 504x504 with 1 Axes>"
      ]
     },
     "metadata": {
      "needs_background": "light"
     },
     "output_type": "display_data"
    }
   ],
   "source": [
    "#Plotting\n",
    "fig, axs = plt.subplots(1, figsize = (7,7))\n",
    "plt1 = sns.countplot(base_df['Fence'])\n",
    "plt1=plt1.set_xticklabels(plt1.get_xticklabels(), rotation=40,horizontalalignment='right',fontweight='light', fontsize='large')"
   ]
  },
  {
   "cell_type": "markdown",
   "metadata": {},
   "source": [
    "**Since from the Above graph, it is visible that 'No Fence' is causing Skewness & has low variance. Hence this Column will not contribute to Learning Algorithm. Hence Dropping the Column**"
   ]
  },
  {
   "cell_type": "code",
   "execution_count": 1716,
   "metadata": {},
   "outputs": [],
   "source": [
    "#Dropping Fence\n",
    "base_df=base_df.drop(['Fence'],axis=1)"
   ]
  },
  {
   "cell_type": "code",
   "execution_count": 1717,
   "metadata": {},
   "outputs": [
    {
     "data": {
      "text/plain": [
       "(1460, 77)"
      ]
     },
     "execution_count": 1717,
     "metadata": {},
     "output_type": "execute_result"
    }
   ],
   "source": [
    "#Base Data Shape\n",
    "base_df.shape"
   ]
  },
  {
   "cell_type": "code",
   "execution_count": 1718,
   "metadata": {},
   "outputs": [
    {
     "data": {
      "text/plain": [
       "FireplaceQu      47.26\n",
       "LotFrontage      17.74\n",
       "GarageYrBlt       5.55\n",
       "GarageType        5.55\n",
       "GarageFinish      5.55\n",
       "GarageQual        5.55\n",
       "GarageCond        5.55\n",
       "BsmtExposure      2.60\n",
       "BsmtFinType2      2.60\n",
       "BsmtFinType1      2.53\n",
       "BsmtCond          2.53\n",
       "BsmtQual          2.53\n",
       "MasVnrType        0.55\n",
       "MasVnrArea        0.55\n",
       "Electrical        0.07\n",
       "RoofMatl          0.00\n",
       "RoofStyle         0.00\n",
       "SalePrice         0.00\n",
       "Exterior1st       0.00\n",
       "Exterior2nd       0.00\n",
       "YearBuilt         0.00\n",
       "ExterQual         0.00\n",
       "ExterCond         0.00\n",
       "Foundation        0.00\n",
       "YearRemodAdd      0.00\n",
       "BldgType          0.00\n",
       "OverallCond       0.00\n",
       "OverallQual       0.00\n",
       "HouseStyle        0.00\n",
       "Condition2        0.00\n",
       "                 ...  \n",
       "GarageArea        0.00\n",
       "PavedDrive        0.00\n",
       "WoodDeckSF        0.00\n",
       "OpenPorchSF       0.00\n",
       "3SsnPorch         0.00\n",
       "BsmtUnfSF         0.00\n",
       "ScreenPorch       0.00\n",
       "PoolArea          0.00\n",
       "MiscVal           0.00\n",
       "MoSold            0.00\n",
       "YrSold            0.00\n",
       "SaleType          0.00\n",
       "Functional        0.00\n",
       "TotRmsAbvGrd      0.00\n",
       "KitchenQual       0.00\n",
       "KitchenAbvGr      0.00\n",
       "BedroomAbvGr      0.00\n",
       "HalfBath          0.00\n",
       "FullBath          0.00\n",
       "BsmtHalfBath      0.00\n",
       "BsmtFullBath      0.00\n",
       "GrLivArea         0.00\n",
       "LowQualFinSF      0.00\n",
       "2ndFlrSF          0.00\n",
       "1stFlrSF          0.00\n",
       "CentralAir        0.00\n",
       "HeatingQC         0.00\n",
       "SaleCondition     0.00\n",
       "TotalBsmtSF       0.00\n",
       "Id                0.00\n",
       "Length: 77, dtype: float64"
      ]
     },
     "execution_count": 1718,
     "metadata": {},
     "output_type": "execute_result"
    }
   ],
   "source": [
    "#Re-Analyze Nulls\n",
    "round((base_df.isnull().sum()/len(base_df))*100,2).sort_values(ascending = False)"
   ]
  },
  {
   "cell_type": "code",
   "execution_count": 1719,
   "metadata": {},
   "outputs": [
    {
     "data": {
      "image/png": "[encoded data removed]",
      "text/plain": [
       "<Figure size 504x504 with 1 Axes>"
      ]
     },
     "metadata": {
      "needs_background": "light"
     },
     "output_type": "display_data"
    }
   ],
   "source": [
    "#FireplaceQu Column\n",
    "#Replacing NA with String 'Null' and then viewing the Plot\n",
    "base_df['FireplaceQu'].fillna('Null',inplace=True)\n",
    "#Plotting\n",
    "fig, axs = plt.subplots(1, figsize = (7,7))\n",
    "plt1 = sns.countplot(base_df['FireplaceQu'])\n",
    "plt1=plt1.set_xticklabels(plt1.get_xticklabels(), rotation=40,horizontalalignment='right',fontweight='light', fontsize='large')"
   ]
  },
  {
   "cell_type": "code",
   "execution_count": 1720,
   "metadata": {},
   "outputs": [],
   "source": [
    "# Replacing Nulls with No Fireplace\n",
    "base_df[\"FireplaceQu\"].replace({\"Null\":\"No FirePlace\"},inplace=True)"
   ]
  },
  {
   "cell_type": "code",
   "execution_count": 1721,
   "metadata": {},
   "outputs": [
    {
     "data": {
      "image/png": "[encoded data removed]",
      "text/plain": [
       "<Figure size 504x504 with 1 Axes>"
      ]
     },
     "metadata": {
      "needs_background": "light"
     },
     "output_type": "display_data"
    }
   ],
   "source": [
    "#Plotting\n",
    "fig, axs = plt.subplots(1, figsize = (7,7))\n",
    "plt1 = sns.countplot(base_df['FireplaceQu'])\n",
    "plt1=plt1.set_xticklabels(plt1.get_xticklabels(), rotation=40,horizontalalignment='right',fontweight='light', fontsize='large')"
   ]
  },
  {
   "cell_type": "markdown",
   "metadata": {},
   "source": [
    "**The Fireplace Column has Considerable variance & low skewness. Hence, it might be useful for model building.**\n",
    "\n",
    "**Hence not dropping the column.Post model building, we can consider the co-efficients of this column** \n",
    "\n",
    "**and then decide to drop the column**"
   ]
  },
  {
   "cell_type": "code",
   "execution_count": 1722,
   "metadata": {},
   "outputs": [
    {
     "data": {
      "image/png": "[encoded data removed]",
      "text/plain": [
       "<Figure size 504x504 with 1 Axes>"
      ]
     },
     "metadata": {
      "needs_background": "light"
     },
     "output_type": "display_data"
    }
   ],
   "source": [
    "#GarageFinish Column\n",
    "#Replacing NA with String 'Null' and then viewing the Plot\n",
    "base_df['GarageFinish'].fillna('Null',inplace=True)\n",
    "\n",
    "#Plotting\n",
    "fig, axs = plt.subplots(1, figsize = (7,7))\n",
    "plt1 = sns.countplot(base_df['GarageFinish'])\n",
    "plt1=plt1.set_xticklabels(plt1.get_xticklabels(), rotation=40,horizontalalignment='right',fontweight='light', fontsize='large')"
   ]
  },
  {
   "cell_type": "markdown",
   "metadata": {},
   "source": [
    "**From above graph, it can be seen that GarageFinish Column has Few Nulls and slight Variance. Hence not dropping the Column**"
   ]
  },
  {
   "cell_type": "code",
   "execution_count": 1723,
   "metadata": {},
   "outputs": [
    {
     "data": {
      "text/plain": [
       "LotFrontage      17.74\n",
       "GarageType        5.55\n",
       "GarageYrBlt       5.55\n",
       "GarageCond        5.55\n",
       "GarageQual        5.55\n",
       "BsmtFinType2      2.60\n",
       "BsmtExposure      2.60\n",
       "BsmtFinType1      2.53\n",
       "BsmtCond          2.53\n",
       "BsmtQual          2.53\n",
       "MasVnrArea        0.55\n",
       "MasVnrType        0.55\n",
       "Electrical        0.07\n",
       "Exterior1st       0.00\n",
       "RoofStyle         0.00\n",
       "RoofMatl          0.00\n",
       "ExterQual         0.00\n",
       "Exterior2nd       0.00\n",
       "YearBuilt         0.00\n",
       "ExterCond         0.00\n",
       "Foundation        0.00\n",
       "BsmtFinSF1        0.00\n",
       "YearRemodAdd      0.00\n",
       "SalePrice         0.00\n",
       "OverallCond       0.00\n",
       "Utilities         0.00\n",
       "MSSubClass        0.00\n",
       "MSZoning          0.00\n",
       "LotArea           0.00\n",
       "Street            0.00\n",
       "                 ...  \n",
       "PavedDrive        0.00\n",
       "WoodDeckSF        0.00\n",
       "OpenPorchSF       0.00\n",
       "3SsnPorch         0.00\n",
       "Fireplaces        0.00\n",
       "ScreenPorch       0.00\n",
       "PoolArea          0.00\n",
       "MiscVal           0.00\n",
       "MoSold            0.00\n",
       "YrSold            0.00\n",
       "SaleType          0.00\n",
       "FireplaceQu       0.00\n",
       "Functional        0.00\n",
       "TotalBsmtSF       0.00\n",
       "GrLivArea         0.00\n",
       "SaleCondition     0.00\n",
       "HeatingQC         0.00\n",
       "CentralAir        0.00\n",
       "1stFlrSF          0.00\n",
       "2ndFlrSF          0.00\n",
       "LowQualFinSF      0.00\n",
       "BsmtFullBath      0.00\n",
       "TotRmsAbvGrd      0.00\n",
       "BsmtHalfBath      0.00\n",
       "FullBath          0.00\n",
       "HalfBath          0.00\n",
       "BedroomAbvGr      0.00\n",
       "KitchenAbvGr      0.00\n",
       "KitchenQual       0.00\n",
       "Id                0.00\n",
       "Length: 77, dtype: float64"
      ]
     },
     "execution_count": 1723,
     "metadata": {},
     "output_type": "execute_result"
    }
   ],
   "source": [
    "#Re-Analyze Nulls\n",
    "round((base_df.isnull().sum()/len(base_df))*100,2).sort_values(ascending = False)"
   ]
  },
  {
   "cell_type": "code",
   "execution_count": 1724,
   "metadata": {},
   "outputs": [
    {
     "data": {
      "text/plain": [
       "count    1201.000000\n",
       "mean       70.049958\n",
       "std        24.284752\n",
       "min        21.000000\n",
       "25%        59.000000\n",
       "50%        69.000000\n",
       "75%        80.000000\n",
       "max       313.000000\n",
       "Name: LotFrontage, dtype: float64"
      ]
     },
     "execution_count": 1724,
     "metadata": {},
     "output_type": "execute_result"
    }
   ],
   "source": [
    "#View Details for LotFrontage Column\n",
    "base_df['LotFrontage'].describe()"
   ]
  },
  {
   "cell_type": "code",
   "execution_count": 1725,
   "metadata": {},
   "outputs": [],
   "source": [
    "#Replacing Null in LotFrontage with Mean value of the column\n",
    "base_df['LotFrontage'].fillna(base_df['LotFrontage'].mean(),inplace=True)"
   ]
  },
  {
   "cell_type": "code",
   "execution_count": 1726,
   "metadata": {},
   "outputs": [
    {
     "data": {
      "text/plain": [
       "count    1460.000000\n",
       "mean       70.049958\n",
       "std        22.024023\n",
       "min        21.000000\n",
       "25%        60.000000\n",
       "50%        70.049958\n",
       "75%        79.000000\n",
       "max       313.000000\n",
       "Name: LotFrontage, dtype: float64"
      ]
     },
     "execution_count": 1726,
     "metadata": {},
     "output_type": "execute_result"
    }
   ],
   "source": [
    "#View Details for LotFrontage Column\n",
    "base_df['LotFrontage'].describe()"
   ]
  },
  {
   "cell_type": "code",
   "execution_count": 1727,
   "metadata": {},
   "outputs": [
    {
     "data": {
      "text/plain": [
       "GarageType       5.55\n",
       "GarageYrBlt      5.55\n",
       "GarageQual       5.55\n",
       "GarageCond       5.55\n",
       "BsmtFinType2     2.60\n",
       "BsmtExposure     2.60\n",
       "BsmtFinType1     2.53\n",
       "BsmtCond         2.53\n",
       "BsmtQual         2.53\n",
       "MasVnrType       0.55\n",
       "MasVnrArea       0.55\n",
       "Electrical       0.07\n",
       "YearBuilt        0.00\n",
       "ExterQual        0.00\n",
       "ExterCond        0.00\n",
       "Foundation       0.00\n",
       "Exterior2nd      0.00\n",
       "Exterior1st      0.00\n",
       "RoofMatl         0.00\n",
       "BsmtFinSF1       0.00\n",
       "RoofStyle        0.00\n",
       "YearRemodAdd     0.00\n",
       "SalePrice        0.00\n",
       "OverallCond      0.00\n",
       "OverallQual      0.00\n",
       "MSSubClass       0.00\n",
       "MSZoning         0.00\n",
       "LotFrontage      0.00\n",
       "LotArea          0.00\n",
       "Street           0.00\n",
       "                 ... \n",
       "PavedDrive       0.00\n",
       "WoodDeckSF       0.00\n",
       "OpenPorchSF      0.00\n",
       "3SsnPorch        0.00\n",
       "Fireplaces       0.00\n",
       "ScreenPorch      0.00\n",
       "PoolArea         0.00\n",
       "MiscVal          0.00\n",
       "MoSold           0.00\n",
       "YrSold           0.00\n",
       "SaleType         0.00\n",
       "FireplaceQu      0.00\n",
       "Functional       0.00\n",
       "TotalBsmtSF      0.00\n",
       "GrLivArea        0.00\n",
       "SaleCondition    0.00\n",
       "HeatingQC        0.00\n",
       "CentralAir       0.00\n",
       "1stFlrSF         0.00\n",
       "2ndFlrSF         0.00\n",
       "LowQualFinSF     0.00\n",
       "BsmtFullBath     0.00\n",
       "TotRmsAbvGrd     0.00\n",
       "BsmtHalfBath     0.00\n",
       "FullBath         0.00\n",
       "HalfBath         0.00\n",
       "BedroomAbvGr     0.00\n",
       "KitchenAbvGr     0.00\n",
       "KitchenQual      0.00\n",
       "Id               0.00\n",
       "Length: 77, dtype: float64"
      ]
     },
     "execution_count": 1727,
     "metadata": {},
     "output_type": "execute_result"
    }
   ],
   "source": [
    "#Re-Analyze Nulls\n",
    "round((base_df.isnull().sum()/len(base_df))*100,2).sort_values(ascending = False)"
   ]
  },
  {
   "cell_type": "code",
   "execution_count": 1728,
   "metadata": {},
   "outputs": [
    {
     "data": {
      "image/png": "[encoded data removed]",
      "text/plain": [
       "<Figure size 504x504 with 1 Axes>"
      ]
     },
     "metadata": {
      "needs_background": "light"
     },
     "output_type": "display_data"
    }
   ],
   "source": [
    "#BsmtQual Column\n",
    "#Replacing NA with String 'Null' and then viewing the Plot\n",
    "base_df['BsmtQual'].fillna('Null',inplace=True)\n",
    "\n",
    "#Plotting\n",
    "fig, axs = plt.subplots(1, figsize = (7,7))\n",
    "plt1 = sns.countplot(base_df['BsmtQual'])\n",
    "plt1=plt1.set_xticklabels(plt1.get_xticklabels(), rotation=40,horizontalalignment='right',fontweight='light', fontsize='large')"
   ]
  },
  {
   "cell_type": "markdown",
   "metadata": {},
   "source": [
    "**BsmtQual has high variation and low missing values. Hence Replacing Nulls with No Basement & Not Dropping the Column**"
   ]
  },
  {
   "cell_type": "code",
   "execution_count": 1729,
   "metadata": {},
   "outputs": [],
   "source": [
    "#Replacing Nulls with No Basement\n",
    "base_df['BsmtQual'].replace({\"Null\":\"No Basement\"},inplace=True)"
   ]
  },
  {
   "cell_type": "code",
   "execution_count": 1730,
   "metadata": {},
   "outputs": [
    {
     "data": {
      "image/png": "[encoded data removed]",
      "text/plain": [
       "<Figure size 504x504 with 1 Axes>"
      ]
     },
     "metadata": {
      "needs_background": "light"
     },
     "output_type": "display_data"
    }
   ],
   "source": [
    "#Plottiing the Variance\n",
    "fig, axs = plt.subplots(1, figsize = (7,7))\n",
    "plt1 = sns.countplot(base_df['BsmtQual'])\n",
    "plt1=plt1.set_xticklabels(plt1.get_xticklabels(), rotation=40,horizontalalignment='right',fontweight='light', fontsize='large')"
   ]
  },
  {
   "cell_type": "code",
   "execution_count": 1731,
   "metadata": {},
   "outputs": [
    {
     "data": {
      "text/plain": [
       "GarageType       5.55\n",
       "GarageYrBlt      5.55\n",
       "GarageQual       5.55\n",
       "GarageCond       5.55\n",
       "BsmtFinType2     2.60\n",
       "BsmtExposure     2.60\n",
       "BsmtFinType1     2.53\n",
       "BsmtCond         2.53\n",
       "MasVnrType       0.55\n",
       "MasVnrArea       0.55\n",
       "Electrical       0.07\n",
       "ExterQual        0.00\n",
       "YearBuilt        0.00\n",
       "ExterCond        0.00\n",
       "Foundation       0.00\n",
       "BsmtQual         0.00\n",
       "Exterior2nd      0.00\n",
       "Exterior1st      0.00\n",
       "RoofMatl         0.00\n",
       "BsmtFinSF1       0.00\n",
       "RoofStyle        0.00\n",
       "YearRemodAdd     0.00\n",
       "SalePrice        0.00\n",
       "OverallCond      0.00\n",
       "OverallQual      0.00\n",
       "MSSubClass       0.00\n",
       "MSZoning         0.00\n",
       "LotFrontage      0.00\n",
       "LotArea          0.00\n",
       "Street           0.00\n",
       "                 ... \n",
       "PavedDrive       0.00\n",
       "WoodDeckSF       0.00\n",
       "OpenPorchSF      0.00\n",
       "3SsnPorch        0.00\n",
       "Fireplaces       0.00\n",
       "ScreenPorch      0.00\n",
       "PoolArea         0.00\n",
       "MiscVal          0.00\n",
       "MoSold           0.00\n",
       "YrSold           0.00\n",
       "SaleType         0.00\n",
       "FireplaceQu      0.00\n",
       "Functional       0.00\n",
       "TotalBsmtSF      0.00\n",
       "GrLivArea        0.00\n",
       "SaleCondition    0.00\n",
       "HeatingQC        0.00\n",
       "CentralAir       0.00\n",
       "1stFlrSF         0.00\n",
       "2ndFlrSF         0.00\n",
       "LowQualFinSF     0.00\n",
       "BsmtFullBath     0.00\n",
       "TotRmsAbvGrd     0.00\n",
       "BsmtHalfBath     0.00\n",
       "FullBath         0.00\n",
       "HalfBath         0.00\n",
       "BedroomAbvGr     0.00\n",
       "KitchenAbvGr     0.00\n",
       "KitchenQual      0.00\n",
       "Id               0.00\n",
       "Length: 77, dtype: float64"
      ]
     },
     "execution_count": 1731,
     "metadata": {},
     "output_type": "execute_result"
    }
   ],
   "source": [
    "#Re-Analyze Nulls\n",
    "round((base_df.isnull().sum()/len(base_df))*100,2).sort_values(ascending = False)"
   ]
  },
  {
   "cell_type": "code",
   "execution_count": 1732,
   "metadata": {},
   "outputs": [
    {
     "data": {
      "image/png": "[encoded data removed]",
      "text/plain": [
       "<Figure size 504x504 with 1 Axes>"
      ]
     },
     "metadata": {
      "needs_background": "light"
     },
     "output_type": "display_data"
    }
   ],
   "source": [
    "#Analyzing GarageType\n",
    "base_df['GarageType'].fillna('Null',inplace=True)\n",
    "\n",
    "#Plottiing the Variance\n",
    "fig, axs = plt.subplots(1, figsize = (7,7))\n",
    "plt1 = sns.countplot(base_df['GarageType'])\n",
    "plt1=plt1.set_xticklabels(plt1.get_xticklabels(), rotation=40,horizontalalignment='right',fontweight='light', fontsize='large')"
   ]
  },
  {
   "cell_type": "code",
   "execution_count": 1733,
   "metadata": {},
   "outputs": [
    {
     "data": {
      "image/png": "[encoded data removed]",
      "text/plain": [
       "<Figure size 504x504 with 1 Axes>"
      ]
     },
     "metadata": {
      "needs_background": "light"
     },
     "output_type": "display_data"
    }
   ],
   "source": [
    "#Replacing Nulls with not garage & Viewing Variance\n",
    "base_df['GarageType'].replace({\"Null\":\"No Garage\"},inplace=True)\n",
    "\n",
    "fig, axs = plt.subplots(1, figsize = (7,7))\n",
    "plt1 = sns.countplot(base_df['GarageType'])\n",
    "plt1=plt1.set_xticklabels(plt1.get_xticklabels(), rotation=40,horizontalalignment='right',fontweight='light', fontsize='large')"
   ]
  },
  {
   "cell_type": "code",
   "execution_count": 1734,
   "metadata": {},
   "outputs": [
    {
     "data": {
      "image/png": "[encoded data removed]",
      "text/plain": [
       "<Figure size 504x504 with 1 Axes>"
      ]
     },
     "metadata": {
      "needs_background": "light"
     },
     "output_type": "display_data"
    }
   ],
   "source": [
    "#Analyzing GarageQual\n",
    "base_df['GarageQual'].fillna('Null',inplace=True)\n",
    "\n",
    "#Plottiing the Variance\n",
    "fig, axs = plt.subplots(1, figsize = (7,7))\n",
    "plt1 = sns.countplot(base_df['GarageQual'])\n",
    "plt1=plt1.set_xticklabels(plt1.get_xticklabels(), rotation=40,horizontalalignment='right',fontweight='light', fontsize='large')"
   ]
  },
  {
   "cell_type": "markdown",
   "metadata": {},
   "source": [
    "**Since from the Above graph, it is visible that 'TA' is causing Skewness & has low variance.Hence this Column will not contribute to Learning Algorithm. Hence Dropping the Column**"
   ]
  },
  {
   "cell_type": "code",
   "execution_count": 1735,
   "metadata": {},
   "outputs": [],
   "source": [
    "#Dropping GarageQual\n",
    "base_df=base_df.drop(['GarageQual'],axis=1)"
   ]
  },
  {
   "cell_type": "code",
   "execution_count": 1736,
   "metadata": {},
   "outputs": [
    {
     "data": {
      "image/png": "[encoded data removed]",
      "text/plain": [
       "<Figure size 1080x1080 with 1 Axes>"
      ]
     },
     "metadata": {
      "needs_background": "light"
     },
     "output_type": "display_data"
    }
   ],
   "source": [
    "#Analyzing GarageYrBlt\n",
    "base_df['GarageYrBlt'].fillna('Null',inplace=True)\n",
    "\n",
    "#Plottiing the Variance\n",
    "fig, axs = plt.subplots(1, figsize = (15,15))\n",
    "plt1 = sns.countplot(base_df['GarageYrBlt'])\n",
    "plt1=plt1.set_xticklabels(plt1.get_xticklabels(), rotation=40,horizontalalignment='right',fontweight='light', fontsize='large')\n"
   ]
  },
  {
   "cell_type": "code",
   "execution_count": 1737,
   "metadata": {},
   "outputs": [
    {
     "data": {
      "text/plain": [
       "count     1460\n",
       "unique      98\n",
       "top       Null\n",
       "freq        81\n",
       "Name: GarageYrBlt, dtype: object"
      ]
     },
     "execution_count": 1737,
     "metadata": {},
     "output_type": "execute_result"
    }
   ],
   "source": [
    "base_df['GarageYrBlt'].describe()"
   ]
  },
  {
   "cell_type": "markdown",
   "metadata": {},
   "source": [
    "**Since from the Above graph, it is visible that GarageYrBlt has no practical importance.Hence this Column will not contribute to Learning Algorithm. Hence Dropping the Column**"
   ]
  },
  {
   "cell_type": "code",
   "execution_count": 1738,
   "metadata": {},
   "outputs": [],
   "source": [
    "#Dropping GarageYrBlt\n",
    "base_df=base_df.drop(['GarageYrBlt'],axis=1)"
   ]
  },
  {
   "cell_type": "code",
   "execution_count": 1739,
   "metadata": {},
   "outputs": [
    {
     "data": {
      "image/png": "[encoded data removed]",
      "text/plain": [
       "<Figure size 504x504 with 1 Axes>"
      ]
     },
     "metadata": {
      "needs_background": "light"
     },
     "output_type": "display_data"
    }
   ],
   "source": [
    "#Analyzing GarageCond\n",
    "base_df['GarageCond'].fillna('Null',inplace=True)\n",
    "\n",
    "#Plottiing the Variance\n",
    "fig, axs = plt.subplots(1, figsize = (7,7))\n",
    "plt1 = sns.countplot(base_df['GarageCond'])\n",
    "plt1=plt1.set_xticklabels(plt1.get_xticklabels(), rotation=40,horizontalalignment='right',fontweight='light', fontsize='large')"
   ]
  },
  {
   "cell_type": "markdown",
   "metadata": {},
   "source": [
    "**Since from the Above graph, it is visible that 'TA' is causing Skewness & has low variance.Hence this Column will not contribute to Learning Algorithm. Hence Dropping the Column**"
   ]
  },
  {
   "cell_type": "code",
   "execution_count": 1740,
   "metadata": {},
   "outputs": [],
   "source": [
    "#Dropping GarageCond\n",
    "base_df=base_df.drop(['GarageCond'],axis=1)"
   ]
  },
  {
   "cell_type": "code",
   "execution_count": 1741,
   "metadata": {},
   "outputs": [
    {
     "data": {
      "image/png": "[encoded data removed]",
      "text/plain": [
       "<Figure size 504x504 with 1 Axes>"
      ]
     },
     "metadata": {
      "needs_background": "light"
     },
     "output_type": "display_data"
    }
   ],
   "source": [
    "#Analyzing BsmtFinType2\n",
    "base_df['BsmtFinType2'].fillna('Null',inplace=True)\n",
    "\n",
    "#Plottiing the Variance\n",
    "fig, axs = plt.subplots(1, figsize = (7,7))\n",
    "plt1 = sns.countplot(base_df['BsmtFinType2'])\n",
    "plt1=plt1.set_xticklabels(plt1.get_xticklabels(), rotation=40,horizontalalignment='right',fontweight='light', fontsize='large')"
   ]
  },
  {
   "cell_type": "markdown",
   "metadata": {},
   "source": [
    "**Since from the Above graph, it is visible that 'Unf' is causing Skewness & has low variance.Hence this Column will not contribute to Learning Algorithm. Hence Dropping the Column**"
   ]
  },
  {
   "cell_type": "code",
   "execution_count": 1742,
   "metadata": {},
   "outputs": [],
   "source": [
    "#Dropping BsmtFinType2\n",
    "base_df=base_df.drop(['BsmtFinType2'],axis=1)"
   ]
  },
  {
   "cell_type": "code",
   "execution_count": 1743,
   "metadata": {},
   "outputs": [
    {
     "data": {
      "image/png": "[encoded data removed]",
      "text/plain": [
       "<Figure size 504x504 with 1 Axes>"
      ]
     },
     "metadata": {
      "needs_background": "light"
     },
     "output_type": "display_data"
    }
   ],
   "source": [
    "#Analyzing BsmtExposure\n",
    "base_df['BsmtExposure'].fillna('Null',inplace=True)\n",
    "\n",
    "#Plottiing the Variance\n",
    "fig, axs = plt.subplots(1, figsize = (7,7))\n",
    "plt1 = sns.countplot(base_df['BsmtExposure'])\n",
    "plt1=plt1.set_xticklabels(plt1.get_xticklabels(), rotation=40,horizontalalignment='right',fontweight='light', fontsize='large')"
   ]
  },
  {
   "cell_type": "markdown",
   "metadata": {},
   "source": [
    "**Since from the Above graph, it is visible that 'No' is causing Skewness & has low variance.Hence this Column will not contribute to Learning Algorithm. Hence Dropping the Column**"
   ]
  },
  {
   "cell_type": "code",
   "execution_count": 1744,
   "metadata": {},
   "outputs": [],
   "source": [
    "#Dropping BsmtExposure\n",
    "base_df=base_df.drop(['BsmtExposure'],axis=1)"
   ]
  },
  {
   "cell_type": "code",
   "execution_count": 1745,
   "metadata": {},
   "outputs": [
    {
     "data": {
      "image/png": "[encoded data removed]",
      "text/plain": [
       "<Figure size 504x504 with 1 Axes>"
      ]
     },
     "metadata": {
      "needs_background": "light"
     },
     "output_type": "display_data"
    }
   ],
   "source": [
    "#Analyzing BsmtFinType1\n",
    "base_df['BsmtFinType1'].fillna('Null',inplace=True)\n",
    "\n",
    "#Plottiing the Variance\n",
    "fig, axs = plt.subplots(1, figsize = (7,7))\n",
    "plt1 = sns.countplot(base_df['BsmtFinType1'])\n",
    "plt1=plt1.set_xticklabels(plt1.get_xticklabels(), rotation=40,horizontalalignment='right',fontweight='light', fontsize='large')"
   ]
  },
  {
   "cell_type": "code",
   "execution_count": 1746,
   "metadata": {},
   "outputs": [
    {
     "data": {
      "image/png": "[encoded data removed]",
      "text/plain": [
       "<Figure size 504x504 with 1 Axes>"
      ]
     },
     "metadata": {
      "needs_background": "light"
     },
     "output_type": "display_data"
    }
   ],
   "source": [
    "#Replacing Nulls with No Basement & Viewing Variance\n",
    "base_df['BsmtFinType1'].replace({\"Null\":\"No Basement\"},inplace=True)\n",
    "#Plotting\n",
    "fig, axs = plt.subplots(1, figsize = (7,7))\n",
    "plt1 = sns.countplot(base_df['BsmtFinType1'])\n",
    "plt1=plt1.set_xticklabels(plt1.get_xticklabels(), rotation=40,horizontalalignment='right',fontweight='light', fontsize='large')"
   ]
  },
  {
   "cell_type": "code",
   "execution_count": 1747,
   "metadata": {},
   "outputs": [
    {
     "data": {
      "image/png": "[encoded data removed]",
      "text/plain": [
       "<Figure size 504x504 with 1 Axes>"
      ]
     },
     "metadata": {
      "needs_background": "light"
     },
     "output_type": "display_data"
    }
   ],
   "source": [
    "#Analyzing BsmtCond\n",
    "base_df['BsmtCond'].fillna('Null',inplace=True)\n",
    "\n",
    "#Plottiing the Variance\n",
    "fig, axs = plt.subplots(1, figsize = (7,7))\n",
    "plt1 = sns.countplot(base_df['BsmtCond'])\n",
    "plt1=plt1.set_xticklabels(plt1.get_xticklabels(), rotation=40,horizontalalignment='right',fontweight='light', fontsize='large')"
   ]
  },
  {
   "cell_type": "markdown",
   "metadata": {},
   "source": [
    "**Since from the Above graph, it is visible that 'No Fence' is causing Skewness & has low variance.Hence this Column will not contribute to Learning Algorithm. Hence Dropping the Column**"
   ]
  },
  {
   "cell_type": "code",
   "execution_count": 1748,
   "metadata": {},
   "outputs": [],
   "source": [
    "#Dropping BsmtCond\n",
    "base_df=base_df.drop(['BsmtCond'],axis=1)"
   ]
  },
  {
   "cell_type": "code",
   "execution_count": 1749,
   "metadata": {},
   "outputs": [
    {
     "data": {
      "text/plain": [
       "MasVnrArea      0.55\n",
       "MasVnrType      0.55\n",
       "Electrical      0.07\n",
       "SalePrice       0.00\n",
       "YearRemodAdd    0.00\n",
       "RoofStyle       0.00\n",
       "RoofMatl        0.00\n",
       "Exterior1st     0.00\n",
       "Exterior2nd     0.00\n",
       "ExterQual       0.00\n",
       "TotalBsmtSF     0.00\n",
       "ExterCond       0.00\n",
       "Foundation      0.00\n",
       "BsmtQual        0.00\n",
       "BsmtFinType1    0.00\n",
       "BsmtFinSF1      0.00\n",
       "BsmtFinSF2      0.00\n",
       "YearBuilt       0.00\n",
       "OverallCond     0.00\n",
       "OverallQual     0.00\n",
       "LandContour     0.00\n",
       "MSSubClass      0.00\n",
       "MSZoning        0.00\n",
       "LotFrontage     0.00\n",
       "LotArea         0.00\n",
       "Street          0.00\n",
       "LotShape        0.00\n",
       "Utilities       0.00\n",
       "HouseStyle      0.00\n",
       "LotConfig       0.00\n",
       "                ... \n",
       "GarageArea      0.00\n",
       "PavedDrive      0.00\n",
       "WoodDeckSF      0.00\n",
       "OpenPorchSF     0.00\n",
       "3SsnPorch       0.00\n",
       "HeatingQC       0.00\n",
       "ScreenPorch     0.00\n",
       "PoolArea        0.00\n",
       "MiscVal         0.00\n",
       "MoSold          0.00\n",
       "YrSold          0.00\n",
       "SaleType        0.00\n",
       "GarageType      0.00\n",
       "FireplaceQu     0.00\n",
       "Fireplaces      0.00\n",
       "Functional      0.00\n",
       "TotRmsAbvGrd    0.00\n",
       "KitchenQual     0.00\n",
       "KitchenAbvGr    0.00\n",
       "BedroomAbvGr    0.00\n",
       "HalfBath        0.00\n",
       "FullBath        0.00\n",
       "BsmtHalfBath    0.00\n",
       "BsmtFullBath    0.00\n",
       "GrLivArea       0.00\n",
       "LowQualFinSF    0.00\n",
       "2ndFlrSF        0.00\n",
       "1stFlrSF        0.00\n",
       "CentralAir      0.00\n",
       "Id              0.00\n",
       "Length: 71, dtype: float64"
      ]
     },
     "execution_count": 1749,
     "metadata": {},
     "output_type": "execute_result"
    }
   ],
   "source": [
    "#Re-Analyze Nulls\n",
    "round((base_df.isnull().sum()/len(base_df))*100,2).sort_values(ascending = False)"
   ]
  },
  {
   "cell_type": "markdown",
   "metadata": {},
   "source": [
    "**Remaining Null values are negligible. Dropping the null rows**"
   ]
  },
  {
   "cell_type": "code",
   "execution_count": 1750,
   "metadata": {},
   "outputs": [],
   "source": [
    "#Dropping Null Rows\n",
    "base_df.dropna(subset = [\"MasVnrArea\"], inplace=True)"
   ]
  },
  {
   "cell_type": "code",
   "execution_count": 1751,
   "metadata": {},
   "outputs": [
    {
     "data": {
      "text/plain": [
       "Electrical      0.07\n",
       "SalePrice       0.00\n",
       "MasVnrArea      0.00\n",
       "YearRemodAdd    0.00\n",
       "RoofStyle       0.00\n",
       "RoofMatl        0.00\n",
       "Exterior1st     0.00\n",
       "Exterior2nd     0.00\n",
       "MasVnrType      0.00\n",
       "ExterQual       0.00\n",
       "TotalBsmtSF     0.00\n",
       "ExterCond       0.00\n",
       "Foundation      0.00\n",
       "BsmtQual        0.00\n",
       "BsmtFinType1    0.00\n",
       "BsmtFinSF1      0.00\n",
       "BsmtFinSF2      0.00\n",
       "YearBuilt       0.00\n",
       "OverallCond     0.00\n",
       "OverallQual     0.00\n",
       "LandContour     0.00\n",
       "MSSubClass      0.00\n",
       "MSZoning        0.00\n",
       "LotFrontage     0.00\n",
       "LotArea         0.00\n",
       "Street          0.00\n",
       "LotShape        0.00\n",
       "Utilities       0.00\n",
       "HouseStyle      0.00\n",
       "LotConfig       0.00\n",
       "                ... \n",
       "GarageArea      0.00\n",
       "PavedDrive      0.00\n",
       "WoodDeckSF      0.00\n",
       "OpenPorchSF     0.00\n",
       "3SsnPorch       0.00\n",
       "HeatingQC       0.00\n",
       "ScreenPorch     0.00\n",
       "PoolArea        0.00\n",
       "MiscVal         0.00\n",
       "MoSold          0.00\n",
       "YrSold          0.00\n",
       "SaleType        0.00\n",
       "GarageType      0.00\n",
       "FireplaceQu     0.00\n",
       "Fireplaces      0.00\n",
       "Functional      0.00\n",
       "TotRmsAbvGrd    0.00\n",
       "KitchenQual     0.00\n",
       "KitchenAbvGr    0.00\n",
       "BedroomAbvGr    0.00\n",
       "HalfBath        0.00\n",
       "FullBath        0.00\n",
       "BsmtHalfBath    0.00\n",
       "BsmtFullBath    0.00\n",
       "GrLivArea       0.00\n",
       "LowQualFinSF    0.00\n",
       "2ndFlrSF        0.00\n",
       "1stFlrSF        0.00\n",
       "CentralAir      0.00\n",
       "Id              0.00\n",
       "Length: 71, dtype: float64"
      ]
     },
     "execution_count": 1751,
     "metadata": {},
     "output_type": "execute_result"
    }
   ],
   "source": [
    "#Re-Analyze Nulls\n",
    "round((base_df.isnull().sum()/len(base_df))*100,2).sort_values(ascending = False)"
   ]
  },
  {
   "cell_type": "code",
   "execution_count": 1752,
   "metadata": {},
   "outputs": [],
   "source": [
    "#Dropping Null Rows\n",
    "base_df.dropna(subset = [\"Electrical\"], inplace=True)"
   ]
  },
  {
   "cell_type": "code",
   "execution_count": 1753,
   "metadata": {},
   "outputs": [
    {
     "data": {
      "text/plain": [
       "(1451, 71)"
      ]
     },
     "execution_count": 1753,
     "metadata": {},
     "output_type": "execute_result"
    }
   ],
   "source": [
    "#Statistics post Data Cleansing\n",
    "base_df.shape"
   ]
  },
  {
   "cell_type": "code",
   "execution_count": 1754,
   "metadata": {},
   "outputs": [
    {
     "name": "stdout",
     "output_type": "stream",
     "text": [
      "<class 'pandas.core.frame.DataFrame'>\n",
      "Int64Index: 1451 entries, 0 to 1459\n",
      "Data columns (total 71 columns):\n",
      "Id               1451 non-null int64\n",
      "MSSubClass       1451 non-null int64\n",
      "MSZoning         1451 non-null object\n",
      "LotFrontage      1451 non-null float64\n",
      "LotArea          1451 non-null int64\n",
      "Street           1451 non-null object\n",
      "LotShape         1451 non-null object\n",
      "LandContour      1451 non-null object\n",
      "Utilities        1451 non-null object\n",
      "LotConfig        1451 non-null object\n",
      "LandSlope        1451 non-null object\n",
      "Neighborhood     1451 non-null object\n",
      "Condition1       1451 non-null object\n",
      "Condition2       1451 non-null object\n",
      "BldgType         1451 non-null object\n",
      "HouseStyle       1451 non-null object\n",
      "OverallQual      1451 non-null int64\n",
      "OverallCond      1451 non-null int64\n",
      "YearBuilt        1451 non-null int64\n",
      "YearRemodAdd     1451 non-null int64\n",
      "RoofStyle        1451 non-null object\n",
      "RoofMatl         1451 non-null object\n",
      "Exterior1st      1451 non-null object\n",
      "Exterior2nd      1451 non-null object\n",
      "MasVnrType       1451 non-null object\n",
      "MasVnrArea       1451 non-null float64\n",
      "ExterQual        1451 non-null object\n",
      "ExterCond        1451 non-null object\n",
      "Foundation       1451 non-null object\n",
      "BsmtQual         1451 non-null object\n",
      "BsmtFinType1     1451 non-null object\n",
      "BsmtFinSF1       1451 non-null int64\n",
      "BsmtFinSF2       1451 non-null int64\n",
      "BsmtUnfSF        1451 non-null int64\n",
      "TotalBsmtSF      1451 non-null int64\n",
      "Heating          1451 non-null object\n",
      "HeatingQC        1451 non-null object\n",
      "CentralAir       1451 non-null object\n",
      "Electrical       1451 non-null object\n",
      "1stFlrSF         1451 non-null int64\n",
      "2ndFlrSF         1451 non-null int64\n",
      "LowQualFinSF     1451 non-null int64\n",
      "GrLivArea        1451 non-null int64\n",
      "BsmtFullBath     1451 non-null int64\n",
      "BsmtHalfBath     1451 non-null int64\n",
      "FullBath         1451 non-null int64\n",
      "HalfBath         1451 non-null int64\n",
      "BedroomAbvGr     1451 non-null int64\n",
      "KitchenAbvGr     1451 non-null int64\n",
      "KitchenQual      1451 non-null object\n",
      "TotRmsAbvGrd     1451 non-null int64\n",
      "Functional       1451 non-null object\n",
      "Fireplaces       1451 non-null int64\n",
      "FireplaceQu      1451 non-null object\n",
      "GarageType       1451 non-null object\n",
      "GarageFinish     1451 non-null object\n",
      "GarageCars       1451 non-null int64\n",
      "GarageArea       1451 non-null int64\n",
      "PavedDrive       1451 non-null object\n",
      "WoodDeckSF       1451 non-null int64\n",
      "OpenPorchSF      1451 non-null int64\n",
      "EnclosedPorch    1451 non-null int64\n",
      "3SsnPorch        1451 non-null int64\n",
      "ScreenPorch      1451 non-null int64\n",
      "PoolArea         1451 non-null int64\n",
      "MiscVal          1451 non-null int64\n",
      "MoSold           1451 non-null int64\n",
      "YrSold           1451 non-null int64\n",
      "SaleType         1451 non-null object\n",
      "SaleCondition    1451 non-null object\n",
      "SalePrice        1451 non-null int64\n",
      "dtypes: float64(2), int64(35), object(34)\n",
      "memory usage: 816.2+ KB\n"
     ]
    }
   ],
   "source": [
    "base_df.info()"
   ]
  },
  {
   "cell_type": "code",
   "execution_count": 1755,
   "metadata": {},
   "outputs": [
    {
     "data": {
      "image/png": "[encoded data removed]",
      "text/plain": [
       "<Figure size 1080x504 with 1 Axes>"
      ]
     },
     "metadata": {
      "needs_background": "light"
     },
     "output_type": "display_data"
    }
   ],
   "source": [
    "#Analyzng Target Column - SalesPrice\n",
    "fig, axs = plt.subplots(1, figsize = (15,7))\n",
    "plt.ylabel('Frequency')\n",
    "plt.title('Sales Price Distribution Analysis')\n",
    "(mu, sigma) = norm.fit(base_df['SalePrice'])\n",
    "sns.distplot(base_df['SalePrice'])\n",
    "ax = sns.distplot(base_df['SalePrice'], fit=norm, kde=False)"
   ]
  },
  {
   "cell_type": "markdown",
   "metadata": {},
   "source": [
    "**From Above Graph, it can be seen that the Salesprice is not Normalized. We can transform the column using the Log Function.**"
   ]
  },
  {
   "cell_type": "code",
   "execution_count": 1756,
   "metadata": {},
   "outputs": [],
   "source": [
    "#Applying Log Transofrmation on Sales Price Column\n",
    "base_df[\"SalePrice\"] = np.log1p(base_df[\"SalePrice\"])"
   ]
  },
  {
   "cell_type": "code",
   "execution_count": 1757,
   "metadata": {},
   "outputs": [
    {
     "data": {
      "image/png": "[encoded data removed]",
      "text/plain": [
       "<Figure size 1080x504 with 1 Axes>"
      ]
     },
     "metadata": {
      "needs_background": "light"
     },
     "output_type": "display_data"
    }
   ],
   "source": [
    "#Analyzng Target Column - SalesPrice  Post Log Tansformation\n",
    "fig, axs = plt.subplots(1, figsize = (15,7))\n",
    "plt.ylabel('Frequency')\n",
    "plt.title('Sales Price Distribution Analysis')\n",
    "(mu, sigma) = norm.fit(base_df['SalePrice'])\n",
    "sns.distplot(base_df['SalePrice'])\n",
    "ax = sns.distplot(base_df['SalePrice'], fit=norm, kde=False)"
   ]
  },
  {
   "cell_type": "code",
   "execution_count": 1758,
   "metadata": {},
   "outputs": [],
   "source": [
    "#Data Conversions\n",
    "\n",
    "base_df['MSSubClass'] = base_df['MSSubClass'].apply(str)\n",
    "base_df['OverallCond'] = base_df['OverallCond'].astype(str)\n",
    "\n",
    "#Year and Month Sold,Year Built & YearRemodAdd can be Considered as Categorical Features\n",
    "base_df['YrSold'] = base_df['YrSold'].astype(str)\n",
    "base_df['MoSold'] = base_df['MoSold'].astype(str)\n",
    "base_df['YearBuilt'] = base_df['YearBuilt'].astype(str)\n",
    "base_df['YearRemodAdd'] = base_df['YearRemodAdd'].astype(str)"
   ]
  },
  {
   "cell_type": "code",
   "execution_count": 1759,
   "metadata": {},
   "outputs": [
    {
     "name": "stdout",
     "output_type": "stream",
     "text": [
      "<class 'pandas.core.frame.DataFrame'>\n",
      "Int64Index: 1451 entries, 0 to 1459\n",
      "Data columns (total 71 columns):\n",
      "Id               1451 non-null int64\n",
      "MSSubClass       1451 non-null object\n",
      "MSZoning         1451 non-null object\n",
      "LotFrontage      1451 non-null float64\n",
      "LotArea          1451 non-null int64\n",
      "Street           1451 non-null object\n",
      "LotShape         1451 non-null object\n",
      "LandContour      1451 non-null object\n",
      "Utilities        1451 non-null object\n",
      "LotConfig        1451 non-null object\n",
      "LandSlope        1451 non-null object\n",
      "Neighborhood     1451 non-null object\n",
      "Condition1       1451 non-null object\n",
      "Condition2       1451 non-null object\n",
      "BldgType         1451 non-null object\n",
      "HouseStyle       1451 non-null object\n",
      "OverallQual      1451 non-null int64\n",
      "OverallCond      1451 non-null object\n",
      "YearBuilt        1451 non-null object\n",
      "YearRemodAdd     1451 non-null object\n",
      "RoofStyle        1451 non-null object\n",
      "RoofMatl         1451 non-null object\n",
      "Exterior1st      1451 non-null object\n",
      "Exterior2nd      1451 non-null object\n",
      "MasVnrType       1451 non-null object\n",
      "MasVnrArea       1451 non-null float64\n",
      "ExterQual        1451 non-null object\n",
      "ExterCond        1451 non-null object\n",
      "Foundation       1451 non-null object\n",
      "BsmtQual         1451 non-null object\n",
      "BsmtFinType1     1451 non-null object\n",
      "BsmtFinSF1       1451 non-null int64\n",
      "BsmtFinSF2       1451 non-null int64\n",
      "BsmtUnfSF        1451 non-null int64\n",
      "TotalBsmtSF      1451 non-null int64\n",
      "Heating          1451 non-null object\n",
      "HeatingQC        1451 non-null object\n",
      "CentralAir       1451 non-null object\n",
      "Electrical       1451 non-null object\n",
      "1stFlrSF         1451 non-null int64\n",
      "2ndFlrSF         1451 non-null int64\n",
      "LowQualFinSF     1451 non-null int64\n",
      "GrLivArea        1451 non-null int64\n",
      "BsmtFullBath     1451 non-null int64\n",
      "BsmtHalfBath     1451 non-null int64\n",
      "FullBath         1451 non-null int64\n",
      "HalfBath         1451 non-null int64\n",
      "BedroomAbvGr     1451 non-null int64\n",
      "KitchenAbvGr     1451 non-null int64\n",
      "KitchenQual      1451 non-null object\n",
      "TotRmsAbvGrd     1451 non-null int64\n",
      "Functional       1451 non-null object\n",
      "Fireplaces       1451 non-null int64\n",
      "FireplaceQu      1451 non-null object\n",
      "GarageType       1451 non-null object\n",
      "GarageFinish     1451 non-null object\n",
      "GarageCars       1451 non-null int64\n",
      "GarageArea       1451 non-null int64\n",
      "PavedDrive       1451 non-null object\n",
      "WoodDeckSF       1451 non-null int64\n",
      "OpenPorchSF      1451 non-null int64\n",
      "EnclosedPorch    1451 non-null int64\n",
      "3SsnPorch        1451 non-null int64\n",
      "ScreenPorch      1451 non-null int64\n",
      "PoolArea         1451 non-null int64\n",
      "MiscVal          1451 non-null int64\n",
      "MoSold           1451 non-null object\n",
      "YrSold           1451 non-null object\n",
      "SaleType         1451 non-null object\n",
      "SaleCondition    1451 non-null object\n",
      "SalePrice        1451 non-null float64\n",
      "dtypes: float64(3), int64(28), object(40)\n",
      "memory usage: 816.2+ KB\n"
     ]
    }
   ],
   "source": [
    "base_df.info()"
   ]
  },
  {
   "cell_type": "code",
   "execution_count": 1760,
   "metadata": {},
   "outputs": [],
   "source": [
    "#Adding Feature Total Area, as sum (TotalBsmtSF,stFlrSF,2ndFlrSF,PoolArea,WoodDeckSF,OpenPorchSF,EnclosedPorch,3SsnPorch,ScreenPorch)\n",
    "base_df[\"Total_Area_SF\"]=base_df[\"TotalBsmtSF\"]+base_df[\"1stFlrSF\"]+base_df[\"PoolArea\"]+base_df[\"2ndFlrSF\"]+base_df[\"WoodDeckSF\"]+base_df[\"OpenPorchSF\"]+base_df[\"EnclosedPorch\"]+base_df[\"3SsnPorch\"]+base_df[\"ScreenPorch\"]"
   ]
  },
  {
   "cell_type": "code",
   "execution_count": 1761,
   "metadata": {},
   "outputs": [],
   "source": [
    "#Since we have added a Feature Total Area, we can drop the Base columns used to derive the same.\n",
    "base_df=base_df.drop(['TotalBsmtSF'],axis=1)\n",
    "base_df=base_df.drop(['1stFlrSF'],axis=1)\n",
    "base_df=base_df.drop(['2ndFlrSF'],axis=1)\n",
    "base_df=base_df.drop(['PoolArea'],axis=1)\n",
    "base_df=base_df.drop(['WoodDeckSF'],axis=1)\n",
    "base_df=base_df.drop(['OpenPorchSF'],axis=1)\n",
    "base_df=base_df.drop(['3SsnPorch'],axis=1)\n",
    "base_df=base_df.drop(['ScreenPorch'],axis=1)\n",
    "\n",
    "#BsmtFinSF1,BsmtFinSF2 & BsmtUnfSF can be dropped since we have total basement SF. These columns will only add to redundancy.\n",
    "base_df=base_df.drop(['BsmtFinSF1'],axis=1)\n",
    "base_df=base_df.drop(['BsmtFinSF2'],axis=1)\n",
    "base_df=base_df.drop(['BsmtUnfSF'],axis=1)"
   ]
  },
  {
   "cell_type": "code",
   "execution_count": 1762,
   "metadata": {},
   "outputs": [
    {
     "name": "stdout",
     "output_type": "stream",
     "text": [
      "<class 'pandas.core.frame.DataFrame'>\n",
      "Int64Index: 1451 entries, 0 to 1459\n",
      "Data columns (total 61 columns):\n",
      "Id               1451 non-null int64\n",
      "MSSubClass       1451 non-null object\n",
      "MSZoning         1451 non-null object\n",
      "LotFrontage      1451 non-null float64\n",
      "LotArea          1451 non-null int64\n",
      "Street           1451 non-null object\n",
      "LotShape         1451 non-null object\n",
      "LandContour      1451 non-null object\n",
      "Utilities        1451 non-null object\n",
      "LotConfig        1451 non-null object\n",
      "LandSlope        1451 non-null object\n",
      "Neighborhood     1451 non-null object\n",
      "Condition1       1451 non-null object\n",
      "Condition2       1451 non-null object\n",
      "BldgType         1451 non-null object\n",
      "HouseStyle       1451 non-null object\n",
      "OverallQual      1451 non-null int64\n",
      "OverallCond      1451 non-null object\n",
      "YearBuilt        1451 non-null object\n",
      "YearRemodAdd     1451 non-null object\n",
      "RoofStyle        1451 non-null object\n",
      "RoofMatl         1451 non-null object\n",
      "Exterior1st      1451 non-null object\n",
      "Exterior2nd      1451 non-null object\n",
      "MasVnrType       1451 non-null object\n",
      "MasVnrArea       1451 non-null float64\n",
      "ExterQual        1451 non-null object\n",
      "ExterCond        1451 non-null object\n",
      "Foundation       1451 non-null object\n",
      "BsmtQual         1451 non-null object\n",
      "BsmtFinType1     1451 non-null object\n",
      "Heating          1451 non-null object\n",
      "HeatingQC        1451 non-null object\n",
      "CentralAir       1451 non-null object\n",
      "Electrical       1451 non-null object\n",
      "LowQualFinSF     1451 non-null int64\n",
      "GrLivArea        1451 non-null int64\n",
      "BsmtFullBath     1451 non-null int64\n",
      "BsmtHalfBath     1451 non-null int64\n",
      "FullBath         1451 non-null int64\n",
      "HalfBath         1451 non-null int64\n",
      "BedroomAbvGr     1451 non-null int64\n",
      "KitchenAbvGr     1451 non-null int64\n",
      "KitchenQual      1451 non-null object\n",
      "TotRmsAbvGrd     1451 non-null int64\n",
      "Functional       1451 non-null object\n",
      "Fireplaces       1451 non-null int64\n",
      "FireplaceQu      1451 non-null object\n",
      "GarageType       1451 non-null object\n",
      "GarageFinish     1451 non-null object\n",
      "GarageCars       1451 non-null int64\n",
      "GarageArea       1451 non-null int64\n",
      "PavedDrive       1451 non-null object\n",
      "EnclosedPorch    1451 non-null int64\n",
      "MiscVal          1451 non-null int64\n",
      "MoSold           1451 non-null object\n",
      "YrSold           1451 non-null object\n",
      "SaleType         1451 non-null object\n",
      "SaleCondition    1451 non-null object\n",
      "SalePrice        1451 non-null float64\n",
      "Total_Area_SF    1451 non-null int64\n",
      "dtypes: float64(3), int64(18), object(40)\n",
      "memory usage: 702.8+ KB\n"
     ]
    }
   ],
   "source": [
    "base_df.info()"
   ]
  },
  {
   "cell_type": "code",
   "execution_count": 1763,
   "metadata": {},
   "outputs": [],
   "source": [
    "#Merge Features\n",
    "\n",
    "#In SaleType,Replace WD,CWD,VWD  with Waranty Deed\n",
    "base_df['SaleType'] = base_df['SaleType'].replace(['WD','CWD','VWD'], 'Waranty Deed')\n",
    "\n",
    "#In LotShape,Replace IR1,IR2,IR3  with Irregular\n",
    "base_df['LotShape'] = base_df['LotShape'].replace(['IR1','IR2','IR3'], 'Irregular')\n",
    "\n",
    "\n",
    "#In LotConfig,Replace FR2,FR3  with Frontage\n",
    "base_df['LotConfig'] = base_df['LotConfig'].replace(['FR2','FR3'], 'Frontage')\n",
    "\n",
    "\n",
    "#In MSZoning,Replace RH,RL,RP,RM  with Residential\n",
    "base_df['MSZoning'] = base_df['MSZoning'].replace(['RH','RL','RP','RM'], 'Frontage')"
   ]
  },
  {
   "cell_type": "markdown",
   "metadata": {},
   "source": [
    "**Data Preparation**"
   ]
  },
  {
   "cell_type": "code",
   "execution_count": 1764,
   "metadata": {},
   "outputs": [],
   "source": [
    "# Splitting Predictor, Target & ID Variable\n",
    "\n",
    "#ID\n",
    "data_id=base_df[\"Id\"]\n",
    "\n",
    "#Target\n",
    "Y=round(base_df[\"SalePrice\"],2)\n",
    "\n",
    "#Predictor \n",
    "\n",
    "X=base_df.loc[:, ['MSSubClass','MSZoning','LotFrontage','LotArea','Street','LotShape','LandContour','Utilities','LotConfig','LandSlope','Neighborhood','Condition1','Condition2','BldgType','HouseStyle','OverallQual','OverallCond','YearBuilt',\n",
    "'YearRemodAdd','RoofStyle','RoofMatl','Exterior1st','Exterior2nd','MasVnrType','MasVnrArea','ExterQual','ExterCond','Foundation','BsmtQual','BsmtFinType1','Heating','HeatingQC','CentralAir','Electrical',\n",
    "'LowQualFinSF','GrLivArea','BsmtFullBath','BsmtHalfBath','FullBath','HalfBath','BedroomAbvGr','KitchenAbvGr','KitchenQual','TotRmsAbvGrd','Functional','Fireplaces','FireplaceQu','GarageType','GarageFinish','GarageCars','GarageArea',\n",
    "'PavedDrive','EnclosedPorch','MiscVal','MoSold','YrSold','SaleType','SaleCondition','Total_Area_SF']]\n"
   ]
  },
  {
   "cell_type": "code",
   "execution_count": 1765,
   "metadata": {},
   "outputs": [
    {
     "data": {
      "text/html": [
       "<div>\n",
       "<style scoped>\n",
       "    .dataframe tbody tr th:only-of-type {\n",
       "        vertical-align: middle;\n",
       "    }\n",
       "\n",
       "    .dataframe tbody tr th {\n",
       "        vertical-align: top;\n",
       "    }\n",
       "\n",
       "    .dataframe thead th {\n",
       "        text-align: right;\n",
       "    }\n",
       "</style>\n",
       "<table border=\"1\" class=\"dataframe\">\n",
       "  <thead>\n",
       "    <tr style=\"text-align: right;\">\n",
       "      <th></th>\n",
       "      <th>MSSubClass_160</th>\n",
       "      <th>MSSubClass_180</th>\n",
       "      <th>MSSubClass_190</th>\n",
       "      <th>MSSubClass_20</th>\n",
       "      <th>MSSubClass_30</th>\n",
       "      <th>MSSubClass_40</th>\n",
       "      <th>MSSubClass_45</th>\n",
       "      <th>MSSubClass_50</th>\n",
       "      <th>MSSubClass_60</th>\n",
       "      <th>MSSubClass_70</th>\n",
       "      <th>...</th>\n",
       "      <th>SaleType_ConLI</th>\n",
       "      <th>SaleType_ConLw</th>\n",
       "      <th>SaleType_New</th>\n",
       "      <th>SaleType_Oth</th>\n",
       "      <th>SaleType_Waranty Deed</th>\n",
       "      <th>SaleCondition_AdjLand</th>\n",
       "      <th>SaleCondition_Alloca</th>\n",
       "      <th>SaleCondition_Family</th>\n",
       "      <th>SaleCondition_Normal</th>\n",
       "      <th>SaleCondition_Partial</th>\n",
       "    </tr>\n",
       "  </thead>\n",
       "  <tbody>\n",
       "    <tr>\n",
       "      <th>0</th>\n",
       "      <td>0</td>\n",
       "      <td>0</td>\n",
       "      <td>0</td>\n",
       "      <td>0</td>\n",
       "      <td>0</td>\n",
       "      <td>0</td>\n",
       "      <td>0</td>\n",
       "      <td>0</td>\n",
       "      <td>1</td>\n",
       "      <td>0</td>\n",
       "      <td>...</td>\n",
       "      <td>0</td>\n",
       "      <td>0</td>\n",
       "      <td>0</td>\n",
       "      <td>0</td>\n",
       "      <td>1</td>\n",
       "      <td>0</td>\n",
       "      <td>0</td>\n",
       "      <td>0</td>\n",
       "      <td>1</td>\n",
       "      <td>0</td>\n",
       "    </tr>\n",
       "    <tr>\n",
       "      <th>1</th>\n",
       "      <td>0</td>\n",
       "      <td>0</td>\n",
       "      <td>0</td>\n",
       "      <td>1</td>\n",
       "      <td>0</td>\n",
       "      <td>0</td>\n",
       "      <td>0</td>\n",
       "      <td>0</td>\n",
       "      <td>0</td>\n",
       "      <td>0</td>\n",
       "      <td>...</td>\n",
       "      <td>0</td>\n",
       "      <td>0</td>\n",
       "      <td>0</td>\n",
       "      <td>0</td>\n",
       "      <td>1</td>\n",
       "      <td>0</td>\n",
       "      <td>0</td>\n",
       "      <td>0</td>\n",
       "      <td>1</td>\n",
       "      <td>0</td>\n",
       "    </tr>\n",
       "    <tr>\n",
       "      <th>2</th>\n",
       "      <td>0</td>\n",
       "      <td>0</td>\n",
       "      <td>0</td>\n",
       "      <td>0</td>\n",
       "      <td>0</td>\n",
       "      <td>0</td>\n",
       "      <td>0</td>\n",
       "      <td>0</td>\n",
       "      <td>1</td>\n",
       "      <td>0</td>\n",
       "      <td>...</td>\n",
       "      <td>0</td>\n",
       "      <td>0</td>\n",
       "      <td>0</td>\n",
       "      <td>0</td>\n",
       "      <td>1</td>\n",
       "      <td>0</td>\n",
       "      <td>0</td>\n",
       "      <td>0</td>\n",
       "      <td>1</td>\n",
       "      <td>0</td>\n",
       "    </tr>\n",
       "    <tr>\n",
       "      <th>3</th>\n",
       "      <td>0</td>\n",
       "      <td>0</td>\n",
       "      <td>0</td>\n",
       "      <td>0</td>\n",
       "      <td>0</td>\n",
       "      <td>0</td>\n",
       "      <td>0</td>\n",
       "      <td>0</td>\n",
       "      <td>0</td>\n",
       "      <td>1</td>\n",
       "      <td>...</td>\n",
       "      <td>0</td>\n",
       "      <td>0</td>\n",
       "      <td>0</td>\n",
       "      <td>0</td>\n",
       "      <td>1</td>\n",
       "      <td>0</td>\n",
       "      <td>0</td>\n",
       "      <td>0</td>\n",
       "      <td>0</td>\n",
       "      <td>0</td>\n",
       "    </tr>\n",
       "    <tr>\n",
       "      <th>4</th>\n",
       "      <td>0</td>\n",
       "      <td>0</td>\n",
       "      <td>0</td>\n",
       "      <td>0</td>\n",
       "      <td>0</td>\n",
       "      <td>0</td>\n",
       "      <td>0</td>\n",
       "      <td>0</td>\n",
       "      <td>1</td>\n",
       "      <td>0</td>\n",
       "      <td>...</td>\n",
       "      <td>0</td>\n",
       "      <td>0</td>\n",
       "      <td>0</td>\n",
       "      <td>0</td>\n",
       "      <td>1</td>\n",
       "      <td>0</td>\n",
       "      <td>0</td>\n",
       "      <td>0</td>\n",
       "      <td>1</td>\n",
       "      <td>0</td>\n",
       "    </tr>\n",
       "  </tbody>\n",
       "</table>\n",
       "<p>5 rows × 388 columns</p>\n",
       "</div>"
      ],
      "text/plain": [
       "   MSSubClass_160  MSSubClass_180  MSSubClass_190  MSSubClass_20  \\\n",
       "0               0               0               0              0   \n",
       "1               0               0               0              1   \n",
       "2               0               0               0              0   \n",
       "3               0               0               0              0   \n",
       "4               0               0               0              0   \n",
       "\n",
       "   MSSubClass_30  MSSubClass_40  MSSubClass_45  MSSubClass_50  MSSubClass_60  \\\n",
       "0              0              0              0              0              1   \n",
       "1              0              0              0              0              0   \n",
       "2              0              0              0              0              1   \n",
       "3              0              0              0              0              0   \n",
       "4              0              0              0              0              1   \n",
       "\n",
       "   MSSubClass_70  ...  SaleType_ConLI  SaleType_ConLw  SaleType_New  \\\n",
       "0              0  ...               0               0             0   \n",
       "1              0  ...               0               0             0   \n",
       "2              0  ...               0               0             0   \n",
       "3              1  ...               0               0             0   \n",
       "4              0  ...               0               0             0   \n",
       "\n",
       "   SaleType_Oth  SaleType_Waranty Deed  SaleCondition_AdjLand  \\\n",
       "0             0                      1                      0   \n",
       "1             0                      1                      0   \n",
       "2             0                      1                      0   \n",
       "3             0                      1                      0   \n",
       "4             0                      1                      0   \n",
       "\n",
       "   SaleCondition_Alloca  SaleCondition_Family  SaleCondition_Normal  \\\n",
       "0                     0                     0                     1   \n",
       "1                     0                     0                     1   \n",
       "2                     0                     0                     1   \n",
       "3                     0                     0                     0   \n",
       "4                     0                     0                     1   \n",
       "\n",
       "   SaleCondition_Partial  \n",
       "0                      0  \n",
       "1                      0  \n",
       "2                      0  \n",
       "3                      0  \n",
       "4                      0  \n",
       "\n",
       "[5 rows x 388 columns]"
      ]
     },
     "execution_count": 1765,
     "metadata": {},
     "output_type": "execute_result"
    }
   ],
   "source": [
    "#Creating Dummies\n",
    "house_catg=X.select_dtypes(include=['object'])\n",
    "house_dummies = pd.get_dummies(house_catg, drop_first=True)\n",
    "house_dummies.head()"
   ]
  },
  {
   "cell_type": "code",
   "execution_count": 1766,
   "metadata": {},
   "outputs": [],
   "source": [
    "# drop categorical variables \n",
    "X = X.drop(list(house_catg.columns), axis=1)"
   ]
  },
  {
   "cell_type": "code",
   "execution_count": 1767,
   "metadata": {},
   "outputs": [],
   "source": [
    "# concat dummy variables with X\n",
    "X = pd.concat([X, house_dummies], axis=1)"
   ]
  },
  {
   "cell_type": "code",
   "execution_count": 1768,
   "metadata": {},
   "outputs": [
    {
     "data": {
      "text/html": [
       "<div>\n",
       "<style scoped>\n",
       "    .dataframe tbody tr th:only-of-type {\n",
       "        vertical-align: middle;\n",
       "    }\n",
       "\n",
       "    .dataframe tbody tr th {\n",
       "        vertical-align: top;\n",
       "    }\n",
       "\n",
       "    .dataframe thead th {\n",
       "        text-align: right;\n",
       "    }\n",
       "</style>\n",
       "<table border=\"1\" class=\"dataframe\">\n",
       "  <thead>\n",
       "    <tr style=\"text-align: right;\">\n",
       "      <th></th>\n",
       "      <th>LotFrontage</th>\n",
       "      <th>LotArea</th>\n",
       "      <th>OverallQual</th>\n",
       "      <th>MasVnrArea</th>\n",
       "      <th>LowQualFinSF</th>\n",
       "      <th>GrLivArea</th>\n",
       "      <th>BsmtFullBath</th>\n",
       "      <th>BsmtHalfBath</th>\n",
       "      <th>FullBath</th>\n",
       "      <th>HalfBath</th>\n",
       "      <th>...</th>\n",
       "      <th>SaleType_ConLI</th>\n",
       "      <th>SaleType_ConLw</th>\n",
       "      <th>SaleType_New</th>\n",
       "      <th>SaleType_Oth</th>\n",
       "      <th>SaleType_Waranty Deed</th>\n",
       "      <th>SaleCondition_AdjLand</th>\n",
       "      <th>SaleCondition_Alloca</th>\n",
       "      <th>SaleCondition_Family</th>\n",
       "      <th>SaleCondition_Normal</th>\n",
       "      <th>SaleCondition_Partial</th>\n",
       "    </tr>\n",
       "  </thead>\n",
       "  <tbody>\n",
       "    <tr>\n",
       "      <th>0</th>\n",
       "      <td>65.0</td>\n",
       "      <td>8450</td>\n",
       "      <td>7</td>\n",
       "      <td>196.0</td>\n",
       "      <td>0</td>\n",
       "      <td>1710</td>\n",
       "      <td>1</td>\n",
       "      <td>0</td>\n",
       "      <td>2</td>\n",
       "      <td>1</td>\n",
       "      <td>...</td>\n",
       "      <td>0</td>\n",
       "      <td>0</td>\n",
       "      <td>0</td>\n",
       "      <td>0</td>\n",
       "      <td>1</td>\n",
       "      <td>0</td>\n",
       "      <td>0</td>\n",
       "      <td>0</td>\n",
       "      <td>1</td>\n",
       "      <td>0</td>\n",
       "    </tr>\n",
       "    <tr>\n",
       "      <th>1</th>\n",
       "      <td>80.0</td>\n",
       "      <td>9600</td>\n",
       "      <td>6</td>\n",
       "      <td>0.0</td>\n",
       "      <td>0</td>\n",
       "      <td>1262</td>\n",
       "      <td>0</td>\n",
       "      <td>1</td>\n",
       "      <td>2</td>\n",
       "      <td>0</td>\n",
       "      <td>...</td>\n",
       "      <td>0</td>\n",
       "      <td>0</td>\n",
       "      <td>0</td>\n",
       "      <td>0</td>\n",
       "      <td>1</td>\n",
       "      <td>0</td>\n",
       "      <td>0</td>\n",
       "      <td>0</td>\n",
       "      <td>1</td>\n",
       "      <td>0</td>\n",
       "    </tr>\n",
       "    <tr>\n",
       "      <th>2</th>\n",
       "      <td>68.0</td>\n",
       "      <td>11250</td>\n",
       "      <td>7</td>\n",
       "      <td>162.0</td>\n",
       "      <td>0</td>\n",
       "      <td>1786</td>\n",
       "      <td>1</td>\n",
       "      <td>0</td>\n",
       "      <td>2</td>\n",
       "      <td>1</td>\n",
       "      <td>...</td>\n",
       "      <td>0</td>\n",
       "      <td>0</td>\n",
       "      <td>0</td>\n",
       "      <td>0</td>\n",
       "      <td>1</td>\n",
       "      <td>0</td>\n",
       "      <td>0</td>\n",
       "      <td>0</td>\n",
       "      <td>1</td>\n",
       "      <td>0</td>\n",
       "    </tr>\n",
       "    <tr>\n",
       "      <th>3</th>\n",
       "      <td>60.0</td>\n",
       "      <td>9550</td>\n",
       "      <td>7</td>\n",
       "      <td>0.0</td>\n",
       "      <td>0</td>\n",
       "      <td>1717</td>\n",
       "      <td>1</td>\n",
       "      <td>0</td>\n",
       "      <td>1</td>\n",
       "      <td>0</td>\n",
       "      <td>...</td>\n",
       "      <td>0</td>\n",
       "      <td>0</td>\n",
       "      <td>0</td>\n",
       "      <td>0</td>\n",
       "      <td>1</td>\n",
       "      <td>0</td>\n",
       "      <td>0</td>\n",
       "      <td>0</td>\n",
       "      <td>0</td>\n",
       "      <td>0</td>\n",
       "    </tr>\n",
       "    <tr>\n",
       "      <th>4</th>\n",
       "      <td>84.0</td>\n",
       "      <td>14260</td>\n",
       "      <td>8</td>\n",
       "      <td>350.0</td>\n",
       "      <td>0</td>\n",
       "      <td>2198</td>\n",
       "      <td>1</td>\n",
       "      <td>0</td>\n",
       "      <td>2</td>\n",
       "      <td>1</td>\n",
       "      <td>...</td>\n",
       "      <td>0</td>\n",
       "      <td>0</td>\n",
       "      <td>0</td>\n",
       "      <td>0</td>\n",
       "      <td>1</td>\n",
       "      <td>0</td>\n",
       "      <td>0</td>\n",
       "      <td>0</td>\n",
       "      <td>1</td>\n",
       "      <td>0</td>\n",
       "    </tr>\n",
       "  </tbody>\n",
       "</table>\n",
       "<p>5 rows × 407 columns</p>\n",
       "</div>"
      ],
      "text/plain": [
       "   LotFrontage  LotArea  OverallQual  MasVnrArea  LowQualFinSF  GrLivArea  \\\n",
       "0         65.0     8450            7       196.0             0       1710   \n",
       "1         80.0     9600            6         0.0             0       1262   \n",
       "2         68.0    11250            7       162.0             0       1786   \n",
       "3         60.0     9550            7         0.0             0       1717   \n",
       "4         84.0    14260            8       350.0             0       2198   \n",
       "\n",
       "   BsmtFullBath  BsmtHalfBath  FullBath  HalfBath  ...  SaleType_ConLI  \\\n",
       "0             1             0         2         1  ...               0   \n",
       "1             0             1         2         0  ...               0   \n",
       "2             1             0         2         1  ...               0   \n",
       "3             1             0         1         0  ...               0   \n",
       "4             1             0         2         1  ...               0   \n",
       "\n",
       "   SaleType_ConLw  SaleType_New  SaleType_Oth  SaleType_Waranty Deed  \\\n",
       "0               0             0             0                      1   \n",
       "1               0             0             0                      1   \n",
       "2               0             0             0                      1   \n",
       "3               0             0             0                      1   \n",
       "4               0             0             0                      1   \n",
       "\n",
       "   SaleCondition_AdjLand  SaleCondition_Alloca  SaleCondition_Family  \\\n",
       "0                      0                     0                     0   \n",
       "1                      0                     0                     0   \n",
       "2                      0                     0                     0   \n",
       "3                      0                     0                     0   \n",
       "4                      0                     0                     0   \n",
       "\n",
       "   SaleCondition_Normal  SaleCondition_Partial  \n",
       "0                     1                      0  \n",
       "1                     1                      0  \n",
       "2                     1                      0  \n",
       "3                     0                      0  \n",
       "4                     1                      0  \n",
       "\n",
       "[5 rows x 407 columns]"
      ]
     },
     "execution_count": 1768,
     "metadata": {},
     "output_type": "execute_result"
    }
   ],
   "source": [
    "X.head()"
   ]
  },
  {
   "cell_type": "code",
   "execution_count": 1769,
   "metadata": {},
   "outputs": [
    {
     "data": {
      "text/plain": [
       "Index(['LotFrontage', 'LotArea', 'OverallQual', 'MasVnrArea', 'LowQualFinSF',\n",
       "       'GrLivArea', 'BsmtFullBath', 'BsmtHalfBath', 'FullBath', 'HalfBath',\n",
       "       ...\n",
       "       'SaleType_ConLI', 'SaleType_ConLw', 'SaleType_New', 'SaleType_Oth',\n",
       "       'SaleType_Waranty Deed', 'SaleCondition_AdjLand',\n",
       "       'SaleCondition_Alloca', 'SaleCondition_Family', 'SaleCondition_Normal',\n",
       "       'SaleCondition_Partial'],\n",
       "      dtype='object', length=407)"
      ]
     },
     "execution_count": 1769,
     "metadata": {},
     "output_type": "execute_result"
    }
   ],
   "source": [
    "#Scaling the Numeric Columns\n",
    "cols = X.columns\n",
    "X = pd.DataFrame(scale(X))\n",
    "X.columns = cols\n",
    "X.columns"
   ]
  },
  {
   "cell_type": "code",
   "execution_count": 1770,
   "metadata": {},
   "outputs": [],
   "source": [
    "#Train / Test Split\n",
    "X_train, X_test, y_train, y_test = train_test_split(X, Y,train_size=0.7,test_size = 0.3, random_state=100)"
   ]
  },
  {
   "cell_type": "markdown",
   "metadata": {},
   "source": [
    "**Ridge Regression**"
   ]
  },
  {
   "cell_type": "code",
   "execution_count": 1771,
   "metadata": {},
   "outputs": [
    {
     "name": "stdout",
     "output_type": "stream",
     "text": [
      "Fitting 5 folds for each of 28 candidates, totalling 140 fits\n"
     ]
    },
    {
     "name": "stderr",
     "output_type": "stream",
     "text": [
      "[Parallel(n_jobs=1)]: Using backend SequentialBackend with 1 concurrent workers.\n",
      "[Parallel(n_jobs=1)]: Done 140 out of 140 | elapsed:    5.2s finished\n"
     ]
    },
    {
     "data": {
      "text/plain": [
       "GridSearchCV(cv=5, error_score='raise-deprecating',\n",
       "             estimator=Ridge(alpha=1.0, copy_X=True, fit_intercept=True,\n",
       "                             max_iter=None, normalize=False, random_state=None,\n",
       "                             solver='auto', tol=0.001),\n",
       "             iid='warn', n_jobs=None,\n",
       "             param_grid={'alpha': [0.0001, 0.001, 0.01, 0.05, 0.1, 0.2, 0.3,\n",
       "                                   0.4, 0.5, 0.6, 0.7, 0.8, 0.9, 1.0, 2.0, 3.0,\n",
       "                                   4.0, 5.0, 6.0, 7.0, 8.0, 9.0, 10.0, 20, 50,\n",
       "                                   100, 500, 1000]},\n",
       "             pre_dispatch='2*n_jobs', refit=True, return_train_score=True,\n",
       "             scoring='neg_mean_absolute_error', verbose=1)"
      ]
     },
     "execution_count": 1771,
     "metadata": {},
     "output_type": "execute_result"
    }
   ],
   "source": [
    "params = {'alpha': [0.0001, 0.001, 0.01, 0.05, 0.1, \n",
    " 0.2, 0.3, 0.4, 0.5, 0.6, 0.7, 0.8, 0.9, 1.0, 2.0, 3.0, \n",
    " 4.0, 5.0, 6.0, 7.0, 8.0, 9.0, 10.0, 20, 50, 100, 500, 1000 ]}\n",
    "\n",
    "\n",
    "ridge = Ridge()\n",
    "\n",
    "# cross validation\n",
    "folds = 5\n",
    "model_cv = GridSearchCV(estimator = ridge, \n",
    "                        param_grid = params, \n",
    "                        scoring= 'neg_mean_absolute_error', \n",
    "                        cv = folds, \n",
    "                        return_train_score=True,\n",
    "                        verbose = 1)            \n",
    "model_cv.fit(X_train, y_train) "
   ]
  },
  {
   "cell_type": "code",
   "execution_count": 1772,
   "metadata": {},
   "outputs": [
    {
     "data": {
      "text/html": [
       "<div>\n",
       "<style scoped>\n",
       "    .dataframe tbody tr th:only-of-type {\n",
       "        vertical-align: middle;\n",
       "    }\n",
       "\n",
       "    .dataframe tbody tr th {\n",
       "        vertical-align: top;\n",
       "    }\n",
       "\n",
       "    .dataframe thead th {\n",
       "        text-align: right;\n",
       "    }\n",
       "</style>\n",
       "<table border=\"1\" class=\"dataframe\">\n",
       "  <thead>\n",
       "    <tr style=\"text-align: right;\">\n",
       "      <th></th>\n",
       "      <th>mean_fit_time</th>\n",
       "      <th>std_fit_time</th>\n",
       "      <th>mean_score_time</th>\n",
       "      <th>std_score_time</th>\n",
       "      <th>param_alpha</th>\n",
       "      <th>params</th>\n",
       "      <th>split0_test_score</th>\n",
       "      <th>split1_test_score</th>\n",
       "      <th>split2_test_score</th>\n",
       "      <th>split3_test_score</th>\n",
       "      <th>...</th>\n",
       "      <th>mean_test_score</th>\n",
       "      <th>std_test_score</th>\n",
       "      <th>rank_test_score</th>\n",
       "      <th>split0_train_score</th>\n",
       "      <th>split1_train_score</th>\n",
       "      <th>split2_train_score</th>\n",
       "      <th>split3_train_score</th>\n",
       "      <th>split4_train_score</th>\n",
       "      <th>mean_train_score</th>\n",
       "      <th>std_train_score</th>\n",
       "    </tr>\n",
       "  </thead>\n",
       "  <tbody>\n",
       "    <tr>\n",
       "      <th>0</th>\n",
       "      <td>0.037287</td>\n",
       "      <td>0.021423</td>\n",
       "      <td>0.003789</td>\n",
       "      <td>0.002630</td>\n",
       "      <td>0.0001</td>\n",
       "      <td>{'alpha': 0.0001}</td>\n",
       "      <td>-0.136234</td>\n",
       "      <td>-0.106575</td>\n",
       "      <td>-0.128813</td>\n",
       "      <td>-0.144651</td>\n",
       "      <td>...</td>\n",
       "      <td>-0.125281</td>\n",
       "      <td>0.014745</td>\n",
       "      <td>28</td>\n",
       "      <td>-0.047256</td>\n",
       "      <td>-0.050640</td>\n",
       "      <td>-0.047430</td>\n",
       "      <td>-0.050048</td>\n",
       "      <td>-0.049544</td>\n",
       "      <td>-0.048984</td>\n",
       "      <td>0.001385</td>\n",
       "    </tr>\n",
       "    <tr>\n",
       "      <th>1</th>\n",
       "      <td>0.021930</td>\n",
       "      <td>0.001418</td>\n",
       "      <td>0.002400</td>\n",
       "      <td>0.000802</td>\n",
       "      <td>0.001</td>\n",
       "      <td>{'alpha': 0.001}</td>\n",
       "      <td>-0.136219</td>\n",
       "      <td>-0.106574</td>\n",
       "      <td>-0.128807</td>\n",
       "      <td>-0.144634</td>\n",
       "      <td>...</td>\n",
       "      <td>-0.125272</td>\n",
       "      <td>0.014739</td>\n",
       "      <td>27</td>\n",
       "      <td>-0.047257</td>\n",
       "      <td>-0.050640</td>\n",
       "      <td>-0.047430</td>\n",
       "      <td>-0.050048</td>\n",
       "      <td>-0.049544</td>\n",
       "      <td>-0.048984</td>\n",
       "      <td>0.001385</td>\n",
       "    </tr>\n",
       "    <tr>\n",
       "      <th>2</th>\n",
       "      <td>0.040555</td>\n",
       "      <td>0.007883</td>\n",
       "      <td>0.002507</td>\n",
       "      <td>0.000582</td>\n",
       "      <td>0.01</td>\n",
       "      <td>{'alpha': 0.01}</td>\n",
       "      <td>-0.136074</td>\n",
       "      <td>-0.106560</td>\n",
       "      <td>-0.128751</td>\n",
       "      <td>-0.144462</td>\n",
       "      <td>...</td>\n",
       "      <td>-0.125189</td>\n",
       "      <td>0.014680</td>\n",
       "      <td>26</td>\n",
       "      <td>-0.047257</td>\n",
       "      <td>-0.050641</td>\n",
       "      <td>-0.047430</td>\n",
       "      <td>-0.050048</td>\n",
       "      <td>-0.049547</td>\n",
       "      <td>-0.048985</td>\n",
       "      <td>0.001385</td>\n",
       "    </tr>\n",
       "    <tr>\n",
       "      <th>3</th>\n",
       "      <td>0.035274</td>\n",
       "      <td>0.006315</td>\n",
       "      <td>0.003015</td>\n",
       "      <td>0.000026</td>\n",
       "      <td>0.05</td>\n",
       "      <td>{'alpha': 0.05}</td>\n",
       "      <td>-0.135510</td>\n",
       "      <td>-0.106549</td>\n",
       "      <td>-0.128502</td>\n",
       "      <td>-0.143701</td>\n",
       "      <td>...</td>\n",
       "      <td>-0.124845</td>\n",
       "      <td>0.014415</td>\n",
       "      <td>25</td>\n",
       "      <td>-0.047265</td>\n",
       "      <td>-0.050646</td>\n",
       "      <td>-0.047429</td>\n",
       "      <td>-0.050050</td>\n",
       "      <td>-0.049562</td>\n",
       "      <td>-0.048991</td>\n",
       "      <td>0.001386</td>\n",
       "    </tr>\n",
       "    <tr>\n",
       "      <th>4</th>\n",
       "      <td>0.052860</td>\n",
       "      <td>0.029552</td>\n",
       "      <td>0.004787</td>\n",
       "      <td>0.002130</td>\n",
       "      <td>0.1</td>\n",
       "      <td>{'alpha': 0.1}</td>\n",
       "      <td>-0.134928</td>\n",
       "      <td>-0.106540</td>\n",
       "      <td>-0.128199</td>\n",
       "      <td>-0.142770</td>\n",
       "      <td>...</td>\n",
       "      <td>-0.124446</td>\n",
       "      <td>0.014107</td>\n",
       "      <td>24</td>\n",
       "      <td>-0.047274</td>\n",
       "      <td>-0.050657</td>\n",
       "      <td>-0.047431</td>\n",
       "      <td>-0.050063</td>\n",
       "      <td>-0.049583</td>\n",
       "      <td>-0.049002</td>\n",
       "      <td>0.001390</td>\n",
       "    </tr>\n",
       "  </tbody>\n",
       "</table>\n",
       "<p>5 rows × 21 columns</p>\n",
       "</div>"
      ],
      "text/plain": [
       "   mean_fit_time  std_fit_time  mean_score_time  std_score_time param_alpha  \\\n",
       "0       0.037287      0.021423         0.003789        0.002630      0.0001   \n",
       "1       0.021930      0.001418         0.002400        0.000802       0.001   \n",
       "2       0.040555      0.007883         0.002507        0.000582        0.01   \n",
       "3       0.035274      0.006315         0.003015        0.000026        0.05   \n",
       "4       0.052860      0.029552         0.004787        0.002130         0.1   \n",
       "\n",
       "              params  split0_test_score  split1_test_score  split2_test_score  \\\n",
       "0  {'alpha': 0.0001}          -0.136234          -0.106575          -0.128813   \n",
       "1   {'alpha': 0.001}          -0.136219          -0.106574          -0.128807   \n",
       "2    {'alpha': 0.01}          -0.136074          -0.106560          -0.128751   \n",
       "3    {'alpha': 0.05}          -0.135510          -0.106549          -0.128502   \n",
       "4     {'alpha': 0.1}          -0.134928          -0.106540          -0.128199   \n",
       "\n",
       "   split3_test_score  ...  mean_test_score  std_test_score  rank_test_score  \\\n",
       "0          -0.144651  ...        -0.125281        0.014745               28   \n",
       "1          -0.144634  ...        -0.125272        0.014739               27   \n",
       "2          -0.144462  ...        -0.125189        0.014680               26   \n",
       "3          -0.143701  ...        -0.124845        0.014415               25   \n",
       "4          -0.142770  ...        -0.124446        0.014107               24   \n",
       "\n",
       "   split0_train_score  split1_train_score  split2_train_score  \\\n",
       "0           -0.047256           -0.050640           -0.047430   \n",
       "1           -0.047257           -0.050640           -0.047430   \n",
       "2           -0.047257           -0.050641           -0.047430   \n",
       "3           -0.047265           -0.050646           -0.047429   \n",
       "4           -0.047274           -0.050657           -0.047431   \n",
       "\n",
       "   split3_train_score  split4_train_score  mean_train_score  std_train_score  \n",
       "0           -0.050048           -0.049544         -0.048984         0.001385  \n",
       "1           -0.050048           -0.049544         -0.048984         0.001385  \n",
       "2           -0.050048           -0.049547         -0.048985         0.001385  \n",
       "3           -0.050050           -0.049562         -0.048991         0.001386  \n",
       "4           -0.050063           -0.049583         -0.049002         0.001390  \n",
       "\n",
       "[5 rows x 21 columns]"
      ]
     },
     "execution_count": 1772,
     "metadata": {},
     "output_type": "execute_result"
    }
   ],
   "source": [
    "cv_results = pd.DataFrame(model_cv.cv_results_)\n",
    "cv_results = cv_results[cv_results['param_alpha']<=1000]\n",
    "cv_results.head()"
   ]
  },
  {
   "cell_type": "code",
   "execution_count": 1773,
   "metadata": {},
   "outputs": [
    {
     "data": {
      "image/png": "[encoded data removed]",
      "text/plain": [
       "<Figure size 432x288 with 1 Axes>"
      ]
     },
     "metadata": {
      "needs_background": "light"
     },
     "output_type": "display_data"
    }
   ],
   "source": [
    "# plotting mean test and train scoes with alpha \n",
    "cv_results['param_alpha'] = cv_results['param_alpha'].astype('int32')\n",
    "\n",
    "# plotting\n",
    "plt.plot(cv_results['param_alpha'], cv_results['mean_train_score'])\n",
    "plt.plot(cv_results['param_alpha'], cv_results['mean_test_score'])\n",
    "plt.xlabel('alpha')\n",
    "plt.ylabel('Negative Mean Absolute Error')\n",
    "plt.title(\"Negative Mean Absolute Error and alpha\")\n",
    "plt.legend(['train score', 'test score'], loc='upper left')\n",
    "plt.show()"
   ]
  },
  {
   "cell_type": "code",
   "execution_count": 1774,
   "metadata": {},
   "outputs": [
    {
     "data": {
      "text/plain": [
       "{'alpha': 500}"
      ]
     },
     "execution_count": 1774,
     "metadata": {},
     "output_type": "execute_result"
    }
   ],
   "source": [
    "#Optimal Alpha\n",
    "model_cv.best_params_"
   ]
  },
  {
   "cell_type": "code",
   "execution_count": 1775,
   "metadata": {},
   "outputs": [
    {
     "data": {
      "text/plain": [
       "-0.1024006149322474"
      ]
     },
     "execution_count": 1775,
     "metadata": {},
     "output_type": "execute_result"
    }
   ],
   "source": [
    "model_cv.best_score_"
   ]
  },
  {
   "cell_type": "code",
   "execution_count": 1776,
   "metadata": {},
   "outputs": [
    {
     "data": {
      "text/plain": [
       "Ridge(alpha=500, copy_X=True, fit_intercept=True, max_iter=None,\n",
       "      normalize=False, random_state=None, solver='auto', tol=0.001)"
      ]
     },
     "execution_count": 1776,
     "metadata": {},
     "output_type": "execute_result"
    }
   ],
   "source": [
    "model_cv.best_estimator_"
   ]
  },
  {
   "cell_type": "code",
   "execution_count": 1777,
   "metadata": {},
   "outputs": [
    {
     "data": {
      "text/plain": [
       "Ridge(alpha=500, copy_X=True, fit_intercept=True, max_iter=None,\n",
       "      normalize=False, random_state=None, solver='auto', tol=0.001)"
      ]
     },
     "execution_count": 1777,
     "metadata": {},
     "output_type": "execute_result"
    }
   ],
   "source": [
    "#Co-efficient List\n",
    "alpha = 500\n",
    "ridge = Ridge(alpha=alpha)\n",
    "ridge.fit(X_train, y_train)\n",
    "#ridge.coef_"
   ]
  },
  {
   "cell_type": "code",
   "execution_count": 1778,
   "metadata": {},
   "outputs": [],
   "source": [
    "#Assigning Ridge co-efficients\n",
    "coef = pd.Series(ridge.coef_, index = X_train.columns)\n"
   ]
  },
  {
   "cell_type": "code",
   "execution_count": 1779,
   "metadata": {},
   "outputs": [
    {
     "data": {
      "text/plain": [
       "Text(0.5, 1.0, 'Predictors in the Ridge Model')"
      ]
     },
     "execution_count": 1779,
     "metadata": {},
     "output_type": "execute_result"
    },
    {
     "data": {
      "image/png": "[encoded data removed]",
      "text/plain": [
       "<Figure size 576x720 with 1 Axes>"
      ]
     },
     "metadata": {
      "needs_background": "light"
     },
     "output_type": "display_data"
    }
   ],
   "source": [
    "# Top & Bottom 10 Co-efficients\n",
    "\n",
    "imp_coef = pd.concat([coef.sort_values().head(10),\n",
    "                     coef.sort_values().tail(10)])\n",
    "plt.rcParams['figure.figsize'] = (8.0, 10.0)\n",
    "imp_coef.plot(kind = \"barh\")\n",
    "plt.title(\"Predictors in the Ridge Model\")"
   ]
  },
  {
   "cell_type": "code",
   "execution_count": 1780,
   "metadata": {},
   "outputs": [
    {
     "name": "stdout",
     "output_type": "stream",
     "text": [
      "Root Mean Squared Error [Train]- 0.11338881148450287\n",
      "0.11338881148450287\n",
      "R2 Score [Train]- 91.97771817120322\n"
     ]
    }
   ],
   "source": [
    "#Ridge Scores\n",
    "ridge_sc = Ridge(alpha=500)\n",
    "\n",
    "#Train DaTa\n",
    "ridge_sc.fit(X_train, y_train) \n",
    "pred_train_rr= ridge_sc.predict(X_train)\n",
    "print('Root Mean Squared Error [Train]- ',end='')\n",
    "print(np.sqrt(mean_squared_error(y_train,pred_train_rr)))\n",
    "print(np.sqrt(mean_squared_error(y_train,pred_train_rr)))\n",
    "print('R2 Score [Train]- ',end='')\n",
    "print(r2_score(y_train, pred_train_rr)*100)\n"
   ]
  },
  {
   "cell_type": "markdown",
   "metadata": {},
   "source": [
    "**Doubling the Alpha Values- Start**"
   ]
  },
  {
   "cell_type": "code",
   "execution_count": 1781,
   "metadata": {},
   "outputs": [
    {
     "data": {
      "text/plain": [
       "Ridge(alpha=1000, copy_X=True, fit_intercept=True, max_iter=None,\n",
       "      normalize=False, random_state=None, solver='auto', tol=0.001)"
      ]
     },
     "execution_count": 1781,
     "metadata": {},
     "output_type": "execute_result"
    }
   ],
   "source": [
    "#Co-efficient List\n",
    "alpha = 1000 # Increasing value to 1000 from 500\n",
    "ridge = Ridge(alpha=alpha)\n",
    "ridge.fit(X_train, y_train)\n"
   ]
  },
  {
   "cell_type": "code",
   "execution_count": 1782,
   "metadata": {},
   "outputs": [],
   "source": [
    "#Assigning Ridge co-efficients\n",
    "coef = pd.Series(ridge.coef_, index = X_train.columns)"
   ]
  },
  {
   "cell_type": "code",
   "execution_count": 1783,
   "metadata": {},
   "outputs": [
    {
     "data": {
      "text/plain": [
       "Text(0.5, 1.0, 'Predictors in the Ridge Model - After Doubling the Alpha Value')"
      ]
     },
     "execution_count": 1783,
     "metadata": {},
     "output_type": "execute_result"
    },
    {
     "data": {
      "image/png": "[encoded data removed]",
      "text/plain": [
       "<Figure size 576x720 with 1 Axes>"
      ]
     },
     "metadata": {
      "needs_background": "light"
     },
     "output_type": "display_data"
    }
   ],
   "source": [
    "# Top & Bottom 10 Co-efficients\n",
    "\n",
    "imp_coef = pd.concat([coef.sort_values().head(10),\n",
    "                     coef.sort_values().tail(10)])\n",
    "plt.rcParams['figure.figsize'] = (8.0, 10.0)\n",
    "imp_coef.plot(kind = \"barh\")\n",
    "plt.title(\"Predictors in the Ridge Model - After Doubling the Alpha Value\")"
   ]
  },
  {
   "cell_type": "code",
   "execution_count": 1784,
   "metadata": {},
   "outputs": [
    {
     "name": "stdout",
     "output_type": "stream",
     "text": [
      "Root Mean Squared Error [Train]- 0.1260900281848026\n",
      "R2 Score [Train]- 90.07983279388677\n"
     ]
    }
   ],
   "source": [
    "#Ridge Scores\n",
    "ridge_sc = Ridge(alpha=1000) #Changed Value to 1000\n",
    "\n",
    "#Train DaTa\n",
    "ridge_sc.fit(X_train, y_train) \n",
    "pred_train_rr= ridge_sc.predict(X_train)\n",
    "print('Root Mean Squared Error [Train]- ',end='')\n",
    "print(np.sqrt(mean_squared_error(y_train,pred_train_rr)))\n",
    "print('R2 Score [Train]- ',end='')\n",
    "print(r2_score(y_train, pred_train_rr)*100)"
   ]
  },
  {
   "cell_type": "markdown",
   "metadata": {},
   "source": [
    "**Doubling the Alpha Values- End**"
   ]
  },
  {
   "cell_type": "markdown",
   "metadata": {},
   "source": [
    "**Removing Top 5 Predictor Variables Start**"
   ]
  },
  {
   "cell_type": "code",
   "execution_count": 1785,
   "metadata": {},
   "outputs": [],
   "source": [
    "#Dropping Top 5 Predictor Variables\n",
    "X_train_new=X_train.drop(['OverallQual','Total_Area_SF','GrLivArea','GarageCars','TotRmsAbvGrd'],axis=1)"
   ]
  },
  {
   "cell_type": "code",
   "execution_count": 1786,
   "metadata": {},
   "outputs": [
    {
     "name": "stdout",
     "output_type": "stream",
     "text": [
      "Fitting 5 folds for each of 28 candidates, totalling 140 fits\n"
     ]
    },
    {
     "name": "stderr",
     "output_type": "stream",
     "text": [
      "[Parallel(n_jobs=1)]: Using backend SequentialBackend with 1 concurrent workers.\n",
      "[Parallel(n_jobs=1)]: Done 140 out of 140 | elapsed:    4.8s finished\n"
     ]
    },
    {
     "data": {
      "text/plain": [
       "GridSearchCV(cv=5, error_score='raise-deprecating',\n",
       "             estimator=Ridge(alpha=1.0, copy_X=True, fit_intercept=True,\n",
       "                             max_iter=None, normalize=False, random_state=None,\n",
       "                             solver='auto', tol=0.001),\n",
       "             iid='warn', n_jobs=None,\n",
       "             param_grid={'alpha': [0.0001, 0.001, 0.01, 0.05, 0.1, 0.2, 0.3,\n",
       "                                   0.4, 0.5, 0.6, 0.7, 0.8, 0.9, 1.0, 2.0, 3.0,\n",
       "                                   4.0, 5.0, 6.0, 7.0, 8.0, 9.0, 10.0, 20, 50,\n",
       "                                   100, 500, 1000]},\n",
       "             pre_dispatch='2*n_jobs', refit=True, return_train_score=True,\n",
       "             scoring='neg_mean_absolute_error', verbose=1)"
      ]
     },
     "execution_count": 1786,
     "metadata": {},
     "output_type": "execute_result"
    }
   ],
   "source": [
    "#Remodelling After Dropping Top 5 Columns\n",
    "params = {'alpha': [0.0001, 0.001, 0.01, 0.05, 0.1, \n",
    " 0.2, 0.3, 0.4, 0.5, 0.6, 0.7, 0.8, 0.9, 1.0, 2.0, 3.0, \n",
    " 4.0, 5.0, 6.0, 7.0, 8.0, 9.0, 10.0, 20, 50, 100, 500, 1000 ]}\n",
    "\n",
    "\n",
    "ridge = Ridge()\n",
    "\n",
    "# cross validation\n",
    "folds = 5\n",
    "model_cv = GridSearchCV(estimator = ridge, \n",
    "                        param_grid = params, \n",
    "                        scoring= 'neg_mean_absolute_error', \n",
    "                        cv = folds, \n",
    "                        return_train_score=True,\n",
    "                        verbose = 1)            \n",
    "model_cv.fit(X_train_new, y_train) "
   ]
  },
  {
   "cell_type": "code",
   "execution_count": 1787,
   "metadata": {},
   "outputs": [
    {
     "data": {
      "text/html": [
       "<div>\n",
       "<style scoped>\n",
       "    .dataframe tbody tr th:only-of-type {\n",
       "        vertical-align: middle;\n",
       "    }\n",
       "\n",
       "    .dataframe tbody tr th {\n",
       "        vertical-align: top;\n",
       "    }\n",
       "\n",
       "    .dataframe thead th {\n",
       "        text-align: right;\n",
       "    }\n",
       "</style>\n",
       "<table border=\"1\" class=\"dataframe\">\n",
       "  <thead>\n",
       "    <tr style=\"text-align: right;\">\n",
       "      <th></th>\n",
       "      <th>mean_fit_time</th>\n",
       "      <th>std_fit_time</th>\n",
       "      <th>mean_score_time</th>\n",
       "      <th>std_score_time</th>\n",
       "      <th>param_alpha</th>\n",
       "      <th>params</th>\n",
       "      <th>split0_test_score</th>\n",
       "      <th>split1_test_score</th>\n",
       "      <th>split2_test_score</th>\n",
       "      <th>split3_test_score</th>\n",
       "      <th>...</th>\n",
       "      <th>mean_test_score</th>\n",
       "      <th>std_test_score</th>\n",
       "      <th>rank_test_score</th>\n",
       "      <th>split0_train_score</th>\n",
       "      <th>split1_train_score</th>\n",
       "      <th>split2_train_score</th>\n",
       "      <th>split3_train_score</th>\n",
       "      <th>split4_train_score</th>\n",
       "      <th>mean_train_score</th>\n",
       "      <th>std_train_score</th>\n",
       "    </tr>\n",
       "  </thead>\n",
       "  <tbody>\n",
       "    <tr>\n",
       "      <th>0</th>\n",
       "      <td>0.026091</td>\n",
       "      <td>0.002208</td>\n",
       "      <td>0.003041</td>\n",
       "      <td>0.000915</td>\n",
       "      <td>0.0001</td>\n",
       "      <td>{'alpha': 0.0001}</td>\n",
       "      <td>-0.155946</td>\n",
       "      <td>-0.148971</td>\n",
       "      <td>-0.146628</td>\n",
       "      <td>-0.166941</td>\n",
       "      <td>...</td>\n",
       "      <td>-0.150896</td>\n",
       "      <td>0.010266</td>\n",
       "      <td>28</td>\n",
       "      <td>-0.060991</td>\n",
       "      <td>-0.062169</td>\n",
       "      <td>-0.064161</td>\n",
       "      <td>-0.065069</td>\n",
       "      <td>-0.065050</td>\n",
       "      <td>-0.063488</td>\n",
       "      <td>0.001635</td>\n",
       "    </tr>\n",
       "    <tr>\n",
       "      <th>1</th>\n",
       "      <td>0.029524</td>\n",
       "      <td>0.008514</td>\n",
       "      <td>0.002421</td>\n",
       "      <td>0.000477</td>\n",
       "      <td>0.001</td>\n",
       "      <td>{'alpha': 0.001}</td>\n",
       "      <td>-0.155915</td>\n",
       "      <td>-0.148965</td>\n",
       "      <td>-0.146622</td>\n",
       "      <td>-0.166922</td>\n",
       "      <td>...</td>\n",
       "      <td>-0.150883</td>\n",
       "      <td>0.010259</td>\n",
       "      <td>27</td>\n",
       "      <td>-0.060992</td>\n",
       "      <td>-0.062169</td>\n",
       "      <td>-0.064161</td>\n",
       "      <td>-0.065070</td>\n",
       "      <td>-0.065050</td>\n",
       "      <td>-0.063488</td>\n",
       "      <td>0.001635</td>\n",
       "    </tr>\n",
       "    <tr>\n",
       "      <th>2</th>\n",
       "      <td>0.027327</td>\n",
       "      <td>0.003432</td>\n",
       "      <td>0.002394</td>\n",
       "      <td>0.000488</td>\n",
       "      <td>0.01</td>\n",
       "      <td>{'alpha': 0.01}</td>\n",
       "      <td>-0.155607</td>\n",
       "      <td>-0.148915</td>\n",
       "      <td>-0.146566</td>\n",
       "      <td>-0.166731</td>\n",
       "      <td>...</td>\n",
       "      <td>-0.150755</td>\n",
       "      <td>0.010185</td>\n",
       "      <td>26</td>\n",
       "      <td>-0.060996</td>\n",
       "      <td>-0.062171</td>\n",
       "      <td>-0.064162</td>\n",
       "      <td>-0.065077</td>\n",
       "      <td>-0.065052</td>\n",
       "      <td>-0.063492</td>\n",
       "      <td>0.001635</td>\n",
       "    </tr>\n",
       "    <tr>\n",
       "      <th>3</th>\n",
       "      <td>0.026577</td>\n",
       "      <td>0.003313</td>\n",
       "      <td>0.002353</td>\n",
       "      <td>0.000440</td>\n",
       "      <td>0.05</td>\n",
       "      <td>{'alpha': 0.05}</td>\n",
       "      <td>-0.154408</td>\n",
       "      <td>-0.148706</td>\n",
       "      <td>-0.146328</td>\n",
       "      <td>-0.165920</td>\n",
       "      <td>...</td>\n",
       "      <td>-0.150236</td>\n",
       "      <td>0.009889</td>\n",
       "      <td>25</td>\n",
       "      <td>-0.061024</td>\n",
       "      <td>-0.062177</td>\n",
       "      <td>-0.064170</td>\n",
       "      <td>-0.065107</td>\n",
       "      <td>-0.065062</td>\n",
       "      <td>-0.063508</td>\n",
       "      <td>0.001634</td>\n",
       "    </tr>\n",
       "    <tr>\n",
       "      <th>4</th>\n",
       "      <td>0.024180</td>\n",
       "      <td>0.000798</td>\n",
       "      <td>0.002202</td>\n",
       "      <td>0.000424</td>\n",
       "      <td>0.1</td>\n",
       "      <td>{'alpha': 0.1}</td>\n",
       "      <td>-0.153215</td>\n",
       "      <td>-0.148468</td>\n",
       "      <td>-0.146054</td>\n",
       "      <td>-0.164973</td>\n",
       "      <td>...</td>\n",
       "      <td>-0.149671</td>\n",
       "      <td>0.009570</td>\n",
       "      <td>24</td>\n",
       "      <td>-0.061068</td>\n",
       "      <td>-0.062186</td>\n",
       "      <td>-0.064188</td>\n",
       "      <td>-0.065135</td>\n",
       "      <td>-0.065074</td>\n",
       "      <td>-0.063530</td>\n",
       "      <td>0.001629</td>\n",
       "    </tr>\n",
       "  </tbody>\n",
       "</table>\n",
       "<p>5 rows × 21 columns</p>\n",
       "</div>"
      ],
      "text/plain": [
       "   mean_fit_time  std_fit_time  mean_score_time  std_score_time param_alpha  \\\n",
       "0       0.026091      0.002208         0.003041        0.000915      0.0001   \n",
       "1       0.029524      0.008514         0.002421        0.000477       0.001   \n",
       "2       0.027327      0.003432         0.002394        0.000488        0.01   \n",
       "3       0.026577      0.003313         0.002353        0.000440        0.05   \n",
       "4       0.024180      0.000798         0.002202        0.000424         0.1   \n",
       "\n",
       "              params  split0_test_score  split1_test_score  split2_test_score  \\\n",
       "0  {'alpha': 0.0001}          -0.155946          -0.148971          -0.146628   \n",
       "1   {'alpha': 0.001}          -0.155915          -0.148965          -0.146622   \n",
       "2    {'alpha': 0.01}          -0.155607          -0.148915          -0.146566   \n",
       "3    {'alpha': 0.05}          -0.154408          -0.148706          -0.146328   \n",
       "4     {'alpha': 0.1}          -0.153215          -0.148468          -0.146054   \n",
       "\n",
       "   split3_test_score  ...  mean_test_score  std_test_score  rank_test_score  \\\n",
       "0          -0.166941  ...        -0.150896        0.010266               28   \n",
       "1          -0.166922  ...        -0.150883        0.010259               27   \n",
       "2          -0.166731  ...        -0.150755        0.010185               26   \n",
       "3          -0.165920  ...        -0.150236        0.009889               25   \n",
       "4          -0.164973  ...        -0.149671        0.009570               24   \n",
       "\n",
       "   split0_train_score  split1_train_score  split2_train_score  \\\n",
       "0           -0.060991           -0.062169           -0.064161   \n",
       "1           -0.060992           -0.062169           -0.064161   \n",
       "2           -0.060996           -0.062171           -0.064162   \n",
       "3           -0.061024           -0.062177           -0.064170   \n",
       "4           -0.061068           -0.062186           -0.064188   \n",
       "\n",
       "   split3_train_score  split4_train_score  mean_train_score  std_train_score  \n",
       "0           -0.065069           -0.065050         -0.063488         0.001635  \n",
       "1           -0.065070           -0.065050         -0.063488         0.001635  \n",
       "2           -0.065077           -0.065052         -0.063492         0.001635  \n",
       "3           -0.065107           -0.065062         -0.063508         0.001634  \n",
       "4           -0.065135           -0.065074         -0.063530         0.001629  \n",
       "\n",
       "[5 rows x 21 columns]"
      ]
     },
     "execution_count": 1787,
     "metadata": {},
     "output_type": "execute_result"
    }
   ],
   "source": [
    "cv_results = pd.DataFrame(model_cv.cv_results_)\n",
    "cv_results = cv_results[cv_results['param_alpha']<=1000]\n",
    "cv_results.head()"
   ]
  },
  {
   "cell_type": "code",
   "execution_count": 1788,
   "metadata": {},
   "outputs": [
    {
     "data": {
      "image/png": "[encoded data removed]",
      "text/plain": [
       "<Figure size 576x720 with 1 Axes>"
      ]
     },
     "metadata": {
      "needs_background": "light"
     },
     "output_type": "display_data"
    }
   ],
   "source": [
    "# plotting mean test and train scoes with alpha \n",
    "cv_results['param_alpha'] = cv_results['param_alpha'].astype('int32')\n",
    "\n",
    "# plotting\n",
    "plt.plot(cv_results['param_alpha'], cv_results['mean_train_score'])\n",
    "plt.plot(cv_results['param_alpha'], cv_results['mean_test_score'])\n",
    "plt.xlabel('alpha')\n",
    "plt.ylabel('Negative Mean Absolute Error')\n",
    "plt.title(\"Negative Mean Absolute Error and alpha\")\n",
    "plt.legend(['train score', 'test score'], loc='upper left')\n",
    "plt.show()"
   ]
  },
  {
   "cell_type": "code",
   "execution_count": 1789,
   "metadata": {},
   "outputs": [
    {
     "data": {
      "text/plain": [
       "{'alpha': 500}"
      ]
     },
     "execution_count": 1789,
     "metadata": {},
     "output_type": "execute_result"
    }
   ],
   "source": [
    "#Optimal Alpha\n",
    "model_cv.best_params_"
   ]
  },
  {
   "cell_type": "code",
   "execution_count": 1790,
   "metadata": {},
   "outputs": [
    {
     "data": {
      "text/plain": [
       "-0.12164007428279508"
      ]
     },
     "execution_count": 1790,
     "metadata": {},
     "output_type": "execute_result"
    }
   ],
   "source": [
    "model_cv.best_score_"
   ]
  },
  {
   "cell_type": "code",
   "execution_count": 1791,
   "metadata": {},
   "outputs": [
    {
     "data": {
      "text/plain": [
       "Ridge(alpha=500, copy_X=True, fit_intercept=True, max_iter=None,\n",
       "      normalize=False, random_state=None, solver='auto', tol=0.001)"
      ]
     },
     "execution_count": 1791,
     "metadata": {},
     "output_type": "execute_result"
    }
   ],
   "source": [
    "model_cv.best_estimator_"
   ]
  },
  {
   "cell_type": "code",
   "execution_count": 1792,
   "metadata": {},
   "outputs": [
    {
     "data": {
      "text/plain": [
       "Ridge(alpha=500, copy_X=True, fit_intercept=True, max_iter=None,\n",
       "      normalize=False, random_state=None, solver='auto', tol=0.001)"
      ]
     },
     "execution_count": 1792,
     "metadata": {},
     "output_type": "execute_result"
    }
   ],
   "source": [
    "#Co-efficient List\n",
    "alpha = 500\n",
    "ridge = Ridge(alpha=alpha)\n",
    "ridge.fit(X_train_new, y_train)\n",
    "#ridge.coef_"
   ]
  },
  {
   "cell_type": "code",
   "execution_count": 1793,
   "metadata": {},
   "outputs": [],
   "source": [
    "#Assigning Ridge co-efficients\n",
    "coef = pd.Series(ridge.coef_, index = X_train_new.columns)"
   ]
  },
  {
   "cell_type": "code",
   "execution_count": 1794,
   "metadata": {},
   "outputs": [
    {
     "data": {
      "text/plain": [
       "Text(0.5, 1.0, 'Predictors in the Ridge Model Post Top 5 Predictor Removal & Remodel')"
      ]
     },
     "execution_count": 1794,
     "metadata": {},
     "output_type": "execute_result"
    },
    {
     "data": {
      "image/png": "[encoded data removed]",
      "text/plain": [
       "<Figure size 576x720 with 1 Axes>"
      ]
     },
     "metadata": {
      "needs_background": "light"
     },
     "output_type": "display_data"
    }
   ],
   "source": [
    "# Top & Bottom 10 Co-efficients\n",
    "\n",
    "imp_coef = pd.concat([coef.sort_values().head(10),\n",
    "                     coef.sort_values().tail(10)])\n",
    "plt.rcParams['figure.figsize'] = (8.0, 10.0)\n",
    "imp_coef.plot(kind = \"barh\")\n",
    "plt.title(\"Predictors in the Ridge Model Post Top 5 Predictor Removal & Remodel\")"
   ]
  },
  {
   "cell_type": "markdown",
   "metadata": {},
   "source": [
    "**Removing Top 5 Predictor Variables End**"
   ]
  },
  {
   "cell_type": "markdown",
   "metadata": {},
   "source": [
    "**Lasso Regression**"
   ]
  },
  {
   "cell_type": "code",
   "execution_count": 1795,
   "metadata": {},
   "outputs": [
    {
     "name": "stdout",
     "output_type": "stream",
     "text": [
      "Fitting 5 folds for each of 28 candidates, totalling 140 fits\n"
     ]
    },
    {
     "name": "stderr",
     "output_type": "stream",
     "text": [
      "[Parallel(n_jobs=1)]: Using backend SequentialBackend with 1 concurrent workers.\n",
      "[Parallel(n_jobs=1)]: Done 140 out of 140 | elapsed:    6.0s finished\n"
     ]
    },
    {
     "data": {
      "text/plain": [
       "GridSearchCV(cv=5, error_score='raise-deprecating',\n",
       "             estimator=Lasso(alpha=1.0, copy_X=True, fit_intercept=True,\n",
       "                             max_iter=1000, normalize=False, positive=False,\n",
       "                             precompute=False, random_state=None,\n",
       "                             selection='cyclic', tol=0.0001, warm_start=False),\n",
       "             iid='warn', n_jobs=None,\n",
       "             param_grid={'alpha': [0.0001, 0.001, 0.01, 0.05, 0.1, 0.2, 0.3,\n",
       "                                   0.4, 0.5, 0.6, 0.7, 0.8, 0.9, 1.0, 2.0, 3.0,\n",
       "                                   4.0, 5.0, 6.0, 7.0, 8.0, 9.0, 10.0, 20, 50,\n",
       "                                   100, 500, 1000]},\n",
       "             pre_dispatch='2*n_jobs', refit=True, return_train_score=True,\n",
       "             scoring='neg_mean_absolute_error', verbose=1)"
      ]
     },
     "execution_count": 1795,
     "metadata": {},
     "output_type": "execute_result"
    }
   ],
   "source": [
    "lasso = Lasso()\n",
    "# cross validation\n",
    "model_cv1 = GridSearchCV(estimator = lasso, \n",
    "                        param_grid = params, \n",
    "                        scoring= 'neg_mean_absolute_error', \n",
    "                        cv = folds, \n",
    "                        return_train_score=True,\n",
    "                        verbose = 1)            \n",
    "\n",
    "model_cv1.fit(X_train, y_train) "
   ]
  },
  {
   "cell_type": "code",
   "execution_count": 1796,
   "metadata": {},
   "outputs": [
    {
     "data": {
      "text/html": [
       "<div>\n",
       "<style scoped>\n",
       "    .dataframe tbody tr th:only-of-type {\n",
       "        vertical-align: middle;\n",
       "    }\n",
       "\n",
       "    .dataframe tbody tr th {\n",
       "        vertical-align: top;\n",
       "    }\n",
       "\n",
       "    .dataframe thead th {\n",
       "        text-align: right;\n",
       "    }\n",
       "</style>\n",
       "<table border=\"1\" class=\"dataframe\">\n",
       "  <thead>\n",
       "    <tr style=\"text-align: right;\">\n",
       "      <th></th>\n",
       "      <th>mean_fit_time</th>\n",
       "      <th>std_fit_time</th>\n",
       "      <th>mean_score_time</th>\n",
       "      <th>std_score_time</th>\n",
       "      <th>param_alpha</th>\n",
       "      <th>params</th>\n",
       "      <th>split0_test_score</th>\n",
       "      <th>split1_test_score</th>\n",
       "      <th>split2_test_score</th>\n",
       "      <th>split3_test_score</th>\n",
       "      <th>...</th>\n",
       "      <th>mean_test_score</th>\n",
       "      <th>std_test_score</th>\n",
       "      <th>rank_test_score</th>\n",
       "      <th>split0_train_score</th>\n",
       "      <th>split1_train_score</th>\n",
       "      <th>split2_train_score</th>\n",
       "      <th>split3_train_score</th>\n",
       "      <th>split4_train_score</th>\n",
       "      <th>mean_train_score</th>\n",
       "      <th>std_train_score</th>\n",
       "    </tr>\n",
       "  </thead>\n",
       "  <tbody>\n",
       "    <tr>\n",
       "      <th>0</th>\n",
       "      <td>0.026091</td>\n",
       "      <td>0.002208</td>\n",
       "      <td>0.003041</td>\n",
       "      <td>0.000915</td>\n",
       "      <td>0.0001</td>\n",
       "      <td>{'alpha': 0.0001}</td>\n",
       "      <td>-0.155946</td>\n",
       "      <td>-0.148971</td>\n",
       "      <td>-0.146628</td>\n",
       "      <td>-0.166941</td>\n",
       "      <td>...</td>\n",
       "      <td>-0.150896</td>\n",
       "      <td>0.010266</td>\n",
       "      <td>28</td>\n",
       "      <td>-0.060991</td>\n",
       "      <td>-0.062169</td>\n",
       "      <td>-0.064161</td>\n",
       "      <td>-0.065069</td>\n",
       "      <td>-0.065050</td>\n",
       "      <td>-0.063488</td>\n",
       "      <td>0.001635</td>\n",
       "    </tr>\n",
       "    <tr>\n",
       "      <th>1</th>\n",
       "      <td>0.029524</td>\n",
       "      <td>0.008514</td>\n",
       "      <td>0.002421</td>\n",
       "      <td>0.000477</td>\n",
       "      <td>0.001</td>\n",
       "      <td>{'alpha': 0.001}</td>\n",
       "      <td>-0.155915</td>\n",
       "      <td>-0.148965</td>\n",
       "      <td>-0.146622</td>\n",
       "      <td>-0.166922</td>\n",
       "      <td>...</td>\n",
       "      <td>-0.150883</td>\n",
       "      <td>0.010259</td>\n",
       "      <td>27</td>\n",
       "      <td>-0.060992</td>\n",
       "      <td>-0.062169</td>\n",
       "      <td>-0.064161</td>\n",
       "      <td>-0.065070</td>\n",
       "      <td>-0.065050</td>\n",
       "      <td>-0.063488</td>\n",
       "      <td>0.001635</td>\n",
       "    </tr>\n",
       "    <tr>\n",
       "      <th>2</th>\n",
       "      <td>0.027327</td>\n",
       "      <td>0.003432</td>\n",
       "      <td>0.002394</td>\n",
       "      <td>0.000488</td>\n",
       "      <td>0.01</td>\n",
       "      <td>{'alpha': 0.01}</td>\n",
       "      <td>-0.155607</td>\n",
       "      <td>-0.148915</td>\n",
       "      <td>-0.146566</td>\n",
       "      <td>-0.166731</td>\n",
       "      <td>...</td>\n",
       "      <td>-0.150755</td>\n",
       "      <td>0.010185</td>\n",
       "      <td>26</td>\n",
       "      <td>-0.060996</td>\n",
       "      <td>-0.062171</td>\n",
       "      <td>-0.064162</td>\n",
       "      <td>-0.065077</td>\n",
       "      <td>-0.065052</td>\n",
       "      <td>-0.063492</td>\n",
       "      <td>0.001635</td>\n",
       "    </tr>\n",
       "    <tr>\n",
       "      <th>3</th>\n",
       "      <td>0.026577</td>\n",
       "      <td>0.003313</td>\n",
       "      <td>0.002353</td>\n",
       "      <td>0.000440</td>\n",
       "      <td>0.05</td>\n",
       "      <td>{'alpha': 0.05}</td>\n",
       "      <td>-0.154408</td>\n",
       "      <td>-0.148706</td>\n",
       "      <td>-0.146328</td>\n",
       "      <td>-0.165920</td>\n",
       "      <td>...</td>\n",
       "      <td>-0.150236</td>\n",
       "      <td>0.009889</td>\n",
       "      <td>25</td>\n",
       "      <td>-0.061024</td>\n",
       "      <td>-0.062177</td>\n",
       "      <td>-0.064170</td>\n",
       "      <td>-0.065107</td>\n",
       "      <td>-0.065062</td>\n",
       "      <td>-0.063508</td>\n",
       "      <td>0.001634</td>\n",
       "    </tr>\n",
       "    <tr>\n",
       "      <th>4</th>\n",
       "      <td>0.024180</td>\n",
       "      <td>0.000798</td>\n",
       "      <td>0.002202</td>\n",
       "      <td>0.000424</td>\n",
       "      <td>0.1</td>\n",
       "      <td>{'alpha': 0.1}</td>\n",
       "      <td>-0.153215</td>\n",
       "      <td>-0.148468</td>\n",
       "      <td>-0.146054</td>\n",
       "      <td>-0.164973</td>\n",
       "      <td>...</td>\n",
       "      <td>-0.149671</td>\n",
       "      <td>0.009570</td>\n",
       "      <td>24</td>\n",
       "      <td>-0.061068</td>\n",
       "      <td>-0.062186</td>\n",
       "      <td>-0.064188</td>\n",
       "      <td>-0.065135</td>\n",
       "      <td>-0.065074</td>\n",
       "      <td>-0.063530</td>\n",
       "      <td>0.001629</td>\n",
       "    </tr>\n",
       "  </tbody>\n",
       "</table>\n",
       "<p>5 rows × 21 columns</p>\n",
       "</div>"
      ],
      "text/plain": [
       "   mean_fit_time  std_fit_time  mean_score_time  std_score_time param_alpha  \\\n",
       "0       0.026091      0.002208         0.003041        0.000915      0.0001   \n",
       "1       0.029524      0.008514         0.002421        0.000477       0.001   \n",
       "2       0.027327      0.003432         0.002394        0.000488        0.01   \n",
       "3       0.026577      0.003313         0.002353        0.000440        0.05   \n",
       "4       0.024180      0.000798         0.002202        0.000424         0.1   \n",
       "\n",
       "              params  split0_test_score  split1_test_score  split2_test_score  \\\n",
       "0  {'alpha': 0.0001}          -0.155946          -0.148971          -0.146628   \n",
       "1   {'alpha': 0.001}          -0.155915          -0.148965          -0.146622   \n",
       "2    {'alpha': 0.01}          -0.155607          -0.148915          -0.146566   \n",
       "3    {'alpha': 0.05}          -0.154408          -0.148706          -0.146328   \n",
       "4     {'alpha': 0.1}          -0.153215          -0.148468          -0.146054   \n",
       "\n",
       "   split3_test_score  ...  mean_test_score  std_test_score  rank_test_score  \\\n",
       "0          -0.166941  ...        -0.150896        0.010266               28   \n",
       "1          -0.166922  ...        -0.150883        0.010259               27   \n",
       "2          -0.166731  ...        -0.150755        0.010185               26   \n",
       "3          -0.165920  ...        -0.150236        0.009889               25   \n",
       "4          -0.164973  ...        -0.149671        0.009570               24   \n",
       "\n",
       "   split0_train_score  split1_train_score  split2_train_score  \\\n",
       "0           -0.060991           -0.062169           -0.064161   \n",
       "1           -0.060992           -0.062169           -0.064161   \n",
       "2           -0.060996           -0.062171           -0.064162   \n",
       "3           -0.061024           -0.062177           -0.064170   \n",
       "4           -0.061068           -0.062186           -0.064188   \n",
       "\n",
       "   split3_train_score  split4_train_score  mean_train_score  std_train_score  \n",
       "0           -0.065069           -0.065050         -0.063488         0.001635  \n",
       "1           -0.065070           -0.065050         -0.063488         0.001635  \n",
       "2           -0.065077           -0.065052         -0.063492         0.001635  \n",
       "3           -0.065107           -0.065062         -0.063508         0.001634  \n",
       "4           -0.065135           -0.065074         -0.063530         0.001629  \n",
       "\n",
       "[5 rows x 21 columns]"
      ]
     },
     "execution_count": 1796,
     "metadata": {},
     "output_type": "execute_result"
    }
   ],
   "source": [
    "cv_results = pd.DataFrame(model_cv.cv_results_)\n",
    "cv_results = cv_results[cv_results['param_alpha']<=1.5]\n",
    "cv_results.head()"
   ]
  },
  {
   "cell_type": "code",
   "execution_count": 1797,
   "metadata": {},
   "outputs": [
    {
     "data": {
      "image/png": "[encoded data removed]",
      "text/plain": [
       "<Figure size 576x720 with 1 Axes>"
      ]
     },
     "metadata": {
      "needs_background": "light"
     },
     "output_type": "display_data"
    }
   ],
   "source": [
    "# plotting mean test and train scoes with alpha \n",
    "cv_results['param_alpha'] = cv_results['param_alpha'].astype('float32')\n",
    "\n",
    "# plotting\n",
    "plt.plot(cv_results['param_alpha'], cv_results['mean_train_score'])\n",
    "plt.plot(cv_results['param_alpha'], cv_results['mean_test_score'])\n",
    "plt.xlabel('alpha')\n",
    "plt.ylabel('Negative Mean Absolute Error')\n",
    "\n",
    "plt.title(\"Negative Mean Absolute Error and alpha\")\n",
    "plt.legend(['train score', 'test score'], loc='upper left')\n",
    "plt.show()"
   ]
  },
  {
   "cell_type": "code",
   "execution_count": 1798,
   "metadata": {},
   "outputs": [
    {
     "data": {
      "text/plain": [
       "{'alpha': 0.001}"
      ]
     },
     "execution_count": 1798,
     "metadata": {},
     "output_type": "execute_result"
    }
   ],
   "source": [
    "#Optimal Alpha\n",
    "model_cv1.best_params_"
   ]
  },
  {
   "cell_type": "code",
   "execution_count": 1799,
   "metadata": {},
   "outputs": [
    {
     "data": {
      "text/plain": [
       "-0.09651235999789363"
      ]
     },
     "execution_count": 1799,
     "metadata": {},
     "output_type": "execute_result"
    }
   ],
   "source": [
    "model_cv1.best_score_"
   ]
  },
  {
   "cell_type": "code",
   "execution_count": 1800,
   "metadata": {},
   "outputs": [
    {
     "data": {
      "text/plain": [
       "Lasso(alpha=0.001, copy_X=True, fit_intercept=True, max_iter=1000,\n",
       "      normalize=False, positive=False, precompute=False, random_state=None,\n",
       "      selection='cyclic', tol=0.0001, warm_start=False)"
      ]
     },
     "execution_count": 1800,
     "metadata": {},
     "output_type": "execute_result"
    }
   ],
   "source": [
    "model_cv1.best_estimator_"
   ]
  },
  {
   "cell_type": "code",
   "execution_count": 1801,
   "metadata": {},
   "outputs": [
    {
     "data": {
      "text/plain": [
       "Lasso(alpha=0.001, copy_X=True, fit_intercept=True, max_iter=1000,\n",
       "      normalize=False, positive=False, precompute=False, random_state=None,\n",
       "      selection='cyclic', tol=0.0001, warm_start=False)"
      ]
     },
     "execution_count": 1801,
     "metadata": {},
     "output_type": "execute_result"
    }
   ],
   "source": [
    "#Determining Co-efficients\n",
    "alpha =0.001\n",
    "lasso = Lasso(alpha=alpha)      \n",
    "lasso.fit(X_train, y_train) "
   ]
  },
  {
   "cell_type": "code",
   "execution_count": 1802,
   "metadata": {},
   "outputs": [],
   "source": [
    "#Assigning Lasso Coefficients\n",
    "coef = pd.Series(lasso.coef_, index = X_train.columns)"
   ]
  },
  {
   "cell_type": "code",
   "execution_count": 1803,
   "metadata": {},
   "outputs": [
    {
     "data": {
      "text/plain": [
       "Text(0.5, 1.0, 'Predictors in the Lasso Model')"
      ]
     },
     "execution_count": 1803,
     "metadata": {},
     "output_type": "execute_result"
    },
    {
     "data": {
      "image/png": "[encoded data removed]",
      "text/plain": [
       "<Figure size 576x720 with 1 Axes>"
      ]
     },
     "metadata": {
      "needs_background": "light"
     },
     "output_type": "display_data"
    }
   ],
   "source": [
    "# Top & Bottom 10 Co-efficients\n",
    "imp_coef = pd.concat([coef.sort_values().head(10),\n",
    "                     coef.sort_values().tail(10)])\n",
    "plt.rcParams['figure.figsize'] = (8.0, 10.0)\n",
    "imp_coef.plot(kind = \"barh\")\n",
    "plt.title(\"Predictors in the Lasso Model\")"
   ]
  },
  {
   "cell_type": "code",
   "execution_count": 1804,
   "metadata": {},
   "outputs": [
    {
     "name": "stdout",
     "output_type": "stream",
     "text": [
      "Root Mean Squared Error [Train]- 0.08334663415546764\n",
      "R2 Score [Train]- 95.66555355891262\n"
     ]
    }
   ],
   "source": [
    "#Lasso Scores\n",
    "\n",
    "lasso_sc=Lasso(alpha=0.001)\n",
    "lasso_sc.fit(X_train, y_train) \n",
    "pred_train_lasso= lasso_sc.predict(X_train)\n",
    "\n",
    "#Train Data\n",
    "\n",
    "print('Root Mean Squared Error [Train]- ',end='')\n",
    "print(np.sqrt(mean_squared_error(y_train,pred_train_lasso)))\n",
    "print('R2 Score [Train]- ',end='')\n",
    "print(r2_score(y_train, pred_train_lasso)*100)\n",
    "\n"
   ]
  },
  {
   "cell_type": "markdown",
   "metadata": {},
   "source": [
    "**Doubling the Alpha Values - Start**"
   ]
  },
  {
   "cell_type": "code",
   "execution_count": 1805,
   "metadata": {},
   "outputs": [
    {
     "data": {
      "text/plain": [
       "Lasso(alpha=0.002, copy_X=True, fit_intercept=True, max_iter=1000,\n",
       "      normalize=False, positive=False, precompute=False, random_state=None,\n",
       "      selection='cyclic', tol=0.0001, warm_start=False)"
      ]
     },
     "execution_count": 1805,
     "metadata": {},
     "output_type": "execute_result"
    }
   ],
   "source": [
    "#Determining Co-efficients\n",
    "alpha =0.002 #Changed value from 0.001 to 0.002\n",
    "lasso = Lasso(alpha=alpha)      \n",
    "lasso.fit(X_train, y_train) "
   ]
  },
  {
   "cell_type": "code",
   "execution_count": 1806,
   "metadata": {},
   "outputs": [
    {
     "data": {
      "text/plain": [
       "Text(0.5, 1.0, 'Predictors in the Lasso Model- After Doubling the Alpha Value')"
      ]
     },
     "execution_count": 1806,
     "metadata": {},
     "output_type": "execute_result"
    },
    {
     "data": {
      "image/png": "[encoded data removed]",
      "text/plain": [
       "<Figure size 576x720 with 1 Axes>"
      ]
     },
     "metadata": {
      "needs_background": "light"
     },
     "output_type": "display_data"
    }
   ],
   "source": [
    "# Top & Bottom 10 Co-efficients\n",
    "imp_coef = pd.concat([coef.sort_values().head(10),\n",
    "                     coef.sort_values().tail(10)])\n",
    "plt.rcParams['figure.figsize'] = (8.0, 10.0)\n",
    "imp_coef.plot(kind = \"barh\")\n",
    "plt.title(\"Predictors in the Lasso Model- After Doubling the Alpha Value\")"
   ]
  },
  {
   "cell_type": "code",
   "execution_count": 1807,
   "metadata": {},
   "outputs": [
    {
     "name": "stdout",
     "output_type": "stream",
     "text": [
      "Root Mean Squared Error [Train]- 0.09382047505512889\n",
      "R2 Score [Train]- 94.50771880790356\n"
     ]
    }
   ],
   "source": [
    "#Lasso Scores\n",
    "\n",
    "lasso_sc=Lasso(alpha=0.002) # Doubled the value to 0.002\n",
    "lasso_sc.fit(X_train, y_train) \n",
    "pred_train_lasso= lasso_sc.predict(X_train)\n",
    "\n",
    "#Train Data\n",
    "\n",
    "print('Root Mean Squared Error [Train]- ',end='')\n",
    "print(np.sqrt(mean_squared_error(y_train,pred_train_lasso)))\n",
    "print('R2 Score [Train]- ',end='')\n",
    "print(r2_score(y_train, pred_train_lasso)*100)"
   ]
  },
  {
   "cell_type": "markdown",
   "metadata": {},
   "source": [
    "**Doubling the Alpha Values - End**"
   ]
  },
  {
   "cell_type": "markdown",
   "metadata": {},
   "source": [
    "**Dropping Top 5 Predictor Variables - Start**"
   ]
  },
  {
   "cell_type": "code",
   "execution_count": 1808,
   "metadata": {},
   "outputs": [],
   "source": [
    "#Dropping top 5 Predictor Variables for Lasso\n",
    "X_train_lasso=X_train.drop(['RoofMatl_CompShg','RoofMatl_Tar&Grv','RoofMatl_WdShngl','RoofMatl_WdShake','Total_Area_SF'],axis=1)\n"
   ]
  },
  {
   "cell_type": "code",
   "execution_count": 1809,
   "metadata": {},
   "outputs": [
    {
     "name": "stdout",
     "output_type": "stream",
     "text": [
      "Fitting 5 folds for each of 28 candidates, totalling 140 fits\n"
     ]
    },
    {
     "name": "stderr",
     "output_type": "stream",
     "text": [
      "[Parallel(n_jobs=1)]: Using backend SequentialBackend with 1 concurrent workers.\n",
      "[Parallel(n_jobs=1)]: Done 140 out of 140 | elapsed:    6.4s finished\n"
     ]
    },
    {
     "data": {
      "text/plain": [
       "GridSearchCV(cv=5, error_score='raise-deprecating',\n",
       "             estimator=Lasso(alpha=1.0, copy_X=True, fit_intercept=True,\n",
       "                             max_iter=1000, normalize=False, positive=False,\n",
       "                             precompute=False, random_state=None,\n",
       "                             selection='cyclic', tol=0.0001, warm_start=False),\n",
       "             iid='warn', n_jobs=None,\n",
       "             param_grid={'alpha': [0.0001, 0.001, 0.01, 0.05, 0.1, 0.2, 0.3,\n",
       "                                   0.4, 0.5, 0.6, 0.7, 0.8, 0.9, 1.0, 2.0, 3.0,\n",
       "                                   4.0, 5.0, 6.0, 7.0, 8.0, 9.0, 10.0, 20, 50,\n",
       "                                   100, 500, 1000]},\n",
       "             pre_dispatch='2*n_jobs', refit=True, return_train_score=True,\n",
       "             scoring='neg_mean_absolute_error', verbose=1)"
      ]
     },
     "execution_count": 1809,
     "metadata": {},
     "output_type": "execute_result"
    }
   ],
   "source": [
    "lasso = Lasso()\n",
    "# cross validation\n",
    "model_cv1 = GridSearchCV(estimator = lasso, \n",
    "                        param_grid = params, \n",
    "                        scoring= 'neg_mean_absolute_error', \n",
    "                        cv = folds, \n",
    "                        return_train_score=True,\n",
    "                        verbose = 1)            \n",
    "\n",
    "model_cv1.fit(X_train_lasso, y_train) \n",
    "\n"
   ]
  },
  {
   "cell_type": "code",
   "execution_count": 1810,
   "metadata": {},
   "outputs": [
    {
     "data": {
      "text/html": [
       "<div>\n",
       "<style scoped>\n",
       "    .dataframe tbody tr th:only-of-type {\n",
       "        vertical-align: middle;\n",
       "    }\n",
       "\n",
       "    .dataframe tbody tr th {\n",
       "        vertical-align: top;\n",
       "    }\n",
       "\n",
       "    .dataframe thead th {\n",
       "        text-align: right;\n",
       "    }\n",
       "</style>\n",
       "<table border=\"1\" class=\"dataframe\">\n",
       "  <thead>\n",
       "    <tr style=\"text-align: right;\">\n",
       "      <th></th>\n",
       "      <th>mean_fit_time</th>\n",
       "      <th>std_fit_time</th>\n",
       "      <th>mean_score_time</th>\n",
       "      <th>std_score_time</th>\n",
       "      <th>param_alpha</th>\n",
       "      <th>params</th>\n",
       "      <th>split0_test_score</th>\n",
       "      <th>split1_test_score</th>\n",
       "      <th>split2_test_score</th>\n",
       "      <th>split3_test_score</th>\n",
       "      <th>...</th>\n",
       "      <th>mean_test_score</th>\n",
       "      <th>std_test_score</th>\n",
       "      <th>rank_test_score</th>\n",
       "      <th>split0_train_score</th>\n",
       "      <th>split1_train_score</th>\n",
       "      <th>split2_train_score</th>\n",
       "      <th>split3_train_score</th>\n",
       "      <th>split4_train_score</th>\n",
       "      <th>mean_train_score</th>\n",
       "      <th>std_train_score</th>\n",
       "    </tr>\n",
       "  </thead>\n",
       "  <tbody>\n",
       "    <tr>\n",
       "      <th>0</th>\n",
       "      <td>0.026091</td>\n",
       "      <td>0.002208</td>\n",
       "      <td>0.003041</td>\n",
       "      <td>0.000915</td>\n",
       "      <td>0.0001</td>\n",
       "      <td>{'alpha': 0.0001}</td>\n",
       "      <td>-0.155946</td>\n",
       "      <td>-0.148971</td>\n",
       "      <td>-0.146628</td>\n",
       "      <td>-0.166941</td>\n",
       "      <td>...</td>\n",
       "      <td>-0.150896</td>\n",
       "      <td>0.010266</td>\n",
       "      <td>28</td>\n",
       "      <td>-0.060991</td>\n",
       "      <td>-0.062169</td>\n",
       "      <td>-0.064161</td>\n",
       "      <td>-0.065069</td>\n",
       "      <td>-0.065050</td>\n",
       "      <td>-0.063488</td>\n",
       "      <td>0.001635</td>\n",
       "    </tr>\n",
       "    <tr>\n",
       "      <th>1</th>\n",
       "      <td>0.029524</td>\n",
       "      <td>0.008514</td>\n",
       "      <td>0.002421</td>\n",
       "      <td>0.000477</td>\n",
       "      <td>0.001</td>\n",
       "      <td>{'alpha': 0.001}</td>\n",
       "      <td>-0.155915</td>\n",
       "      <td>-0.148965</td>\n",
       "      <td>-0.146622</td>\n",
       "      <td>-0.166922</td>\n",
       "      <td>...</td>\n",
       "      <td>-0.150883</td>\n",
       "      <td>0.010259</td>\n",
       "      <td>27</td>\n",
       "      <td>-0.060992</td>\n",
       "      <td>-0.062169</td>\n",
       "      <td>-0.064161</td>\n",
       "      <td>-0.065070</td>\n",
       "      <td>-0.065050</td>\n",
       "      <td>-0.063488</td>\n",
       "      <td>0.001635</td>\n",
       "    </tr>\n",
       "    <tr>\n",
       "      <th>2</th>\n",
       "      <td>0.027327</td>\n",
       "      <td>0.003432</td>\n",
       "      <td>0.002394</td>\n",
       "      <td>0.000488</td>\n",
       "      <td>0.01</td>\n",
       "      <td>{'alpha': 0.01}</td>\n",
       "      <td>-0.155607</td>\n",
       "      <td>-0.148915</td>\n",
       "      <td>-0.146566</td>\n",
       "      <td>-0.166731</td>\n",
       "      <td>...</td>\n",
       "      <td>-0.150755</td>\n",
       "      <td>0.010185</td>\n",
       "      <td>26</td>\n",
       "      <td>-0.060996</td>\n",
       "      <td>-0.062171</td>\n",
       "      <td>-0.064162</td>\n",
       "      <td>-0.065077</td>\n",
       "      <td>-0.065052</td>\n",
       "      <td>-0.063492</td>\n",
       "      <td>0.001635</td>\n",
       "    </tr>\n",
       "    <tr>\n",
       "      <th>3</th>\n",
       "      <td>0.026577</td>\n",
       "      <td>0.003313</td>\n",
       "      <td>0.002353</td>\n",
       "      <td>0.000440</td>\n",
       "      <td>0.05</td>\n",
       "      <td>{'alpha': 0.05}</td>\n",
       "      <td>-0.154408</td>\n",
       "      <td>-0.148706</td>\n",
       "      <td>-0.146328</td>\n",
       "      <td>-0.165920</td>\n",
       "      <td>...</td>\n",
       "      <td>-0.150236</td>\n",
       "      <td>0.009889</td>\n",
       "      <td>25</td>\n",
       "      <td>-0.061024</td>\n",
       "      <td>-0.062177</td>\n",
       "      <td>-0.064170</td>\n",
       "      <td>-0.065107</td>\n",
       "      <td>-0.065062</td>\n",
       "      <td>-0.063508</td>\n",
       "      <td>0.001634</td>\n",
       "    </tr>\n",
       "    <tr>\n",
       "      <th>4</th>\n",
       "      <td>0.024180</td>\n",
       "      <td>0.000798</td>\n",
       "      <td>0.002202</td>\n",
       "      <td>0.000424</td>\n",
       "      <td>0.1</td>\n",
       "      <td>{'alpha': 0.1}</td>\n",
       "      <td>-0.153215</td>\n",
       "      <td>-0.148468</td>\n",
       "      <td>-0.146054</td>\n",
       "      <td>-0.164973</td>\n",
       "      <td>...</td>\n",
       "      <td>-0.149671</td>\n",
       "      <td>0.009570</td>\n",
       "      <td>24</td>\n",
       "      <td>-0.061068</td>\n",
       "      <td>-0.062186</td>\n",
       "      <td>-0.064188</td>\n",
       "      <td>-0.065135</td>\n",
       "      <td>-0.065074</td>\n",
       "      <td>-0.063530</td>\n",
       "      <td>0.001629</td>\n",
       "    </tr>\n",
       "  </tbody>\n",
       "</table>\n",
       "<p>5 rows × 21 columns</p>\n",
       "</div>"
      ],
      "text/plain": [
       "   mean_fit_time  std_fit_time  mean_score_time  std_score_time param_alpha  \\\n",
       "0       0.026091      0.002208         0.003041        0.000915      0.0001   \n",
       "1       0.029524      0.008514         0.002421        0.000477       0.001   \n",
       "2       0.027327      0.003432         0.002394        0.000488        0.01   \n",
       "3       0.026577      0.003313         0.002353        0.000440        0.05   \n",
       "4       0.024180      0.000798         0.002202        0.000424         0.1   \n",
       "\n",
       "              params  split0_test_score  split1_test_score  split2_test_score  \\\n",
       "0  {'alpha': 0.0001}          -0.155946          -0.148971          -0.146628   \n",
       "1   {'alpha': 0.001}          -0.155915          -0.148965          -0.146622   \n",
       "2    {'alpha': 0.01}          -0.155607          -0.148915          -0.146566   \n",
       "3    {'alpha': 0.05}          -0.154408          -0.148706          -0.146328   \n",
       "4     {'alpha': 0.1}          -0.153215          -0.148468          -0.146054   \n",
       "\n",
       "   split3_test_score  ...  mean_test_score  std_test_score  rank_test_score  \\\n",
       "0          -0.166941  ...        -0.150896        0.010266               28   \n",
       "1          -0.166922  ...        -0.150883        0.010259               27   \n",
       "2          -0.166731  ...        -0.150755        0.010185               26   \n",
       "3          -0.165920  ...        -0.150236        0.009889               25   \n",
       "4          -0.164973  ...        -0.149671        0.009570               24   \n",
       "\n",
       "   split0_train_score  split1_train_score  split2_train_score  \\\n",
       "0           -0.060991           -0.062169           -0.064161   \n",
       "1           -0.060992           -0.062169           -0.064161   \n",
       "2           -0.060996           -0.062171           -0.064162   \n",
       "3           -0.061024           -0.062177           -0.064170   \n",
       "4           -0.061068           -0.062186           -0.064188   \n",
       "\n",
       "   split3_train_score  split4_train_score  mean_train_score  std_train_score  \n",
       "0           -0.065069           -0.065050         -0.063488         0.001635  \n",
       "1           -0.065070           -0.065050         -0.063488         0.001635  \n",
       "2           -0.065077           -0.065052         -0.063492         0.001635  \n",
       "3           -0.065107           -0.065062         -0.063508         0.001634  \n",
       "4           -0.065135           -0.065074         -0.063530         0.001629  \n",
       "\n",
       "[5 rows x 21 columns]"
      ]
     },
     "execution_count": 1810,
     "metadata": {},
     "output_type": "execute_result"
    }
   ],
   "source": [
    "cv_results = pd.DataFrame(model_cv.cv_results_)\n",
    "cv_results = cv_results[cv_results['param_alpha']<=1.5]\n",
    "cv_results.head()"
   ]
  },
  {
   "cell_type": "code",
   "execution_count": 1811,
   "metadata": {},
   "outputs": [
    {
     "data": {
      "image/png": "[encoded data removed]",
      "text/plain": [
       "<Figure size 576x720 with 1 Axes>"
      ]
     },
     "metadata": {
      "needs_background": "light"
     },
     "output_type": "display_data"
    }
   ],
   "source": [
    "# plotting\n",
    "plt.plot(cv_results['param_alpha'], cv_results['mean_train_score'])\n",
    "plt.plot(cv_results['param_alpha'], cv_results['mean_test_score'])\n",
    "plt.xlabel('alpha')\n",
    "plt.ylabel('Negative Mean Absolute Error')\n",
    "\n",
    "plt.title(\"Negative Mean Absolute Error and alpha\")\n",
    "plt.legend(['train score', 'test score'], loc='upper left')\n",
    "plt.show()\n"
   ]
  },
  {
   "cell_type": "code",
   "execution_count": 1812,
   "metadata": {},
   "outputs": [
    {
     "data": {
      "text/plain": [
       "{'alpha': 0.01}"
      ]
     },
     "execution_count": 1812,
     "metadata": {},
     "output_type": "execute_result"
    }
   ],
   "source": [
    "#Optimal Alpha\n",
    "model_cv1.best_params_"
   ]
  },
  {
   "cell_type": "code",
   "execution_count": 1813,
   "metadata": {},
   "outputs": [
    {
     "data": {
      "text/plain": [
       "-0.10038818774676672"
      ]
     },
     "execution_count": 1813,
     "metadata": {},
     "output_type": "execute_result"
    }
   ],
   "source": [
    "model_cv1.best_score_"
   ]
  },
  {
   "cell_type": "code",
   "execution_count": 1814,
   "metadata": {},
   "outputs": [
    {
     "data": {
      "text/plain": [
       "Lasso(alpha=0.01, copy_X=True, fit_intercept=True, max_iter=1000,\n",
       "      normalize=False, positive=False, precompute=False, random_state=None,\n",
       "      selection='cyclic', tol=0.0001, warm_start=False)"
      ]
     },
     "execution_count": 1814,
     "metadata": {},
     "output_type": "execute_result"
    }
   ],
   "source": [
    "model_cv1.best_estimator_"
   ]
  },
  {
   "cell_type": "code",
   "execution_count": 1815,
   "metadata": {},
   "outputs": [
    {
     "data": {
      "text/plain": [
       "Lasso(alpha=0.01, copy_X=True, fit_intercept=True, max_iter=1000,\n",
       "      normalize=False, positive=False, precompute=False, random_state=None,\n",
       "      selection='cyclic', tol=0.0001, warm_start=False)"
      ]
     },
     "execution_count": 1815,
     "metadata": {},
     "output_type": "execute_result"
    }
   ],
   "source": [
    "#Determining Co-efficients\n",
    "alpha =0.01\n",
    "lasso = Lasso(alpha=alpha)      \n",
    "lasso.fit(X_train_lasso, y_train) "
   ]
  },
  {
   "cell_type": "code",
   "execution_count": 1816,
   "metadata": {},
   "outputs": [],
   "source": [
    "#Assigning Lasso Coefficients\n",
    "coef = pd.Series(lasso.coef_, index = X_train_lasso.columns)"
   ]
  },
  {
   "cell_type": "code",
   "execution_count": 1817,
   "metadata": {},
   "outputs": [
    {
     "data": {
      "text/plain": [
       "Text(0.5, 1.0, 'Predictors in the Lasso Model- Post Top 5 Predictor Dropping & Remodel')"
      ]
     },
     "execution_count": 1817,
     "metadata": {},
     "output_type": "execute_result"
    },
    {
     "data": {
      "image/png": "[encoded data removed]",
      "text/plain": [
       "<Figure size 576x720 with 1 Axes>"
      ]
     },
     "metadata": {
      "needs_background": "light"
     },
     "output_type": "display_data"
    }
   ],
   "source": [
    "\n",
    "# Top & Bottom 10 Co-efficients\n",
    "imp_coef = pd.concat([coef.sort_values().head(10),\n",
    "                     coef.sort_values().tail(10)])\n",
    "plt.rcParams['figure.figsize'] = (8.0, 10.0)\n",
    "imp_coef.plot(kind = \"barh\")\n",
    "plt.title(\"Predictors in the Lasso Model- Post Top 5 Predictor Dropping & Remodel\")"
   ]
  },
  {
   "cell_type": "markdown",
   "metadata": {},
   "source": [
    "**Dropping Top 5 Predictor Variables - End**"
   ]
  },
  {
   "cell_type": "markdown",
   "metadata": {},
   "source": [
    "**Complete**"
   ]
  }
 ],
 "metadata": {
  "kernelspec": {
   "display_name": "Python 3",
   "language": "python",
   "name": "python3"
  },
  "language_info": {
   "codemirror_mode": {
    "name": "ipython",
    "version": 3
   },
   "file_extension": ".py",
   "mimetype": "text/x-python",
   "name": "python",
   "nbconvert_exporter": "python",
   "pygments_lexer": "ipython3",
   "version": "3.7.3"
  }
 },
 "nbformat": 4,
 "nbformat_minor": 2
}
